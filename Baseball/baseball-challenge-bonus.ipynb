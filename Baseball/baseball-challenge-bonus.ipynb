{
 "cells": [
  {
   "cell_type": "markdown",
   "id": "82edd93d-fc37-4e97-b118-6a7ff72718f4",
   "metadata": {},
   "source": [
    "![Callysto.ca Banner](https://github.com/callysto/curriculum-notebooks/blob/master/callysto-notebook-banner-top.jpg?raw=true)"
   ]
  },
  {
   "cell_type": "markdown",
   "id": "c1f3d788-af33-48c1-a96c-8ede5bb22666",
   "metadata": {},
   "source": [
    "# Baseball - Challenges\n",
    "\n",
    "Now that you've gone through the introduction notebook and learned how to navigate Jupyter Notebooks, Python, and some useful libraries in pandas and Plotly, we can get a bit more creative with our questions. This notebook will expand on what you've learned and allow you to modify the code as you need. Don't be afraid to refer back to the previous notebook if you have any questions.\n",
    "\n",
    "### Prep work"
   ]
  },
  {
   "cell_type": "code",
   "execution_count": null,
   "id": "4d5e8bf7-bdc5-44b5-9cf7-1694702aaad0",
   "metadata": {},
   "outputs": [],
   "source": [
    "# Import/install libraries\n",
    "import pandas as pd\n",
    "import plotly.express as px\n",
    "try:\n",
    "    import pybaseball as pbb\n",
    "except:\n",
    "    !pip install pybaseball --user\n",
    "    import pybaseball as pbb"
   ]
  },
  {
   "cell_type": "code",
   "execution_count": null,
   "id": "a627991b-8f8d-4113-9fd9-db6a19c52a75",
   "metadata": {},
   "outputs": [],
   "source": [
    "# Import data\n",
    "pitch_data = pd.read_csv('data/ale_pitch_data_june.csv')\n",
    "pitch_data.head()\n"
   ]
  },
  {
   "cell_type": "markdown",
   "id": "21fbb7b6-f272-4d0e-ba1f-9e7524d338fd",
   "metadata": {},
   "source": [
    "In our baseball data here, we have 92 columns of data describing each pitch. In the previous notebook, we looked at only a few of those columns. Now we'll introduce more data, more techniques, and then let you get creative answering some more questions.\n",
    "\n",
    "## Infield alignment\n",
    "\n",
    "As data has became so prevalent in the sport of baseball, many aspects of the game have noticably changed. One that's been quite visible when watching the game in the past few years is the [infield shift](https://en.wikipedia.org/wiki/Infield_shift). The gist of the strategy is to position the infielders in areas of the diamond that will increase their chances of making an out. This is done for each batter, and starts with looking at the batter's hitting tendencies over a certain timeframe (i.e. career, season, month) and placing the infielders where the ball is most likely to get hit. MLB uses specific criteria to define each type of shift, but details can be found [here](https://www.mlb.com/glossary/statcast/shifts).\n",
    "\n",
    "We can start by looking at how frequently infield shifting occurs in this dataset:"
   ]
  },
  {
   "cell_type": "code",
   "execution_count": null,
   "id": "87f6852c-0603-4b7d-934b-9f299b4bc4dc",
   "metadata": {},
   "outputs": [],
   "source": [
    "if_shift_perc = pitch_data['if_fielding_alignment'].value_counts(normalize=True) # Look at each option in `if_fielding_alignment` and calculate its percentage of the whole\n",
    "\n",
    "# In pie chart form\n",
    "px.pie(values=if_shift_perc, names=if_shift_perc.index, title='Percentage of infield shifting in the AL East in June 2022')"
   ]
  },
  {
   "cell_type": "markdown",
   "id": "64a09509-86f5-4640-91d7-cd243f6c9b6a",
   "metadata": {},
   "source": [
    "Starting in the 2023 season, MLB and the MLB Player's Association have agreed to add new rules that effectively ban infield shifting. As we can see from the pie chart above, shifting was only implemented a little less than half the time a batter came to the plate. Is it an effective strategy, or is the change in rules going to have a minimal impact on the game?\n",
    "\n",
    "We can investigate that by looking at how many outs were made with shifting, versus those that were made without shifting. First, we have to look at plays only made by infielders. Thankfully, the data has a field that allows us to do that: `hit_location`. Values in this field are numbers that represent the *position* of the first defensive player to touch the ball, according to a numbering convention in baseball:\n",
    "\n",
    "<img src=https://upload.wikimedia.org/wikipedia/commons/thumb/8/88/Baseball_positions.svg/1920px-Baseball_positions.svg.png width=400>\n",
    "<p>\n",
    "<a href='https://en.wikipedia.org/wiki/Baseball_positions'>https://en.wikipedia.org/wiki/Baseball_positions </a>\n",
    "</p>\n",
    "\n",
    "Therefore, we'll filter our data to only look at rows where the hit was to either the first baseman (3), second baseman (4), shortstop (6), or third baseman (5):"
   ]
  },
  {
   "cell_type": "code",
   "execution_count": null,
   "id": "8bd3396e-2fdf-4480-971e-238ee4b69d3d",
   "metadata": {},
   "outputs": [],
   "source": [
    "if_hits = pitch_data[pitch_data['hit_location'].isin([3, 4, 6, 5])] # Hits to the infielders only\n",
    "if_hits"
   ]
  },
  {
   "cell_type": "markdown",
   "id": "36ae100d-bfa9-46f7-84ba-47324713429e",
   "metadata": {},
   "source": [
    "The purpose of shifting the infielders is to stop the ball before it leaves the infield, and make an out. With the exception of some rare circumstances where hitters can get a hit *without* the ball leaving the infield, infield shifting generally fails when the ball is hit *through* the infield and is picked up by an outfielder.\n",
    "\n",
    "To account for that, we'll also look at plays where the ball was first touched up by an outfielder. However, we need to make sure we only look at balls that *could* have been fielded by an infielder, assuming they were perfectly positioned. That means we need to look only at **ground balls** when counting outfield outs ([see here for types of batted balls](https://en.wikipedia.org/wiki/Batted_ball#Characterization)):"
   ]
  },
  {
   "cell_type": "code",
   "execution_count": null,
   "id": "d5aad1d8-ebb5-4414-8b39-113910f6d332",
   "metadata": {},
   "outputs": [],
   "source": [
    "of_hits = pitch_data[(pitch_data['hit_location'].isin([7, 8, 9])) & (pitch_data['bb_type']=='ground_ball')] # Filter by both hits to the outfielders, as well as ground balls\n",
    "of_hits"
   ]
  },
  {
   "cell_type": "markdown",
   "id": "92f4ee98-b5c3-4d6d-be2b-360d6d216e92",
   "metadata": {},
   "source": [
    "Similarly, some balls fielded by infielders are less affected by where they've been positioned. Specifically, a 'pop-up' is a type of hit where the fielder has time to position themselves underneath the ball. Whether an infielder is shifted or not, they would have ample time to catch a pop-up, so we can remove those hits from our subsetted data.\n",
    "\n",
    "This is also an opportunity to compare the **equality** operators in Python. The operator `==` is a comparison where you're checking if one variable is **equal to** another. Conversely, the operator `!=` is the opposite, only returning matches where the two variables being compared are **not equal**.\n",
    "\n",
    "Below we're returning all results *except* those that equal 'popup':"
   ]
  },
  {
   "cell_type": "code",
   "execution_count": null,
   "id": "a4b07991-8b76-4b22-9423-ae48abb20fc3",
   "metadata": {},
   "outputs": [],
   "source": [
    "if_hits = if_hits[if_hits['bb_type']!='popup']  # Note how we're also overwriting the dataframe by using the same name\n",
    "if_hits"
   ]
  },
  {
   "cell_type": "code",
   "execution_count": null,
   "id": "e5b12a44-3136-4ffe-9d80-390c91a611b4",
   "metadata": {},
   "outputs": [],
   "source": [
    "if_hits_perc = if_hits['if_fielding_alignment'].value_counts(normalize=True) # Calculate percentage of total values for each shifting strategy for infield hits\n",
    "of_hits_perc = of_hits['if_fielding_alignment'].value_counts(normalize=True) # Do the same as above for outfield hits\n",
    "all_hits_perc = pd.concat([if_hits_perc, of_hits_perc], axis=1, keys=['Infield', 'Outfield']) # Combine the two dataframes\n",
    "all_hits_perc"
   ]
  },
  {
   "cell_type": "markdown",
   "id": "f9990aa8-922b-4e53-87ed-baf6a9891dba",
   "metadata": {},
   "source": [
    "Now let's compare them side by side:"
   ]
  },
  {
   "cell_type": "code",
   "execution_count": null,
   "id": "8c626de7-6c44-4822-8e6b-b0a5f2b5ee7e",
   "metadata": {},
   "outputs": [],
   "source": [
    "px.bar(all_hits_perc, y=all_hits_perc.columns, x=all_hits_perc.index, barmode='group', \n",
    "       title='Comparison of hits to different fielders by infield positioning', \n",
    "       labels={'value':'Percentage of hits fielded',\n",
    "               'index':'Infield positioning',\n",
    "               'variable':'Fielded by'})"
   ]
  },
  {
   "cell_type": "markdown",
   "id": "e212c4b7-5a6b-4a79-8deb-f945ca91dfa9",
   "metadata": {},
   "source": [
    "The above plot may at first look confusing, but we can draw some conclusions from it. First off, teams shift much *less* frequently than they don't; over half the time balls are hit to either infielders or outfielders, it's during a standard infield positioning.\n",
    "\n",
    "Secondly, and what we're trying to demonstrate, **when an infield shift is in place, a higher percentage of balls are hit to the infielders (versus ourfielders) than when it isn't**.\n",
    "\n",
    "### Follow-Up Questions\n",
    "\n",
    "1. We looked at infield alignment, but there's also a column for outfield alignment (`of_fielding_alignment`). Can you draw similar conclusions on that data?\n",
    "1. Instead of lumping many types of hits together (`bb_type`), what can you find by separating out the different hits?\n",
    "1. `home_team` and `away_team` contain information on the teams in each game. Do some teams shift more than others?"
   ]
  },
  {
   "cell_type": "markdown",
   "id": "01da2518-51b6-46bc-809a-31b1e3023c84",
   "metadata": {},
   "source": [
    "[![Callysto.ca License](https://github.com/callysto/curriculum-notebooks/blob/master/callysto-notebook-banner-bottom.jpg?raw=true)](https://github.com/callysto/curriculum-notebooks/blob/master/LICENSE.md)"
   ]
  }
 ],
 "metadata": {
  "kernelspec": {
   "display_name": "Python 3 (ipykernel)",
   "language": "python",
   "name": "python3"
  },
  "language_info": {
   "codemirror_mode": {
    "name": "ipython",
    "version": 3
   },
   "file_extension": ".py",
   "mimetype": "text/x-python",
   "name": "python",
   "nbconvert_exporter": "python",
   "pygments_lexer": "ipython3",
   "version": "3.9.12"
  }
 },
 "nbformat": 4,
 "nbformat_minor": 5
}
