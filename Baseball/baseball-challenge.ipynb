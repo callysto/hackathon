{
 "cells": [
  {
   "cell_type": "markdown",
   "id": "82edd93d-fc37-4e97-b118-6a7ff72718f4",
   "metadata": {},
   "source": [
    "![Callysto.ca Banner](https://github.com/callysto/curriculum-notebooks/blob/master/callysto-notebook-banner-top.jpg?raw=true)"
   ]
  },
  {
   "cell_type": "markdown",
   "id": "c1f3d788-af33-48c1-a96c-8ede5bb22666",
   "metadata": {},
   "source": [
    "# Baseball - Challenges\n",
    "\n",
    "Now that you've gone through the introduction notebook and learned how to navigate Jupyter Notebooks, Python, and some useful libraries in pandas and Plotly, we can get a bit more creative with our questions. This notebook will expand on what you've learned and allow you to modify the code as you need. Don't be afraid to refer back to the previous notebook if you have any questions.\n",
    "\n",
    "## Prep work"
   ]
  },
  {
   "cell_type": "code",
   "execution_count": null,
   "id": "4d5e8bf7-bdc5-44b5-9cf7-1694702aaad0",
   "metadata": {},
   "outputs": [],
   "source": [
    "# Import/install libraries\n",
    "import pandas as pd\n",
    "import plotly.express as px\n",
    "try:\n",
    "    import pybaseball as pbb\n",
    "except:\n",
    "    !pip install pybaseball --user\n",
    "    import pybaseball as pbb"
   ]
  },
  {
   "cell_type": "code",
   "execution_count": null,
   "id": "a627991b-8f8d-4113-9fd9-db6a19c52a75",
   "metadata": {},
   "outputs": [],
   "source": [
    "# Import data\n",
    "pitch_data = pd.read_csv('data/ale_pitch_data_june.csv')\n",
    "pitch_data.head()\n"
   ]
  },
  {
   "cell_type": "markdown",
   "id": "6f9120d2-5a90-4a77-b596-eb2523664fa1",
   "metadata": {},
   "source": [
    "## Grouping\n",
    "\n",
    "Returning to our original dataset, let's do some statistics on the data we have.\n",
    "\n",
    "Below is a pandas function that will allow us to group by a column, before calculating mean pitch speed."
   ]
  },
  {
   "cell_type": "code",
   "execution_count": null,
   "id": "2678b343-a2e4-4437-b031-7f957347b571",
   "metadata": {},
   "outputs": [],
   "source": [
    "pitcher_grp_mean = pitch_data.groupby(by='player_name')['release_speed'].mean() # Returning only the `release_speed` column\n",
    "pitcher_grp_mean"
   ]
  },
  {
   "cell_type": "markdown",
   "id": "ed0f5ba5-2b26-4874-8ae7-16346ed5f3de",
   "metadata": {},
   "source": [
    "We can repeat this looking at `max` as well:"
   ]
  },
  {
   "cell_type": "code",
   "execution_count": null,
   "id": "60c9070f-5723-4735-9231-a77603cdb9e8",
   "metadata": {},
   "outputs": [],
   "source": [
    "pitcher_grp_max = pitch_data.groupby(by='player_name')['release_speed'].max()\n",
    "pitcher_grp_max"
   ]
  },
  {
   "cell_type": "markdown",
   "id": "4e2d0a20-8473-4fb7-95f7-3846f7dda996",
   "metadata": {},
   "source": [
    "## Challenges:\n",
    "\n",
    "See if you can use the methods here, and what you've learned in the previous notebook, to tackle these challenges ([hint](https://www.geeksforgeeks.org/pandas-groupby-one-column-and-get-mean-min-and-max-values/)):\n",
    "1. Which pitcher throws, on average, the fastest?\n",
    "1. Which pitcher threw the hardest pitch in the dataset?\n",
    "1. What is the highest average velocity for each pitch?  "
   ]
  },
  {
   "cell_type": "markdown",
   "id": "06dd5783-2f43-4250-87fd-04663dd644c1",
   "metadata": {},
   "source": [
    "We can also return multiple columns when grouping:"
   ]
  },
  {
   "cell_type": "code",
   "execution_count": null,
   "id": "93ba340b-d7ed-4fc8-a9fd-fda9da545d47",
   "metadata": {},
   "outputs": [],
   "source": [
    "pitch_data.groupby(by=['player_name', 'pitch_name'])[['release_speed', 'release_spin_rate']].mean()"
   ]
  },
  {
   "cell_type": "markdown",
   "id": "fc9ffb8c-6647-4ee3-971a-a8d3cf89f091",
   "metadata": {},
   "source": [
    "## Batting\n",
    "\n",
    "Up until now we've only looked at data that focuses on the pitches, which is (unsurprisingly) mostly related to the pitcher. Though we can also access data explicitly on the hitters (see the end of this notebook for details on how), there's some hitter data available in what we already have. But first, we have to do some data cleaning.\n",
    "\n",
    "In our original dataset, the column `batter` contains a number that uniquely corresponds to each batter. That's helpful in keeping them apart, but not very helpful in identifying *who* each batter is. For that, we use the below code from the `pybaseball` library.\n",
    "\n",
    "First, we're going to take the entire `batter` column, pass it to the `playerid_reverse_lookup` function, and extract just the names that are returned:"
   ]
  },
  {
   "cell_type": "code",
   "execution_count": null,
   "id": "f487721b-0fd6-448f-a69a-cfd7e05ed690",
   "metadata": {},
   "outputs": [],
   "source": [
    "batter_names = pbb.playerid_reverse_lookup(pitch_data['batter'])[['name_last', 'name_first']]\n",
    "batter_names"
   ]
  },
  {
   "cell_type": "markdown",
   "id": "159f59ae-f93a-4bc7-86d7-93453ed1605e",
   "metadata": {},
   "source": [
    "For consistency, we can take these two columns, merge them into one, and format the names so they match the style of the pitcher names ('Lastname, Firstname').\n",
    "\n",
    "Let's capitalize the names in each column individually:"
   ]
  },
  {
   "cell_type": "code",
   "execution_count": null,
   "id": "7dece847-de1f-473c-a045-c3c0d864d033",
   "metadata": {},
   "outputs": [],
   "source": [
    "batter_names['name_last'] = batter_names['name_last'].str.title()\n",
    "batter_names['name_first'] = batter_names['name_first'].str.title()\n",
    "batter_names"
   ]
  },
  {
   "cell_type": "markdown",
   "id": "9c0eb934-3f86-4fed-b7fc-589555147375",
   "metadata": {},
   "source": [
    "Now we can join ('con**cat**enate') the two names with a comma (and space), and create a new, single column:"
   ]
  },
  {
   "cell_type": "code",
   "execution_count": null,
   "id": "bdba97d5-ebd5-4cc5-a98e-26b97d8edb67",
   "metadata": {},
   "outputs": [],
   "source": [
    "batter_names_comb = batter_names['name_last'].str.cat(batter_names['name_first'], sep=', ')\n",
    "batter_names_comb"
   ]
  },
  {
   "cell_type": "markdown",
   "id": "23eae2fa-472a-4c02-a0f2-06d33c625ca1",
   "metadata": {},
   "source": [
    "Because the function to retrieve player names from IDs ignores duplicates (but retains order), we need to do the same with our IDs:"
   ]
  },
  {
   "cell_type": "code",
   "execution_count": null,
   "id": "187de102-cd3d-4e5e-8a6f-d284af41eb59",
   "metadata": {},
   "outputs": [],
   "source": [
    "ids = pitch_data['batter'].drop_duplicates().to_list()\n",
    "ids[:5] # Only showing the first five entries"
   ]
  },
  {
   "cell_type": "markdown",
   "id": "adc99214-fd73-4f67-8a53-8400f6e589d4",
   "metadata": {},
   "source": [
    "Then we can combine them to create a mapping function:"
   ]
  },
  {
   "cell_type": "code",
   "execution_count": null,
   "id": "1ef1d488-7956-46da-9164-8a26855455b7",
   "metadata": {},
   "outputs": [],
   "source": [
    "mapper = {ids[i]: batter_names_comb[i] for i in range(len(ids))} # Create a dictionary with key:value pairs of IDs and player names"
   ]
  },
  {
   "cell_type": "markdown",
   "id": "3b89d57d-5256-4277-a5ac-893d55255da4",
   "metadata": {},
   "source": [
    "Finally, use this mapping dictionary to overwrite the IDs for batter with the names. The `map` function will look for values in the **key** of each dictionary entry, and replace it with its corresponding **value**:"
   ]
  },
  {
   "cell_type": "code",
   "execution_count": null,
   "id": "dc34b984-3aeb-4da9-94d4-6bb321949cd2",
   "metadata": {},
   "outputs": [],
   "source": [
    "pitch_data['batter'] = pitch_data['batter'].map(mapper)\n",
    "pitch_data"
   ]
  },
  {
   "cell_type": "markdown",
   "id": "01da2518-51b6-46bc-809a-31b1e3023c84",
   "metadata": {},
   "source": [
    "[![Callysto.ca License](https://github.com/callysto/curriculum-notebooks/blob/master/callysto-notebook-banner-bottom.jpg?raw=true)](https://github.com/callysto/curriculum-notebooks/blob/master/LICENSE.md)"
   ]
  }
 ],
 "metadata": {
  "kernelspec": {
   "display_name": "Python 3 (ipykernel)",
   "language": "python",
   "name": "python3"
  },
  "language_info": {
   "codemirror_mode": {
    "name": "ipython",
    "version": 3
   },
   "file_extension": ".py",
   "mimetype": "text/x-python",
   "name": "python",
   "nbconvert_exporter": "python",
   "pygments_lexer": "ipython3",
   "version": "3.9.12"
  }
 },
 "nbformat": 4,
 "nbformat_minor": 5
}
