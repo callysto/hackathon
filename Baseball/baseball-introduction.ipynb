{
 "cells": [
  {
   "cell_type": "markdown",
   "id": "af21ba5e-3705-486b-8f1a-ce2c2d69e35c",
   "metadata": {},
   "source": [
    "![Callysto.ca Banner](https://github.com/callysto/curriculum-notebooks/blob/master/callysto-notebook-banner-top.jpg?raw=true)"
   ]
  },
  {
   "cell_type": "markdown",
   "id": "05644c8a-37ef-457f-8b45-825b0f3ed8df",
   "metadata": {},
   "source": [
    "# Baseball - Analyzing pitch data\n",
    "\n",
    "**Submitted by: A, B, C, D**"
   ]
  },
  {
   "cell_type": "markdown",
   "id": "09886545-c3f2-460a-968e-7b642bbb4f54",
   "metadata": {},
   "source": [
    "<img src=https://upload.wikimedia.org/wikipedia/commons/5/59/Baseball_diamond_marines.jpg width=800>\n",
    "<p>\n",
    "<a href='https://upload.wikimedia.org/wikipedia/commons/5/59/Baseball_diamond_marines.jpg'>https://upload.wikimedia.org/wikipedia/commons/5/59/Baseball_diamond_marines.jpg\n",
    "</p>"
   ]
  },
  {
   "cell_type": "markdown",
   "id": "0787cec1-9230-4b58-b09f-57de9dc2c753",
   "metadata": {},
   "source": [
    "Baseball is popular sport in North America, that in the past few decades has seen its popularity rise in countries across the world. As the sport has grown, so has the technology that it uses. Major League Baseball (MLB), the largest professional league in the world, has installed high-tech cameras and other tracking tools in all 30 of its stadiums to allow teams to analyze the game using more advanced methods than ever before. High-performance computers then run complicated programs to turn the video recordings from the cameras into usable data. Teams can use this data to improve their own players' performance, as well as to learn about what their opponents are likely to do.\n",
    "\n",
    "MLB has made this data available for anyone who wants to use it, and we can go through some of it today to see if we can learn more about the game to see if we can gain an advantage on our opponents!\n",
    "\n",
    "## Getting ready\n",
    "\n",
    "Before we get into the questions we want to ask, we need to do a little bit of work behind the scenes. All the cells in this notebook can be run without being modified, and you don't need to be too concerned if you don't understand the exact function of every line of code. If there's anything you're curious about, please ask one of your mentors to help you learn more!"
   ]
  },
  {
   "cell_type": "markdown",
   "id": "21484498-f9a1-4654-bb16-6f0039bd211b",
   "metadata": {},
   "source": [
    "#### 1. Install/Import libraries\n",
    "\n",
    "Run the cell below to download and install required Python libraries. It may take few minutes to complete the execution of the cell."
   ]
  },
  {
   "cell_type": "code",
   "execution_count": null,
   "id": "3477125f-f759-4ad9-89e3-5fe9f8b2852e",
   "metadata": {},
   "outputs": [],
   "source": [
    "!pip install pandas pybaseball plotly"
   ]
  },
  {
   "cell_type": "markdown",
   "id": "9a2cc92d-41dd-4f17-b5a9-2e3a8dd34cf7",
   "metadata": {},
   "source": [
    "Now that we have installed the libraries we need to do run the notebook, we have to activate them:"
   ]
  },
  {
   "cell_type": "code",
   "execution_count": null,
   "id": "4b0f2bc1-b98e-472b-8b02-c9a5102321e5",
   "metadata": {},
   "outputs": [],
   "source": [
    "# Load libraries\n",
    "import pandas as pd\n",
    "import plotly.express as px"
   ]
  },
  {
   "cell_type": "markdown",
   "id": "6a53fd3a-3351-42a5-b02a-01e1949e434e",
   "metadata": {},
   "source": [
    "#### 2. Import data and create a dataframe\n",
    "\n",
    "For today's challenge, we'll be looking at data about the pitches thrown in baseball. Each play starts with a pitch, so there's potentially a lot we can learn from this data. In the 2022 season, over **600,000 pitches were thrown**, which is a lot of data. We don't need quite that much, so instead we'll focus on just one of the divisions within MLB: the American League East division. This division consists of the Toronto Blue Jays, the New York Yankees, the Boston Red Sox, the Baltimore Orioles, and the Tampa Bay Rays. In the 2022 season, the AL East had the most wins of any division in all of MLB, despite almost half of each team's games being against other teams in the division!\n",
    "\n",
    "There are many sources of baseball data on the internet, such as [FanGraphs](https://www.fangraphs.com/), [Baseball-Reference](https://www.baseball-reference.com/), and many more. For this challenge, though all the sites have access to MLB's data, we've downloaded the data from a website called [Baseball Savant](https://baseballsavant.mlb.com/) and stored it in a CSV file so it's easy to access. We can load it here and look at five random observations:"
   ]
  },
  {
   "cell_type": "code",
   "execution_count": null,
   "id": "d4b7dfbc-a256-443b-ac2d-193ba07d7d9c",
   "metadata": {},
   "outputs": [],
   "source": [
    "pitch_data = pd.read_csv('data/ale_pitch_data.csv')\n",
    "pitch_data.sample(5)"
   ]
  },
  {
   "cell_type": "code",
   "execution_count": null,
   "id": "76662d2b-2043-4601-9626-deb456b9265e",
   "metadata": {},
   "outputs": [],
   "source": []
  },
  {
   "cell_type": "code",
   "execution_count": null,
   "id": "996b6d3f-2bb4-46b8-a698-b3132273fad6",
   "metadata": {},
   "outputs": [],
   "source": []
  },
  {
   "cell_type": "code",
   "execution_count": null,
   "id": "5e57b1c4-faab-4b09-827e-4f51f52b45fc",
   "metadata": {},
   "outputs": [],
   "source": []
  },
  {
   "cell_type": "code",
   "execution_count": null,
   "id": "f50d5dec-7041-42c8-940d-39186ca4c046",
   "metadata": {},
   "outputs": [],
   "source": []
  },
  {
   "cell_type": "code",
   "execution_count": null,
   "id": "dad038bb-f85f-435c-87d5-9377f95ddcf4",
   "metadata": {},
   "outputs": [],
   "source": []
  },
  {
   "cell_type": "code",
   "execution_count": null,
   "id": "888b88a8-b070-4d93-a3d0-820c8f64be72",
   "metadata": {},
   "outputs": [],
   "source": []
  },
  {
   "cell_type": "markdown",
   "id": "08953f99-119e-4d67-9ed2-1169c276d9de",
   "metadata": {},
   "source": [
    "[![Callysto.ca License](https://github.com/callysto/curriculum-notebooks/blob/master/callysto-notebook-banner-bottom.jpg?raw=true)](https://github.com/callysto/curriculum-notebooks/blob/master/LICENSE.md)"
   ]
  }
 ],
 "metadata": {
  "kernelspec": {
   "display_name": "Python 3 (ipykernel)",
   "language": "python",
   "name": "python3"
  },
  "language_info": {
   "codemirror_mode": {
    "name": "ipython",
    "version": 3
   },
   "file_extension": ".py",
   "mimetype": "text/x-python",
   "name": "python",
   "nbconvert_exporter": "python",
   "pygments_lexer": "ipython3",
   "version": "3.9.12"
  }
 },
 "nbformat": 4,
 "nbformat_minor": 5
}
