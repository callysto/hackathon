{
 "cells": [
  {
   "cell_type": "markdown",
   "metadata": {},
   "source": [
    "![Callysto.ca Banner](https://github.com/callysto/curriculum-notebooks/blob/master/callysto-notebook-banner-top.jpg?raw=true)\n",
    "\n",
    "<a href=\"https://hub.callysto.ca/jupyter/hub/user-redirect/git-pull?repo=https%3A%2F%2Fgithub.com%2Fcallysto%2Fhackathon&branch=master&subPath=ColonizingMars/AccessingData/nasa-pictures-of-mars.ipynb&depth=1\" target=\"_parent\"><img src=\"https://raw.githubusercontent.com/callysto/curriculum-notebooks/master/open-in-callysto-button.svg?sanitize=true\" width=\"123\" height=\"24\" alt=\"Open in Callysto\"/></a>"
   ]
  },
  {
   "cell_type": "markdown",
   "metadata": {},
   "source": [
    "# Pictures of Mars from NASA\n",
    "\n",
    "Source: https://api.nasa.gov/ \n",
    "\n",
    "NASA API: The objective of this site is to make NASA data, including imagery, accessible to application developers\n",
    "\n",
    "## Mars Rover Photos\n",
    "\n",
    "[Text taken directly from their dataset description]\n",
    "\n",
    "This API is designed to collect image data gathered by NASA's Curiosity, Opportunity, and Spirit rovers on Mars and make it more easily available to other developers, educators, and citizen scientists. This API is maintained by Chris Cerami.\n",
    "\n",
    "Each rover has its own set of photos stored in the database, which can be queried separately. There are several possible queries that can be made against the API. Photos are organized by the sol (Martian rotation or day) on which they were taken, counting up from the rover's landing date. A photo taken on Curiosity's 1000th Martian sol exploring Mars, for example, will have a sol attribute of 1000. If instead you prefer to search by the Earth date on which a photo was taken, you can do that too.\n",
    "\n",
    "Along with querying by date, results can also be filtered by the camera with which it was taken and responses will be limited to 25 photos per call. Queries that should return more than 25 photos will be split onto several pages, which can be accessed by adding a 'page' param to the query."
   ]
  },
  {
   "cell_type": "code",
   "execution_count": 3,
   "metadata": {},
   "outputs": [
    {
     "data": {
      "text/html": [
       "<div>\n",
       "<style scoped>\n",
       "    .dataframe tbody tr th:only-of-type {\n",
       "        vertical-align: middle;\n",
       "    }\n",
       "\n",
       "    .dataframe tbody tr th {\n",
       "        vertical-align: top;\n",
       "    }\n",
       "\n",
       "    .dataframe thead th {\n",
       "        text-align: right;\n",
       "    }\n",
       "</style>\n",
       "<table border=\"1\" class=\"dataframe\">\n",
       "  <thead>\n",
       "    <tr style=\"text-align: right;\">\n",
       "      <th></th>\n",
       "      <th>camera</th>\n",
       "      <th>earth_date</th>\n",
       "      <th>id</th>\n",
       "      <th>img_src</th>\n",
       "      <th>rover</th>\n",
       "      <th>sol</th>\n",
       "    </tr>\n",
       "  </thead>\n",
       "  <tbody>\n",
       "    <tr>\n",
       "      <th>0</th>\n",
       "      <td>{'id': 20, 'name': 'FHAZ', 'rover_id': 5, 'ful...</td>\n",
       "      <td>2015-05-30</td>\n",
       "      <td>102693</td>\n",
       "      <td>http://mars.jpl.nasa.gov/msl-raw-images/proj/m...</td>\n",
       "      <td>{'id': 5, 'name': 'Curiosity', 'landing_date':...</td>\n",
       "      <td>1000</td>\n",
       "    </tr>\n",
       "    <tr>\n",
       "      <th>1</th>\n",
       "      <td>{'id': 20, 'name': 'FHAZ', 'rover_id': 5, 'ful...</td>\n",
       "      <td>2015-05-30</td>\n",
       "      <td>102694</td>\n",
       "      <td>http://mars.jpl.nasa.gov/msl-raw-images/proj/m...</td>\n",
       "      <td>{'id': 5, 'name': 'Curiosity', 'landing_date':...</td>\n",
       "      <td>1000</td>\n",
       "    </tr>\n",
       "  </tbody>\n",
       "</table>\n",
       "</div>"
      ],
      "text/plain": [
       "                                              camera  earth_date      id  \\\n",
       "0  {'id': 20, 'name': 'FHAZ', 'rover_id': 5, 'ful...  2015-05-30  102693   \n",
       "1  {'id': 20, 'name': 'FHAZ', 'rover_id': 5, 'ful...  2015-05-30  102694   \n",
       "\n",
       "                                             img_src  \\\n",
       "0  http://mars.jpl.nasa.gov/msl-raw-images/proj/m...   \n",
       "1  http://mars.jpl.nasa.gov/msl-raw-images/proj/m...   \n",
       "\n",
       "                                               rover   sol  \n",
       "0  {'id': 5, 'name': 'Curiosity', 'landing_date':...  1000  \n",
       "1  {'id': 5, 'name': 'Curiosity', 'landing_date':...  1000  "
      ]
     },
     "execution_count": 3,
     "metadata": {},
     "output_type": "execute_result"
    }
   ],
   "source": [
    "camera_list = ['FHAZ', 'RHAZ', 'MAST', 'CHEMCAM', 'NAVCAM']\n",
    "camera_name = camera_list[0]\n",
    "\n",
    "DEMO_KEY='MCPiQTUOtrm8K1bZAXY2UIYVB3JNcunfwkEd2IYm'\n",
    "base_url = \"https://api.nasa.gov/mars-photos/api/v1/rovers/curiosity/\"\n",
    "build_query = \"photos?sol=1000&camera=\" + camera_name +  \"&api_key=\" + DEMO_KEY\n",
    "full_url = base_url + build_query\n",
    "\n",
    "import requests\n",
    "resp = requests.get(url=full_url)\n",
    "data = resp.json()\n",
    "\n",
    "import pandas as pd\n",
    "df = pd.io.json.json_normalize(data,record_path=\"photos\") # or pd.json_normalize with Pandas > 1.0\n",
    "df"
   ]
  },
  {
   "cell_type": "code",
   "execution_count": 4,
   "metadata": {},
   "outputs": [
    {
     "name": "stdout",
     "output_type": "stream",
     "text": [
      "http://mars.jpl.nasa.gov/msl-raw-images/proj/msl/redops/ods/surface/sol/01000/opgs/edr/fcam/FLB_486265257EDR_F0481570FHAZ00323M_.JPG\n"
     ]
    },
    {
     "data": {
      "text/html": [
       "<img src=\"http://mars.jpl.nasa.gov/msl-raw-images/proj/msl/redops/ods/surface/sol/01000/opgs/edr/fcam/FLB_486265257EDR_F0481570FHAZ00323M_.JPG\"/>"
      ],
      "text/plain": [
       "<IPython.core.display.Image object>"
      ]
     },
     "metadata": {},
     "output_type": "display_data"
    },
    {
     "name": "stdout",
     "output_type": "stream",
     "text": [
      "http://mars.jpl.nasa.gov/msl-raw-images/proj/msl/redops/ods/surface/sol/01000/opgs/edr/fcam/FRB_486265257EDR_F0481570FHAZ00323M_.JPG\n"
     ]
    },
    {
     "data": {
      "text/html": [
       "<img src=\"http://mars.jpl.nasa.gov/msl-raw-images/proj/msl/redops/ods/surface/sol/01000/opgs/edr/fcam/FRB_486265257EDR_F0481570FHAZ00323M_.JPG\"/>"
      ],
      "text/plain": [
       "<IPython.core.display.Image object>"
      ]
     },
     "metadata": {},
     "output_type": "display_data"
    }
   ],
   "source": [
    "from IPython.display import Image\n",
    "for image_url in df['img_src']:\n",
    "    print(image_url)\n",
    "    image = Image(url=image_url)\n",
    "    display(image)"
   ]
  },
  {
   "cell_type": "markdown",
   "metadata": {},
   "source": [
    "[![Callysto.ca License](https://github.com/callysto/curriculum-notebooks/blob/master/callysto-notebook-banner-bottom.jpg?raw=true)](https://github.com/callysto/curriculum-notebooks/blob/master/LICENSE.md)"
   ]
  }
 ],
 "metadata": {
  "kernelspec": {
   "display_name": "Python 3",
   "language": "python",
   "name": "python3"
  },
  "language_info": {
   "codemirror_mode": {
    "name": "ipython",
    "version": 3
   },
   "file_extension": ".py",
   "mimetype": "text/x-python",
   "name": "python",
   "nbconvert_exporter": "python",
   "pygments_lexer": "ipython3",
   "version": "3.7.4"
  }
 },
 "nbformat": 4,
 "nbformat_minor": 4
}
