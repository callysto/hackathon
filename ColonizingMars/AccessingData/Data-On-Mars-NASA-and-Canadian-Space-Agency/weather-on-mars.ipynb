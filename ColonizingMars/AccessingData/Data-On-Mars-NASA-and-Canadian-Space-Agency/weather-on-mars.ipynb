{
 "cells": [
  {
   "cell_type": "markdown",
   "metadata": {},
   "source": [
    "![Callysto.ca Banner](https://github.com/callysto/curriculum-notebooks/blob/master/callysto-notebook-banner-top.jpg?raw=true)\n",
    "\n",
    "<a href=\"https://hub.callysto.ca/jupyter/hub/user-redirect/git-pull?repo=https%3A%2F%2Fgithub.com%2Fcallysto%2Fhackathon&branch=master&subPath=ColonizingMars/AccessingData/weather-on-mars.ipynb&depth=1\" target=\"_parent\"><img src=\"https://raw.githubusercontent.com/callysto/curriculum-notebooks/master/open-in-callysto-button.svg?sanitize=true\" width=\"123\" height=\"24\" alt=\"Open in Callysto\"/></a>"
   ]
  },
  {
   "cell_type": "markdown",
   "metadata": {},
   "source": [
    "# Weather on Mars\n",
    "\n",
    "Source: [Rover Environmental Monitoring Station](https://www.kaggle.com/datasets/imkrkannan/mars-weather-data). This data displays the weather conditions on Mars from August 7, 2012 to February 27, 2018. \n"
   ]
  },
  {
   "cell_type": "code",
   "execution_count": null,
   "metadata": {},
   "outputs": [],
   "source": [
    "import requests\n",
    "import pandas as pd\n",
    "\n",
    "mars = pd.read_csv(\"mars-weather.csv\")\n",
    "\n",
    "def calculate_average(rows):\n",
    "    rows[\"avg_temp\"] = (rows[\"min_temp\"] + rows[\"max_temp\"]) / 2\n",
    "    return rows\n",
    "mars.transform(lambda x: calculate_average(x))\n",
    "\n",
    "min_temp = [mars[\"min_temp\"].mean()]\n",
    "max_temp = [mars[\"max_temp\"].mean()]\n",
    "avg_temp = [mars[\"avg_temp\"].mean()]\n",
    "avg_pre = [mars[\"pressure\"].mean()]\n",
    "\n",
    "df = pd.DataFrame({\n",
    "             \"AverageTemperature\":avg_temp,\n",
    "             \"MinTemperature\":min_temp,\n",
    "             \"MaxTemperature\":max_temp,\n",
    "             \"AveragePressure\":avg_pre})\n",
    "df"
   ]
  },
  {
   "cell_type": "markdown",
   "metadata": {},
   "source": [
    "[![Callysto.ca License](https://github.com/callysto/curriculum-notebooks/blob/master/callysto-notebook-banner-bottom.jpg?raw=true)](https://github.com/callysto/curriculum-notebooks/blob/master/LICENSE.md)"
   ]
  }
 ],
 "metadata": {
  "kernelspec": {
   "display_name": "Python 3 (ipykernel)",
   "language": "python",
   "name": "python3"
  },
  "language_info": {
   "codemirror_mode": {
    "name": "ipython",
    "version": 3
   },
   "file_extension": ".py",
   "mimetype": "text/x-python",
   "name": "python",
   "nbconvert_exporter": "python",
   "pygments_lexer": "ipython3",
   "version": "3.9.12"
  }
 },
 "nbformat": 4,
 "nbformat_minor": 4
}
