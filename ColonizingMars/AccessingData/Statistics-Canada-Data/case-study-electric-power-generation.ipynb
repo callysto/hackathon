{
 "cells": [
  {
   "cell_type": "markdown",
   "metadata": {},
   "source": [
    "![Callysto.ca Banner](https://github.com/callysto/curriculum-notebooks/blob/master/callysto-notebook-banner-top.jpg?raw=true)\n",
    "\n",
    "\n",
    "<a href=\"https://hub.callysto.ca/jupyter/hub/user-redirect/git-pull?repo=https%3A%2F%2Fgithub.com%2Fcallysto%2Fhackathon&branch=master&subPath=ColonizingMars/AccessingData/Statistics-Canada-Data/case-study-electric-power-generation.ipynb&depth=1\" target=\"_parent\"><img src=\"https://raw.githubusercontent.com/callysto/curriculum-notebooks/master/open-in-callysto-button.svg?sanitize=true\" width=\"123\" height=\"24\" alt=\"Open in Callysto\"/></a>\n"
   ]
  },
  {
   "cell_type": "markdown",
   "metadata": {},
   "source": [
    "# Downloading and Visualizing Statistics Canada Open Data\n",
    "\n",
    "You can use this notebook as a sample of what it looks like to download, parse, visualize and interpret data in the context of our hackathon. \n",
    "\n",
    "In this notebook we will use a dataset provided by Statistics Canada. Statistics Canada produces statistics that help Canadians better understand their country—its population, resources, economy, society and culture. Learn more about StatsCan in their website https://www.statcan.gc.ca/eng/about/about?MM=as\n",
    "\n",
    "\n",
    "The questions we will aim to answer are: if we were colonizing Mars, how would we generate electricity? What can we learn from current electric power generation? Are there electric power generation methods that would be suitable candidates for Mars? \n",
    "\n",
    "We start by citing our source:\n",
    "\n",
    "Statistics Canada.  Table  25-10-0015-01   Electric power generation, monthly generation by type of electricity\n",
    "DOI:   https://doi.org/10.25318/2510001501-eng"
   ]
  },
  {
   "cell_type": "markdown",
   "metadata": {},
   "source": [
    "Run the cell below to import modules and functions."
   ]
  },
  {
   "cell_type": "code",
   "execution_count": null,
   "metadata": {},
   "outputs": [],
   "source": [
    "from time import sleep\n",
    "%run -i ./StatsCan/helpers.py\n",
    "%run -i ./StatsCan/scwds.py\n",
    "%run -i ./StatsCan/sc.py"
   ]
  },
  {
   "cell_type": "markdown",
   "metadata": {},
   "source": [
    "The product ID for the dataset Statistics Canada. Table 25-10-0015-01 Electric power generation, monthly generation by type of electricity DOI: https://doi.org/10.25318/2510001501-eng is `25-10-0015-01`. \n",
    "\n",
    "A list of product IDS you can use is provided in the main Statistics Canada directory.\n",
    "\n",
    "Run the cell below to download the data."
   ]
  },
  {
   "cell_type": "code",
   "execution_count": null,
   "metadata": {},
   "outputs": [],
   "source": [
    "# # Download data \n",
    "productId = \"25-10-0015-01\"\n",
    "\n",
    "        \n",
    "download_tables(str(productId))\n",
    "\n",
    "\n",
    "df_fullDATA = zip_table_to_dataframe(productId)\n",
    "\n",
    "\n",
    "# Clean up full dataset - remove internal use columns\n",
    "cols = list(df_fullDATA.loc[:,'REF_DATE':'UOM'])+ ['SCALAR_FACTOR'] +  ['VALUE']\n",
    "df_less = df_fullDATA[cols]\n",
    "df_less2 = df_less.drop([\"DGUID\"], axis=1)\n",
    "\n",
    "# Display only first five entries\n",
    "df_less2.head()"
   ]
  },
  {
   "cell_type": "markdown",
   "metadata": {},
   "source": [
    "### Important categories: Electricity Producers\n",
    "\n",
    "StatsCan data is extensive. \n",
    "\n",
    "Run the cell below to get all possible categories for the class of electricity producer. "
   ]
  },
  {
   "cell_type": "code",
   "execution_count": null,
   "metadata": {},
   "outputs": [],
   "source": [
    "df_less2[\"Class of electricity producer\"].unique()"
   ]
  },
  {
   "cell_type": "markdown",
   "metadata": {},
   "source": [
    "### Important Categories: Type of Electricity Generation"
   ]
  },
  {
   "cell_type": "code",
   "execution_count": null,
   "metadata": {},
   "outputs": [],
   "source": [
    "df_less2[\"Type of electricity generation\"].unique()"
   ]
  },
  {
   "cell_type": "markdown",
   "metadata": {},
   "source": [
    "### Plotting our data\n",
    "\n",
    "Substitute the values in the variables `class_of_electricity_producer` and `type_electricity_generation` - an example has been given for you."
   ]
  },
  {
   "cell_type": "markdown",
   "metadata": {},
   "source": [
    "## Plotting different kinds of electric power generation by province\n",
    "\n",
    "The list of type of electricity generation is \n",
    "\n",
    "- 'Total all types of electricity generation', \n",
    "- 'Hydraulic turbine',\n",
    "- 'Conventional steam turbine', 'Nuclear steam turbine',\n",
    "- 'Internal combustion turbine', 'Combustion turbine',\n",
    "- 'Tidal power turbine', \n",
    "- 'Wind power turbine', \n",
    "- 'Solar',\n",
    "- 'Other types of electricity generation',\n",
    "- 'Total electricity production from combustible fuels',\n",
    "- 'Total electricity production from non-renewable combustible fuels',\n",
    "- 'Total electricity production from biomass'\n",
    "\n",
    "There is not water, or biological material to generate electric energy in Mars.... we need help from provinces specializing in Solar and Wind power production to get us started. "
   ]
  },
  {
   "cell_type": "code",
   "execution_count": null,
   "metadata": {},
   "outputs": [],
   "source": [
    "import plotly_express as px"
   ]
  },
  {
   "cell_type": "code",
   "execution_count": null,
   "metadata": {},
   "outputs": [],
   "source": [
    "def plot_class_type_electricity(class_of_electricity_producer,type_electricity_generation):\n",
    "    geo_condition = df_less2[\"GEO\"] != \"Canada\"\n",
    "    condition_1 = df_less2[\"Class of electricity producer\"] ==class_of_electricity_producer\n",
    "    condition_2 = df_less2[\"Type of electricity generation\"] == type_electricity_generation\n",
    "\n",
    "    final_df = df_less2[geo_condition & condition_1 & condition_2]\n",
    "    \n",
    "    fig = px.line(final_df,\n",
    "       x=\"REF_DATE\",\n",
    "       y=\"VALUE\",\n",
    "       title=class_of_electricity_producer + \" \" + type_electricity_generation,\n",
    "      color =\"GEO\")\n",
    "    return fig"
   ]
  },
  {
   "cell_type": "code",
   "execution_count": null,
   "metadata": {},
   "outputs": [],
   "source": [
    "# Subsetting data\n",
    "type_electricity_generation = \"Solar\"\n",
    "class_of_electricity_producer = \"Total all classes of electricity producer\"\n",
    "plot_class_type_electricity(class_of_electricity_producer,type_electricity_generation)"
   ]
  },
  {
   "cell_type": "markdown",
   "metadata": {},
   "source": [
    "Ontario produces the most electricity power via Solar during the Summer months. "
   ]
  },
  {
   "cell_type": "code",
   "execution_count": null,
   "metadata": {},
   "outputs": [],
   "source": [
    "# Subsetting data\n",
    "type_electricity_generation = \"Wind power turbine\"\n",
    "class_of_electricity_producer = \"Total all classes of electricity producer\"\n",
    "plot_class_type_electricity(class_of_electricity_producer,type_electricity_generation)\n"
   ]
  },
  {
   "cell_type": "markdown",
   "metadata": {},
   "source": [
    "Ontario and Quebec produce the most energy via wind turbines. "
   ]
  },
  {
   "cell_type": "code",
   "execution_count": null,
   "metadata": {},
   "outputs": [],
   "source": [
    "pivot_electricity_generation = df_less2.pivot_table(index=\"GEO\",columns=\"Type of electricity generation\")"
   ]
  },
  {
   "cell_type": "code",
   "execution_count": null,
   "metadata": {},
   "outputs": [],
   "source": [
    "pivot_electricity_generation[\"VALUE\"]"
   ]
  },
  {
   "cell_type": "code",
   "execution_count": null,
   "metadata": {},
   "outputs": [],
   "source": [
    "piv_not_canada = pivot_electricity_generation[pivot_electricity_generation.index != \"Canada\"]\n",
    "px.bar(piv_not_canada,\n",
    "       x=piv_not_canada.index,\n",
    "       y=piv_not_canada[\"VALUE\"][\"Wind power turbine\"],\n",
    "       title=\"Average Electricity Generation using Wind Power Turbine by Province\"\n",
    "      ).update_xaxes(categoryorder = \"total ascending\")"
   ]
  },
  {
   "cell_type": "markdown",
   "metadata": {},
   "source": [
    "We see that, on average, Ontario is the largest producer of electricity using wind power turbines, followed by Quebec. "
   ]
  },
  {
   "cell_type": "code",
   "execution_count": null,
   "metadata": {},
   "outputs": [],
   "source": [
    "px.density_heatmap(df_less2,\"Type of electricity generation\",\"GEO\",\n",
    "                   title=\"Type of electricity generation: all types, all provinces\")"
   ]
  },
  {
   "cell_type": "markdown",
   "metadata": {},
   "source": [
    "## Conclusion\n",
    "\n",
    "If all we have in Mars is wind and the sun, the first attempt at gethering electric power would be to learn more from what Quebec and Ontario have done to implemnent this type of electricity generation, how costly it is, and what is needed to make it happen. We would also need to study optimal locations in Mars to maxiize generation of electricity. "
   ]
  },
  {
   "cell_type": "markdown",
   "metadata": {},
   "source": [
    "[![Callysto.ca License](https://github.com/callysto/curriculum-notebooks/blob/master/callysto-notebook-banner-bottom.jpg?raw=true)](https://github.com/callysto/curriculum-notebooks/blob/master/LICENSE.md)"
   ]
  }
 ],
 "metadata": {
  "celltoolbar": "Edit Metadata",
  "kernelspec": {
   "display_name": "Python 3",
   "language": "python",
   "name": "python3"
  },
  "language_info": {
   "codemirror_mode": {
    "name": "ipython",
    "version": 3
   },
   "file_extension": ".py",
   "mimetype": "text/x-python",
   "name": "python",
   "nbconvert_exporter": "python",
   "pygments_lexer": "ipython3",
   "version": "3.7.4"
  }
 },
 "nbformat": 4,
 "nbformat_minor": 2
}
