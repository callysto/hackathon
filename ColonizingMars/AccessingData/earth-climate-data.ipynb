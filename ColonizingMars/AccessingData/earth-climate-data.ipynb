{
 "cells": [
  {
   "cell_type": "markdown",
   "metadata": {},
   "source": [
    "![Callysto.ca Banner](https://github.com/callysto/curriculum-notebooks/blob/master/callysto-notebook-banner-top.jpg?raw=true)\n",
    "\n",
    "<a href=\"https://hub.callysto.ca/jupyter/hub/user-redirect/git-pull?repo=https%3A%2F%2Fgithub.com%2Fcallysto%2Fhackathon&branch=master&subPath=ColonizingMars/AccessingData/earth-climate-data.ipynb&depth=1\" target=\"_parent\"><img src=\"https://raw.githubusercontent.com/callysto/curriculum-notebooks/master/open-in-callysto-button.svg?sanitize=true\" width=\"123\" height=\"24\" alt=\"Open in Callysto\"/></a>"
   ]
  },
  {
   "cell_type": "markdown",
   "metadata": {},
   "source": [
    "# Climate Data\n",
    "\n",
    "You can get temperature data for 1901 to 2020 from [Climate Change Knowledge Portal](https://climateknowledgeportal.worldbank.org/download-data) and it will be available as you run through the notebook."
   ]
  },
  {
   "cell_type": "code",
   "execution_count": null,
   "metadata": {},
   "outputs": [],
   "source": [
    "import pandas as pd \n",
    "import requests\n",
    "import io\n",
    "from tqdm.notebook import tnrange \n",
    "from time import sleep"
   ]
  },
  {
   "cell_type": "code",
   "execution_count": null,
   "metadata": {},
   "outputs": [],
   "source": [
    "empty_df = {\"Country\":[],\n",
    "     \"Year\":[],\n",
    "     \"Jan\":[], \"Feb\":[], \"Mar\":[], \"Apr\":[], \"May\":[], \"Jun\":[], \"Jul\":[], \"Aug\":[],\n",
    "     \"Sep\":[], \"Oct\":[], \"Nov\":[], \"Dec\":[]}\n",
    "df = pd.DataFrame.from_dict(empty_df).reset_index()\n",
    "\n",
    "html = pd.read_html('https://www.iban.com/country-codes')\n",
    "countries = html[0]['Alpha-3 code'].tolist()\n",
    "countries\n",
    "\n",
    "def climate_by_country(countries, variable):\n",
    "    for country in countries:\n",
    "        url = \"https://climateknowledgeportal.worldbank.org/cru/cru/timeseries/\" + variable + \"/monthly/climatology/historical/country/\" + str(country)\n",
    "        r = requests.get(url).content\n",
    "        country_df = pd.read_csv(io.StringIO(r.decode('utf-8')), skiprows=2, on_bad_lines=\"skip\").rename(columns={\"Unnamed: 0\": \"Year\"})\n",
    "        country_df.insert(0, \"Country\", str(country))\n",
    "        global df\n",
    "        df = pd.concat([df, country_df], ignore_index=True)\n",
    "        \n",
    "        for i in tnrange(100, desc='Downloading data for ' + country):\n",
    "            startRow = 1 + i*100\n",
    "            sleep(0.01)\n",
    "        \n",
    "    return df\n",
    "\n",
    "df_temperature = climate_by_country(countries, \"tas\").drop([\"index\", \"(function(config){\"], axis=1)\n",
    "df_temperature"
   ]
  },
  {
   "cell_type": "code",
   "execution_count": null,
   "metadata": {},
   "outputs": [],
   "source": [
    "climate_data_url = 'https://climate.nasa.gov/system/internal_resources/details/original/647_Global_Temperature_Data_File.txt'\n",
    "\n",
    "import pandas as pd\n",
    "global_temperature_df = pd.read_csv(climate_data_url, sep='\\s+', skiprows=[0, 1, 2, 4])\n",
    "global_temperature_df.rename(columns={'No_Smoothing':'Annual Mean', 'Lowess(5)':'Lowess Smoothing'}, inplace=True)\n",
    "global_temperature_df"
   ]
  },
  {
   "cell_type": "markdown",
   "metadata": {},
   "source": [
    "[![Callysto.ca License](https://github.com/callysto/curriculum-notebooks/blob/master/callysto-notebook-banner-bottom.jpg?raw=true)](https://github.com/callysto/curriculum-notebooks/blob/master/LICENSE.md)"
   ]
  }
 ],
 "metadata": {
  "kernelspec": {
   "display_name": "Python 3 (ipykernel)",
   "language": "python",
   "name": "python3"
  },
  "language_info": {
   "codemirror_mode": {
    "name": "ipython",
    "version": 3
   },
   "file_extension": ".py",
   "mimetype": "text/x-python",
   "name": "python",
   "nbconvert_exporter": "python",
   "pygments_lexer": "ipython3",
   "version": "3.9.12"
  }
 },
 "nbformat": 4,
 "nbformat_minor": 4
}
