{
 "cells": [
  {
   "cell_type": "markdown",
   "metadata": {},
   "source": [
    "![Callysto.ca Banner](https://github.com/callysto/curriculum-notebooks/blob/master/callysto-notebook-banner-top.jpg?raw=true)\n",
    "\n",
    "<a href=\"https://hub.callysto.ca/jupyter/hub/user-redirect/git-pull?repo=https%3A%2F%2Fgithub.com%2Fcallysto%2Fhackathon&branch=master&subPath=ColonizingMars/AccessingData/earth-climate-data.ipynb&depth=1\" target=\"_parent\"><img src=\"https://raw.githubusercontent.com/callysto/curriculum-notebooks/master/open-in-callysto-button.svg?sanitize=true\" width=\"123\" height=\"24\" alt=\"Open in Callysto\"/></a>"
   ]
  },
  {
   "cell_type": "markdown",
   "metadata": {},
   "source": [
    "# Climate Data\n",
    "\n",
    "You can get temperature data for 1901 to 2020 from [Climate Change Knowledge Portal](https://climateknowledgeportal.worldbank.org/download-data) and is available on [Callysto repository](https://github.com/callysto/hackathon/blob/june28-fix/ColonizingMars/AccessingData/data/df_temperature.csv) as a preprocessed CSV file. "
   ]
  },
  {
   "cell_type": "code",
   "execution_count": null,
   "metadata": {},
   "outputs": [],
   "source": [
    "import pandas as pd\n",
    "df_temperature = pd.read_csv(\"https://raw.githubusercontent.com/callysto/hackathon/june28-fix/ColonizingMars/AccessingData/data/df_temperature.csv\").drop([\"Unnamed: 0\"], axis=1)\n",
    "df_temperature"
   ]
  },
  {
   "cell_type": "markdown",
   "metadata": {},
   "source": [
    "If you would like to work from raw data, use the cell below. It will take a few minutes to run."
   ]
  },
  {
   "cell_type": "code",
   "execution_count": null,
   "metadata": {},
   "outputs": [],
   "source": [
    "import requests\n",
    "import io\n",
    "\n",
    "df = pd.DataFrame(columns=[\"Country\", \"Year\", \"Jan\", \"Feb\", \"Mar\", \"Apr\", \"May\", \"Jun\", \"Jul\", \"Aug\", \"Sep\", \"Oct\", \"Nov\", \"Dec\"])\n",
    "\n",
    "html = pd.read_html(\"https://www.iban.com/country-codes\")\n",
    "countries = html[0]['Alpha-3 code'].tolist()\n",
    "\n",
    "variable = \"tas\"\n",
    "for country in countries:\n",
    "        url = \"https://climateknowledgeportal.worldbank.org/cru/cru/timeseries/\" + variable + \"/monthly/climatology/historical/country/\" + str(country)\n",
    "        r = requests.get(url).content\n",
    "        country_df = pd.read_csv(io.StringIO(r.decode('utf-8')), skiprows=2, on_bad_lines=\"skip\").rename(columns={\"Unnamed: 0\": \"Year\"})\n",
    "        country_df.insert(0, \"Country\", str(country))\n",
    "        df = pd.concat([df, country_df], ignore_index=True)\n",
    "df"
   ]
  },
  {
   "cell_type": "markdown",
   "metadata": {},
   "source": [
    "You can also use the [NASA Global Climate Change](https://climate.nasa.gov) dataset."
   ]
  },
  {
   "cell_type": "code",
   "execution_count": null,
   "metadata": {},
   "outputs": [],
   "source": [
    "climate_data_url = 'https://climate.nasa.gov/system/internal_resources/details/original/647_Global_Temperature_Data_File.txt'\n",
    "\n",
    "import pandas as pd\n",
    "global_temperature_df = pd.read_csv(climate_data_url, sep='\\s+', skiprows=[0, 1, 2, 4])\n",
    "global_temperature_df.rename(columns={'No_Smoothing':'Annual Mean', 'Lowess(5)':'Lowess Smoothing'}, inplace=True)\n",
    "global_temperature_df"
   ]
  },
  {
   "cell_type": "markdown",
   "metadata": {},
   "source": [
    "[![Callysto.ca License](https://github.com/callysto/curriculum-notebooks/blob/master/callysto-notebook-banner-bottom.jpg?raw=true)](https://github.com/callysto/curriculum-notebooks/blob/master/LICENSE.md)"
   ]
  }
 ],
 "metadata": {
  "kernelspec": {
   "display_name": "Python 3.10.1 64-bit",
   "language": "python",
   "name": "python3"
  },
  "language_info": {
   "codemirror_mode": {
    "name": "ipython",
    "version": 3
   },
   "file_extension": ".py",
   "mimetype": "text/x-python",
   "name": "python",
   "nbconvert_exporter": "python",
   "pygments_lexer": "ipython3",
   "version": "3.10.1"
  },
  "vscode": {
   "interpreter": {
    "hash": "d1ca6d17674200220921376aaeb3d36cffe15ecab2470a9a5e7a456cdbf61425"
   }
  }
 },
 "nbformat": 4,
 "nbformat_minor": 4
}
