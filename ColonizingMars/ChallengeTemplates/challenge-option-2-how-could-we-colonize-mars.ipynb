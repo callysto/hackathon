{
 "cells": [
  {
   "cell_type": "markdown",
   "metadata": {},
   "source": [
    "![Callysto.ca Banner](https://github.com/callysto/curriculum-notebooks/blob/master/callysto-notebook-banner-top.jpg?raw=true)\n",
    "\n",
    "<a href=\"https://hub.callysto.ca/jupyter/hub/user-redirect/git-pull?repo=https%3A%2F%2Fgithub.com%2Fcallysto%2Fhackathon&branch=master&subPath=ColonizingMars/ChallengeTemplates/challenge-option-2-how-could-we-colonize-mars.ipynb&depth=1\" target=\"_parent\"><img src=\"https://raw.githubusercontent.com/callysto/curriculum-notebooks/master/open-in-callysto-button.svg?sanitize=true\" width=\"123\" height=\"24\" alt=\"Open in Callysto\"/></a>"
   ]
  },
  {
   "cell_type": "markdown",
   "metadata": {},
   "source": [
    "# Data Scientist Challenge: How could we colonize Mars?\n",
    "\n",
    "Use this notebook if you are interested in proposing ways to colonize Mars.\n",
    "\n",
    "## How\n",
    "\n",
    "Use data to answer questions such as:\n",
    "\n",
    "1. How do we decide who will go?\n",
    "        population proportions, demographics, health, qualifications, genetic diversity\n",
    "\n",
    "2. What do we need to bring?\n",
    "\n",
    "3. What are some essential services?\n",
    "\n",
    "4. What kinds of jobs should people do?\n",
    "\n",
    "5. How do we feed people there?\n",
    "        Consider: supply, manage, distribute, connect\n",
    "\n",
    "6. Where should we land?\n",
    "\n",
    "7. What structures should we design and build?\n",
    "\n",
    "8. Should we terraform Mars? How?\n",
    "\n",
    "9. How should Mars be governed?\n",
    "\n",
    "Pick as many questions from the above section (or come up with your own). Complete the sections within this notebook. "
   ]
  },
  {
   "cell_type": "markdown",
   "metadata": {},
   "source": [
    "### Section I: About You\n",
    "\n",
    "Double click this cell and tell us:\n",
    "\n",
    "1. Your name\n",
    "2. Your email address\n",
    "3. Why you picked this challenge\n",
    "4. The questions you picked\n",
    "\n",
    "For example\n",
    "\n",
    "    1. Your name: Not-my Name\n",
    "    2. Your email address: not_my_real_address@domain.com\n",
    "    3. Why you picked this challenge: I don't think we should attempt to colonize Mars\n",
    "    4. The questions you picked: Why does humanity tend to colonize? Why not focus on making Earth a better place? "
   ]
  },
  {
   "cell_type": "markdown",
   "metadata": {},
   "source": [
    "### Section II: The data you used\n",
    "\n",
    "Please provide the following information:\n",
    "\n",
    "1. Name of dataset\n",
    "2. Link to dataset\n",
    "3. Why you picked the dataset\n",
    "\n",
    "If you picked multiple datasets, separate them using commas \",\""
   ]
  },
  {
   "cell_type": "code",
   "execution_count": null,
   "metadata": {},
   "outputs": [],
   "source": [
    "# Use this cell to import libraries\n",
    "import pandas as pd\n",
    "import plotly_express as px\n",
    "import numpy as np"
   ]
  },
  {
   "cell_type": "code",
   "execution_count": null,
   "metadata": {},
   "outputs": [],
   "source": [
    "# Use this cell to read the data - use the tutorials if you are not sure how to do this"
   ]
  },
  {
   "cell_type": "markdown",
   "metadata": {},
   "source": [
    "### Section III: Data Analysis and Visualization\n",
    "\n",
    "Use as many code cells as you need - remember to add a title, as well as appropriate x and y labels to your visualizations. \n",
    "\n",
    "Ensure to briefly comment on what you see. \n",
    "\n",
    "A sample is provided."
   ]
  },
  {
   "cell_type": "code",
   "execution_count": null,
   "metadata": {},
   "outputs": [],
   "source": [
    "# Sample code\n",
    "x_values = np.array([i for i in range(-200,200)])\n",
    "y_values = x_values**3\n",
    "px.line(x=x_values, \n",
    "        y=y_values, \n",
    "        title=\"Line plot of x and y values\",\n",
    "       labels = {'x':'Independent Variable x','y':'Dependent Variable y'})"
   ]
  },
  {
   "cell_type": "markdown",
   "metadata": {},
   "source": [
    "#### Observations\n",
    "We see that the dependent variable y increases exponentially. Indeed, when the independent variable x = 10, then the dependent variable y = 1000, when the independent variable x = 100, then y = 1'000,000.\n",
    "\n",
    "It appears the relationship between the two variables is as follows:\n",
    "\n",
    "$$y = x^3$$"
   ]
  },
  {
   "cell_type": "markdown",
   "metadata": {},
   "source": [
    "### Section IV: Conclusion\n",
    "\n",
    "It is crucial that you connect what you learned via the dataset to the main question(s) you are asking. \n",
    "\n",
    "Use this space to propose a solution to the question you picked. Ensure it is clear in your answer what area of development you chose to focus on and your proposed solution based on the dataset(s) you worked on. \n"
   ]
  },
  {
   "cell_type": "markdown",
   "metadata": {},
   "source": [
    "[![Callysto.ca License](https://github.com/callysto/curriculum-notebooks/blob/master/callysto-notebook-banner-bottom.jpg?raw=true)](https://github.com/callysto/curriculum-notebooks/blob/master/LICENSE.md)"
   ]
  }
 ],
 "metadata": {
  "kernelspec": {
   "display_name": "Python 3",
   "language": "python",
   "name": "python3"
  },
  "language_info": {
   "codemirror_mode": {
    "name": "ipython",
    "version": 3
   },
   "file_extension": ".py",
   "mimetype": "text/x-python",
   "name": "python",
   "nbconvert_exporter": "python",
   "pygments_lexer": "ipython3",
   "version": "3.7.4"
  }
 },
 "nbformat": 4,
 "nbformat_minor": 4
}
