{
 "cells": [
  {
   "cell_type": "markdown",
   "metadata": {},
   "source": [
    "![Callysto.ca Banner](https://github.com/callysto/curriculum-notebooks/blob/master/callysto-notebook-banner-top.jpg?raw=true)\n",
    "\n",
    "<a href=\"https://hub.callysto.ca/jupyter/hub/user-redirect/git-pull?repo=https%3A%2F%2Fgithub.com%2Fcallysto%2Fhackathon&branch=master&subPath=ColonizingMars/Tutorials/pandas-dataframes.ipynb&depth=1\" target=\"_parent\"><img src=\"https://raw.githubusercontent.com/callysto/curriculum-notebooks/master/open-in-callysto-button.svg?sanitize=true\" width=\"123\" height=\"24\" alt=\"Open in Callysto\"/></a>"
   ]
  },
  {
   "cell_type": "markdown",
   "metadata": {},
   "source": [
    "# pandas DataFrames\n",
    "\n",
    "[pandas](https://pandas.pydata.org/) is a data analysis and manipulation tool."
   ]
  },
  {
   "cell_type": "markdown",
   "metadata": {},
   "source": [
    "## Pandas Cheatsheet\n",
    "\n",
    "```python\n",
    "import pandas as pd\n",
    "```\n",
    "\n",
    "### Creating a DataFrame\n",
    "\n",
    "#### from online data\n",
    "```python\n",
    "df = pd.read_csv(csv_url) # , skiprows=2 if necessary\n",
    "df = pd.read_excel(excel_url, 'Sheet Name')\n",
    "df = pd.read_json(json_url_or_string)\n",
    "df = pd.read_html(page_url)\n",
    "```\n",
    "\n",
    "#### from input or loop data\n",
    "```python\n",
    "df = pd.DataFrame(columns=['Column 1', 'Column 2'])\n",
    "for thing in list_of_things:\n",
    "    df = df.append({'Column 1':thing, 'Column 2':'other thing'}, ignore_index=True)\n",
    "df['New Column'] = df['Column 1']*df['Column 2'] # create a new column from existing one(s)\n",
    "```\n",
    "\n",
    "### Displaying Data\n",
    "```python\n",
    "df.head(n) # n is number of rows, default is 5\n",
    "df.tail(n)\n",
    "df.shape\n",
    "df.columns\n",
    "```\n",
    "\n",
    "### Sorting Data\n",
    "```python\n",
    "df.sort_values('Column 1', ascending=False) # default is ascending=True, axis=1 to sort columns\n",
    "df.sort_index()\n",
    "```\n",
    "\n",
    "### Selecting Data\n",
    "```python\n",
    "df['Column 1']\n",
    "df[1:]\n",
    "df.loc[[0],['Column 1']]\n",
    "df.iloc[[0, 7]] # select rows with given index values\n",
    "df[df['Column 1']=='some value']\n",
    "df[df['Column 1'].isin(['some value', 'other value'])]\n",
    "df[df['Column 1'].between(5, 10)]\n",
    "df[(df['Column 1']=='some value') & (df['Column 2']>3)] # use | for \"or\"\n",
    "```\n",
    "\n",
    "### Summarizing Data\n",
    "```python\n",
    "df.describe()\n",
    "df.sum()\n",
    "df['Column 1'].sum()\n",
    "df.min()\n",
    "df.max()\n",
    "df.mean()\n",
    "df.median()\n",
    "df['Column 1'].unique()\n",
    "df.count() # axis=1 for count by columns, numeric_only=True for just numbers\n",
    "df.corr() # correlation coefficients\n",
    "df.std() # standard deviation\n",
    "df.groupby('Column 2')\n",
    "df.agg(['min', 'max'])\n",
    "```\n",
    "\n",
    "### Cleaning Data\n",
    "```python\n",
    "df2 = df.dropna() # drop any \"not available\" data\n",
    "df.dropna(axis=0, inplace=True) # drop rows, can also how='any' or how='all'\n",
    "df2 = df.dropna(axis=1) # drop columns, create a new dataframe\n",
    "df2 = df.fillna(value=0)\n",
    "df['Column 1'].fillna(value=0, inplace=True)\n",
    "df.drop(df.index[[2, 7]], inplace=True)\n",
    "df.drop(columns=['Column 1', 'Column 3'], inplace=True)\n",
    "```\n",
    "\n",
    "### Transforming Data\n",
    "```python\n",
    "df.T # transpose rows and columns\n",
    "df.set_index('Column 1')\n",
    "df.rename(columns={'Column 1':'New Column Name'}, inplace=True)\n",
    "df.columns = ['New Column Name', 'Other New Column Name']\n",
    "df.replace('previous value','new value',regex=True,inplace=True)\n",
    "```\n",
    "\n",
    "### Merging Data\n",
    "```python\n",
    "df.append(df2) # add rows, make sure column names are the same\n",
    "new_df = pd.merge(df, df2, on='Column 1') # default on=index\n",
    "new_df = df.join(other_df)\n",
    "new_df = pd.concat([df, df2], axis=1) # add columns, make sure row names or indexes are the same\n",
    "```"
   ]
  },
  {
   "cell_type": "code",
   "execution_count": null,
   "metadata": {},
   "outputs": [],
   "source": [
    "import pandas as pd\n",
    "df = pd.read_csv('./pets_from_bootstrap_world.csv')\n",
    "df"
   ]
  },
  {
   "cell_type": "code",
   "execution_count": null,
   "metadata": {},
   "outputs": [],
   "source": [
    "df.describe()"
   ]
  },
  {
   "cell_type": "markdown",
   "metadata": {},
   "source": [
    "[![Callysto.ca License](https://github.com/callysto/curriculum-notebooks/blob/master/callysto-notebook-banner-bottom.jpg?raw=true)](https://github.com/callysto/curriculum-notebooks/blob/master/LICENSE.md)"
   ]
  }
 ],
 "metadata": {
  "kernelspec": {
   "display_name": "Python 3",
   "language": "python",
   "name": "python3"
  },
  "language_info": {
   "codemirror_mode": {
    "name": "ipython",
    "version": 3
   },
   "file_extension": ".py",
   "mimetype": "text/x-python",
   "name": "python",
   "nbconvert_exporter": "python",
   "pygments_lexer": "ipython3",
   "version": "3.7.6"
  }
 },
 "nbformat": 4,
 "nbformat_minor": 4
}
