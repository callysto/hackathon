{
 "cells": [
  {
   "cell_type": "markdown",
   "metadata": {},
   "source": [
    "# Adding \"Open In Callysto\" Buttons to notebooks"
   ]
  },
  {
   "cell_type": "code",
   "execution_count": null,
   "metadata": {},
   "outputs": [],
   "source": [
    "import os\n",
    "import json\n",
    "import pandas as pd\n",
    "\n",
    "def button_code_generator(notebook_path, notebook_filename):\n",
    "    #notebook_path = notebook_path.strip('./')#.replace('./','',1)\n",
    "    notebook_path = 'ColonizingMars/'\n",
    "    notebook_filename = notebook_filename.strip('./')\n",
    "    button_image = 'https://raw.githubusercontent.com/callysto/curriculum-notebooks/master/open-in-callysto-button.svg?sanitize=true'\n",
    "    repo_path = 'https%3A%2F%2Fgithub.com%2Fcallysto%2Fhackathon&branch=master'\n",
    "    a = '<a href=\"https://hub.callysto.ca/jupyter/hub/user-redirect/git-pull?repo='\n",
    "    size_etc = '\" width=\"123\" height=\"24\" alt=\"Open in Callysto\"/></a>'\n",
    "    button_code = a+repo_path+'&subPath='+notebook_path+notebook_filename+'&depth=1\" target=\"_parent\"><img src=\"'+button_image+size_etc\n",
    "    return button_code\n",
    "\n",
    "def replace_first_cell(notebook_name_and_path, first_cell_code):\n",
    "    original_file = open(notebook_name_and_path, 'r')\n",
    "    notebook_contents = json.load(original_file)\n",
    "    original_file.close()\n",
    "    del notebook_contents['cells'][0]\n",
    "    notebook_contents['cells'].insert(0, first_cell_code)\n",
    "    with open(notebook_name_and_path, 'w') as notebook_file:\n",
    "        json.dump(notebook_contents, notebook_file)"
   ]
  },
  {
   "cell_type": "markdown",
   "metadata": {},
   "source": [
    "## Create Notebooks DataFrame"
   ]
  },
  {
   "cell_type": "code",
   "execution_count": null,
   "metadata": {},
   "outputs": [],
   "source": [
    "df = pd.DataFrame(columns=['Notebook', 'Button Code'])\n",
    "for root, dirs, files in os.walk(\".\"):\n",
    "    for filename in files:\n",
    "        if filename.endswith('.ipynb'):\n",
    "            if not 'checkpoint' in filename:\n",
    "                notebook_name_and_path = os.path.join(root, filename)\n",
    "                button_code = button_code_generator(root, filename)\n",
    "                df = df.append({'Notebook':notebook_name_and_path, 'Button Code':button_code}, ignore_index=True)\n",
    "df"
   ]
  },
  {
   "cell_type": "code",
   "execution_count": null,
   "metadata": {},
   "outputs": [],
   "source": [
    "df['Button Code'][3]"
   ]
  },
  {
   "cell_type": "markdown",
   "metadata": {},
   "source": [
    "## Iterate through the DataFrame\n",
    "\n",
    "Replace the first cell in each notebook with the banner and button."
   ]
  },
  {
   "cell_type": "code",
   "execution_count": null,
   "metadata": {},
   "outputs": [],
   "source": [
    "for i, row in df.iterrows():\n",
    "    notebook_name_and_path = row['Notebook']\n",
    "    banner_code = '![Callysto.ca Banner](https://github.com/callysto/curriculum-notebooks/blob/master/callysto-notebook-banner-top.jpg?raw=true)'\n",
    "    first_cell_code = {'cell_type': 'markdown', 'metadata': {}, 'source': [banner_code, '\\n', '\\n', row['Button Code']]}\n",
    "    if notebook_name_and_path != './add-open-in-callysto-button.ipynb':\n",
    "        replace_first_cell(notebook_name_and_path, first_cell_code)"
   ]
  },
  {
   "cell_type": "markdown",
   "metadata": {},
   "source": [
    "## Check our Work"
   ]
  },
  {
   "cell_type": "code",
   "execution_count": null,
   "metadata": {},
   "outputs": [],
   "source": [
    "df2 = pd.DataFrame(columns=['Name','First Cell'])\n",
    "for root, dirs, files in os.walk(\".\"):\n",
    "    for filename in files:\n",
    "        if filename.endswith('.ipynb'):\n",
    "            if not 'checkpoint' in filename:\n",
    "                notebook_name = filename[:-6]\n",
    "                notebook_name_and_path = os.path.join(root, filename)\n",
    "                notebook = json.load(open(notebook_name_and_path))\n",
    "                first_cell = notebook['cells'][0]['source']#[0]]\n",
    "                button_code = button_code_generator(root, filename)\n",
    "                df2 = df2.append({'Name':notebook_name,'First Cell':first_cell}, ignore_index=True)\n",
    "for i, row in df2.iterrows():\n",
    "    print(i, row['Name'])\n",
    "    print(row['First Cell'])\n",
    "    print('')"
   ]
  }
 ],
 "metadata": {
  "kernelspec": {
   "display_name": "Python 3",
   "language": "python",
   "name": "python3"
  },
  "language_info": {
   "codemirror_mode": {
    "name": "ipython",
    "version": 3
   },
   "file_extension": ".py",
   "mimetype": "text/x-python",
   "name": "python",
   "nbconvert_exporter": "python",
   "pygments_lexer": "ipython3",
   "version": "3.7.6"
  }
 },
 "nbformat": 4,
 "nbformat_minor": 4
}
