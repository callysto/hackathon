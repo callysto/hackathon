{
 "cells": [
  {
   "cell_type": "markdown",
   "metadata": {},
   "source": [
    "![Callysto.ca Banner](https://github.com/callysto/curriculum-notebooks/blob/master/callysto-notebook-banner-top.jpg?raw=true)"
   ]
  },
  {
   "cell_type": "markdown",
   "metadata": {},
   "source": [
    "# Countries - Becoming a Global Citizen!\n",
    "\n",
    "**Submitted by: A, B, C, D**\n",
    "\n",
    "<table><tr>\n",
    "<td> <img src=\"data/map.png\" alt=\"World Map\" style=\"width: 550px;\"/> </td>\n",
    "<td> <img src=\"data/globe.jpeg\" alt=\"Globe\" style=\"width: 420px;\"/> </td>\n",
    "</tr></table>\n",
    "\n",
    "The world is a big place with over [7.7 billion](https://www.worldometers.info/) people distibuted in over [193](https://www.worldometers.info/geography/how-many-countries-are-there-in-the-world/) nations. It's not hard to imagine that there are many similarities and differences between people and nations from across the globe with respect to cultural, environmental, political, or economic systems. One way to get to know and engage our global neighbours better is through data. In this hackathon notebook you will play with some global datasets that will hopefully encourage you to become a better global citizen. Happy hacking!"
   ]
  },
  {
   "cell_type": "markdown",
   "metadata": {},
   "source": [
    "## Getting ready\n",
    "\n",
    "This section sets up many things behind the scenes which are required for the rest of this notebook. Most of the code blocks in this section are *ready-to-run* so you won't have to do any modifications. You don't need to know everything about various tasks being accomplished by the code cell in this section to complete the challenges. However feel free to ask mentors about anything that makes you curious."
   ]
  },
  {
   "cell_type": "markdown",
   "metadata": {},
   "source": [
    "### 1. Install/Import libraries\n",
    "\n",
    "Run the cell below to download and install required Python libraries. It may take few minutes to complete the execution of the cell."
   ]
  },
  {
   "cell_type": "code",
   "execution_count": null,
   "metadata": {},
   "outputs": [],
   "source": [
    "# load libraries\n",
    "import pandas as pd\n",
    "import IPython\n",
    "from plotly.offline import init_notebook_mode\n",
    "\n",
    "#to enable plotting in Colab\n",
    "def enable_plotly_in_cell():\n",
    "    display(IPython.core.display.HTML('''<script src=\"/static/components/requirejs/require.js\"></script>'''))\n",
    "    init_notebook_mode(connected=False)\n",
    "get_ipython().events.register('pre_run_cell', enable_plotly_in_cell)"
   ]
  },
  {
   "cell_type": "markdown",
   "metadata": {},
   "source": [
    "### 2. Import data and create a dataframe\n",
    "\n",
    "This dataset was created by the [Bootstrap](https://www.bootstrapworld.org/index.shtml) program based out of Brown University and can be downloaded from  [here](https://docs.google.com/spreadsheets/d/19VoYxPw0tmuSViN1qFIkyUoepjNSRsuQCe0TZZDmrZs/edit#gid=213565368).\n",
    "\n",
    "The data were aggregated from the following sources:\n",
    " - The World Factbook:\n",
    "  - [GDP (PPP)](https://www.cia.gov/library/publications/the-world-factbook/rankorder/2001rank.html)\n",
    "  - [Life expectancy at birth](https://www.cia.gov/library/publications/the-world-factbook/fields/355rank.html)\n",
    "  - [Population](https://www.cia.gov/library/publications/the-world-factbook/fields/335rank.html) \n",
    "\n",
    "- Wikipedia: \n",
    " - [Universal Health Care](https://en.wikipedia.org/wiki/List_of_countries_with_universal_health_care)\n",
    "\n",
    "Some countries/territories/regions were omitted from the dataset due to incomplete data.\n",
    "\n",
    "For this hackathon the dataset is stored in cloud storage so we can import it into this notebook. Executing cells below will also create a dataframe and make you aware of some interesting facts about the dataset.   "
   ]
  },
  {
   "cell_type": "code",
   "execution_count": null,
   "metadata": {},
   "outputs": [],
   "source": [
    "#reading from cloud object storage\n",
    "target_url=\"https://swift-yeg.cloud.cybera.ca:8080/v1/AUTH_d22d1e3f28be45209ba8f660295c84cf/hackaton/countries2.csv\""
   ]
  },
  {
   "cell_type": "code",
   "execution_count": null,
   "metadata": {},
   "outputs": [],
   "source": [
    "#reading the input file and creating dataframe\n",
    "countries = pd.read_csv(target_url) "
   ]
  },
  {
   "cell_type": "code",
   "execution_count": null,
   "metadata": {},
   "outputs": [],
   "source": [
    "#how many rows and colums does the dataframe have?\n",
    "countries.shape"
   ]
  },
  {
   "cell_type": "markdown",
   "metadata": {},
   "source": [
    "How many rows are in this dataset (also known as a dataframe)?\n",
    "\n",
    "* Would you consider this a **big** dataset?"
   ]
  },
  {
   "cell_type": "code",
   "execution_count": null,
   "metadata": {},
   "outputs": [],
   "source": [
    "#what are the column names?\n",
    "countries.columns"
   ]
  },
  {
   "cell_type": "markdown",
   "metadata": {},
   "source": [
    "Now you know which columns are there in the dataset, but what do those columns refer to? Here is the description for some of the columns:\n",
    "\n",
    "* **life-expectancy (yrs)** -  the average number of years to be lived by a group of people born in the same year, if mortality at each age remains constant in the future. Life expectancy at birth is also a measure of overall quality of life in a country and summarizes the mortality at all ages.\n",
    "\n",
    "* **gdp (\\$US)**  - the sum value of all goods and services produced in the country valued at prices prevailing in the United States.\n",
    "\n",
    "* **population** - population of the country.\n",
    "\n",
    "* **has-univ-healthcare** - Universal health coverage is a broad concept that has been implemented in several ways. The common denominator for all such programs is some form of government action aimed at extending access to health care as widely as possible and setting minimum standards.\n",
    "\n",
    "* **code** - Country code"
   ]
  },
  {
   "cell_type": "code",
   "execution_count": null,
   "metadata": {},
   "outputs": [],
   "source": [
    "#display first 5 rows to explore what the data look like\n",
    "countries.head()"
   ]
  },
  {
   "cell_type": "code",
   "execution_count": null,
   "metadata": {
    "scrolled": true
   },
   "outputs": [],
   "source": [
    "#let's create another column - GDP per person\n",
    "countries['gdp ($US) per person'] = countries['gdp ($US)']/countries[\"population\"]\n",
    "countries.head()"
   ]
  },
  {
   "cell_type": "markdown",
   "metadata": {},
   "source": [
    "Now everything is set up for crunching the **countries** dataframe. Your group can go through the rest of the notebook and work on challenges.\n",
    "\n",
    "**While working on the challenges, feel free to add new code/markdown cells as needed.**"
   ]
  },
  {
   "cell_type": "markdown",
   "metadata": {},
   "source": [
    "## Part A: Exploring country data"
   ]
  },
  {
   "cell_type": "markdown",
   "metadata": {},
   "source": [
    "We can  plot a map of all the countries we have in our dataframe using the `px.choropleth()`  function. Lets try creating a map and coloring countries differently depending on life expectancy. \n",
    "\n",
    "Look closely at the map and try hovering over different countries. Which country has the highest life expectancy? "
   ]
  },
  {
   "cell_type": "code",
   "execution_count": null,
   "metadata": {},
   "outputs": [],
   "source": [
    "#library should be installed already, if not then uncomment the next line and run this cell\n",
    "#!pip install plotly_express"
   ]
  },
  {
   "cell_type": "code",
   "execution_count": null,
   "metadata": {},
   "outputs": [],
   "source": [
    "import plotly.express as px"
   ]
  },
  {
   "cell_type": "code",
   "execution_count": null,
   "metadata": {
    "scrolled": true
   },
   "outputs": [],
   "source": [
    "fig = px.choropleth(countries, locations=\"code\",\n",
    "                    color=\"life-expectancy (yrs)\", #coloring by life-expectancy\n",
    "                    hover_name=\"country\") #country name will appear when you hover your mouse over it\n",
    "fig.show()"
   ]
  },
  {
   "cell_type": "markdown",
   "metadata": {},
   "source": [
    "### Challenges:\n",
    "\n",
    "Ok you probably spent a bunch of time hovering over different countries to see which one had the largest value for life expectancy. Let's see if we can use our **countries** dataframe to verify the result of our hovering. Don't worry we'll get back to mapping shortly :)\n",
    "\n",
    "* Using your **countries** dataframe, which country has the highest life expectancy and what is the exact number? HINT, remember your python and dataframes tutorial. \n",
    "> `countries.sort_values(\"my favourite column\", ascending=False)`\n",
    "* Which country has the lowest life expectancy and what is the exact number?\n",
    "* What is the exact life expectancy for people in China? HINT, this is how you could do this for Japan\n",
    "> `countries[countries[\"country\"]==\"Japan\"]`\n",
    "* What is the exact life expactancy for people in Canada? How different are the life expectancies in China and Canada?"
   ]
  },
  {
   "cell_type": "markdown",
   "metadata": {},
   "source": [
    "* Ok back to mapping! Using the cells above as an example, can you draw a country map that is coloured by `gdp ($US) per person`?\n",
    "* You have now created two different maps, do they look similar or different? Any ideas as to why they might look similar or different?"
   ]
  },
  {
   "cell_type": "markdown",
   "metadata": {},
   "source": [
    "## Part B: Diving deeper into country data"
   ]
  },
  {
   "cell_type": "markdown",
   "metadata": {},
   "source": [
    "Let us explore the **countries** dataframe even further by finding the top 20 countries with the highest \"gdp per person\" values.   "
   ]
  },
  {
   "cell_type": "code",
   "execution_count": null,
   "metadata": {},
   "outputs": [],
   "source": [
    "#library should be installed already\n",
    "#!pip install cufflinks ipywidgets"
   ]
  },
  {
   "cell_type": "code",
   "execution_count": null,
   "metadata": {},
   "outputs": [],
   "source": [
    "#we are using this library to create plots\n",
    "import cufflinks as cf\n",
    "cf.go_offline()"
   ]
  },
  {
   "cell_type": "code",
   "execution_count": null,
   "metadata": {},
   "outputs": [],
   "source": [
    "#select only two columns - \"gdp ($US) per person\" and \"country\"\n",
    "gdp_person = countries[[\"gdp ($US) per person\",\"country\"]]\n",
    "\n",
    "#order by \"gdp ($US) person\", having highest numbers on top and get top 20\n",
    "gdp_person = gdp_person.sort_values(\"gdp ($US) per person\", ascending = False).head(20)\n",
    "\n",
    "gdp_person"
   ]
  },
  {
   "cell_type": "code",
   "execution_count": null,
   "metadata": {},
   "outputs": [],
   "source": [
    "#plotting top 20 countries, setting index to country - so the bars are marked with country names\n",
    "gdp_person.set_index(\"country\").iplot(kind = \"bar\",  yTitle='GDP (USD) Per Person', xTitle=\"Country\")"
   ]
  },
  {
   "cell_type": "markdown",
   "metadata": {},
   "source": [
    "It looks like some of the countries in the top 20 are quite small, like Luxembourg and Brunei. \n",
    "\n",
    "Let's find out what the population is for these countries."
   ]
  },
  {
   "cell_type": "code",
   "execution_count": null,
   "metadata": {},
   "outputs": [],
   "source": [
    "# creating a new column  - population in thousands \n",
    "countries[\"population_t\"] = countries[\"population\"]/1000"
   ]
  },
  {
   "cell_type": "code",
   "execution_count": null,
   "metadata": {},
   "outputs": [],
   "source": [
    "#this time we select 3 columns - \"gdp ($US) per person\", \"population_t\" and \"country\"\n",
    "gdp_person_pop = countries[[\"gdp ($US) per person\",\"population_t\" ,\"country\"]]\n",
    "\n",
    "#sorting again by \"gdp ($US) per person\"\n",
    "gdp_person_pop = gdp_person_pop.sort_values(\"gdp ($US) per person\", ascending = False).head(20)\n",
    "\n",
    "\n",
    "gdp_person_pop.set_index(\"country\").iplot(kind = \"bar\",yTitle=\"GDP per person, Population (thousands)\",xTitle=\"Country\")"
   ]
  },
  {
   "cell_type": "markdown",
   "metadata": {},
   "source": [
    "We can see that the majority of countries in the top 10 have smaller populations, except the United States whose population is significantly larger than all the others in our list. GDP per person (or per capita) is often used as an indicator of how successful a country is economically. The United States and Germany are examples of countries with large populations that have also have large economies."
   ]
  },
  {
   "cell_type": "markdown",
   "metadata": {},
   "source": [
    "### Challenges \n",
    "\n",
    "* Using the cells above as an example, can you find the top 20 countries with the lowest life expectancy?\n",
    " * Do any of these countries have Universal Health Care?\n",
    "* How many countries in the entire **countries** dataframe have Universal Health Care?"
   ]
  },
  {
   "cell_type": "markdown",
   "metadata": {},
   "source": [
    "## Part C: Exploring data by continent\n",
    "\n",
    "In addition to countries, our dataframe also contains information about continents. There are 7 large landmass regions known as continents including Antarctica. \n",
    "\n",
    "How are countries distributed amongst the continents?"
   ]
  },
  {
   "cell_type": "code",
   "execution_count": null,
   "metadata": {},
   "outputs": [],
   "source": [
    "#unique continents\n",
    "continents = countries[\"continent\"].unique()\n",
    "\n",
    "#how many of them?\n",
    "print(len(continents),\" continents\")\n",
    "\n",
    "continents"
   ]
  },
  {
   "cell_type": "code",
   "execution_count": null,
   "metadata": {},
   "outputs": [],
   "source": [
    "#group by continent and calclulate how many rows/countries\n",
    "counts_by_continent = countries.groupby(\"continent\").size()\n",
    "\n",
    "#Create additional column - count\n",
    "counts_by_continent = counts_by_continent.reset_index(name=\"count\")\n",
    "\n",
    "counts_by_continent"
   ]
  },
  {
   "cell_type": "code",
   "execution_count": null,
   "metadata": {},
   "outputs": [],
   "source": [
    "#using kind = \"pie\" to create a pie chart\n",
    "counts_by_continent.iplot(kind=\"pie\",labels = \"continent\",values = \"count\")"
   ]
  },
  {
   "cell_type": "markdown",
   "metadata": {},
   "source": [
    "It looks like Asia, Africa, and Europe have almost an equal number of countries. \n",
    "\n",
    "What does the continental **population** distribution look like?"
   ]
  },
  {
   "cell_type": "code",
   "execution_count": null,
   "metadata": {},
   "outputs": [],
   "source": [
    "#create a new sum_by_continent dataframe by\n",
    "#grouping by continent and calclulating the sum for every column\n",
    "sum_by_continent = countries.groupby(\"continent\").sum()\n",
    "\n",
    "#convert index(row names) into additional column\n",
    "sum_by_continent = sum_by_continent.reset_index()\n",
    "\n",
    "sum_by_continent"
   ]
  },
  {
   "cell_type": "code",
   "execution_count": null,
   "metadata": {},
   "outputs": [],
   "source": [
    "# we select only one column, population, and create a pie chart\n",
    "sum_by_continent.iplot(kind=\"pie\", values=\"population\",labels=\"continent\")"
   ]
  },
  {
   "cell_type": "markdown",
   "metadata": {},
   "source": [
    "Wow, looks like the majority of the world's population lives in Asia!"
   ]
  },
  {
   "cell_type": "markdown",
   "metadata": {},
   "source": [
    "### Challenges \n",
    "\n",
    "* Using the cell above as an example, can you plot the number of countries by continent that have Universal Health Care?\n",
    " * Which continent has the most countries with Universal Health Care?\n",
    "* Create a **mean_by_continent** dataframe that calculates the average for every column in the **countries** dataframe. HINT, use the `mean()` function.\n",
    "* Using, the **mean_by_continent** dataframe that you created, plot the average life expectancy per continent.\n",
    " * Which continents have the highest and lowest average life expectancy? \n",
    " * What is the difference between the two values?"
   ]
  },
  {
   "cell_type": "markdown",
   "metadata": {},
   "source": [
    "## Summary\n",
    "\n",
    "This notebook analyzes some global datasets and analyzed population, life expectancy, health care, and [GDP](https://en.wikipedia.org/wiki/Gross_domestic_product).\n",
    "\n",
    "Through these hackathon challenges you learned how to analyze a dataset, create visualizations, and develop [*computational thinking*](https://en.wikipedia.org/wiki/Computational_thinking) skills that can be used to solve various problems. Hopefully this also encourages you to become a better global citizen."
   ]
  },
  {
   "cell_type": "markdown",
   "metadata": {},
   "source": [
    "## Hackathon Reflections\n",
    "Write about some or all of the following questions, either individually in separate markdown cells or as a group.\n",
    "- What is something you learned through this process?\n",
    "- How well did your group work together? Why do you think that is?\n",
    "- What were some of the hardest parts?\n",
    "- What are you proud of? What would you like to show others?\n",
    "- Are you curious about anything else related to this? Did anything surprise you?\n",
    "- How can you apply your learning to future activities?"
   ]
  },
  {
   "cell_type": "markdown",
   "metadata": {},
   "source": [
    "[![Callysto.ca License](https://github.com/callysto/curriculum-notebooks/blob/master/callysto-notebook-banner-bottom.jpg?raw=true)](https://github.com/callysto/curriculum-notebooks/blob/master/LICENSE.md)"
   ]
  }
 ],
 "metadata": {
  "kernelspec": {
   "display_name": "Python 3",
   "language": "python",
   "name": "python3"
  },
  "language_info": {
   "codemirror_mode": {
    "name": "ipython",
    "version": 3
   },
   "file_extension": ".py",
   "mimetype": "text/x-python",
   "name": "python",
   "nbconvert_exporter": "python",
   "pygments_lexer": "ipython3",
   "version": "3.7.5"
  },
  "nbTranslate": {
   "displayLangs": [
    "*"
   ],
   "hotkey": "alt-t",
   "langInMainMenu": true,
   "sourceLang": "en",
   "targetLang": "fr",
   "useGoogleTranslate": true
  }
 },
 "nbformat": 4,
 "nbformat_minor": 2
}
