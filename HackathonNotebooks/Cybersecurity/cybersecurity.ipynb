{
 "cells": [
  {
   "cell_type": "markdown",
   "metadata": {},
   "source": [
    "![Callysto.ca Banner](https://github.com/callysto/curriculum-notebooks/blob/master/callysto-notebook-banner-top.jpg?raw=true)\n",
    "\n",
    "<a href=\"https://hub.callysto.ca/jupyter/hub/user-redirect/git-pull?repo=https%3A%2F%2Fgithub.com%2Fcallysto%2Fhackathon&branch=master&urlpath=notebooks/hackathon/HackathonNotebooks/Cybersecurity/cybersecurity.ipynb&depth=1\" target=\"_parent\"><img src=\"https://raw.githubusercontent.com/callysto/curriculum-notebooks/master/open-in-callysto-button.svg?sanitize=true\" width=\"123\" height=\"24\" alt=\"Open in Callysto\"></a>"
   ]
  },
  {
   "cell_type": "markdown",
   "metadata": {},
   "source": [
    "# Cybersecurity Hackathon\n",
    "\n",
    "Data provided by [Splunk](https://www.splunk.com)."
   ]
  },
  {
   "cell_type": "code",
   "execution_count": null,
   "metadata": {},
   "outputs": [],
   "source": [
    "import requests\n",
    "import pandas as pd\n",
    "import gzip\n",
    "import io\n",
    "import json\n",
    "\n",
    "r = requests.get('https://s3.amazonaws.com/botsdataset/botsv1/csv-by-sourcetype/botsv1.stream%3Ahttp.csv.gz')\n",
    "df = pd.read_csv(gzip.GzipFile(fileobj=io.BytesIO(r.content)))\n",
    "#df.to_csv('temp.csv', index=False)\n",
    "df"
   ]
  },
  {
   "cell_type": "code",
   "execution_count": null,
   "metadata": {},
   "outputs": [],
   "source": [
    "# convert the dictionaries in df['_raw'] to columns\n",
    "#df = pd.concat([df.drop(['_raw'], axis=1), df['_raw'].apply(pd.Series)], axis=1)\n",
    "# convert df['_raw'][0] to a dictionary\n",
    "import json\n",
    "columns = []\n",
    "for a_string in range(len(df['_raw'])):\n",
    "    print(a_string)\n",
    "    try:\n",
    "        j = json.loads(df['_raw'][a_string])\n",
    "    except:\n",
    "        j = json.loads(json.dumps(df['_raw'][a_string], ensure_ascii=False))\n",
    "    for key in j.keys():\n",
    "        if key not in columns:\n",
    "            columns.append(key)\n",
    "columns"
   ]
  },
  {
   "cell_type": "code",
   "execution_count": null,
   "metadata": {},
   "outputs": [],
   "source": [
    "df['_raw'][2367].split(':')"
   ]
  },
  {
   "cell_type": "code",
   "execution_count": null,
   "metadata": {},
   "outputs": [],
   "source": [
    "testing = json.dumps(df['_raw'][2367], ensure_ascii=False)\n",
    "testing2 = json.dumps(df['_raw'][2367])\n",
    "json.loads(testing)"
   ]
  },
  {
   "cell_type": "code",
   "execution_count": null,
   "metadata": {},
   "outputs": [],
   "source": [
    "new_dict = {}\n",
    "for i, item in enumerate(df['_raw'][2367].split(',')):\n",
    "    try:\n",
    "        new_dict[item.split(':')[0]] = item.split(':')[1]\n",
    "    except:\n",
    "        print(i, item)\n",
    "    #print(i, item)\n",
    "    #if item.split(':')[0] != 'dest_content':\n",
    "    #    new_dict[item.split(':')[0]] = item.split(':')[1]\n",
    "    #else:\n",
    "    #    print(item)\n",
    "    #new_dict[item.split(':')[0]] = item.split(':')[1]\n",
    "new_dict"
   ]
  },
  {
   "cell_type": "code",
   "execution_count": null,
   "metadata": {},
   "outputs": [],
   "source": [
    "import json\n",
    "def convert_to_dict(a_string):\n",
    "    try:\n",
    "        j = json.loads(a_string)\n",
    "    except:\n",
    "        j = json.loads(json.dumps(a_string, ensure_ascii=False))\n",
    "    return j\n",
    "\n",
    "display(type(df['_raw'][2367]))\n",
    "display(type(convert_to_dict(df['_raw'][2367])))\n",
    "convert_to_dict(df['_raw'][2367])"
   ]
  },
  {
   "cell_type": "code",
   "execution_count": null,
   "metadata": {},
   "outputs": [],
   "source": [
    "import json\n",
    "for n in range(len(df['_raw'])):\n",
    "    try:\n",
    "        json.loads(df['_raw'][n])\n",
    "    except Exception as error:\n",
    "        print(n, df['_raw'][n])\n",
    "        print(error)"
   ]
  },
  {
   "cell_type": "code",
   "execution_count": null,
   "metadata": {},
   "outputs": [],
   "source": [
    "a_dict = json.loads(df['_raw'][0])\n",
    "#display(a_dict)\n",
    "df2 = pd.DataFrame.from_dict(a_dict)\n",
    "df2"
   ]
  },
  {
   "cell_type": "code",
   "execution_count": null,
   "metadata": {},
   "outputs": [],
   "source": [
    "def make_dict(the_string):    \n",
    "    a_dict = {}\n",
    "    split_list = the_string.replace('{','').replace('}','').split('\":')\n",
    "    key = split_list[0].replace('\"','')\n",
    "    for item in split_list[1:]:\n",
    "        item = item.replace('\"','')\n",
    "        split_by_commas = item.split(',')\n",
    "        if len(split_by_commas) > 2:\n",
    "            key = split_by_commas[-1]\n",
    "        else:\n",
    "            value = split_by_commas[0]\n",
    "            a_dict[key] = value\n",
    "        try: # last item in the list\n",
    "            key = split_by_commas[-1]\n",
    "        except:\n",
    "            a_dict[key] = value\n",
    "            print('done')\n",
    "    return a_dict\n",
    "\n",
    "for_new_df = []\n",
    "#for row in df['_raw'].head(5):\n",
    "for row in df['_raw']:\n",
    "    try:\n",
    "        j = json.loads(row)\n",
    "        for_new_df.append(j)\n",
    "    except:\n",
    "        j = make_dict(row)\n",
    "        for_new_df.append(j)\n",
    "    \n",
    "ndf = pd.DataFrame(for_new_df)\n",
    "ndf"
   ]
  },
  {
   "cell_type": "code",
   "execution_count": null,
   "metadata": {},
   "outputs": [],
   "source": [
    "for item in not_working:\n",
    "    if 'coming' in item:\n",
    "        print(item)"
   ]
  },
  {
   "cell_type": "code",
   "execution_count": null,
   "metadata": {},
   "outputs": [],
   "source": [
    "for x in ndf[ndf['endtime']=='2016-08-10T22:19:11.351975Z']:\n",
    "    display(ndf[ndf['endtime']=='2016-08-10T22:19:11.351975Z'][x])"
   ]
  },
  {
   "cell_type": "markdown",
   "metadata": {},
   "source": [
    "# ------"
   ]
  },
  {
   "cell_type": "code",
   "execution_count": null,
   "metadata": {},
   "outputs": [],
   "source": [
    "ndf"
   ]
  },
  {
   "cell_type": "code",
   "execution_count": null,
   "metadata": {},
   "outputs": [],
   "source": [
    "ndf.columns"
   ]
  },
  {
   "cell_type": "code",
   "execution_count": null,
   "metadata": {},
   "outputs": [],
   "source": [
    "for column in ndf.columns:\n",
    "    if 'ip' in column:\n",
    "        print(column)"
   ]
  },
  {
   "cell_type": "code",
   "execution_count": null,
   "metadata": {},
   "outputs": [],
   "source": [
    "# search for batman in each column\n",
    "for column in ndf.columns[10:]:\n",
    "    try:\n",
    "        b = ndf[ndf[column].str.contains('imreallynotbatman')]\n",
    "        if len(b) > 0:\n",
    "            print(column)\n",
    "            display(b)\n",
    "    except:\n",
    "        pass"
   ]
  },
  {
   "cell_type": "markdown",
   "metadata": {},
   "source": [
    "What is the likely IP address of someone from the Po1s0n1vy group scanning imreallynotbatman.com for web application vulnerabilities?"
   ]
  },
  {
   "cell_type": "code",
   "execution_count": null,
   "metadata": {},
   "outputs": [],
   "source": [
    "ndf[ndf['uri'].str.contains('imreallynotbatman')]['c_ip']"
   ]
  },
  {
   "cell_type": "markdown",
   "metadata": {},
   "source": [
    "What company created the web vulnerability scanner used by Po1s0n1vy?"
   ]
  },
  {
   "cell_type": "code",
   "execution_count": null,
   "metadata": {},
   "outputs": [],
   "source": [
    "for row in ndf[(ndf['c_ip'] == '40.80.148.42') & (ndf['src_headers'].str.contains('POST'))]['src_headers']:\n",
    "    print(row)"
   ]
  },
  {
   "cell_type": "markdown",
   "metadata": {},
   "source": [
    "What content management system is imreallynotbatman.com likely using? (Please do not include punctuation such as . , ! ? in your answer. We are looking for alpha characters only.)"
   ]
  },
  {
   "cell_type": "code",
   "execution_count": null,
   "metadata": {},
   "outputs": [],
   "source": [
    "for row in ndf[(ndf['c_ip'] == '40.80.148.42') & (ndf['src_headers'].str.contains('POST'))]['src_headers']:\n",
    "    print(row)"
   ]
  },
  {
   "cell_type": "markdown",
   "metadata": {},
   "source": [
    "What is the name of the file that defaced the imreallynotbatman.com website? Please submit only the name of the file with the extension (For example, “notepad.exe” or “favicon.ico”)."
   ]
  },
  {
   "cell_type": "code",
   "execution_count": null,
   "metadata": {},
   "outputs": [],
   "source": [
    "ndf[ndf['src_ip'] == '40.80.148.42']['dest_ip'].unique()"
   ]
  },
  {
   "cell_type": "code",
   "execution_count": null,
   "metadata": {},
   "outputs": [],
   "source": [
    "for row in ndf[(ndf['c_ip'] == '192.168.250.70')]['uri']:\n",
    "    if 'jpeg' in row:\n",
    "        print(row)\n",
    "print('---')\n",
    "for row in ndf[(ndf['c_ip'] == '192.168.250.70')].itertuples():\n",
    "    if 'jpeg' in row.uri:\n",
    "        print(row.uri)\n",
    "        print(row.site)"
   ]
  },
  {
   "cell_type": "code",
   "execution_count": null,
   "metadata": {},
   "outputs": [],
   "source": [
    "ndf.to_csv('test.csv', index=False)"
   ]
  },
  {
   "cell_type": "code",
   "execution_count": null,
   "metadata": {},
   "outputs": [],
   "source": [
    "ndf.to_pickle('botsv1streamhttp.pkl')"
   ]
  },
  {
   "cell_type": "code",
   "execution_count": null,
   "metadata": {},
   "outputs": [],
   "source": [
    "import os\n",
    "\n",
    "directory = os.path.dirname('file.pkl')\n",
    "if not os.path.exists(directory):\n",
    "    os.makedirs(directory)\n",
    "\n",
    "ndf.to_pickle('file.pkl')"
   ]
  },
  {
   "cell_type": "markdown",
   "metadata": {},
   "source": [
    "[![Callysto.ca License](https://github.com/callysto/curriculum-notebooks/blob/master/callysto-notebook-banner-bottom.jpg?raw=true)](https://github.com/callysto/curriculum-notebooks/blob/master/LICENSE.md)"
   ]
  }
 ],
 "metadata": {
  "kernelspec": {
   "display_name": "Python 3",
   "language": "python",
   "name": "python3"
  },
  "language_info": {
   "codemirror_mode": {
    "name": "ipython",
    "version": 3
   },
   "file_extension": ".py",
   "mimetype": "text/x-python",
   "name": "python",
   "nbconvert_exporter": "python",
   "pygments_lexer": "ipython3",
   "version": "3.10.12"
  },
  "nbTranslate": {
   "displayLangs": [
    "*"
   ],
   "hotkey": "alt-t",
   "langInMainMenu": true,
   "sourceLang": "en",
   "targetLang": "fr",
   "useGoogleTranslate": true
  },
  "vscode": {
   "interpreter": {
    "hash": "aee8b7b246df8f9039afb4144a1f6fd8d2ca17a180786b69acc140d282b71a49"
   }
  }
 },
 "nbformat": 4,
 "nbformat_minor": 2
}
