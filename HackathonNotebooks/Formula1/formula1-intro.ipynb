{
 "cells": [
  {
   "cell_type": "markdown",
   "id": "3874a23f-d296-4aaf-9083-e899991f2669",
   "metadata": {},
   "source": [
    "![Callysto.ca Banner](https://github.com/callysto/curriculum-notebooks/blob/master/callysto-notebook-banner-top.jpg?raw=true)"
   ]
  },
  {
   "cell_type": "markdown",
   "id": "1164cc2f-e2d5-4865-982b-b42364cfbcc1",
   "metadata": {},
   "source": [
    "# Formula 1\n",
    "<img src=https://upload.wikimedia.org/wikipedia/commons/e/e9/2018_Austrian_Grand_Prix_turn_1_%2843147259711%29.jpg width=800>\n",
    "<p>\n",
    "2018 Austrian Grand Prix (<a href='https://en.wikipedia.org/wiki/Racing'>https://en.wikipedia.org/wiki/Racing</a>)\n",
    "</p> "
   ]
  },
  {
   "cell_type": "markdown",
   "id": "23052a9b-ac96-46e5-83ab-fb65a84116b7",
   "metadata": {},
   "source": [
    "## Introduction\n",
    "\n",
    "Formula 1 (or F1) has became extremely popular in the last few years. 10 teams of 2 drivers each compete to be the fastest over the course of a season, with individual results from each race used to decide the best driver (World Drivers' Championship) and the best team (World Constructors' Championship).\n",
    "\n",
    "F1 has a very storied history of innovation, with teams constantly pushing the capabilities of the cars, as well as improving the safety of the drivers. Along the way, F1's parent organization Fédération Internationale de l'Automobile (FIA) continues to modify the rules to keep a level playing field, as wealthier teams tend to dominate the competition.\n",
    "\n",
    "One of the outcomes of the FIA's rules (and the teams wanting to improve their vehicles) is that every car is equipped with numerous sensors, and the data from those sensors is wirelessly transmitted from the cars to the team engineers. F1 has made some of that data available for public viewing, and that's what we'll be looking at today.\n",
    "\n",
    "First we'll install and load the necessary libraries:"
   ]
  },
  {
   "cell_type": "code",
   "execution_count": 3,
   "id": "9b721e44-4307-4b19-94ff-221a6681d672",
   "metadata": {},
   "outputs": [],
   "source": [
    "# Import libaries\n",
    "try:\n",
    "    import fastf1 as ff1\n",
    "except:\n",
    "    !pip install fastf1\n",
    "    import fastf1 as ff1\n",
    "import pandas as pd\n",
    "import plotly.express as px"
   ]
  },
  {
   "cell_type": "code",
   "execution_count": null,
   "id": "21583840-9335-4750-b873-d790182aa2b8",
   "metadata": {},
   "outputs": [],
   "source": []
  },
  {
   "cell_type": "code",
   "execution_count": null,
   "id": "1908f214-fc91-4002-ab73-e387ee68e9dd",
   "metadata": {},
   "outputs": [],
   "source": []
  },
  {
   "cell_type": "code",
   "execution_count": null,
   "id": "62ed72b7-41c7-4743-8137-bb751fc04356",
   "metadata": {},
   "outputs": [],
   "source": []
  },
  {
   "cell_type": "code",
   "execution_count": null,
   "id": "70abac7c-4d86-4cba-9920-347b3fcc6666",
   "metadata": {},
   "outputs": [],
   "source": []
  },
  {
   "cell_type": "code",
   "execution_count": null,
   "id": "114d6d2d-4a99-4cec-8dae-d911a6dd14a0",
   "metadata": {},
   "outputs": [],
   "source": []
  },
  {
   "cell_type": "code",
   "execution_count": null,
   "id": "ba779d0f-ea2d-4ee2-b699-32cd42d72c2c",
   "metadata": {},
   "outputs": [],
   "source": []
  },
  {
   "cell_type": "code",
   "execution_count": null,
   "id": "b8899e71-3512-4b54-9e7a-3b52d45cae99",
   "metadata": {},
   "outputs": [],
   "source": []
  },
  {
   "cell_type": "markdown",
   "id": "d91a2185-15b5-4f52-b94d-c042ab16c3e4",
   "metadata": {},
   "source": [
    "[![Callysto.ca License](https://github.com/callysto/curriculum-notebooks/blob/master/callysto-notebook-banner-bottom.jpg?raw=true)](https://github.com/callysto/curriculum-notebooks/blob/master/LICENSE.md)"
   ]
  },
  {
   "cell_type": "code",
   "execution_count": null,
   "id": "be18c1cc-f8b2-469f-8500-1536a2012eb3",
   "metadata": {},
   "outputs": [],
   "source": []
  }
 ],
 "metadata": {
  "kernelspec": {
   "display_name": "Python 3 (ipykernel)",
   "language": "python",
   "name": "python3"
  },
  "language_info": {
   "codemirror_mode": {
    "name": "ipython",
    "version": 3
   },
   "file_extension": ".py",
   "mimetype": "text/x-python",
   "name": "python",
   "nbconvert_exporter": "python",
   "pygments_lexer": "ipython3",
   "version": "3.9.12"
  }
 },
 "nbformat": 4,
 "nbformat_minor": 5
}
