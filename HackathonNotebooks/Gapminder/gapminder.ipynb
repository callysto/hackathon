{
 "cells": [
  {
   "cell_type": "markdown",
   "metadata": {},
   "source": [
    "![Callysto.ca Banner](https://github.com/callysto/curriculum-notebooks/blob/master/callysto-notebook-banner-top.jpg?raw=true)\n",
    " \n",
    "<a href=\"https://hub.callysto.ca/jupyter/hub/user-redirect/git-pull?repo=https%3A%2F%2Fgithub.com%2Fcallysto%2Fhackathon&branch=master&subPath=HackathonNotebooks/Gapminder/gapminder.ipynb&depth=1\" target=\"_parent\"><img src=\"https://raw.githubusercontent.com/callysto/curriculum-notebooks/master/open-in-callysto-button.svg?sanitize=true\" width=\"123\" height=\"24\" alt=\"Open in Callysto\"></a>"
   ]
  },
  {
   "cell_type": "markdown",
   "metadata": {},
   "source": [
    "# Data Science Hackathon - Gapminder\n",
    "\n",
    "As our world becomes increasingly data-driven, the ability to analyze, visualize, and draw insights from large and complex datasets is becoming an essential skill. Data science can provide you with the tools to make better decisions and solve complex problems.\n",
    "\n",
    "Click on the cell below, then click the Run button above to import and display a dataframe about *real* global data provided by [Gapminder](https://www.gapminder.org/)."
   ]
  },
  {
   "cell_type": "code",
   "execution_count": null,
   "metadata": {},
   "outputs": [],
   "source": [
    "import pandas as pd\n",
    "import plotly.express as px\n",
    "\n",
    "gapminder_data = px.data.gapminder() \n",
    "gapminder_data"
   ]
  },
  {
   "cell_type": "markdown",
   "metadata": {},
   "source": [
    "To create visualizations, we will use [Plotly Express](https://plotly.com/python/plotly-express). Click on the cell below then click Run to display a `histogram` graph."
   ]
  },
  {
   "cell_type": "code",
   "execution_count": null,
   "metadata": {},
   "outputs": [],
   "source": [
    "import plotly.express as px\n",
    "fig = px.histogram(gapminder_data, x='continent', y='pop', title='Total Continental Population (1952-2007)')\n",
    "fig"
   ]
  },
  {
   "cell_type": "markdown",
   "metadata": {},
   "source": [
    "## Beginner Challenges\n",
    "\n",
    "Each of these challenges is worth 2 points, and uses the `gapminder_data` dataframe."
   ]
  },
  {
   "cell_type": "markdown",
   "metadata": {},
   "source": [
    "1. Make a *histogram* graph with `country` on the x-axis and `year` on the y-axis."
   ]
  },
  {
   "cell_type": "code",
   "execution_count": null,
   "metadata": {},
   "outputs": [],
   "source": []
  },
  {
   "cell_type": "markdown",
   "metadata": {},
   "source": [
    "2. Make a *histogram* graph using the following code.\n",
    "```\n",
    "x='country', y='pop', color='year'\n",
    "```"
   ]
  },
  {
   "cell_type": "code",
   "execution_count": null,
   "metadata": {},
   "outputs": [],
   "source": []
  },
  {
   "cell_type": "markdown",
   "metadata": {},
   "source": [
    "3. Add a title to the previous graph called `\"Total Country Populations (1952-2007)\"`"
   ]
  },
  {
   "cell_type": "code",
   "execution_count": null,
   "metadata": {},
   "outputs": [],
   "source": []
  },
  {
   "cell_type": "markdown",
   "metadata": {},
   "source": [
    "4. Recreate the histogram, adding the following parameter to calculate average instead of totals.\n",
    "```\n",
    ", histfunc='avg'\n",
    "```"
   ]
  },
  {
   "cell_type": "code",
   "execution_count": null,
   "metadata": {},
   "outputs": [],
   "source": []
  },
  {
   "cell_type": "markdown",
   "metadata": {},
   "source": [
    "4. Filter the dataframe to show only **Americas** using the following code: \n",
    "`new_data = gapminder_data.query('continent == \"Americas\"')`"
   ]
  },
  {
   "cell_type": "code",
   "execution_count": null,
   "metadata": {},
   "outputs": [],
   "source": []
  },
  {
   "cell_type": "markdown",
   "metadata": {},
   "source": [
    "5. Re-name your dataframe `new_data` to an *appropriate* name based on the filtered data. "
   ]
  },
  {
   "cell_type": "code",
   "execution_count": null,
   "metadata": {},
   "outputs": [],
   "source": []
  },
  {
   "cell_type": "markdown",
   "metadata": {},
   "source": [
    "6. Reset the index of your newly named dataframe using the syntax: `.reset_index(drop=True)` at the end of your dataframe."
   ]
  },
  {
   "cell_type": "code",
   "execution_count": null,
   "metadata": {},
   "outputs": [],
   "source": []
  },
  {
   "cell_type": "markdown",
   "metadata": {},
   "source": [
    "7. Display your new dataframe using a *scatter* plot comparing `pop` and `lifeExp`. The scatter plot syntax is `px.scatter`."
   ]
  },
  {
   "cell_type": "code",
   "execution_count": null,
   "metadata": {},
   "outputs": [],
   "source": []
  },
  {
   "cell_type": "markdown",
   "metadata": {},
   "source": [
    "8. Add `,size=gdpPercap` as a parameter to your plot."
   ]
  },
  {
   "cell_type": "code",
   "execution_count": null,
   "metadata": {},
   "outputs": [],
   "source": []
  },
  {
   "cell_type": "markdown",
   "metadata": {},
   "source": [
    "9. Pick out a country that has *less than* 150 million `pop`, less than 10000 `gdpPercap`, and greater than 30 `lifeExp`. Write down this country in the **markdown** cell below."
   ]
  },
  {
   "cell_type": "markdown",
   "metadata": {},
   "source": []
  },
  {
   "cell_type": "markdown",
   "metadata": {},
   "source": [
    "10. Comment on any *trends* you see in the figure above. You can comment about any of variables used in the plot, such as `pop`, `gdpPercap`, `lifeExp`, or `continent`."
   ]
  },
  {
   "cell_type": "markdown",
   "metadata": {},
   "source": []
  },
  {
   "cell_type": "markdown",
   "metadata": {},
   "source": [
    "11. Sort the `gapminder_data` dataframe by `gdpPercap` using the following code.\n",
    "```\n",
    "gapminder_data.sort_values('gdpPercap')\n",
    "```"
   ]
  },
  {
   "cell_type": "code",
   "execution_count": null,
   "metadata": {},
   "outputs": [],
   "source": []
  },
  {
   "cell_type": "markdown",
   "metadata": {},
   "source": [
    "12.  Sort the `gapminder` dataframe in descending order by adding the following.\n",
    "```\n",
    ", ascending=False\n",
    "```\n",
    "\n",
    "Name the new data-frame `sorted_gapminder`."
   ]
  },
  {
   "cell_type": "code",
   "execution_count": null,
   "metadata": {},
   "outputs": [],
   "source": []
  },
  {
   "cell_type": "markdown",
   "metadata": {},
   "source": [
    "13. Use `.head(5)` and `.tail(5)` to see the top 5 and bottom 5 `gdpPercap` countries in your `sorted_gapminder` dataframe."
   ]
  },
  {
   "cell_type": "code",
   "execution_count": null,
   "metadata": {},
   "outputs": [],
   "source": []
  },
  {
   "cell_type": "markdown",
   "metadata": {},
   "source": [
    "14. Make a *histogram* of the sorted dataframe. "
   ]
  },
  {
   "cell_type": "code",
   "execution_count": null,
   "metadata": {},
   "outputs": [],
   "source": []
  },
  {
   "cell_type": "markdown",
   "metadata": {},
   "source": [
    "15.  Create a 3-dimensional plot using `px.scatter_3d`, where `x=pop`, `y=lifeExp`, and `z=gdpPercap` using `gapminder_data`."
   ]
  },
  {
   "cell_type": "code",
   "execution_count": null,
   "metadata": {},
   "outputs": [],
   "source": []
  },
  {
   "cell_type": "markdown",
   "metadata": {},
   "source": [
    "16. Add the following parameters: \n",
    "\n",
    "```\n",
    ", color='country'\n",
    "```\n",
    "\n",
    "and \n",
    "\n",
    "```\n",
    ", symbol='continent'\n",
    "```"
   ]
  },
  {
   "cell_type": "code",
   "execution_count": null,
   "metadata": {},
   "outputs": [],
   "source": []
  },
  {
   "cell_type": "markdown",
   "metadata": {},
   "source": [
    "17.  Display just one column of the dataframe using the following.\n",
    "```\n",
    "gapminder_data['year']\n",
    "```"
   ]
  },
  {
   "cell_type": "code",
   "execution_count": null,
   "metadata": {},
   "outputs": [],
   "source": []
  },
  {
   "cell_type": "markdown",
   "metadata": {},
   "source": [
    "18. Display the maximum year in the column using `.max()`"
   ]
  },
  {
   "cell_type": "code",
   "execution_count": null,
   "metadata": {},
   "outputs": [],
   "source": []
  },
  {
   "cell_type": "markdown",
   "metadata": {},
   "source": [
    "19. Find the average ([mean](https://simple.wikipedia.org/wiki/Mean)) of a column with the following.\n",
    "```\n",
    "gapminder_data['lifeExp'].mean()\n",
    "```"
   ]
  },
  {
   "cell_type": "code",
   "execution_count": null,
   "metadata": {},
   "outputs": [],
   "source": []
  },
  {
   "cell_type": "markdown",
   "metadata": {},
   "source": [
    "20. *Query* the `gapminder_data` dataframe by the max year found earlier and name the new dataframe `queried`. Then, find the middle value ([median](https://simple.wikipedia.org/wiki/Median)) of the `lifeExp` column. "
   ]
  },
  {
   "cell_type": "code",
   "execution_count": null,
   "metadata": {},
   "outputs": [],
   "source": []
  },
  {
   "cell_type": "markdown",
   "metadata": {},
   "source": [
    "21.  Compare the *mean* values of the *min* (or lowest) year and the *max* (or highest) year. Which is higher, and provide a potential reason why?"
   ]
  },
  {
   "cell_type": "code",
   "execution_count": null,
   "metadata": {},
   "outputs": [],
   "source": []
  },
  {
   "cell_type": "markdown",
   "metadata": {},
   "source": [
    "22. Use your `queried` dataframe to create a scatter matrix. \n",
    "```\n",
    "px.scatter_matrix(queried, dimensions=['gdpPercap', 'lifeExp', 'pop'], color='continent')\n",
    "```"
   ]
  },
  {
   "cell_type": "code",
   "execution_count": null,
   "metadata": {},
   "outputs": [],
   "source": []
  },
  {
   "cell_type": "markdown",
   "metadata": {},
   "source": [
    "23.  Create a correlation matrix using the same dimensions as the scatter matrix using `.corr()` and name it as `correlation`. The correlation matrix should only use the columns:\n",
    "```\n",
    "gapminder_data[['year', 'lifeExp', 'pop']]\n",
    "```"
   ]
  },
  {
   "cell_type": "code",
   "execution_count": null,
   "metadata": {},
   "outputs": [],
   "source": []
  },
  {
   "cell_type": "markdown",
   "metadata": {},
   "source": [
    "24. Display the correlation matrix using `correlation`.\n",
    "\n",
    "```\n",
    "px.imshow(correlation)\n",
    "```"
   ]
  },
  {
   "cell_type": "code",
   "execution_count": null,
   "metadata": {},
   "outputs": [],
   "source": []
  },
  {
   "cell_type": "markdown",
   "metadata": {},
   "source": [
    "25. Find the highest and lowest correlation value in the correlation matrix. **Note**: Correlations such as `pop` and `pop` do not count as they will always have an 100% or 1.0 correlation value onto themselves. "
   ]
  },
  {
   "cell_type": "code",
   "execution_count": null,
   "metadata": {},
   "outputs": [],
   "source": []
  },
  {
   "cell_type": "markdown",
   "metadata": {},
   "source": [
    "26.  Make a *pie chart* illustrating the percentage of the world's population by *continent*.\n",
    "```\n",
    "px.pie(gapminder_data, values='pop', names='continent')\n",
    "```"
   ]
  },
  {
   "cell_type": "code",
   "execution_count": null,
   "metadata": {},
   "outputs": [],
   "source": []
  },
  {
   "cell_type": "markdown",
   "metadata": {},
   "source": [
    "27.  Make another *pie chart*, but, filter the data by the year 2007. Add an appropriate title to the pie chart."
   ]
  },
  {
   "cell_type": "code",
   "execution_count": null,
   "metadata": {},
   "outputs": [],
   "source": []
  },
  {
   "cell_type": "markdown",
   "metadata": {},
   "source": [
    "28. Which continent had the biggest **total** percentage difference? "
   ]
  },
  {
   "cell_type": "code",
   "execution_count": null,
   "metadata": {},
   "outputs": [],
   "source": []
  },
  {
   "cell_type": "markdown",
   "metadata": {},
   "source": [
    "29. Query the data by the year 2007 again. Create a *scatter_geo* map using your filtered dataframe:\n",
    "```\n",
    "geo_map = px.scatter_geo(your_dataframe, locations='iso_alpha', size='pop')\n",
    "```"
   ]
  },
  {
   "cell_type": "code",
   "execution_count": null,
   "metadata": {},
   "outputs": [],
   "source": []
  },
  {
   "cell_type": "markdown",
   "metadata": {},
   "source": [
    "30. Make your `geo_map` more realistic by adding the following properties:\n",
    "\n",
    "- showland=True, landcolor='Green'\n",
    "- showocean=True, oceancolor='LightBlue'\n",
    "- showrivers=True, rivercolor='Blue'\n",
    "- showlakes=True, lakecolor='Turquoise'\n",
    "\n",
    "This is done using:\n",
    "\n",
    "```\n",
    "geo_map.update_geos()\n",
    "```"
   ]
  },
  {
   "cell_type": "code",
   "execution_count": null,
   "metadata": {},
   "outputs": [],
   "source": []
  },
  {
   "cell_type": "markdown",
   "metadata": {},
   "source": [
    "## Intermediate Challenges\n",
    "\n",
    "Each of these challenges is worth 5 points, and uses data about [video-games](https://en.wikipedia.org/wiki/Video_game) from [Kaggle](https://www.kaggle.com/datasets/gregorut/videogamesales)."
   ]
  },
  {
   "cell_type": "markdown",
   "metadata": {},
   "source": [
    "1. Import the dataset using the lines:\n",
    "\n",
    "```\n",
    "vg_sales = pd.read_csv('https://raw.githubusercontent.com/callysto/data-files/main/hackathon/vgsales.csv')\n",
    "display(vg_sales)\n",
    "```"
   ]
  },
  {
   "cell_type": "code",
   "execution_count": null,
   "metadata": {},
   "outputs": [],
   "source": [
    "vg_sales = pd.read_csv('https://raw.githubusercontent.com/callysto/data-files/main/hackathon/vgsales.csv')\n",
    "display(vg_sales)"
   ]
  },
  {
   "cell_type": "code",
   "execution_count": null,
   "metadata": {},
   "outputs": [],
   "source": []
  },
  {
   "cell_type": "markdown",
   "metadata": {},
   "source": [
    "2. Describe the different columns in the dataframe `vg_sales`. How can you interpret how the `Rank` column is determined in this dataframe?"
   ]
  },
  {
   "cell_type": "markdown",
   "metadata": {},
   "source": []
  },
  {
   "cell_type": "markdown",
   "metadata": {},
   "source": [
    "3. Sort the dataframe by `NA_Sales` and `Genre`. \n",
    "\n",
    "```\n",
    "vg_sales.sort_values(['NA_Sales', 'Genre'])\n",
    "```"
   ]
  },
  {
   "cell_type": "code",
   "execution_count": null,
   "metadata": {},
   "outputs": [],
   "source": []
  },
  {
   "cell_type": "markdown",
   "metadata": {},
   "source": [
    "4. Find the different types of *genres* in the dataframe. This is done by using `.unique()` on the column ['Genre'] in the `vg_sales` dataframe."
   ]
  },
  {
   "cell_type": "code",
   "execution_count": null,
   "metadata": {},
   "outputs": [],
   "source": []
  },
  {
   "cell_type": "markdown",
   "metadata": {},
   "source": [
    "5. Find the highest and lowest values for each genre in the dataframe. This is done using `.max()` and `.min()`."
   ]
  },
  {
   "cell_type": "code",
   "execution_count": null,
   "metadata": {},
   "outputs": [],
   "source": []
  },
  {
   "cell_type": "markdown",
   "metadata": {},
   "source": [
    "6. Create a `histogram` plot to find the number of `NA_Sales` for each `Genre`. Give this plot an appriopriate title."
   ]
  },
  {
   "cell_type": "code",
   "execution_count": null,
   "metadata": {},
   "outputs": [],
   "source": []
  },
  {
   "cell_type": "markdown",
   "metadata": {},
   "source": [
    "7. Add an appropriate parameter to your histogram plot to separate the `NA_Sales` by `Year`."
   ]
  },
  {
   "cell_type": "code",
   "execution_count": null,
   "metadata": {},
   "outputs": [],
   "source": []
  },
  {
   "cell_type": "markdown",
   "metadata": {},
   "source": [
    "8. Find the different *Pokemon* games in the dataframe. \n",
    "\n",
    "```\n",
    "pokemon_rows = vg_sales[vg_sales['Name'].str.contains(\"Pokemon\", case=False)]\n",
    "pokemon_rows\n",
    "```"
   ]
  },
  {
   "cell_type": "code",
   "execution_count": null,
   "metadata": {},
   "outputs": [],
   "source": []
  },
  {
   "cell_type": "markdown",
   "metadata": {},
   "source": [
    "9. Reset the *index* of this dataframe. How many total rows contain *Pokemon*?"
   ]
  },
  {
   "cell_type": "code",
   "execution_count": null,
   "metadata": {},
   "outputs": [],
   "source": []
  },
  {
   "cell_type": "markdown",
   "metadata": {},
   "source": [
    "10. Create a scatter plot using the `pokemon_rows` dataframe using `Name` and `Global_Sales` as the respective x and y values. Add the parameter `size='Year'` and add an appropriate title to the plot."
   ]
  },
  {
   "cell_type": "code",
   "execution_count": null,
   "metadata": {},
   "outputs": [],
   "source": []
  },
  {
   "cell_type": "markdown",
   "metadata": {},
   "source": [
    "11. The plot is a bit messy with the long title names! Disable the x-axis tick labels using:\n",
    "```\n",
    "pokemon_games.update_xaxes(showticklabels=False)\n",
    "```"
   ]
  },
  {
   "cell_type": "code",
   "execution_count": null,
   "metadata": {},
   "outputs": [],
   "source": []
  },
  {
   "cell_type": "markdown",
   "metadata": {},
   "source": [
    "12. Find the most common or [mode](https://en.wikipedia.org/wiki/Mode_(statistics)) `Genre` in the dataframe. Once found, *filter* the dataframe on this genre and find the most common `Publisher` of that particular genre.\n",
    "\n",
    "To find the most common of a column in the `vg_sales` dataframe use:\n",
    "```\n",
    "vg_sales['column'].mode().iloc[0]\n",
    "```\n",
    "where 'column' is the column you are trying to find the most common value for."
   ]
  },
  {
   "cell_type": "code",
   "execution_count": null,
   "metadata": {},
   "outputs": [],
   "source": []
  },
  {
   "cell_type": "markdown",
   "metadata": {},
   "source": [
    "13. Find the `Publisher` that has the highest *average* `Global_Sales`.\n",
    "\n",
    "To help use `.groupby('Publisher')['Global_Sales].mean()` to sort the dataframe by publishers that have the highest global sales.\n",
    "\n",
    "Afterwards, find the row with the highest value using `.idxmax()` on your newly sorted dataframe."
   ]
  },
  {
   "cell_type": "code",
   "execution_count": null,
   "metadata": {},
   "outputs": [],
   "source": []
  },
  {
   "cell_type": "markdown",
   "metadata": {},
   "source": [
    "14. Create an *appropriate* figure to find the *yearly* trends in *global sales* in the `vg_sales` dataframe. Specifically, find the number of sales for each year in your figure."
   ]
  },
  {
   "cell_type": "code",
   "execution_count": null,
   "metadata": {},
   "outputs": [],
   "source": []
  },
  {
   "cell_type": "markdown",
   "metadata": {},
   "source": [
    "15. Create an interesting visualization using the data found in the `vg_sales` dataframe. This visualization must contain *at least* 4 parameters."
   ]
  },
  {
   "cell_type": "code",
   "execution_count": null,
   "metadata": {},
   "outputs": [],
   "source": []
  },
  {
   "cell_type": "markdown",
   "metadata": {},
   "source": [
    "## Advanced Challenges\n",
    "\n",
    "Each of these challenges is worth 15 points, and uses a large data set about [Google Play Store](https://en.wikipedia.org/wiki/Google_Play) apps from [Kaggle](https://www.kaggle.com/datasets/lava18/google-play-store-apps).\n",
    "\n",
    "Start by loading the data set with\n",
    "```\n",
    "google_play_store = pd.read_csv('https://raw.githubusercontent.com/callysto/data-files/main/hackathon/googleplaystore.csv')\n",
    "google_play_store\n",
    "```"
   ]
  },
  {
   "cell_type": "code",
   "execution_count": null,
   "metadata": {},
   "outputs": [],
   "source": [
    "google_play_store = pd.read_csv('https://raw.githubusercontent.com/callysto/data-files/main/hackathon/googleplaystore.csv')\n",
    "google_play_store"
   ]
  },
  {
   "cell_type": "markdown",
   "metadata": {},
   "source": [
    "1. Convert the column `Installs` into a column that can be numerically compared. Currently, the values such as 1,000+ are not numerical. \n",
    "   \n",
    "Do this using:\n",
    "```\n",
    "google_play_store['Installs'] = google_play_store['Installs'].str.replace(',', '') \n",
    "```\n",
    "where the `,` in the column is replaced with an empty space. Identify another character that also must be replaced in order to make the column completely numerical (must only contains numbers).\n",
    "\n",
    "Afterwards, make the column numerical:\n",
    "```\n",
    "google_play_store['Installs'] = pd.to_numeric(google_play_store['Installs'], errors='coerce')\n",
    "```"
   ]
  },
  {
   "cell_type": "code",
   "execution_count": null,
   "metadata": {},
   "outputs": [],
   "source": []
  },
  {
   "cell_type": "markdown",
   "metadata": {},
   "source": [
    "2. Can you identify any other columns that have values that may be considered non-appropriate for the column data-type similar to `Installs` before? Justify below."
   ]
  },
  {
   "cell_type": "code",
   "execution_count": null,
   "metadata": {},
   "outputs": [],
   "source": []
  },
  {
   "cell_type": "markdown",
   "metadata": {},
   "source": [
    "3. Create a new column called `Outlier`. A row in the dataframe will contain the value `True` if it has a low installation number but high rating, and `False` otherwise. A *low* installation number is considered anything below **1000** installations, while a *high* rating is considered anything with an 4.0 or higher.\n",
    "\n",
    "```\n",
    "google_play_store['Outlier'] = (google_play_store['column1'] < condition1) & (google_play_store['column2'] >= condition2)\n",
    "```\n",
    "\n",
    "Replace `column1`, `column2`, `condition1`, and `condition2` with values that are appropriate with the prompt above."
   ]
  },
  {
   "cell_type": "code",
   "execution_count": null,
   "metadata": {},
   "outputs": [],
   "source": []
  },
  {
   "cell_type": "markdown",
   "metadata": {},
   "source": [
    "4. Count the number of `Outliers` and *Non-Outliers* in the dataframe using `.values_counts().reset_index()` on the column `Outliers`. Name this new dataframe `number_of_outliers`.\n",
    "\n",
    "Visualize the data in the new data-frame and create a *bar* visualization indicating the number of apps that are outliers and not outliers. Add the title `Distribution of Apps that are/are not Outliers`"
   ]
  },
  {
   "cell_type": "code",
   "execution_count": null,
   "metadata": {},
   "outputs": [],
   "source": []
  },
  {
   "cell_type": "markdown",
   "metadata": {},
   "source": [
    "5. Make a scatter plot with a trendline to show a relationship between two variables (columns) in the dataframe `google_play_store`. To add a trendline, add `,trendline='ols'`."
   ]
  },
  {
   "cell_type": "code",
   "execution_count": null,
   "metadata": {},
   "outputs": [],
   "source": []
  },
  {
   "cell_type": "markdown",
   "metadata": {},
   "source": [
    "6. Filter the dataframe to apps that are of `Type` *Paid*. Create a *box plot* using this new filtered dataframe to visualize the distribution of prices in the `Category` column.\n",
    "\n",
    "```\n",
    "px.box(your_filtered_dataframe, x='Category', y='Price', title='Distribution of Prices for Paid Apps')\n",
    "```\n",
    "where `your_filtered_dataframe` is the dataframe you filtered for. "
   ]
  },
  {
   "cell_type": "code",
   "execution_count": null,
   "metadata": {},
   "outputs": [],
   "source": []
  },
  {
   "cell_type": "markdown",
   "metadata": {},
   "source": [
    "7. Identify the `Category` with the most [outliers](https://en.wikipedia.org/wiki/Outlier) in the box plot above. An outlier in a box-plot is considered a point outside the boundaries/whiskers of the box-plot."
   ]
  },
  {
   "cell_type": "code",
   "execution_count": null,
   "metadata": {},
   "outputs": [],
   "source": []
  },
  {
   "cell_type": "markdown",
   "metadata": {},
   "source": [
    "8. Use a `for` loop to display multiple visualizations, like in the code example below\n",
    "```\n",
    "for variable in ['column1', 'column2', 'column3']:\n",
    "    px.scatter(music, x='Rating', y=variable, trendline='ols', title=f'{variable} versus Rating').show()"
   ]
  },
  {
   "cell_type": "code",
   "execution_count": null,
   "metadata": {},
   "outputs": [],
   "source": []
  },
  {
   "cell_type": "markdown",
   "metadata": {},
   "source": [
    "1. From the visualizations above, state which one had the *highest* correlation. Identify reasons why the variables in the visualization had such a high correlation."
   ]
  },
  {
   "cell_type": "code",
   "execution_count": null,
   "metadata": {},
   "outputs": [],
   "source": []
  },
  {
   "cell_type": "markdown",
   "metadata": {},
   "source": [
    "10.  How many apps have a *5.0* rating in the dataframe? Use this initial code snippet to help you make the `Rating` column *numeric*.\n",
    "\n",
    "```\n",
    "google_play_store['Rating'] = pd.to_numeric(google_play_store['Rating'], errors='coerce')\n",
    "```"
   ]
  },
  {
   "cell_type": "code",
   "execution_count": null,
   "metadata": {},
   "outputs": [],
   "source": []
  }
 ],
 "metadata": {
  "kernelspec": {
   "display_name": "Python 3",
   "language": "python",
   "name": "python3"
  },
  "language_info": {
   "codemirror_mode": {
    "name": "ipython",
    "version": 3
   },
   "file_extension": ".py",
   "mimetype": "text/x-python",
   "name": "python",
   "nbconvert_exporter": "python",
   "pygments_lexer": "ipython3",
   "version": "3.10.8"
  }
 },
 "nbformat": 4,
 "nbformat_minor": 2
}
