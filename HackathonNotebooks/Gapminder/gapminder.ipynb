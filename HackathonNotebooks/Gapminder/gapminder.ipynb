{
 "cells": [
  {
   "cell_type": "markdown",
   "metadata": {},
   "source": [
    "![Callysto.ca Banner](https://github.com/callysto/curriculum-notebooks/blob/master/callysto-notebook-banner-top.jpg?raw=true)\n",
    " \n",
    "<a href=\"https://hub.callysto.ca/jupyter/hub/user-redirect/git-pull?repo=https%3A%2F%2Fgithub.com%2Fcallysto%2Fhackathon&branch=master&subPath=HackathonNotebooks/Gapminder/gapminder.ipynb&depth=1\" target=\"_parent\"><img src=\"https://raw.githubusercontent.com/callysto/curriculum-notebooks/master/open-in-callysto-button.svg?sanitize=true\" width=\"123\" height=\"24\" alt=\"Open in Callysto\"></a>"
   ]
  },
  {
   "cell_type": "markdown",
   "metadata": {},
   "source": [
    "# Data Science Hackathon - Gapminder\n",
    "\n",
    "As our world becomes increasingly data-driven, the ability to analyze, visualize, and draw insights from large and complex datasets is becoming an essential skill. Data science can provide you with the tools to make better decisions and solve complex problems.\n",
    "\n",
    "Click on the cell below, then click the Run button above to import and display a dataframe about *real* global data provided by [Gapminder](https://www.gapminder.org/)."
   ]
  },
  {
   "cell_type": "code",
   "execution_count": null,
   "metadata": {},
   "outputs": [],
   "source": [
    "import pandas as pd\n",
    "import plotly.express as px\n",
    "\n",
    "gapminder_data = px.data.gapminder() \n",
    "gapminder_data"
   ]
  },
  {
   "cell_type": "markdown",
   "metadata": {},
   "source": [
    "To create visualizations, we will use [Plotly Express](https://plotly.com/python/plotly-express). Click on the cell below then click Run to display a `histogram` graph."
   ]
  },
  {
   "cell_type": "code",
   "execution_count": null,
   "metadata": {},
   "outputs": [],
   "source": [
    "import plotly.express as px\n",
    "fig = px.histogram(gapminder_data, x='continent', y='pop', title='Total Continental Population (1952-2007)')\n",
    "fig"
   ]
  },
  {
   "cell_type": "markdown",
   "metadata": {},
   "source": [
    "## Beginner Challenges\n",
    "\n",
    "Each of these challenges is worth 2 points, and uses the `gapminder_data` dataframe."
   ]
  },
  {
   "cell_type": "markdown",
   "metadata": {},
   "source": [
    "1. Make a *histogram* graph with `country` on the x-axis and `year` on the y-axis."
   ]
  },
  {
   "cell_type": "code",
   "execution_count": null,
   "metadata": {},
   "outputs": [],
   "source": []
  },
  {
   "cell_type": "markdown",
   "metadata": {},
   "source": [
    "2. Make a *histogram* graph using the following code.\n",
    "```\n",
    "x='country', y='pop', color='year'\n",
    "```"
   ]
  },
  {
   "cell_type": "code",
   "execution_count": null,
   "metadata": {},
   "outputs": [],
   "source": []
  },
  {
   "cell_type": "markdown",
   "metadata": {},
   "source": [
    "3. Add a title to the previous graph called `\"Total Country Populations (1952-2007)\"`"
   ]
  },
  {
   "cell_type": "code",
   "execution_count": null,
   "metadata": {},
   "outputs": [],
   "source": []
  },
  {
   "cell_type": "markdown",
   "metadata": {},
   "source": [
    "4. Recreate the histogram, adding the following parameter to calculate average instead of totals.\n",
    "```\n",
    ", histfunc='avg'\n",
    "```"
   ]
  },
  {
   "cell_type": "code",
   "execution_count": null,
   "metadata": {},
   "outputs": [],
   "source": []
  },
  {
   "cell_type": "markdown",
   "metadata": {},
   "source": [
    "4. Filter the dataframe to show only **Americas** using the following code: \n",
    "`new_data = gapminder_data.query('continent == \"Americas\"')`"
   ]
  },
  {
   "cell_type": "code",
   "execution_count": null,
   "metadata": {},
   "outputs": [],
   "source": []
  },
  {
   "cell_type": "markdown",
   "metadata": {},
   "source": [
    "5. Re-name your dataframe `new_data` to an *appropriate* name based on the filtered data. "
   ]
  },
  {
   "cell_type": "code",
   "execution_count": null,
   "metadata": {},
   "outputs": [],
   "source": []
  },
  {
   "cell_type": "markdown",
   "metadata": {},
   "source": [
    "6. Reset the index of your newly named dataframe using the syntax: `.reset_index(drop=True)` at the end of your dataframe."
   ]
  },
  {
   "cell_type": "code",
   "execution_count": null,
   "metadata": {},
   "outputs": [],
   "source": []
  },
  {
   "cell_type": "markdown",
   "metadata": {},
   "source": [
    "7. Display your new dataframe using a *scatter* plot comparing `pop` and `lifeExp`. The scatter plot syntax is `px.scatter`."
   ]
  },
  {
   "cell_type": "code",
   "execution_count": null,
   "metadata": {},
   "outputs": [],
   "source": []
  },
  {
   "cell_type": "markdown",
   "metadata": {},
   "source": [
    "8. Add `,size=gdpPercap` as a parameter to your plot."
   ]
  },
  {
   "cell_type": "code",
   "execution_count": null,
   "metadata": {},
   "outputs": [],
   "source": []
  },
  {
   "cell_type": "markdown",
   "metadata": {},
   "source": [
    "9. Pick out a country that has *less than* 150 million `pop`, less than 10000 `gdpPercap`, and greater than 30 `lifeExp`. Write down this country in the **markdown** cell below."
   ]
  },
  {
   "cell_type": "markdown",
   "metadata": {},
   "source": []
  },
  {
   "cell_type": "markdown",
   "metadata": {},
   "source": [
    "10. Comment on any *trends* you see in the figure above. You can comment about any of variables used in the plot, such as `pop`, `gdpPercap`, `lifeExp`, or `continent`."
   ]
  },
  {
   "cell_type": "markdown",
   "metadata": {},
   "source": []
  },
  {
   "cell_type": "markdown",
   "metadata": {},
   "source": [
    "11. Sort the `gapminder_data` dataframe by `gdpPercap` using the following code.\n",
    "```\n",
    "gapminder_data.sort_values('gdpPercap')\n",
    "```"
   ]
  },
  {
   "cell_type": "code",
   "execution_count": null,
   "metadata": {},
   "outputs": [],
   "source": []
  },
  {
   "cell_type": "markdown",
   "metadata": {},
   "source": [
    "12.  Sort the `gapminder` dataframe in descending order by adding the following.\n",
    "```\n",
    ", ascending=False\n",
    "```\n",
    "\n",
    "Name the new data-frame `sorted_gapminder`."
   ]
  },
  {
   "cell_type": "code",
   "execution_count": null,
   "metadata": {},
   "outputs": [],
   "source": []
  },
  {
   "cell_type": "markdown",
   "metadata": {},
   "source": [
    "13. Use `.head(5)` and `.tail(5)` to see the top 5 and bottom 5 `gdpPercap` countries in your `sorted_gapminder` dataframe."
   ]
  },
  {
   "cell_type": "code",
   "execution_count": null,
   "metadata": {},
   "outputs": [],
   "source": []
  },
  {
   "cell_type": "markdown",
   "metadata": {},
   "source": [
    "14. Make a *histogram* of the sorted dataframe. "
   ]
  },
  {
   "cell_type": "code",
   "execution_count": null,
   "metadata": {},
   "outputs": [],
   "source": []
  },
  {
   "cell_type": "markdown",
   "metadata": {},
   "source": [
    "15.  Create a 3-dimensional plot using `px.scatter_3d`, where `x=pop`, `y=lifeExp`, and `z=gdpPercap` using `gapminder_data`."
   ]
  },
  {
   "cell_type": "code",
   "execution_count": null,
   "metadata": {},
   "outputs": [],
   "source": []
  },
  {
   "cell_type": "markdown",
   "metadata": {},
   "source": [
    "16. Add the following parameters: \n",
    "\n",
    "```\n",
    ", color='country'\n",
    "```\n",
    "\n",
    "and \n",
    "\n",
    "```\n",
    ", symbol='continent'\n",
    "```"
   ]
  },
  {
   "cell_type": "code",
   "execution_count": null,
   "metadata": {},
   "outputs": [],
   "source": []
  },
  {
   "cell_type": "markdown",
   "metadata": {},
   "source": [
    "17.  Display just one column of the dataframe using the following.\n",
    "```\n",
    "gapminder_data['year']\n",
    "```"
   ]
  },
  {
   "cell_type": "code",
   "execution_count": null,
   "metadata": {},
   "outputs": [],
   "source": []
  },
  {
   "cell_type": "markdown",
   "metadata": {},
   "source": [
    "18. Display the maximum year in the column using `.max()`"
   ]
  },
  {
   "cell_type": "code",
   "execution_count": null,
   "metadata": {},
   "outputs": [],
   "source": []
  },
  {
   "cell_type": "markdown",
   "metadata": {},
   "source": [
    "19. Find the average ([mean](https://simple.wikipedia.org/wiki/Mean)) of a column with the following.\n",
    "```\n",
    "gapminder_data['lifeExp'].mean()\n",
    "```"
   ]
  },
  {
   "cell_type": "code",
   "execution_count": null,
   "metadata": {},
   "outputs": [],
   "source": []
  },
  {
   "cell_type": "markdown",
   "metadata": {},
   "source": [
    "20. *Query* the `gapminder_data` dataframe by the max year found earlier and name the new dataframe `queried`. Then, find the middle value ([median](https://simple.wikipedia.org/wiki/Median)) of the `lifeExp` column. "
   ]
  },
  {
   "cell_type": "code",
   "execution_count": null,
   "metadata": {},
   "outputs": [],
   "source": []
  },
  {
   "cell_type": "markdown",
   "metadata": {},
   "source": [
    "21.  Compare the *mean* values of the *min* (or lowest) year and the *max* (or highest) year. Which is higher, and provide a potential reason why?"
   ]
  },
  {
   "cell_type": "code",
   "execution_count": null,
   "metadata": {},
   "outputs": [],
   "source": []
  },
  {
   "cell_type": "markdown",
   "metadata": {},
   "source": [
    "22. Use your `queried` dataframe to create a scatter matrix. \n",
    "```\n",
    "px.scatter_matrix(queried, dimensions=['gdpPercap', 'lifeExp', 'pop'], color='continent')\n",
    "```"
   ]
  },
  {
   "cell_type": "code",
   "execution_count": null,
   "metadata": {},
   "outputs": [],
   "source": []
  },
  {
   "cell_type": "markdown",
   "metadata": {},
   "source": [
    "23.  Create a correlation matrix using the same dimensions as the scatter matrix using `.corr()` and name it as `correlation`. The correlation matrix should only use the columns:\n",
    "```\n",
    "gapminder_data[['year', 'lifeExp', 'pop']]\n",
    "```"
   ]
  },
  {
   "cell_type": "code",
   "execution_count": null,
   "metadata": {},
   "outputs": [],
   "source": []
  },
  {
   "cell_type": "markdown",
   "metadata": {},
   "source": [
    "24. Display the correlation matrix using `correlation`.\n",
    "\n",
    "```\n",
    "px.imshow(correlation)\n",
    "```"
   ]
  },
  {
   "cell_type": "code",
   "execution_count": null,
   "metadata": {},
   "outputs": [],
   "source": []
  },
  {
   "cell_type": "markdown",
   "metadata": {},
   "source": [
    "25. Find the highest and lowest correlation value in the correlation matrix. **Note**: Correlations such as `pop` and `pop` do not count as they will always have an 100% or 1.0 correlation value onto themselves. "
   ]
  },
  {
   "cell_type": "code",
   "execution_count": null,
   "metadata": {},
   "outputs": [],
   "source": []
  },
  {
   "cell_type": "markdown",
   "metadata": {},
   "source": [
    "26.  Make a *pie chart* illustrating the percentage of the world's population by *continent*.\n",
    "```\n",
    "px.pie(gapminder_data, values='pop', names='continent')\n",
    "```"
   ]
  },
  {
   "cell_type": "code",
   "execution_count": null,
   "metadata": {},
   "outputs": [],
   "source": []
  },
  {
   "cell_type": "markdown",
   "metadata": {},
   "source": [
    "27.  Make another *pie chart*, but, filter the data by the year 2007. Add an appropriate title to the pie chart."
   ]
  },
  {
   "cell_type": "code",
   "execution_count": null,
   "metadata": {},
   "outputs": [],
   "source": []
  },
  {
   "cell_type": "markdown",
   "metadata": {},
   "source": [
    "28. Which continent had the biggest **total** percentage difference? "
   ]
  },
  {
   "cell_type": "code",
   "execution_count": null,
   "metadata": {},
   "outputs": [],
   "source": []
  },
  {
   "cell_type": "markdown",
   "metadata": {},
   "source": [
    "29. Query the data by the year 2007 again. Create a *scatter_geo* map using your filtered dataframe:\n",
    "```\n",
    "geo_map = px.scatter_geo(your_dataframe, locations='iso_alpha', size='pop')\n",
    "```"
   ]
  },
  {
   "cell_type": "code",
   "execution_count": null,
   "metadata": {},
   "outputs": [],
   "source": []
  },
  {
   "cell_type": "markdown",
   "metadata": {},
   "source": [
    "30. Make your `geo_map` more realistic by adding the following properties:\n",
    "\n",
    "- showland=True, landcolor='Green'\n",
    "- showocean=True, oceancolor='LightBlue'\n",
    "- showrivers=True, rivercolor='Blue'\n",
    "- showlakes=True, lakecolor='Turquoise'\n",
    "\n",
    "This is done using:\n",
    "\n",
    "```\n",
    "geo_map.update_geos()\n",
    "```"
   ]
  },
  {
   "cell_type": "markdown",
   "metadata": {},
   "source": [
    "## Intermediate Challenges\n",
    "\n",
    "Each of these challenges is worth 5 points, "
   ]
  }
 ],
 "metadata": {
  "kernelspec": {
   "display_name": "Python 3",
   "language": "python",
   "name": "python3"
  },
  "language_info": {
   "codemirror_mode": {
    "name": "ipython",
    "version": 3
   },
   "file_extension": ".py",
   "mimetype": "text/x-python",
   "name": "python",
   "nbconvert_exporter": "python",
   "pygments_lexer": "ipython3",
   "version": "3.10.8"
  }
 },
 "nbformat": 4,
 "nbformat_minor": 2
}
