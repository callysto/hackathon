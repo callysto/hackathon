{
 "cells": [
  {
   "cell_type": "markdown",
   "metadata": {},
   "source": [
    "![Callysto.ca Banner](https://github.com/callysto/curriculum-notebooks/blob/master/callysto-notebook-banner-top.jpg?raw=true)"
   ]
  },
  {
   "cell_type": "markdown",
   "metadata": {},
   "source": [
    "# Turtle Hackathon\n",
    "\n",
    "Website: [callysto.github.io/hackathon/turtle-ds](https://callysto.github.io/hackathon/turtle-ds)\n",
    "\n",
    "## Introduction\n",
    "\n",
    "Turtle graphics have been used for learning about programming and computational thinking. We will use them as a fun way to learn about Python programming and Jupyter notebooks.\n",
    "\n",
    "## Turtle Commands\n",
    "\n",
    "The code you need to run will import the turtle drawing code library then create a new turtle drawing canvas:\n",
    "\n",
    "```python\n",
    "import ipyturtle3 as turtle\n",
    "from ipyturtle3 import hold_canvas\n",
    "\n",
    "canvas=turtle.Canvas(400, 400)\n",
    "display(canvas)\n",
    "screen=turtle.TurtleScreen(canvas)\n",
    "screen.bgcolor(\"lightblue\")\n",
    "t=turtle.Turtle(screen)\n",
    "\n",
    "```\n",
    "\n",
    "Assuming that your turtle is now named `t`, here are the possible commands you can use:\n",
    "\n",
    "Command | Description | Example\n",
    "--- | --- | ---\n",
    "`t.speed(integer)` | Speed of your turtle | `t.speed(10)`\n",
    "`t.right(degrees)` | Turn turtle right a certain number of degrees | `t.right(90)`\n",
    "`t.left(degrees)` | Turn turtle left a certain number of degrees | `t.left(45)`\n",
    "`t.forward(units)` | Move your turtle forward a certain number of pixels | `t.forward(100)`\n",
    "`t.backward(units)` | Move your turtle backward a certain number of pixels | `t.backward(20)`\n",
    "`t.circle(r, degrees)` | Have your turtle draw a piece of a circle of radius `r`, through some number of degrees | `t.circle(40, 360)`\n",
    "`t.penup()` | Now your turtle can move without drawing lines | `t.penup()`\n",
    "`t.pendown()` | Make your turtle draw lines again | `t.pendown()`\n",
    "`t.pencolor('color')` | Color of your turtle’s line using a color name | `t.pencolor('blue')`\n",
    "`t.pencolor('hexadecimal')` | Color of your turtle’s line using hexadecimal color values. Color values can be found [here](https://htmlcolorcodes.com/)| `t.pencolor('#FF5733')`\n",
    "`t.setposition(x, y)` | Move the turtle to a specific position. (0,0) is the top left and (400, 400) is the bottom right | `t.setposition(100, 250)`\n",
    "`t.home()` | Move the turtle back to the center of the screen | `t.home()`\n",
    "`t.setheading(degrees)` | Set the turtle’s heading to a specific number of degrees | `t.setheading(90)`\n",
    "`t.hideturtle()` | Hide your turtle for visual clarity | `t.hideturtle()`\n",
    "`t.showturtle()` | Show your turtle | `t.showturtle()`\n",
    "`t.color(\"outer-color\", \"inner-color\")` | Set outer and inner fill color | `t.color(\"black\", \"red\")`\n",
    "`t.begin_fill()` | Begin to fill | `t.begin_fill()`\n",
    "`t.end_fill()` | End fill | `t.begin_fill()`\n",
    "`t.shape(\"shape\")` | Set shape of pointer (Options include: 'arrow', 'circle', 'square', 'triangle', 'classic', 'turtle') | `t.shape('turtle')`\n",
    "\n",
    "\n",
    "\n",
    "For some inspiration, check out this [example](https://github.com/callysto/TMTeachingTurtles/blob/jupyter-turtles-art-contest/turtles-cool-art-demo.ipynb).\n",
    "\n",
    "## Hackathon Challenges\n",
    "\n",
    "These challenges do not need to be completed in a particular order. Notify a supervisor when you have accomplished one, so they can award you points.\n",
    "\n",
    "### *Beginner*\n",
    "These challenges are worth 2 points each.\n",
    "\n",
    "- Draw a red rectangle\n",
    "- Draw a green triangle\n",
    "- Draw a blue circle\n",
    "- Draw a purple pentagon\n",
    "- Draw a yellow star\n",
    "- Draw a cyan arrow\n",
    "- Draw an orange parallelogram\n",
    "- Draw a magenta hexagon\n",
    "- Draw a face\n",
    "- Draw the symbol π\n",
    "\n",
    "### *Intermediate*\n",
    "These challenges are worth 5 points each.\n",
    "\n",
    "- Draw a pink heart\n",
    "- Draw a Venn diagram\n",
    "- Draw a right-angle triangle with the hexadecimal color #5124E3\n",
    "- Draw an equilateral triangle with a perimeter of 90 pixels\n",
    "- Draw a semi-circle with two different colors\n",
    "- Draw a silver crescent\n",
    "- Draw Pac-Man: [click here](https://en.wikipedia.org/wiki/Pac-Man)\n",
    "- Draw a house: [click here](https://raw.githubusercontent.com/callysto/hackathon/master/HackathonNotebooks/Turtles/images/turtle-house.png)\n",
    "- Draw a house with a door, a window, chimney, and background scene\n",
    "- Draw a simple black flower: [click here](https://raw.githubusercontent.com/callysto/hackathon/master/HackathonNotebooks/Turtles/images/turtle-simple-black-flower.png)\n",
    "- Draw a black flower: [click here](black-flower-link)\n",
    "- Use for loops in a drawing. Examples of for loops found [here](https://www.w3schools.com/python/python_for_loops.asp)\n",
    "- Use nested loops in a drawing. Examples of nested loops found [here](https://www.w3schools.com/python/gloss_python_for_nested.asp)\n",
    "- Use functions in a drawing. Examples of functions found [here](https://www.w3schools.com/python/python_functions.asp)\n",
    "- Draw an emoji\n",
    "- Complete this [Callysto survey](https://docs.google.com/forms/d/e/1FAIpQLSd0Ih8x_dHS1FDfw4WYwcZAirwagfkbqoB9_WO1XoV5WqAi3Q/viewform) - show the submit button\n",
    "\n",
    "### *Advanced*\n",
    "These challenges are worth 15 points each.\n",
    "\n",
    "- Draw a pointy colored flower: [click here](https://raw.githubusercontent.com/callysto/hackathon/master/HackathonNotebooks/Turtles/images/turtle-pointy-flower.png)\n",
    "- Draw a full maple leaf: [click here](https://github.com/callysto/TMTeachingTurtles/blob/jupyter-turtles-art-contest/turtles-cool-art-demo.ipynb)\n",
    "- Draw a landscape scene with multiple colors\n",
    "- Write your own initials with a turtle\n",
    "- Draw a one-octave piano keyboard\n",
    "- Draw your assigned Pokémon\n",
    "- Use a dataframe to create a turtle drawing: [click here](https://github.com/callysto/TMTeachingTurtles/blob/master/TMDataTurtles/turtles-and-data-student.ipynb)\n",
    "- Pets Data Science challenge: basic operations\n",
    "- Pets Data Science challenge: conditions\n",
    "- Pets Data Science challenge: sorting\n",
    "- Pets Data Science challenge: Bar Graph\n",
    "- Pets Data Science challenge: Line Graph\n",
    "- Pets Data Science challenge: Pie Chart\n",
    "- Pets Data Science challenge: Scatter Plot\n",
    "- Create a function that accepts an integer parameter and draws a shape with that many sides\n",
    "- Create a 15-second promo video introducing Python turtles to people your age\n",
    "- Write a descriptive paragraph or two about your experiences today to share with your grownups or friends\n",
    "\n",
    "## Submit\n",
    "\n",
    "Use this [form](https://docs.google.com/forms/u/1/d/e/1FAIpQLSfo01MMOFe3Rgc1r3GoY9tTt8hpVvpgUrjGDok890SgUxpjhQ/viewform?usp=send_form) to submit your:\n",
    "\n",
    "- Team name\n",
    "- Team members\n",
    "- Answers to the reflection questions:\n",
    "  - What are two things you’ve learned so far?\n",
    "  - What has been your favorite part of this activity?\n",
    "  - Are there other things you would like to create with Python turtles?\n",
    "\n",
    "Note: If you do not submit answers to the reflection questions, your team will not be considered for any prizes.\n",
    "\n",
    "This site is open source. [Improve this page](https://github.com/callysto/hackathon/edit/master/docs/turtle-ds/README.md)."
   ]
  },
  {
   "cell_type": "markdown",
   "metadata": {},
   "source": [
    "----------------------------------------------------------------------------------------------------"
   ]
  },
  {
   "cell_type": "markdown",
   "metadata": {},
   "source": [
    "# Turtle and Data Science Hackathon Notebook\n",
    "\n",
    "Name: \n",
    "\n",
    "School: \n",
    "\n",
    "This Jupyter notebook contains text cells (like this one) that you can double-click to edit, and code cells like the one below.\n",
    "\n",
    "Click on the code cell, then click the `▶Run` button to run the Python code that imports `Turtle` from the `ipyturtle3` library."
   ]
  },
  {
   "cell_type": "code",
   "execution_count": null,
   "metadata": {},
   "outputs": [],
   "source": [
    "import ipyturtle3 as turtle\n",
    "from ipyturtle3 import hold_canvas\n",
    "\n",
    "canvas=turtle.Canvas(400, 400)\n",
    "hold_canvas(canvas)\n",
    "display(canvas)\n",
    "screen=turtle.TurtleScreen(canvas)\n",
    "screen.bgcolor(\"lightblue\")\n",
    "t = turtle.Turtle(screen)"
   ]
  },
  {
   "cell_type": "markdown",
   "metadata": {},
   "source": [
    "## Turtle Challenges Start Here\n",
    "\n",
    "Click the `+` button to create new code cells to complete the [challenges](https://callysto.github.io/hackathon/turtle). Include the following code block in each code cell to call your Turtle:\n",
    "\n",
    "```python\n",
    "canvas=turtle.Canvas()\n",
    "display(canvas)\n",
    "screen=turtle.TurtleScreen(canvas)\n",
    "screen.bgcolor(\"lightblue\")\n",
    "t=turtle.Turtle(screen)\n",
    "```"
   ]
  },
  {
   "cell_type": "code",
   "execution_count": null,
   "metadata": {},
   "outputs": [],
   "source": []
  },
  {
   "cell_type": "code",
   "execution_count": null,
   "metadata": {},
   "outputs": [],
   "source": []
  },
  {
   "cell_type": "code",
   "execution_count": null,
   "metadata": {},
   "outputs": [],
   "source": []
  },
  {
   "cell_type": "markdown",
   "metadata": {},
   "source": [
    "---\n",
    "*CODE HELP: Example of how to use a loop in Python*"
   ]
  },
  {
   "cell_type": "code",
   "execution_count": null,
   "metadata": {},
   "outputs": [],
   "source": [
    "canvas=turtle.Canvas(400, 400)\n",
    "display(canvas)\n",
    "screen=turtle.TurtleScreen(canvas)\n",
    "screen.bgcolor(\"lightblue\")\n",
    "t = turtle.Turtle(screen)\n",
    "\n",
    "for i in range(4):   # lines that are indented are part of the loop\n",
    "    t.forward(100)\n",
    "    t.left(90)"
   ]
  },
  {
   "cell_type": "markdown",
   "metadata": {},
   "source": [
    "*CODE HELP: Example of how to use a function in Python*"
   ]
  },
  {
   "cell_type": "code",
   "execution_count": null,
   "metadata": {},
   "outputs": [],
   "source": [
    "#define a function to draw a square, use the above code\n",
    "def square():\n",
    "    for i in range(4):\n",
    "        t.forward(100)\n",
    "        t.left(90)\n",
    "\n",
    "canvas=turtle.Canvas(400, 400)\n",
    "display(canvas)\n",
    "screen=turtle.TurtleScreen(canvas)\n",
    "screen.bgcolor(\"lightblue\")\n",
    "t = turtle.Turtle(screen)\n",
    "\n",
    "# call the function to draw a square, no need to indent\n",
    "square()\n",
    "t.right(45)\n",
    "square()\n",
    "t.right(45)"
   ]
  },
  {
   "cell_type": "markdown",
   "metadata": {},
   "source": [
    "---\n",
    "\n",
    "## Advanced Data Science Challenges"
   ]
  },
  {
   "cell_type": "markdown",
   "metadata": {},
   "source": [
    "Click on the code cell below, then click the `▶Run` button to run the Python code that imports the `pandas` library and made-up data from a pet adoption facility."
   ]
  },
  {
   "cell_type": "code",
   "execution_count": null,
   "metadata": {},
   "outputs": [],
   "source": [
    "import pandas as pd\n",
    "pets = pd.read_csv('https://raw.githubusercontent.com/callysto/hackathon/master/PrepMaterials/pets.csv')\n",
    "pets"
   ]
  },
  {
   "cell_type": "markdown",
   "metadata": {},
   "source": [
    "## Exercise 1:  Basic operations with dataframes\n",
    "\n",
    "The `.shape` command shows the number of rows and columns. Click the `▶Run` button"
   ]
  },
  {
   "cell_type": "code",
   "execution_count": null,
   "metadata": {},
   "outputs": [],
   "source": [
    "pets.shape"
   ]
  },
  {
   "cell_type": "markdown",
   "metadata": {},
   "source": [
    "The `.columns` command shows the number of rows and columns. Click the `▶Run` button"
   ]
  },
  {
   "cell_type": "code",
   "execution_count": null,
   "metadata": {},
   "outputs": [],
   "source": [
    "pets.columns"
   ]
  },
  {
   "cell_type": "markdown",
   "metadata": {},
   "source": [
    "We can select and display just one column using square brackets. Click the `▶Run` button"
   ]
  },
  {
   "cell_type": "code",
   "execution_count": null,
   "metadata": {},
   "outputs": [],
   "source": [
    "pets[['Species']]"
   ]
  },
  {
   "cell_type": "markdown",
   "metadata": {},
   "source": [
    "You can select multiple columns by separating the column names with commas. Click the `▶Run` button"
   ]
  },
  {
   "cell_type": "code",
   "execution_count": null,
   "metadata": {},
   "outputs": [],
   "source": [
    "pets[['Species','Gender']]"
   ]
  },
  {
   "cell_type": "markdown",
   "metadata": {},
   "source": [
    "By default, `.head()` displays the first 5 rows. Click the `▶Run` button\n",
    "\n",
    "You can also try\n",
    "\n",
    "`.head(10)`\n",
    "`.tail(2)`\n",
    "`.tail(17)`"
   ]
  },
  {
   "cell_type": "code",
   "execution_count": null,
   "metadata": {},
   "outputs": [],
   "source": [
    "pets.head()"
   ]
  },
  {
   "cell_type": "markdown",
   "metadata": {},
   "source": [
    "---\n",
    "### Data Science Challenge Basic Operations ###\n",
    "After running ALL of the codes above, complete this challenge.\n",
    "\n",
    "1. In the cell below, uncomment the code (remove the `#` sign)\n",
    "2. Change \"column1\", \"column2\", and \"column3\" to \"Species\", \"Fixed\", and \"Time to Adoption (weeks)\" to get these 3 columns\n",
    "3. Click the `▶Run` button\n",
    "4. Show a teacher or Callysto team member your dataframe to get points for this challenge\n",
    "\n",
    "---"
   ]
  },
  {
   "cell_type": "code",
   "execution_count": null,
   "metadata": {},
   "outputs": [],
   "source": [
    "#pets[[\"column1\",\"column2\",\"column3\"]]"
   ]
  },
  {
   "cell_type": "markdown",
   "metadata": {},
   "source": [
    "## Exercise 2:  Select or filter data from columns by condition\n",
    "\n",
    "You can filter the data, for example to show only dogs, using `pets[\"Column\"] == \"something\"`.\n",
    "\n",
    "Note that the `==` sign means \"check if it is equal to\" rather than asigning a value to a variable. Click the `▶Run` button"
   ]
  },
  {
   "cell_type": "code",
   "execution_count": null,
   "metadata": {},
   "outputs": [],
   "source": [
    "pets[pets[\"Species\"] == \"dog\"]"
   ]
  },
  {
   "cell_type": "markdown",
   "metadata": {},
   "source": [
    "Not equal to using `!=` Click the `▶Run` button"
   ]
  },
  {
   "cell_type": "code",
   "execution_count": null,
   "metadata": {},
   "outputs": [],
   "source": [
    "pets[pets[\"Species\"] != \"dog\"]"
   ]
  },
  {
   "cell_type": "markdown",
   "metadata": {},
   "source": [
    "To determine how many items a list has, use the `len()` function. We will use the `print()` function to display the length of the list. Click the `▶Run` button"
   ]
  },
  {
   "cell_type": "code",
   "execution_count": null,
   "metadata": {},
   "outputs": [],
   "source": [
    "thislist = [\"Species\", \"Gender\", \"Legs\"]\n",
    "print(len(thislist))"
   ]
  },
  {
   "cell_type": "markdown",
   "metadata": {},
   "source": [
    "Two conditions with \"and\" using the `&` symbol. Click the `▶Run` button"
   ]
  },
  {
   "cell_type": "code",
   "execution_count": null,
   "metadata": {},
   "outputs": [],
   "source": [
    "pets[ (pets[\"Gender\"]==\"female\") & (pets[\"Age (years)\"]>3) ]"
   ]
  },
  {
   "cell_type": "markdown",
   "metadata": {},
   "source": [
    "Two conditions with \"or\" using the `|` symbol. Click the `▶Run` button"
   ]
  },
  {
   "cell_type": "code",
   "execution_count": null,
   "metadata": {},
   "outputs": [],
   "source": [
    "# this shows fixed pets OR pets with legs greater than 4\n",
    "pets[ (pets[\"Fixed\"]==True) | (pets[\"Legs\"]>4) ]"
   ]
  },
  {
   "cell_type": "markdown",
   "metadata": {},
   "source": [
    "---\n",
    "### Data Science Challenge Conditions ###\n",
    "After running ALL of the codes above, complete this challenge.\n",
    "\n",
    "1. In the cell below, uncomment the code (remove the `#` sign)\n",
    "2. Change the cell below to get a subset of the data where \"Fixed\" is equal to True **and** \"Time to Adoption (weeks)\" is less than 5\n",
    "3. Click the `▶Run` button\n",
    "4. Show a teacher or Callysto team member your dataframe to get points for this challenge\n",
    "\n",
    "---"
   ]
  },
  {
   "cell_type": "code",
   "execution_count": null,
   "metadata": {},
   "outputs": [],
   "source": [
    "#pets[ (pets[\"\"]== 0) | (pets[\"\"] ==0) ]"
   ]
  },
  {
   "cell_type": "markdown",
   "metadata": {},
   "source": [
    "## Exercise 3: Sorting Data\n",
    "\n",
    "You can sort the DataFrame, for example by the \"age\" column. By default, the data is sorted in ascending order (smallest to largest). Click the `▶Run` button"
   ]
  },
  {
   "cell_type": "code",
   "execution_count": null,
   "metadata": {},
   "outputs": [],
   "source": [
    "pets.sort_values(\"Age (years)\")"
   ]
  },
  {
   "cell_type": "markdown",
   "metadata": {},
   "source": [
    "You can can sort in descending order. Click the `▶Run` button"
   ]
  },
  {
   "cell_type": "code",
   "execution_count": null,
   "metadata": {},
   "outputs": [],
   "source": [
    "pets.sort_values(\"Age (years)\", ascending=False)"
   ]
  },
  {
   "cell_type": "markdown",
   "metadata": {},
   "source": [
    "You can sort by two columns, first by age and then by time to adoption. Click the `▶Run` button"
   ]
  },
  {
   "cell_type": "code",
   "execution_count": null,
   "metadata": {},
   "outputs": [],
   "source": [
    "pets.sort_values([\"Age (years)\",\"Time to Adoption (weeks)\"])"
   ]
  },
  {
   "cell_type": "markdown",
   "metadata": {},
   "source": [
    "---\n",
    "### Data Science Challenge: Sorting ###\n",
    "\n",
    "After running ALL of the codes cells above, complete this challenge.\n",
    "\n",
    "1. In the cell below, uncomment the code (remove the `#` sign)\n",
    "2. Sort the pets oldest and youngest animals in the dataset\n",
    "3. Click the `▶Run` button\n",
    "4. Show a teacher or Callysto team member your dataframe to get 15 points for this challenge\n",
    "\n",
    "---"
   ]
  },
  {
   "cell_type": "code",
   "execution_count": null,
   "metadata": {},
   "outputs": [],
   "source": [
    "#pets.sort_values(\"\", ascending=true or false)"
   ]
  },
  {
   "cell_type": "markdown",
   "metadata": {},
   "source": [
    "## Exercise 4:  Visualizations\n",
    "\n",
    "A data visulaization is a way to look at data.\n",
    "\n",
    "[![what is a Viz](https://img.youtube.com/vi/_qrkhE4ADj0/0.jpg)](https://www.youtube.com/watch?v=_qrkhE4ADj0)"
   ]
  },
  {
   "cell_type": "markdown",
   "metadata": {},
   "source": [
    "---\n",
    "### Data Science Challenge Visualizations ###\n",
    "\n",
    "* Use this [**link**](https://github.com/callysto/data-science-and-artificial-intelligence/blob/main/04-visualizations.ipynb) to view the different types of visualizations and code examples to create your **own** visualizations from the pets data.\n",
    "\n",
    "* Show a teacher or Callysto team member when you have completed a visualization to get points for this challenge.\n",
    "\n",
    "---"
   ]
  },
  {
   "cell_type": "markdown",
   "metadata": {},
   "source": [
    "*Bar Graph*"
   ]
  },
  {
   "cell_type": "code",
   "execution_count": null,
   "metadata": {},
   "outputs": [],
   "source": [
    "#put your code here for your bar graph "
   ]
  },
  {
   "cell_type": "markdown",
   "metadata": {},
   "source": [
    "*Line Graph*"
   ]
  },
  {
   "cell_type": "code",
   "execution_count": null,
   "metadata": {},
   "outputs": [],
   "source": [
    "# put your code here for your line graph"
   ]
  },
  {
   "cell_type": "markdown",
   "metadata": {},
   "source": [
    "*Scatter Plot*"
   ]
  },
  {
   "cell_type": "code",
   "execution_count": null,
   "metadata": {},
   "outputs": [],
   "source": [
    "# put your code here for your scatter plot"
   ]
  },
  {
   "cell_type": "markdown",
   "metadata": {},
   "source": [
    "*Pie Chart*"
   ]
  },
  {
   "cell_type": "code",
   "execution_count": null,
   "metadata": {},
   "outputs": [],
   "source": [
    "# put your code here for your pie chart "
   ]
  },
  {
   "cell_type": "markdown",
   "metadata": {},
   "source": [
    "[![Callysto.ca License](https://github.com/callysto/curriculum-notebooks/blob/master/callysto-notebook-banner-bottom.jpg?raw=true)](https://github.com/callysto/curriculum-notebooks/blob/master/LICENSE.md)"
   ]
  }
 ],
 "metadata": {
  "kernelspec": {
   "display_name": "Python 3",
   "language": "python",
   "name": "python3"
  },
  "language_info": {
   "codemirror_mode": {
    "name": "ipython",
    "version": 3
   },
   "file_extension": ".py",
   "mimetype": "text/x-python",
   "name": "python",
   "nbconvert_exporter": "python",
   "pygments_lexer": "ipython3",
   "version": "3.10.8"
  },
  "orig_nbformat": 4
 },
 "nbformat": 4,
 "nbformat_minor": 2
}
