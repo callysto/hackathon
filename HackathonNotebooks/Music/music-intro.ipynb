{
 "cells": [
  {
   "cell_type": "markdown",
   "metadata": {},
   "source": [
    "![Callysto.ca Banner](https://github.com/callysto/curriculum-notebooks/blob/master/callysto-notebook-banner-top.jpg?raw=true)"
   ]
  },
  {
   "cell_type": "markdown",
   "metadata": {},
   "source": [
    "# Music\n",
    "\n",
    "<table><tr>\n",
    "<td style=\"font-size:8px;\"> <img src=\"https://upload.wikimedia.org/wikipedia/commons/thumb/5/57/Treble_a.svg/1920px-Treble_a.svg.png\" alt=\"Musical Staff\" style=\"width: 350px;\"/><br><a href=\"https://en.wikipedia.org/wiki/Musical_note#/media/File:Treble_a.svg\">By Dbolton - Own work, CC0, https://commons.wikimedia.org/w/index.php?curid=17813642</a></td>\n",
    "<td> <img src=\"https://storage.googleapis.com/pr-newsroom-wp/1/2018/11/Spotify_Logo_CMYK_Green.png\" alt=\"Spotify Logo\" style=\"width: 650px;\"/> </td>\n",
    "</tr></table>\n",
    "\n",
    "Music is an art loved by many people around the world, and it has been an important part of people's life.\n",
    "\n",
    "On a regular day, you might be listening to your artist or trying to play your favourite songs. In this hackathon notebook let's try to find out more about the most popular songs and what they have in common. Hopefully you will find some interesting insights that might be difficult to determine otherwise, while learning some new coding skills."
   ]
  },
  {
   "cell_type": "markdown",
   "metadata": {},
   "source": [
    "## Getting ready\n",
    "\n",
    "This section sets up many things behind the scenes which are required for the rest of this notebook. Most of the code blocks in this section are ready-to-run so you won't have to do any modifications. You don't need to know everything about various tasks being accomplished by the code cell in this section to complete the challenges. However feel free to ask mentors about anything that makes you curious."
   ]
  },
  {
   "cell_type": "markdown",
   "metadata": {},
   "source": [
    "### 1. Install/Import libraries\n",
    "\n",
    "Run the cell below to download and install required Python libraries. It may take few minutes to complete the execution of the cell."
   ]
  },
  {
   "cell_type": "code",
   "execution_count": null,
   "metadata": {},
   "outputs": [],
   "source": [
    "import pandas as pd\n",
    "import plotly.express as px\n",
    "print('Setup Complete')"
   ]
  },
  {
   "cell_type": "markdown",
   "metadata": {},
   "source": [
    "Run the next few cells to load libaries and pre-defined functions which will help us later to complete various challenges."
   ]
  },
  {
   "cell_type": "code",
   "execution_count": null,
   "metadata": {},
   "outputs": [],
   "source": [
    "#!wget https://raw.githubusercontent.com/callysto/hackathon/master/Group4_Music/helper_code/music.py -P helper_code -nc\n",
    "# load helper code\n",
    "#from helper_code.music import *"
   ]
  },
  {
   "cell_type": "markdown",
   "metadata": {},
   "source": [
    "### 2. Import data and create a dataframe\n",
    "\n",
    "[Spotify](https://en.wikipedia.org/wiki/Spotify), an audio streaming platform, compiles and publishes the list of [most streamed songs](https://spotifycharts.com/regional) at the end of every year. The dataset used in this notebook is a combination of two Spotify datasets available on Kaggle:\n",
    " - [Top 100 Spotify tracks 2017](https://www.kaggle.com/nadintamer/top-tracks-of-2017)\n",
    " - [Top 100 Spotify tracks 2018](https://www.kaggle.com/nadintamer/top-spotify-tracks-of-2018)\n",
    "\n",
    "Each of the above mentioned datasets contain various features of 100 most popular songs of 2017 and 2018 respetively. For this hackathon, the dataset is stored in cloud storage so we can import it into this notebook. Executing cells below will also create a dataframe and make you aware of some interesting facts about the dataset."
   ]
  },
  {
   "cell_type": "code",
   "execution_count": null,
   "metadata": {},
   "outputs": [],
   "source": [
    "#music = pd.read_csv('https://raw.githubusercontent.com/callysto/data-files/main/hackathon/spotify-top-100-from-2017-2018.csv')\n",
    "music = pd.read_csv('https://raw.githubusercontent.com/callysto/data-files/main/hackathon/spotify.csv')\n",
    "music"
   ]
  },
  {
   "cell_type": "code",
   "execution_count": null,
   "metadata": {},
   "outputs": [],
   "source": []
  },
  {
   "cell_type": "code",
   "execution_count": null,
   "metadata": {},
   "outputs": [],
   "source": [
    "music['track_id'] = music['uri'].str.split(':', expand=True)[2]\n",
    "music"
   ]
  },
  {
   "cell_type": "code",
   "execution_count": null,
   "metadata": {},
   "outputs": [],
   "source": [
    "'''\n",
    "import requests\n",
    "#import json\n",
    "CLIENT_ID = '234d5d311e4746c4929bfcd225de5958'\n",
    "CLIENT_SECRET = '88ccf19c24cf4e6a8d8d84f25f90e546'\n",
    "\n",
    "AUTH_URL = 'https://accounts.spotify.com/api/token'\n",
    "\n",
    "auth_response = requests.post(AUTH_URL, {'grant_type': 'client_credentials', 'client_id': CLIENT_ID, 'client_secret': CLIENT_SECRET})\n",
    "auth_response_data = auth_response.json() # convert the response to JSON\n",
    "access_token = auth_response_data['access_token']  # save the access token\n",
    "#access_token = 'BQCUB3HmxIX4_SYaPQpOyjUxr4p2LqUgJR7-1uoDF6REk1_0hRCcPs6NCL16Iiw4MaJj7XZpkdJwDXP3tU6i_uzglJawGqNdaeLdMMxPOE3TkcPSJ6BR0kHVjMPZ8x3L3Nyy7EOWd-TwsoXayE6KWKS71YAKGCSH5F9DKTRMLNvV_hjJ_tB81-Y7dq9H8rHuC_4'\n",
    "\n",
    "headers = {'Authorization': 'Bearer {token}'.format(token=access_token)}\n",
    "\n",
    "BASE_URL = 'https://api.spotify.com/v1/'\n",
    "\n",
    "uri = 'spotify:track:7aNjMJ05FvUXACPWZ7yJmv'\n",
    "\n",
    "track_id = uri.split(':')[2]\n",
    "\n",
    "#r = requests.get(BASE_URL + 'audio-features/' + track_id, headers=headers)\n",
    "r = requests.get(BASE_URL + 'tracks/' + track_id, headers=headers)\n",
    "r.json()\n",
    "'''"
   ]
  },
  {
   "cell_type": "code",
   "execution_count": null,
   "metadata": {},
   "outputs": [],
   "source": [
    "# to get release dates\n",
    "import requests\n",
    "import time\n",
    "\n",
    "CLIENT_ID = ''\n",
    "CLIENT_SECRET = ''\n",
    "\n",
    "AUTH_URL = 'https://accounts.spotify.com/api/token'\n",
    "auth_response = requests.post(AUTH_URL, {'grant_type':'client_credentials', 'client_id':CLIENT_ID, 'client_secret':CLIENT_SECRET})\n",
    "auth_response_data = auth_response.json() # convert the response to JSON\n",
    "access_token = auth_response_data['access_token']  # save the access token\n",
    "headers = {'Authorization': 'Bearer {token}'.format(token=access_token)}\n",
    "\n",
    "\n",
    "# get release dates function\n",
    "\n",
    "def get_release_date(track_id):\n",
    "    r = requests.get('https://api.spotify.com/v1/tracks/' + track_id, headers=headers)\n",
    "    if r.status_code == 429:\n",
    "        retry_after = int(r.headers['Retry-After'])\n",
    "        if retry_after > 300:\n",
    "            print('error 429, try again in', retry_after, 'seconds')\n",
    "            return None\n",
    "        else:\n",
    "            print('error 429, retrying in', retry_after ,'seconds')\n",
    "            time.sleep(retry_after)\n",
    "            r = requests.get('https://api.spotify.com/v1/tracks/' + track_id, headers=headers)\n",
    "    try:\n",
    "        rd = r.json()['album']['release_date']\n",
    "    except:\n",
    "        print('error', r.status_code, 'for track_id', track_id)\n",
    "        return None\n",
    "    return rd"
   ]
  },
  {
   "cell_type": "code",
   "execution_count": null,
   "metadata": {},
   "outputs": [],
   "source": [
    "# make a dictionary of track_id:release_date\n",
    "\n",
    "release_dates = {}\n",
    "for row in music.itertuples():\n",
    "    track_id = row.track_id\n",
    "    print(row.Index, row.artist, row.track, track_id)\n",
    "    rd = get_release_date(track_id)\n",
    "    if rd is not None:\n",
    "        release_dates[track_id] = rd\n",
    "    else:\n",
    "        print('We will try later')\n",
    "        break\n",
    "\n",
    "# see how many tracks we have release dates for\n",
    "len(release_dates)"
   ]
  },
  {
   "cell_type": "code",
   "execution_count": null,
   "metadata": {},
   "outputs": [],
   "source": [
    "# continue where we left off\n",
    "import numpy as np\n",
    "\n",
    "music2 = pd.read_csv('spotify_with_release_dates.csv', low_memory=False)\n",
    "\n",
    "more_release_dates = {}\n",
    "for row in music2.itertuples():\n",
    "    track_id = row.track_id\n",
    "    release_date = row.release_date\n",
    "    if not isinstance(release_date, str):\n",
    "        print(row.Index, row.artist, row.track, track_id)\n",
    "        rd = get_release_date(track_id)\n",
    "        if rd is not None:\n",
    "            more_release_dates[track_id] = rd # add to dictionary\n",
    "            #music2.loc[row.Index, 'release_date'] = rd # add to dataframe\n",
    "        else:\n",
    "            print('We will try later')\n",
    "            break"
   ]
  },
  {
   "cell_type": "code",
   "execution_count": null,
   "metadata": {},
   "outputs": [],
   "source": [
    "# make a dataframe of release dates\n",
    "#yearsdf = pd.DataFrame.from_dict(release_dates, orient='index', columns=['release_date'])\n",
    "yearsdf = pd.DataFrame.from_dict(more_release_dates, orient='index', columns=['release_date'])\n",
    "yearsdf = yearsdf.reset_index().rename(columns={'index': 'track_id'})\n",
    "\n",
    "# merge the two dataframes\n",
    "music3 = music2.merge(yearsdf, how='left', on='track_id')\n",
    "music3.to_csv('spotify_with_release_dates2.csv', index=False)"
   ]
  },
  {
   "cell_type": "code",
   "execution_count": null,
   "metadata": {},
   "outputs": [],
   "source": [
    "\n"
   ]
  },
  {
   "cell_type": "code",
   "execution_count": null,
   "metadata": {},
   "outputs": [],
   "source": []
  },
  {
   "cell_type": "code",
   "execution_count": null,
   "metadata": {},
   "outputs": [],
   "source": []
  },
  {
   "cell_type": "code",
   "execution_count": null,
   "metadata": {},
   "outputs": [],
   "source": []
  },
  {
   "cell_type": "code",
   "execution_count": null,
   "metadata": {},
   "outputs": [],
   "source": []
  },
  {
   "cell_type": "code",
   "execution_count": null,
   "metadata": {},
   "outputs": [],
   "source": [
    "# what are the column names?\n",
    "for c in music.columns:\n",
    "    print(c)"
   ]
  },
  {
   "cell_type": "markdown",
   "metadata": {},
   "source": [
    "Now you know which columns are there in the dataset, but what do those columns refer to?\n",
    "\n",
    "**Danceability**: How suitable a track is for dancing. A value of 0.0 is least danceable and 1.0 is most danceable.\n",
    "\n",
    "**Energy**: A perceptual measure of intensity and activity that ranges between 0 to 1. Typically, energetic tracks feel fast, loud, and noisy.\n",
    "\n",
    "**Key**: The key the track is in. Integers map to pitches using standard Pitch Class notation. E.g. 0 = C, 1 = C♯/D♭, 2 = D, and so on.\n",
    "\n",
    "**Loudness**: The average loudness of a track in decibels (dB). Values typically ranges between -60 and 0 db.\n",
    "\n",
    "**Mode**: The modality (major or minor) of a track, the type of scale from which its melodic content is derived. Major is represented by 1 and minor is 0.\n",
    "\n",
    "**Speechiness**: Indicates the presence of spoken words in a track. Values above 0.66 describe tracks that are probably made entirely of spoken words. Values between 0.33 and 0.66 describe tracks that may contain both music and speech while below 0.33 most likely represent music and other non-speech-like tracks.\n",
    "\n",
    "**Acousticness**: A confidence measure indicating whether the track is acoustic. Value of 1 represents highest confidence.\n",
    "\n",
    "**Instrumentalness**: Predicts whether a track contains no vocals. The closer the value is to 1.0, the greater likelihood the track contains no vocal content.\n",
    "\n",
    "**Liveness**: Detects the presence of an audience in the recording. Higher liveness values represent an increased probability that the track was performed live.\n",
    "\n",
    "**Valence**: A measure to describe the musical positiveness conveyed by a track. Tracks with high valence sound more positive (e.g. happy, cheerful, euphoric), while tracks with low valence sound more negative (e.g. sad, depressed, angry).\n",
    "\n",
    "**Tempo**: The overall estimated tempo (speed or pace) of a track in beats per minute (BPM).\n",
    "\n",
    "**duration_ms**: The duration of the track in milliseconds.\n",
    "\n",
    "**time_signature**: An estimated overall time signature of a track. The time signature is a notational convention to specify how many beats are in each bar (or measure)."
   ]
  },
  {
   "cell_type": "markdown",
   "metadata": {},
   "source": [
    "## Add a new column\n",
    "\n",
    "We can add a new column to show the duration of the track in seconds instead of milliseconds."
   ]
  },
  {
   "cell_type": "code",
   "execution_count": null,
   "metadata": {
    "scrolled": false
   },
   "outputs": [],
   "source": [
    "music[\"duration_s\"] = music[\"duration_ms\"]/1000\n",
    "\n",
    "# display the top 10 rows\n",
    "music.head(10)"
   ]
  },
  {
   "cell_type": "markdown",
   "metadata": {},
   "source": [
    "## Part B: Longest popular song of 2018\n",
    "\n",
    "Let us find out the duration of the longest song of 2018 from the dataset. We will use the **duration_s** column (duration in seconds) for this purpose.\n",
    "  "
   ]
  },
  {
   "cell_type": "code",
   "execution_count": null,
   "metadata": {},
   "outputs": [],
   "source": [
    "# use pre-defined function get_data_by_year() and supply the column name we are interested in i.e. \"duration_s\"\n",
    "duration_by_year = get_data_by_year(music,\"duration_s\")\n",
    "\n",
    "# display first 5 rows\n",
    "duration_by_year.head()"
   ]
  },
  {
   "cell_type": "markdown",
   "metadata": {},
   "source": [
    "We have obtained the duration of popular songs of 2017 and 2018. Next, we need to sort them using **sort_values()** function. Note that the sorting is done based on the year 2018."
   ]
  },
  {
   "cell_type": "code",
   "execution_count": null,
   "metadata": {},
   "outputs": [],
   "source": [
    "# sort by \"2018\" column in descending order\n",
    "duration_by_year.sort_values(2018, ascending = False).head()"
   ]
  },
  {
   "cell_type": "markdown",
   "metadata": {},
   "source": [
    "The duration of the longest popular song of 2018 is almost 7 minutes!\n",
    "\n",
    "Let us plot the distribution of duration of songs for both years using a [histogram](https://www.mathsisfun.com/data/histograms.html)."
   ]
  },
  {
   "cell_type": "code",
   "execution_count": null,
   "metadata": {},
   "outputs": [],
   "source": [
    "duration_by_year.iplot(kind = \"histogram\", subplots=True)"
   ]
  },
  {
   "cell_type": "markdown",
   "metadata": {},
   "source": [
    "### Challenges:\n",
    "\n",
    "- Find the duration of the shortest popular song of 2017.\n",
    "- Create a [box plot](https://www.mathsisfun.com/definitions/box-and-whisker-plot.html) for the duration of the songs by changing `kind = \"histogram\"` to `kind = \"box\"`. Also, remove `subplots=True` to keep both box plots in a single figure. Which plot helps you better visualize the distribution?"
   ]
  },
  {
   "cell_type": "markdown",
   "metadata": {},
   "source": [
    "## Part C: Find the song with highest energy\n",
    "\n",
    "Let us find the song with highest energy. First, let's calculate some additional statistical parameters (minimum, maximum, and mean values) for the energy of the songs for both the years using the **agg()** function."
   ]
  },
  {
   "cell_type": "code",
   "execution_count": null,
   "metadata": {},
   "outputs": [],
   "source": [
    "# use pre-defined function get_data_by_year() and supply the column name we are interested in i.e. \"energy\"\n",
    "energy_by_year = get_data_by_year(music,\"energy\")\n",
    "\n",
    "# calculate the additional statistics\n",
    "energy_stats = energy_by_year.agg(['min', 'max', 'mean'])\n",
    "\n",
    "# show the dataframe\n",
    "energy_stats"
   ]
  },
  {
   "cell_type": "code",
   "execution_count": null,
   "metadata": {},
   "outputs": [],
   "source": [
    "# plot the statistics using bar chart\n",
    "energy_stats.iplot(kind = \"bar\", yTitle='Energy')"
   ]
  },
  {
   "cell_type": "markdown",
   "metadata": {},
   "source": [
    "We can see from the plot that both years have similar statistics for the energy of the songs. Does it indicate that overall energy distribution of popular songs did not change significantly?\n",
    "\n",
    "You might have noticed that the song with maximum energy is from 2017. Let's find out more information about that song."
   ]
  },
  {
   "cell_type": "code",
   "execution_count": null,
   "metadata": {},
   "outputs": [],
   "source": [
    "# Find the maximum energy value from year 2017\n",
    "max_energy_song = energy_stats.loc[\"max\",2017]\n",
    "\n",
    "# Find the other details for the song with maximum energy\n",
    "music[music[\"energy\"] == max_energy_song]"
   ]
  },
  {
   "cell_type": "markdown",
   "metadata": {},
   "source": [
    "We can even find this song on YouTube and play it in the notebook."
   ]
  },
  {
   "cell_type": "code",
   "execution_count": null,
   "metadata": {},
   "outputs": [],
   "source": [
    "from IPython.display import YouTubeVideo\n",
    "YouTubeVideo('RJOqJ-RitOg')"
   ]
  },
  {
   "cell_type": "markdown",
   "metadata": {},
   "source": [
    "### Challenges:\n",
    "\n",
    "- Calculate statistics for **valence** (positiveness) and compare it for both years.\n",
    "     - Which year had higher average valence?\n",
    "     - Find the name of the song with the highest valence. \n",
    "     - Search on YouTube for that song with highest valence and include it in the notebook. Do you agree that this song is very positive?\n"
   ]
  },
  {
   "cell_type": "markdown",
   "metadata": {},
   "source": [
    "## Part D: Artists with most number of popular songs\n",
    "\n",
    "Let's start by finding the artists who contributed the highest number of popular songs in 2017."
   ]
  },
  {
   "cell_type": "code",
   "execution_count": null,
   "metadata": {},
   "outputs": [],
   "source": [
    "# from the original dataframe we take just the year 2017\n",
    "music_2017 = music[music[\"year\"]==2017]\n",
    "\n",
    "# calculate the number of rows for every artist and save it as new column - \"Count\"\n",
    "song_number_2017 = music_2017.groupby(\"artists\").size().reset_index(name=\"Count\")\n",
    "\n",
    "# sort by Count, to display the artist with the largest number of songs at the top\n",
    "song_number_2017 = song_number_2017.sort_values(\"Count\", ascending = False)\n",
    "\n",
    "# display the dataframe\n",
    "song_number_2017.head()"
   ]
  },
  {
   "cell_type": "markdown",
   "metadata": {},
   "source": [
    "The top two popular artists in 2017 were \"Ed Sheeran\" and \"The Chainsmokers\". \n",
    "\n",
    "Let us compare the averaged characteristics of the songs for these artists to the yearly average. In this code cell we have compared  \"danceability\", \"energy\", \"speechiness\", \"mode\", \"acousticness\", \"liveness\", and \"valence\" which are on the same scale (between 0 and 1). However feel free to edit that list of columns."
   ]
  },
  {
   "cell_type": "code",
   "execution_count": null,
   "metadata": {},
   "outputs": [],
   "source": [
    "# call pre-defined function get_average_by_artist() and supply the year and list of artists\n",
    "avg_by_artist_2017 = get_average_by_artist(music,2017,[\"Ed Sheeran\",\"The Chainsmokers\"])\n",
    "\n",
    "# feel free to select different columns\n",
    "columns = [\"danceability\",\"energy\",\"speechiness\",\"mode\",\"acousticness\",\"liveness\",\"valence\"]\n",
    "\n",
    "# select these columns only and transpose(flip the data) in order to better visualize it\n",
    "stats_by_artist_2017 = avg_by_artist_2017[columns].T\n",
    "\n",
    "# display the dataframe\n",
    "stats_by_artist_2017"
   ]
  },
  {
   "cell_type": "markdown",
   "metadata": {},
   "source": [
    "Let's visualize this dataframe using a bar chart."
   ]
  },
  {
   "cell_type": "code",
   "execution_count": null,
   "metadata": {},
   "outputs": [],
   "source": [
    "# create a bar chart\n",
    "stats_by_artist_2017.iplot(kind = \"bar\")"
   ]
  },
  {
   "cell_type": "markdown",
   "metadata": {},
   "source": [
    "From the bar chart, we can observe that Ed Sheeran's songs have more valence and more energy then the yearly average. And The Chainsmokers' songs are a little bit more danceable than Ed Sheeran's, but they both are below yearly average for danceability."
   ]
  },
  {
   "cell_type": "markdown",
   "metadata": {},
   "source": [
    "### Challenges:\n",
    "\n",
    "- Can you perform the similar analysis for the most popular artists in 2018 and answer the following?\n",
    "    \n",
    "   - Find the top three artists with most songs.\n",
    "   - Compare the averaged characteristics (of your choice) of their songs to the yearly average.\n",
    "   - Share your thoughts on how these averaged characteristics of popular artists can be useful for a new artist."
   ]
  },
  {
   "cell_type": "markdown",
   "metadata": {},
   "source": [
    "## Part E: Danceability and Energy in 2018\n",
    "\n",
    "Let us find out more about danceability and energy of the popular songs in 2018 using a [scatter plot](https://en.wikipedia.org/wiki/Scatter_plot)."
   ]
  },
  {
   "cell_type": "code",
   "execution_count": null,
   "metadata": {},
   "outputs": [],
   "source": [
    "# create a scatter plot\n",
    "music[music[\"year\"]==2018].iplot(kind=\"scatter\", # type of plot\n",
    "                                 mode='markers', # show only markers(dots), not lines\n",
    "                                 x=\"danceability\", # which columns will be the used for x-values\n",
    "                                 y=\"energy\", # which columns will be the used for y-values\n",
    "                                 text=\"name\", # name of the song will be displayed when you hoover your mouse over a marker\n",
    "                                 xTitle= \"Danceability\", # x-axis title\n",
    "                                 yTitle=\"Energy\") # y-axis title"
   ]
  },
  {
   "cell_type": "markdown",
   "metadata": {},
   "source": [
    "### Challenges:\n",
    "\n",
    "- Explore the plot and answer the following questions:\n",
    "    - Which songs had high danceability as well as energy? \n",
    "    - Which songs had high danceability but low energy?\n",
    "    - Do you see any significant [positive correlation](https://examples.yourdictionary.com/positive-correlation-examples.html) between *Energy* and *Danceability*?\n",
    "\n",
    "\n",
    "- Create similar plot for year 2017 with *valence* on the x-axis and *energy* on the y-axis. \n",
    "    - Find out the songs with highest valence as well as energy.\n",
    "    - Find out the songs with lowest valence as well as energy.\n",
    "    - Is the correlation between *Valence* and *Energy* higher than that of *Energy* and *Danceability*?"
   ]
  },
  {
   "cell_type": "markdown",
   "metadata": {},
   "source": [
    "## Summary\n",
    "\n",
    "This workbook analyzes the **Music** dataset by Spotify from Kaggle with the help of Python code blocks. Duration of the most popular songs are analyzed to find the longest and the shortest of them. Also, the artists with the highest number of popular songs are identified and characteristics of the songs are visualized and compared.\n",
    "\n",
    "By taking part in this hackathon and completing these challenges, you learned how to analyze big dataset which is impractical to do manually, created visualizations and most importantly, developed [*computational thinking*](https://en.wikipedia.org/wiki/Computational_thinking) abilities which can be used to solve various problems."
   ]
  },
  {
   "cell_type": "markdown",
   "metadata": {},
   "source": [
    "## Hackathon Reflections\n",
    "Write about some or all of the following questions, either individually in separate markdown cells or as a group.\n",
    "- What is something you learned through this process?\n",
    "- How well did your group work together? Why do you think that is?\n",
    "- What were some of the hardest parts?\n",
    "- What are you proud of? What would you like to show others?\n",
    "- Are you curious about anything else related to this? Did anything surprise you?\n",
    "- How can you apply your learning to future activities?"
   ]
  },
  {
   "cell_type": "markdown",
   "metadata": {},
   "source": [
    "[![Callysto.ca License](https://github.com/callysto/curriculum-notebooks/blob/master/callysto-notebook-banner-bottom.jpg?raw=true)](https://github.com/callysto/curriculum-notebooks/blob/master/LICENSE.md)"
   ]
  }
 ],
 "metadata": {
  "kernelspec": {
   "display_name": "Python 3.10.1 64-bit",
   "language": "python",
   "name": "python3"
  },
  "language_info": {
   "codemirror_mode": {
    "name": "ipython",
    "version": 3
   },
   "file_extension": ".py",
   "mimetype": "text/x-python",
   "name": "python",
   "nbconvert_exporter": "python",
   "pygments_lexer": "ipython3",
   "version": "3.10.1"
  },
  "nbTranslate": {
   "displayLangs": [
    "*"
   ],
   "hotkey": "alt-t",
   "langInMainMenu": true,
   "sourceLang": "en",
   "targetLang": "fr",
   "useGoogleTranslate": true
  },
  "vscode": {
   "interpreter": {
    "hash": "d1ca6d17674200220921376aaeb3d36cffe15ecab2470a9a5e7a456cdbf61425"
   }
  }
 },
 "nbformat": 4,
 "nbformat_minor": 2
}
