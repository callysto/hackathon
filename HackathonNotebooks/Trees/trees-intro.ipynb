{
  "cells": [
    {
      "cell_type": "markdown",
      "metadata": {
        "colab_type": "text",
        "id": "UIpzey-qyj-l"
      },
      "source": [
        "![Callysto.ca Banner](https://github.com/callysto/curriculum-notebooks/blob/master/callysto-notebook-banner-top.jpg?raw=true)"
      ]
    },
    {
      "cell_type": "markdown",
      "metadata": {
        "colab_type": "text",
        "id": "Mb6pNmQayj-m"
      },
      "source": [
        "# Trees in Strathcona County\n",
        "\n",
        "The zombie apocalypse hit Strathcona County, but these zombies decided to eat trees. \n",
        "\n",
        "Now the County has a problem: they need to replant trees, but don’t know where. You’ve been hired to tell them what areas of the County need trees replanted and which areas still have lots of trees.\n",
        "\n",
        "The County needs this information to promote wellness and outdoor activities. During the apocalypse no one wanted to go to parks when the zombies were munching the trees. The County also needs a recommendation for what kinds of trees would be best to plant."
      ]
    },
    {
      "cell_type": "markdown",
      "metadata": {
        "colab_type": "text",
        "id": "4RMF6p54yj-n"
      },
      "source": [
        "## Getting Ready\n",
        "\n",
        "This section sets up many things behind the scenes which are required for the rest of this notebook. Most of the code blocks in this section are ready-to-run so you won't have to do any modifications. You don't need to know everything about various tasks being accomplished by the code cell in this section to complete the challenges. However feel free to ask mentors about anything that makes you curious.\n",
        "\n",
        "### Importing Libraries\n",
        "\n",
        "`▸Run` the cell below to import the required Python libraries."
      ]
    },
    {
      "cell_type": "code",
      "execution_count": null,
      "metadata": {
        "colab": {},
        "colab_type": "code",
        "id": "1Ymtq63Zyj-n"
      },
      "outputs": [],
      "source": [
        "# We will store the data in a 'dataframe' using pandas\n",
        "import pandas as pd\n",
        "# Plotly Express will be used to make graphs\n",
        "import plotly.express as px\n",
        "# We will visualize the coordinates in a map using folium\n",
        "import folium\n",
        "from folium.plugins import MarkerCluster\n",
        "print('Setup Complete')"
      ]
    },
    {
      "cell_type": "markdown",
      "metadata": {},
      "source": [
        "### Importing Data\n",
        "\n",
        "We'll use a data set provided by Strathcona County on [data.strathcona.ca](https://data.strathcona.ca/Environment/Trees/ig6t-pdus). It contains tree locations and types, updated four times per year."
      ]
    },
    {
      "cell_type": "code",
      "execution_count": null,
      "metadata": {
        "colab": {},
        "colab_type": "code",
        "id": "ZyIz6JcMyj-q"
      },
      "outputs": [],
      "source": [
        "trees = pd.read_csv('https://data.strathcona.ca/api/views/ig6t-pdus/rows.csv?accessType=DOWNLOAD')\n",
        "# display the data\n",
        "trees"
      ]
    },
    {
      "cell_type": "markdown",
      "metadata": {},
      "source": [
        "## Data Cleaning\n",
        "\n",
        "We can see that the column `the_geom` is a duplication of the columns `longitude` and `latitude`, so we can drop it."
      ]
    },
    {
      "cell_type": "code",
      "execution_count": null,
      "metadata": {},
      "outputs": [],
      "source": [
        "trees.drop(columns=['the_geom'], inplace=True)\n",
        "trees"
      ]
    },
    {
      "cell_type": "markdown",
      "metadata": {
        "colab_type": "text",
        "id": "1D0GNjdsyj-6"
      },
      "source": [
        "## Analysis\n",
        "\n",
        "We can now do some analysis of the dataset, such as figuring out which tree types are the most common.\n",
        "\n",
        "We'll group data by `Name`, and use the `size()` method to count how many of each kind there are. The `.sort_values()` method will then sort by the `count` we created."
      ]
    },
    {
      "cell_type": "code",
      "execution_count": null,
      "metadata": {
        "colab": {},
        "colab_type": "code",
        "id": "kBb2sqWWyj--"
      },
      "outputs": [],
      "source": [
        "counts_by_name = trees.groupby('Name').size().reset_index(name='count')\n",
        "counts_by_name.sort_values(by='count', ascending=False, inplace=True)\n",
        "counts_by_name"
      ]
    },
    {
      "cell_type": "markdown",
      "metadata": {
        "colab_type": "text",
        "id": "vkYHfX_5yj_A"
      },
      "source": [
        "You can now see the most common types of trees in Strathcona County. Let's visualize the data with a pie chart."
      ]
    },
    {
      "cell_type": "code",
      "execution_count": null,
      "metadata": {
        "colab": {},
        "colab_type": "code",
        "id": "QYpHZiOoyj_A"
      },
      "outputs": [],
      "source": [
        "px.pie(counts_by_name.head(5), values='count', names='Name', title='Most Common Trees in Strathcona County')"
      ]
    },
    {
      "cell_type": "markdown",
      "metadata": {},
      "source": [
        "Or the top ten most common as a bar graph."
      ]
    },
    {
      "cell_type": "code",
      "execution_count": null,
      "metadata": {},
      "outputs": [],
      "source": [
        "px.bar(counts_by_name.head(10), x='Name', y='count', title='Most Common Trees in Strathcona County')"
      ]
    },
    {
      "cell_type": "markdown",
      "metadata": {},
      "source": [
        "## Mapping Data\n",
        "\n",
        "Since we have a dataframe with `latitude` and `longitude` columns, we will use the Python library called `folium` to visualize our data on a map.\n",
        "\n",
        "First we will create and display a map. To figure out where the center of the map should be, we'll find the median values from those columns."
      ]
    },
    {
      "cell_type": "code",
      "execution_count": null,
      "metadata": {
        "colab": {},
        "colab_type": "code",
        "id": "4-6SmRxFyj-0"
      },
      "outputs": [],
      "source": [
        "median_latitude = trees['latitude'].median()\n",
        "median_longitude = trees['longitude'].median()\n",
        "\n",
        "tree_map = folium.Map(location=[median_latitude, median_longitude], zoom_start=10)\n",
        "display(tree_map)"
      ]
    },
    {
      "cell_type": "markdown",
      "metadata": {},
      "source": [
        "There are other map styles that we can try:\n",
        "\n",
        "* `openstreetmap`\n",
        "* `stamen terrain`\n",
        "* `Stamen toner`\n",
        "* `stamen watercolor`\n",
        "* `cartodb positron`\n",
        "* `cartodb dark_matter`\n",
        "* `mapbox bright` (Limited zoom levels)\n",
        "* `mapbox control room` (Limited zoom levels)"
      ]
    },
    {
      "cell_type": "code",
      "execution_count": null,
      "metadata": {},
      "outputs": [],
      "source": [
        "tree_map = folium.Map(location=[median_latitude, median_longitude], zoom_start=10, tiles='stamen terrain')\n",
        "display(tree_map)"
      ]
    },
    {
      "cell_type": "markdown",
      "metadata": {
        "colab_type": "text",
        "id": "i3Nz3tB0yj-2"
      },
      "source": [
        "We can now add the tree locations into our map. \n",
        "\n",
        "In the cell below we will [iterate](https://www.merriam-webster.com/dictionary/iteration) over each row in the dataframe and add markers using the `folium.Marker` function. Each marker will be created from the `latitude` and `longitude` coordinates, labelled with its `Name` as a `popup`. We will add this to our `marker_cluster` on our map called `tree_map`.\n",
        "\n",
        "The cell will take a while to run, you'll know it's running if you see a `[*]` by the top left of the cell."
      ]
    },
    {
      "cell_type": "code",
      "execution_count": null,
      "metadata": {
        "colab": {},
        "colab_type": "code",
        "id": "3-3oJnA_yj-3"
      },
      "outputs": [],
      "source": [
        "marker_cluster = MarkerCluster().add_to(tree_map)\n",
        "\n",
        "for row in trees.iterrows():\n",
        "    location = [row[1]['latitude'], row[1]['longitude']]\n",
        "    name = row[1]['Name']\n",
        "    folium.Marker(location=location, popup=folium.Popup(name, sticky=True), icon=folium.Icon(color='green', icon='tree', prefix='fa'), clustered_marker=True).add_to(marker_cluster)\n",
        "\n",
        "display(tree_map)"
      ]
    },
    {
      "cell_type": "markdown",
      "metadata": {},
      "source": [
        "You can now continue your own analysis in the [next notebook](trees-challenge.ipynb)."
      ]
    },
    {
      "cell_type": "markdown",
      "metadata": {
        "colab_type": "text",
        "id": "ad2ZyO5Vyj_M"
      },
      "source": [
        "[![Callysto.ca License](https://github.com/callysto/curriculum-notebooks/blob/master/callysto-notebook-banner-bottom.jpg?raw=true)](https://github.com/callysto/curriculum-notebooks/blob/master/LICENSE.md)"
      ]
    }
  ],
  "metadata": {
    "colab": {
      "name": "Trees-Challenge.ipynb",
      "provenance": []
    },
    "kernelspec": {
      "display_name": "Python 3.10.1 64-bit",
      "language": "python",
      "name": "python3"
    },
    "language_info": {
      "codemirror_mode": {
        "name": "ipython",
        "version": 3
      },
      "file_extension": ".py",
      "mimetype": "text/x-python",
      "name": "python",
      "nbconvert_exporter": "python",
      "pygments_lexer": "ipython3",
      "version": "3.10.1"
    },
    "vscode": {
      "interpreter": {
        "hash": "d1ca6d17674200220921376aaeb3d36cffe15ecab2470a9a5e7a456cdbf61425"
      }
    }
  },
  "nbformat": 4,
  "nbformat_minor": 0
}
