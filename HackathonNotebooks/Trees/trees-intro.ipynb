{
  "cells": [
    {
      "cell_type": "markdown",
      "metadata": {
        "colab_type": "text",
        "id": "UIpzey-qyj-l"
      },
      "source": [
        "![Callysto.ca Banner](https://github.com/callysto/curriculum-notebooks/blob/master/callysto-notebook-banner-top.jpg?raw=true)"
      ]
    },
    {
      "cell_type": "markdown",
      "metadata": {
        "colab_type": "text",
        "id": "Mb6pNmQayj-m"
      },
      "source": [
        "# Trees in Strathcona County\n",
        "\n",
        "Strathcona County collects data on all trees that are on public land. We are going to explore this dataset.\n",
        "\n",
        "## Getting Ready\n",
        "\n",
        "This section sets up many things behind the scenes which are required for the rest of this notebook. Most of the code blocks in this section are ready-to-run so you won't have to do any modifications. You don't need to know everything about various tasks being accomplished by the code cell in this section to complete the challenges. However feel free to ask mentors about anything that makes you curious.\n",
        "\n",
        "### Importing Libraries\n",
        "\n",
        "`▸Run` the cell below to import the required Python libraries."
      ]
    },
    {
      "cell_type": "code",
      "execution_count": null,
      "metadata": {
        "colab": {},
        "colab_type": "code",
        "id": "1Ymtq63Zyj-n"
      },
      "outputs": [],
      "source": [
        "# We will store the data in a 'dataframe' using pandas\n",
        "import pandas as pd\n",
        "# Plotly Express will be used to make graphs\n",
        "import plotly.express as px\n",
        "# We will visualize the coordinates in a map using folium\n",
        "import folium\n",
        "from folium.plugins import MarkerCluster\n",
        "print('Setup Complete')"
      ]
    },
    {
      "cell_type": "markdown",
      "metadata": {},
      "source": [
        "### Importing Data\n",
        "\n",
        "We'll use a data set provided by Strathcona County on [data.strathcona.ca](https://data.strathcona.ca/Environment/Trees/ig6t-pdus). It contains tree locations and types, updated four times per year."
      ]
    },
    {
      "cell_type": "code",
      "execution_count": 52,
      "metadata": {
        "colab": {},
        "colab_type": "code",
        "id": "ZyIz6JcMyj-q"
      },
      "outputs": [
        {
          "data": {
            "text/html": [
              "<div>\n",
              "<style scoped>\n",
              "    .dataframe tbody tr th:only-of-type {\n",
              "        vertical-align: middle;\n",
              "    }\n",
              "\n",
              "    .dataframe tbody tr th {\n",
              "        vertical-align: top;\n",
              "    }\n",
              "\n",
              "    .dataframe thead th {\n",
              "        text-align: right;\n",
              "    }\n",
              "</style>\n",
              "<table border=\"1\" class=\"dataframe\">\n",
              "  <thead>\n",
              "    <tr style=\"text-align: right;\">\n",
              "      <th></th>\n",
              "      <th>the_geom</th>\n",
              "      <th>TreeSiteID</th>\n",
              "      <th>Orig_Name</th>\n",
              "      <th>Name</th>\n",
              "      <th>longitude</th>\n",
              "      <th>latitude</th>\n",
              "      <th>Genus</th>\n",
              "      <th>Species</th>\n",
              "    </tr>\n",
              "  </thead>\n",
              "  <tbody>\n",
              "    <tr>\n",
              "      <th>0</th>\n",
              "      <td>POINT (-113.27990691495326 53.51475642946733)</td>\n",
              "      <td>3180.0</td>\n",
              "      <td>pine spp</td>\n",
              "      <td>Pine spp</td>\n",
              "      <td>-113.279907</td>\n",
              "      <td>53.514756</td>\n",
              "      <td>Pine</td>\n",
              "      <td>Pine spp</td>\n",
              "    </tr>\n",
              "    <tr>\n",
              "      <th>1</th>\n",
              "      <td>POINT (-113.28087645626125 53.52109987792144)</td>\n",
              "      <td>3414.0</td>\n",
              "      <td>ash,green</td>\n",
              "      <td>Green Ash</td>\n",
              "      <td>-113.280876</td>\n",
              "      <td>53.521100</td>\n",
              "      <td>Ash</td>\n",
              "      <td>Green Ash</td>\n",
              "    </tr>\n",
              "    <tr>\n",
              "      <th>2</th>\n",
              "      <td>POINT (-113.25761177298322 53.53540572039219)</td>\n",
              "      <td>6169.0</td>\n",
              "      <td>ash,green</td>\n",
              "      <td>Green Ash</td>\n",
              "      <td>-113.257612</td>\n",
              "      <td>53.535406</td>\n",
              "      <td>Ash</td>\n",
              "      <td>Green Ash</td>\n",
              "    </tr>\n",
              "    <tr>\n",
              "      <th>3</th>\n",
              "      <td>POINT (-113.25328772314695 53.539579013605476)</td>\n",
              "      <td>7801.0</td>\n",
              "      <td>ash,green</td>\n",
              "      <td>Green Ash</td>\n",
              "      <td>-113.253288</td>\n",
              "      <td>53.539579</td>\n",
              "      <td>Ash</td>\n",
              "      <td>Green Ash</td>\n",
              "    </tr>\n",
              "    <tr>\n",
              "      <th>4</th>\n",
              "      <td>POINT (-113.31951009270878 53.527176356856444)</td>\n",
              "      <td>8117.0</td>\n",
              "      <td>ash,green</td>\n",
              "      <td>Green Ash</td>\n",
              "      <td>-113.319510</td>\n",
              "      <td>53.527176</td>\n",
              "      <td>Ash</td>\n",
              "      <td>Green Ash</td>\n",
              "    </tr>\n",
              "    <tr>\n",
              "      <th>...</th>\n",
              "      <td>...</td>\n",
              "      <td>...</td>\n",
              "      <td>...</td>\n",
              "      <td>...</td>\n",
              "      <td>...</td>\n",
              "      <td>...</td>\n",
              "      <td>...</td>\n",
              "      <td>...</td>\n",
              "    </tr>\n",
              "    <tr>\n",
              "      <th>34444</th>\n",
              "      <td>POINT (-113.14017862601068 53.55290677437548)</td>\n",
              "      <td>41203.0</td>\n",
              "      <td>elm,brandon</td>\n",
              "      <td>Brandon Elm</td>\n",
              "      <td>-113.140179</td>\n",
              "      <td>53.552907</td>\n",
              "      <td>Elm</td>\n",
              "      <td>Brandon Elm</td>\n",
              "    </tr>\n",
              "    <tr>\n",
              "      <th>34445</th>\n",
              "      <td>POINT (-113.2649735660162 53.555572941713656)</td>\n",
              "      <td>40993.0</td>\n",
              "      <td>elm,american</td>\n",
              "      <td>American Elm</td>\n",
              "      <td>-113.264974</td>\n",
              "      <td>53.555573</td>\n",
              "      <td>Elm</td>\n",
              "      <td>American Elm</td>\n",
              "    </tr>\n",
              "    <tr>\n",
              "      <th>34446</th>\n",
              "      <td>POINT (-113.28986295225532 53.55552474620585)</td>\n",
              "      <td>41084.0</td>\n",
              "      <td>oak,bur</td>\n",
              "      <td>Bur Oak</td>\n",
              "      <td>-113.289863</td>\n",
              "      <td>53.555525</td>\n",
              "      <td>Oak</td>\n",
              "      <td>Bur Oak</td>\n",
              "    </tr>\n",
              "    <tr>\n",
              "      <th>34447</th>\n",
              "      <td>POINT (-113.29937574240984 53.55305299330779)</td>\n",
              "      <td>40882.0</td>\n",
              "      <td>buckeye,ohio</td>\n",
              "      <td>Ohio Buckeye</td>\n",
              "      <td>-113.299376</td>\n",
              "      <td>53.553053</td>\n",
              "      <td>Buckeye</td>\n",
              "      <td>Ohio Buckeye</td>\n",
              "    </tr>\n",
              "    <tr>\n",
              "      <th>34448</th>\n",
              "      <td>POINT (-113.30945749015093 53.5552505920622)</td>\n",
              "      <td>40843.0</td>\n",
              "      <td>oak,bur</td>\n",
              "      <td>Bur Oak</td>\n",
              "      <td>-113.309457</td>\n",
              "      <td>53.555251</td>\n",
              "      <td>Oak</td>\n",
              "      <td>Bur Oak</td>\n",
              "    </tr>\n",
              "  </tbody>\n",
              "</table>\n",
              "<p>34449 rows × 8 columns</p>\n",
              "</div>"
            ],
            "text/plain": [
              "                                             the_geom  TreeSiteID  \\\n",
              "0       POINT (-113.27990691495326 53.51475642946733)      3180.0   \n",
              "1       POINT (-113.28087645626125 53.52109987792144)      3414.0   \n",
              "2       POINT (-113.25761177298322 53.53540572039219)      6169.0   \n",
              "3      POINT (-113.25328772314695 53.539579013605476)      7801.0   \n",
              "4      POINT (-113.31951009270878 53.527176356856444)      8117.0   \n",
              "...                                               ...         ...   \n",
              "34444   POINT (-113.14017862601068 53.55290677437548)     41203.0   \n",
              "34445   POINT (-113.2649735660162 53.555572941713656)     40993.0   \n",
              "34446   POINT (-113.28986295225532 53.55552474620585)     41084.0   \n",
              "34447   POINT (-113.29937574240984 53.55305299330779)     40882.0   \n",
              "34448    POINT (-113.30945749015093 53.5552505920622)     40843.0   \n",
              "\n",
              "          Orig_Name          Name   longitude   latitude    Genus  \\\n",
              "0          pine spp      Pine spp -113.279907  53.514756     Pine   \n",
              "1         ash,green     Green Ash -113.280876  53.521100      Ash   \n",
              "2         ash,green     Green Ash -113.257612  53.535406      Ash   \n",
              "3         ash,green     Green Ash -113.253288  53.539579      Ash   \n",
              "4         ash,green     Green Ash -113.319510  53.527176      Ash   \n",
              "...             ...           ...         ...        ...      ...   \n",
              "34444   elm,brandon   Brandon Elm -113.140179  53.552907      Elm   \n",
              "34445  elm,american  American Elm -113.264974  53.555573      Elm   \n",
              "34446       oak,bur       Bur Oak -113.289863  53.555525      Oak   \n",
              "34447  buckeye,ohio  Ohio Buckeye -113.299376  53.553053  Buckeye   \n",
              "34448       oak,bur       Bur Oak -113.309457  53.555251      Oak   \n",
              "\n",
              "            Species  \n",
              "0          Pine spp  \n",
              "1         Green Ash  \n",
              "2         Green Ash  \n",
              "3         Green Ash  \n",
              "4         Green Ash  \n",
              "...             ...  \n",
              "34444   Brandon Elm  \n",
              "34445  American Elm  \n",
              "34446       Bur Oak  \n",
              "34447  Ohio Buckeye  \n",
              "34448       Bur Oak  \n",
              "\n",
              "[34449 rows x 8 columns]"
            ]
          },
          "execution_count": 52,
          "metadata": {},
          "output_type": "execute_result"
        }
      ],
      "source": [
        "trees = pd.read_csv('https://data.strathcona.ca/api/views/ig6t-pdus/rows.csv?accessType=DOWNLOAD')\n",
        "# display the data\n",
        "trees"
      ]
    },
    {
      "cell_type": "markdown",
      "metadata": {},
      "source": [
        "There is information about 34,449 different individual trees in the County!\n",
        "\n",
        "## Data Cleaning\n",
        "\n",
        "We can see that the column `the_geom` is a duplication of the columns `longitude` and `latitude`, so we can drop it."
      ]
    },
    {
      "cell_type": "code",
      "execution_count": null,
      "metadata": {},
      "outputs": [],
      "source": [
        "trees.drop(columns=['the_geom'], inplace=True)\n",
        "trees"
      ]
    },
    {
      "cell_type": "markdown",
      "metadata": {
        "colab_type": "text",
        "id": "1D0GNjdsyj-6"
      },
      "source": [
        "## Analysis\n",
        "\n",
        "We can now do some analysis of the dataset, such as figuring out which tree types are the most common.\n",
        "\n",
        "We'll group data by `Name`, and use the `size()` method to count how many of each kind there are. The `.sort_values()` method will then sort by the `count` we created."
      ]
    },
    {
      "cell_type": "code",
      "execution_count": null,
      "metadata": {
        "colab": {},
        "colab_type": "code",
        "id": "kBb2sqWWyj--"
      },
      "outputs": [],
      "source": [
        "counts_by_name = trees.groupby('Name').size().reset_index(name='count')\n",
        "counts_by_name.sort_values(by='count', ascending=False, inplace=True)\n",
        "counts_by_name"
      ]
    },
    {
      "cell_type": "markdown",
      "metadata": {
        "colab_type": "text",
        "id": "vkYHfX_5yj_A"
      },
      "source": [
        "You can now see the most common types of trees in Strathcona County. Let's visualize the data with a pie chart."
      ]
    },
    {
      "cell_type": "code",
      "execution_count": null,
      "metadata": {
        "colab": {},
        "colab_type": "code",
        "id": "QYpHZiOoyj_A"
      },
      "outputs": [],
      "source": [
        "px.pie(counts_by_name.head(5), values='count', names='Name', title='Most Common Trees in Strathcona County')"
      ]
    },
    {
      "cell_type": "markdown",
      "metadata": {},
      "source": [
        "Or the top ten most common as a bar graph."
      ]
    },
    {
      "cell_type": "code",
      "execution_count": null,
      "metadata": {},
      "outputs": [],
      "source": [
        "px.bar(counts_by_name.head(10), x='Name', y='count', title='Most Common Trees in Strathcona County')"
      ]
    },
    {
      "cell_type": "markdown",
      "metadata": {},
      "source": [
        "## Mapping Data\n",
        "\n",
        "Since we have a dataframe with `latitude` and `longitude` columns, we will use the Python library called `folium` to visualize our data on a map.\n",
        "\n",
        "First we will create and display a map. To figure out where the center of the map should be, we'll find the median values from those columns."
      ]
    },
    {
      "cell_type": "code",
      "execution_count": null,
      "metadata": {
        "colab": {},
        "colab_type": "code",
        "id": "4-6SmRxFyj-0"
      },
      "outputs": [],
      "source": [
        "median_latitude = trees['latitude'].median()\n",
        "median_longitude = trees['longitude'].median()\n",
        "\n",
        "tree_map = folium.Map(location=[median_latitude, median_longitude], zoom_start=10)\n",
        "display(tree_map)"
      ]
    },
    {
      "cell_type": "markdown",
      "metadata": {},
      "source": [
        "There are other map styles that we can try:\n",
        "\n",
        "* `openstreetmap`\n",
        "* `stamen terrain`\n",
        "* `Stamen toner`\n",
        "* `stamen watercolor`\n",
        "* `cartodb positron`\n",
        "* `cartodb dark_matter`\n",
        "* `mapbox bright` (Limited zoom levels)\n",
        "* `mapbox control room` (Limited zoom levels)"
      ]
    },
    {
      "cell_type": "code",
      "execution_count": null,
      "metadata": {},
      "outputs": [],
      "source": [
        "tree_map = folium.Map(location=[median_latitude, median_longitude], zoom_start=10, tiles='stamen terrain')\n",
        "display(tree_map)"
      ]
    },
    {
      "cell_type": "markdown",
      "metadata": {
        "colab_type": "text",
        "id": "i3Nz3tB0yj-2"
      },
      "source": [
        "We can now add the tree locations into our map. \n",
        "\n",
        "In the cell below we will [iterate](https://www.merriam-webster.com/dictionary/iteration) over each row in the dataframe and add markers using the `folium.Marker` function. Each marker will be created from the `latitude` and `longitude` coordinates, labelled with its `Name` as a `popup`. We will add this to our `marker_cluster` on our map called `tree_map`.\n",
        "\n",
        "The cell will take a while to run, you'll know it's running if you see a `[*]` by the top left of the cell."
      ]
    },
    {
      "cell_type": "code",
      "execution_count": null,
      "metadata": {
        "colab": {},
        "colab_type": "code",
        "id": "3-3oJnA_yj-3"
      },
      "outputs": [],
      "source": [
        "marker_cluster = MarkerCluster().add_to(tree_map)\n",
        "\n",
        "for row in trees.iterrows():\n",
        "    location = [row[1]['latitude'], row[1]['longitude']]\n",
        "    name = row[1]['Name']\n",
        "    folium.Marker(location=location, popup=folium.Popup(name, sticky=True), icon=folium.Icon(color='green', icon='tree', prefix='fa'), clustered_marker=True).add_to(marker_cluster)\n",
        "\n",
        "display(tree_map)"
      ]
    },
    {
      "cell_type": "markdown",
      "metadata": {},
      "source": [
        "You can now continue your own analysis in the [next notebook](trees-challenge.ipynb)."
      ]
    },
    {
      "cell_type": "markdown",
      "metadata": {
        "colab_type": "text",
        "id": "ad2ZyO5Vyj_M"
      },
      "source": [
        "[![Callysto.ca License](https://github.com/callysto/curriculum-notebooks/blob/master/callysto-notebook-banner-bottom.jpg?raw=true)](https://github.com/callysto/curriculum-notebooks/blob/master/LICENSE.md)"
      ]
    }
  ],
  "metadata": {
    "colab": {
      "name": "Trees-Challenge.ipynb",
      "provenance": []
    },
    "kernelspec": {
      "display_name": "Python 3.10.1 64-bit",
      "language": "python",
      "name": "python3"
    },
    "language_info": {
      "codemirror_mode": {
        "name": "ipython",
        "version": 3
      },
      "file_extension": ".py",
      "mimetype": "text/x-python",
      "name": "python",
      "nbconvert_exporter": "python",
      "pygments_lexer": "ipython3",
      "version": "3.10.1"
    },
    "vscode": {
      "interpreter": {
        "hash": "d1ca6d17674200220921376aaeb3d36cffe15ecab2470a9a5e7a456cdbf61425"
      }
    }
  },
  "nbformat": 4,
  "nbformat_minor": 0
}
