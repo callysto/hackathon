{
 "cells": [
  {
   "attachments": {},
   "cell_type": "markdown",
   "metadata": {},
   "source": [
    "![Callysto.ca Banner](https://github.com/callysto/curriculum-notebooks/blob/master/callysto-notebook-banner-top.jpg?raw=true)"
   ]
  },
  {
   "attachments": {},
   "cell_type": "markdown",
   "metadata": {},
   "source": [
    "# Part A: Python Turtles (Beginner)\n",
    "\n",
    "Submitted by: \n",
    "\n",
    "From school: \n",
    "\n",
    "We are going to introduce some Python programming using Turtles.\n",
    "\n",
    "[Turtle graphics](https://en.wikipedia.org/wiki/Turtle_graphics) have been used for learning about programming and computational thinking. We will use them as a fun way to learn about Python programming and Jupyter notebooks. This is a long notebook, it's okay if you don't get through all of it.\n",
    "\n",
    "This Jupyter notebook contains text cells (like this one), and code cells like the following. Click on the next cell, then click the `▶Run` button to run the code."
   ]
  },
  {
   "cell_type": "code",
   "execution_count": null,
   "metadata": {},
   "outputs": [],
   "source": [
    "from mobilechelonian import Turtle\n",
    "t = Turtle()\n",
    "t.forward(50)"
   ]
  },
  {
   "attachments": {},
   "cell_type": "markdown",
   "metadata": {},
   "source": [
    "## Turtle Commands\n",
    "\n",
    "Assuming that your turtle is named `t`, here are the possible commands you can use.\n",
    "\n",
    "`t.speed(integer)`\n",
    "* Speed of your turtle, 1-10 (hint set your speed to 10) \n",
    "\n",
    "`t.right(degrees)` or `t.left(degrees)`\n",
    "* Turn turtle left or right by some degrees\n",
    "\n",
    "`t.forward(units)` or `t.backward(units)`\n",
    "* Move your turtle forward or backward (units are in pixels) \n",
    "\n",
    "`t.pendown()` or `t.penup()`\n",
    "* For drawing lines or not drawing lines\n",
    "\n",
    "`t.pencolor('color')`\n",
    "* [Color](https://www.w3schools.com/tags/ref_colornames.asp) of your turtle’s line, e.g. 'blue' or 'rgb(100, 0, 255)'\n",
    "\n",
    "`t.setposition(x, y)`\n",
    "* Move the turtle to a specific position. (0,0) is the top left and (400, 400) is the bottom right.\n",
    "\n",
    "`t.circle(r, degrees)`\n",
    "* Have turtle draw a piece of a circle of radius r, through some number of degrees \n",
    "\n",
    "For some inspiration, check out this [example](https://github.com/callysto/TMTeachingTurtles/blob/jupyter-turtles-art-contest/turtles-cool-art-demo.ipynb)."
   ]
  },
  {
   "attachments": {},
   "cell_type": "markdown",
   "metadata": {},
   "source": [
    "## Challenge A1: Can you get your Turtle to draw this house?"
   ]
  },
  {
   "attachments": {},
   "cell_type": "markdown",
   "metadata": {},
   "source": [
    "![house](images/turtle-house.png)"
   ]
  },
  {
   "cell_type": "code",
   "execution_count": null,
   "metadata": {
    "collapsed": true
   },
   "outputs": [],
   "source": [
    "from mobilechelonian import Turtle #import the Turtle module from the mobilechelonian library\n",
    "import math #this library will come in handy when making a perfect roof, hint math.sqrt()\n",
    "t = Turtle()\n",
    "t.speed(10)\n",
    "### enter your code below, use the turtle commands above such as t.forward(100) and t.right(90)\n",
    "t.forward(100) #hint\n",
    "\n",
    "\n",
    "\n",
    "\n",
    "\n"
   ]
  },
  {
   "attachments": {},
   "cell_type": "markdown",
   "metadata": {},
   "source": [
    "## Challenge A2: Can you get your Turtle to draw this shape?"
   ]
  },
  {
   "attachments": {},
   "cell_type": "markdown",
   "metadata": {},
   "source": [
    "![flower](images/turtle-simple-black-flower.png)"
   ]
  },
  {
   "attachments": {},
   "cell_type": "markdown",
   "metadata": {},
   "source": [
    "### This time we use a `for` loop to draw a box in less steps.\n",
    "\n",
    "We use `for` to tell the computer we want to make a `for` loop.\n",
    "\n",
    "\n",
    "```python\n",
    "for i in range(4):  #this is the start of the for loop, the number 4 tells us how many times to repeat the below steps\n",
    "    t.forward(100)  #step 1 of the for loop\n",
    "    t.right(90)     #step 2 of the for loop\n",
    "```\n",
    "\n",
    "**Add your code in the next cell. We've given you a head start.**"
   ]
  },
  {
   "cell_type": "code",
   "execution_count": null,
   "metadata": {
    "collapsed": true
   },
   "outputs": [],
   "source": [
    "from mobilechelonian import Turtle\n",
    "t = Turtle()\n",
    "t.speed(10)\n",
    "\n",
    "for i in range(4):\n",
    "    t.forward(100)\n",
    "    t.right(90)\n",
    "    \n",
    "t.right(60)\n",
    "\n",
    "for i in range(4):\n",
    "    t.forward(100)\n",
    "    t.right(90)\n",
    "    \n",
    "t.right(60)\n",
    "\n",
    "for i in range(4):\n",
    "    t.forward(100)\n",
    "    t.right(90)\n",
    "    \n",
    "t.right(60)\n",
    "\n",
    "### enter your code below, hint: use copy and paste to speed things up\n",
    "\n",
    "\n",
    "\n",
    "\n",
    "\n",
    "\n",
    "\n",
    "\n",
    "\n",
    "\n"
   ]
  },
  {
   "attachments": {},
   "cell_type": "markdown",
   "metadata": {},
   "source": [
    "## Challenge A3: Can you get your Turtle to draw the same shape using a function?"
   ]
  },
  {
   "attachments": {},
   "cell_type": "markdown",
   "metadata": {},
   "source": [
    "![flower](images/turtle-simple-black-flower.png)"
   ]
  },
  {
   "attachments": {},
   "cell_type": "markdown",
   "metadata": {},
   "source": [
    "### This time we make a function to draw a box in 1 line of code.\n",
    "\n",
    "\n",
    "```python\n",
    "def box(steps, degrees): #we use def to make a function called box that takes steps and degrees as inputs\n",
    "    for i in range(4): #just like the for loop from Challenge 2\n",
    "        t.forward(steps) #steps is a variable\n",
    "        t.right(degrees) #degrees is a variable\n",
    "        \n",
    "box(100,90) #this line draws the box where 100 is the number of steps forward and 90 is the number of degrees in the right turn\n",
    "```\n",
    "\n",
    "**Now, use the box function to draw the shape. Add your code in the next cell. We've given you a head start.**"
   ]
  },
  {
   "cell_type": "code",
   "execution_count": null,
   "metadata": {
    "collapsed": true
   },
   "outputs": [],
   "source": [
    "from mobilechelonian import Turtle\n",
    "t = Turtle()\n",
    "t.speed(10)\n",
    "\n",
    "def box(steps, degrees): \n",
    "    for i in range(4): \n",
    "        t.forward(steps)\n",
    "        t.right(degrees)\n",
    "        \n",
    "box(100,90)\n",
    "t.right(60)\n",
    "box(100,90)\n",
    "\n",
    "### enter your code below\n",
    "\n",
    "\n",
    "\n",
    "\n",
    "\n",
    "\n",
    "\n",
    "\n",
    "\n"
   ]
  },
  {
   "attachments": {},
   "cell_type": "markdown",
   "metadata": {},
   "source": [
    "## Challenge A4: Can you get your Turtle to draw this flower?"
   ]
  },
  {
   "attachments": {},
   "cell_type": "markdown",
   "metadata": {},
   "source": [
    "![flower](images/turtle-black-flower.png)"
   ]
  },
  {
   "attachments": {},
   "cell_type": "markdown",
   "metadata": {},
   "source": [
    "### This time try to draw a flower with a function and a `for` loop.\n",
    "\n",
    "**Add your code in the next cell. We've given you a head start.**"
   ]
  },
  {
   "cell_type": "code",
   "execution_count": null,
   "metadata": {
    "collapsed": true
   },
   "outputs": [],
   "source": [
    "from mobilechelonian import Turtle\n",
    "t = Turtle()\n",
    "t.speed(10)\n",
    "\n",
    "def box(steps, degrees): \n",
    "    for i in range(4): \n",
    "        t.forward(steps)\n",
    "        t.right(degrees)\n",
    "\n",
    "### enter your for loop code below, tabs are important and remember to call your box function\n",
    "for i in range(18): #hint\n",
    "\n",
    "\n",
    "\n",
    "\n",
    "\n",
    "\n",
    "\n",
    "\n",
    "\n",
    "\n",
    "\n",
    "\n",
    "\n",
    "    \n",
    "\n"
   ]
  },
  {
   "attachments": {},
   "cell_type": "markdown",
   "metadata": {},
   "source": [
    "## Challenge A5: Can you get your Turtle to draw this colourful flower?"
   ]
  },
  {
   "attachments": {},
   "cell_type": "markdown",
   "metadata": {},
   "source": [
    "![flower](images/turtle-flower.png)"
   ]
  },
  {
   "attachments": {},
   "cell_type": "markdown",
   "metadata": {},
   "source": [
    "### This time let's add colours to our flower by making a `list` of colours.\n",
    "\n",
    "```python\n",
    "colours = [\"red\", \"blue\", \"purple\"] #this is a python list where each colour is an item in the list\n",
    "```\n",
    "\n",
    "**Run the code in the next cell to see how a list works.**"
   ]
  },
  {
   "cell_type": "code",
   "execution_count": null,
   "metadata": {
    "collapsed": true
   },
   "outputs": [],
   "source": [
    "colours = [\"red\", \"blue\", \"purple\"] #this is a python list\n",
    "colours[2] #let's call a list item, try changing the number to return blue"
   ]
  },
  {
   "attachments": {},
   "cell_type": "markdown",
   "metadata": {},
   "source": [
    "**Run the code in the next cell to see how we can iterate through items in a list.**"
   ]
  },
  {
   "cell_type": "code",
   "execution_count": null,
   "metadata": {
    "collapsed": true
   },
   "outputs": [],
   "source": [
    "for i in range(18): #remember our loop with 18 iterations?\n",
    "    print(colours[i % 3], i % 3) #we use 3 because we have 3 colours. the % sign is for the modulo math operator. "
   ]
  },
  {
   "attachments": {},
   "cell_type": "markdown",
   "metadata": {},
   "source": [
    "### Now let's put it all together to draw the colour flower.\n",
    "\n",
    "**Add your code in the next cell. We've given you a head start.**"
   ]
  },
  {
   "cell_type": "code",
   "execution_count": null,
   "metadata": {
    "collapsed": true
   },
   "outputs": [],
   "source": [
    "from mobilechelonian import Turtle\n",
    "t = Turtle()\n",
    "t.speed(10)\n",
    "\n",
    "colours = [\"red\", \"green\", \"purple\"]   \n",
    "\n",
    "def box(steps, degrees): \n",
    "    for i in range(4): \n",
    "        t.forward(steps)\n",
    "        t.right(degrees)\n",
    "\n",
    "### enter your for loop code below, tabs are important and remember to use your box function\n",
    "for i in range(18): #hint\n",
    "    t.pencolor(colours[i % 3]) #step 1\n",
    "    \n",
    "\n",
    "\n",
    "\n",
    "\n",
    "\n",
    "\n",
    "\n",
    "\n"
   ]
  },
  {
   "attachments": {},
   "cell_type": "markdown",
   "metadata": {},
   "source": [
    "## Challenge A6: Can you get your Turtle to draw this colourful and pointy flower? Or make your own unique design with for loops, functions and lists."
   ]
  },
  {
   "attachments": {},
   "cell_type": "markdown",
   "metadata": {},
   "source": [
    "![flower](images/turtle-pointy-flower.png)"
   ]
  },
  {
   "cell_type": "code",
   "execution_count": null,
   "metadata": {
    "collapsed": true
   },
   "outputs": [],
   "source": [
    "### enter your code below\n",
    "\n",
    "\n",
    "\n",
    "\n",
    "\n",
    "\n",
    "\n",
    "\n",
    "\n",
    "\n",
    "\n",
    "\n",
    "\n",
    "\n",
    "\n"
   ]
  },
  {
   "attachments": {},
   "cell_type": "markdown",
   "metadata": {},
   "source": [
    "### Congratulations\n",
    "\n",
    "You've successfully programmed your turtle. Answer the reflection questions below."
   ]
  },
  {
   "attachments": {},
   "cell_type": "markdown",
   "metadata": {},
   "source": [
    "## Complete Part A Reflection Questions\n",
    "\n",
    "1. What are two things you've learned so far?\n",
    "\n",
    "\n",
    "2. What has been your favorite part of this activity?\n",
    "\n",
    "\n",
    "3. Are there other things you would like to create with Python turtles?\n",
    "\n"
   ]
  },
  {
   "attachments": {},
   "cell_type": "markdown",
   "metadata": {},
   "source": [
    "If you are interested in learning more about Python with turtles, we are going look at lists and dictionaries.\n",
    "***\n",
    "\n",
    "# Part B: Turtles and Data Structures (Intermediate)\n",
    "\n",
    "## Lists\n",
    "\n",
    "A [Python list](https://docs.python.org/3/tutorial/datastructures.html) contains values in a specific order. In the previous activity we used a list of colors, `colors = ['purple', 'blue', 'red']` and referenced individual colors from that list, for example `colors[0]` was purple.\n",
    "\n",
    "Run the following code cell to have a turtle draw a 50 pixel line for each color in the list."
   ]
  },
  {
   "cell_type": "code",
   "execution_count": null,
   "metadata": {},
   "outputs": [],
   "source": [
    "from mobilechelonian import Turtle\n",
    "t = Turtle()\n",
    "t.speed(10)\n",
    "\n",
    "colors = ['purple', 'blue', 'red']\n",
    "# run this loop for each value in the list of colors\n",
    "for color in colors:\n",
    "    t.pencolor(color) # set the pen color\n",
    "    t.forward(50) # draw a line"
   ]
  },
  {
   "attachments": {},
   "cell_type": "markdown",
   "metadata": {},
   "source": [
    "## Challenge B1"
   ]
  },
  {
   "attachments": {},
   "cell_type": "markdown",
   "metadata": {},
   "source": [
    "Each of those colors was a string, but a list can also contain other data types such as integers (whole numbers).\n",
    "\n",
    "In the next code cell, add some integers to the `turtle_moves` list with commas between them (notice that we don't use `''` around integers).\n",
    "\n",
    "Then run the cell to see what happens."
   ]
  },
  {
   "cell_type": "code",
   "execution_count": null,
   "metadata": {},
   "outputs": [],
   "source": [
    "# declare a list of integers\n",
    "turtle_moves = [30, 20, 50, 40, 100]\n",
    "\n",
    "t = Turtle()\n",
    "t.speed(10)\n",
    "\n",
    "# for each integer in the list, move forward and turn right\n",
    "for distance in turtle_moves:\n",
    "    t.forward(distance)\n",
    "    t.right(30)"
   ]
  },
  {
   "attachments": {},
   "cell_type": "markdown",
   "metadata": {},
   "source": [
    "## Challenge B2"
   ]
  },
  {
   "attachments": {},
   "cell_type": "markdown",
   "metadata": {},
   "source": [
    "Instead of using \"`for` item `in` list\" to loop through a list we can also use index number (starting from zero). One advantage of this is that we can interate through multiple lists in the same loop.\n",
    "\n",
    "In the code cell below you will use `i` as the index, and loop through `range(3)` meaning `i=0`, `i=1`, `i=2` (up to but not including 3).\n",
    "\n",
    "Paste each of the following list index calls between the appropriate brackets in the loop, e.g. \n",
    "\n",
    "`t.pencolor(colors[i])`.\n",
    "\n",
    "`angles[i]`\n",
    "\n",
    "`colors[i]`\n",
    "\n",
    "`distances[i]`"
   ]
  },
  {
   "cell_type": "code",
   "execution_count": null,
   "metadata": {},
   "outputs": [],
   "source": [
    "# declare the three lists, each with three values\n",
    "colors = ['purple', 'blue', 'red']\n",
    "distances = [60, 80, 100]\n",
    "angles = [90, 144, 127]\n",
    "\n",
    "t = Turtle()\n",
    "t.speed(10)\n",
    "\n",
    "for i in range(3):\n",
    "    t.pencolor()     # paste  colors[i]  between the brackets\n",
    "    t.forward()      # paste  distances[i]  between the brackets\n",
    "    t.right()        # paste  angles[i]  between the brackets"
   ]
  },
  {
   "attachments": {},
   "cell_type": "markdown",
   "metadata": {},
   "source": [
    "## Challenge B3"
   ]
  },
  {
   "attachments": {},
   "cell_type": "markdown",
   "metadata": {},
   "source": [
    "Use the next cell to have a turtle draw a [parallelogram](https://en.wikipedia.org/wiki/Parallelogram) with the angles `120` and `60`, and four sides with a distance of `50` pixels each."
   ]
  },
  {
   "cell_type": "code",
   "execution_count": null,
   "metadata": {},
   "outputs": [],
   "source": [
    "# declare lists for the four angles and four lengths in a parallelogram\n",
    "# the angles should be 120, 60, 120, 60 and distances should be 50, 50, 50, 50\n",
    "angles = []\n",
    "distances = []\n",
    "\n",
    "# create a variable that is the number of values in the angles list\n",
    "number_of_angles = len(angles)\n",
    "\n",
    "t = Turtle()\n",
    "t.speed(10)\n",
    "\n",
    "# do the loop once for each value in the number of angles\n",
    "for i in range(number_of_angles):\n",
    "    t.right(angles[i])\n",
    "    t.forward(distances[i])"
   ]
  },
  {
   "attachments": {},
   "cell_type": "markdown",
   "metadata": {},
   "source": [
    "## Challenge B4"
   ]
  },
  {
   "attachments": {},
   "cell_type": "markdown",
   "metadata": {},
   "source": [
    "We can even create a list of lists and then reference parts of it. In this example the `parallelogram` list contains a list of angles and a list of distances. Try to write a comment before each line in the following code to describe what it does."
   ]
  },
  {
   "cell_type": "code",
   "execution_count": null,
   "metadata": {},
   "outputs": [],
   "source": [
    "# \n",
    "parallelogram = [[120, 60, 120, 60], [80, 50, 80, 50]]\n",
    "# \n",
    "angles = parallelogram[0]\n",
    "# \n",
    "distances = parallelogram[1]\n",
    "# \n",
    "number_of_angles = len(angles)\n",
    "# \n",
    "t = Turtle()\n",
    "# \n",
    "t.speed(10)\n",
    "# \n",
    "for i in range(number_of_angles):\n",
    "    # \n",
    "    t.right(angles[i])\n",
    "    # \n",
    "    t.forward(distances[i])"
   ]
  },
  {
   "attachments": {},
   "cell_type": "markdown",
   "metadata": {},
   "source": [
    "## Challenge B5"
   ]
  },
  {
   "attachments": {},
   "cell_type": "markdown",
   "metadata": {},
   "source": [
    "Here is another way of using nested lists, each list with the `parallelogram` list contains an angle and a distance.\n",
    "\n",
    "To access values in nested lists, the syntax is `list[which_list][which_item]`.\n",
    "\n",
    "So if `letters = [['a', 'b'], ['c','d']]` then `letters[1][0]` is 'c'.\n",
    "\n",
    "In our example, the angles are `parallelogram[i][0]` and the distances are `parallelogram[i][1]`. Add those in the brackets for `t.right()` and `t.forward()` then run the cell."
   ]
  },
  {
   "cell_type": "code",
   "execution_count": null,
   "metadata": {},
   "outputs": [],
   "source": [
    "# declare a nested list for drawing a parallelogram\n",
    "parallelogram = [[120,80], [60,50], [120,80], [60,50]]\n",
    "\n",
    "t = Turtle()\n",
    "t.speed(10)\n",
    "\n",
    "# loop through the list once for each list in the parallelogram list\n",
    "for i in range(len(parallelogram)):\n",
    "    t.right()  # paste  parallelogram[i][0]  between the brackets\n",
    "    t.forward()  # paste  parallelogram[i][1]  between the brackets"
   ]
  },
  {
   "attachments": {},
   "cell_type": "markdown",
   "metadata": {},
   "source": [
    "## Challenge B6"
   ]
  },
  {
   "attachments": {},
   "cell_type": "markdown",
   "metadata": {},
   "source": [
    "## Dictionaries\n",
    "\n",
    "In a paper dictionary, each word has its own definition (or multiple definitions). When we want to know the definition of a word, we find that word in the dictionary.\n",
    "\n",
    "In a similar way, Python [dictionaries](https://docs.python.org/3/tutorial/datastructures.html#dictionaries) identify values by a word (which is called the [key](https://wiki.python.org/moin/DictionaryKeys)). We use curly brackets rather than square brackets to create a dictionary.\n",
    "\n",
    "Add a line of code to the next cell that declares a dictionary called \"move_one\" and has the keys \"right\" and \"forward\". For example:\n",
    "\n",
    "`move_one = {'right':120, 'forward':80}`"
   ]
  },
  {
   "cell_type": "code",
   "execution_count": null,
   "metadata": {},
   "outputs": [],
   "source": [
    "# paste in the line that declares a  move_one  dictionary\n",
    "\n",
    "\n",
    "\n",
    "t = Turtle()\n",
    "t.speed(10)\n",
    "\n",
    "# make the moves from the dictionary values\n",
    "t.right(move_one['right'])\n",
    "t.forward(move_one['forward'])"
   ]
  },
  {
   "attachments": {},
   "cell_type": "markdown",
   "metadata": {},
   "source": [
    "## Challenge B7"
   ]
  },
  {
   "attachments": {},
   "cell_type": "markdown",
   "metadata": {},
   "source": [
    "Here is another way of reading from a dictionary, using `if` statements. We are also introducing the key `color`."
   ]
  },
  {
   "cell_type": "code",
   "execution_count": null,
   "metadata": {},
   "outputs": [],
   "source": [
    "# declare a dictionary with the keys color, right, and forward\n",
    "move_one = {'pencolor':'red', 'right':120, 'forward':80}\n",
    "\n",
    "t = Turtle()\n",
    "t.speed(10)\n",
    "\n",
    "# loop through the items (keys and values) in the dictionary\n",
    "for key, value in move_one.items():\n",
    "    if type(value) == int:\n",
    "        parameter = '('+str(value)+')'\n",
    "    else:\n",
    "        parameter = '(\"'+value+'\")'\n",
    "    command = 't.'+key+parameter\n",
    "    exec(command)"
   ]
  },
  {
   "attachments": {},
   "cell_type": "markdown",
   "metadata": {},
   "source": [
    "To be able to use that code for dictionaries whenever we want, let's define it as a function."
   ]
  },
  {
   "cell_type": "code",
   "execution_count": null,
   "metadata": {},
   "outputs": [],
   "source": [
    "def turtle_move(move_dictionary):\n",
    "    # loop through the items in the dictionary\n",
    "    for key, value in move_dictionary.items():\n",
    "        if type(value) == int:\n",
    "            parameter = '('+str(value)+')'\n",
    "        else:\n",
    "            parameter = '(\"'+value+'\")'\n",
    "        command = 't.'+key+parameter\n",
    "        try:\n",
    "            exec(command)  # this will only work if the command is valid\n",
    "        except:\n",
    "            pass\n",
    "print('Function defined, now you can call it with  turtle_move(move_dictionary)')"
   ]
  },
  {
   "attachments": {},
   "cell_type": "markdown",
   "metadata": {},
   "source": [
    "Now use that function by adding the line\n",
    "\n",
    "`turtle_move(move_dictionary)`\n",
    "\n",
    "at the end of the next cell."
   ]
  },
  {
   "cell_type": "code",
   "execution_count": null,
   "metadata": {},
   "outputs": [],
   "source": [
    "t = Turtle()\n",
    "t.speed(10)\n",
    "\n",
    "# declare a dictionary\n",
    "move_dictionary = {'pencolor':'red', 'right':120, 'forward':80}\n",
    "\n",
    "# paste the line  turtle_move(move_dictionary)  below to call the function\n"
   ]
  },
  {
   "attachments": {},
   "cell_type": "markdown",
   "metadata": {},
   "source": [
    "## Challenge B8"
   ]
  },
  {
   "attachments": {},
   "cell_type": "markdown",
   "metadata": {},
   "source": [
    "Next let's create a list of dictionaries. Notice that it can extent to multiple lines if we have a new line after a bracket or comma. The list still starts and ends with a square bracket.\n",
    "\n",
    "Notice that each dictionary doesn't need to contain all of the keys, and any unknown keys are ignored by our function."
   ]
  },
  {
   "cell_type": "code",
   "execution_count": null,
   "metadata": {},
   "outputs": [],
   "source": [
    "# declare the list of dictionaries\n",
    "list_of_moves = [\n",
    "    {'pencolor':'red', 'right':120, 'forward':80},\n",
    "    {'pencolor':'green', 'right':60, 'forward':50},\n",
    "    {'pencolor':'blue', 'right':120, 'forward':80},\n",
    "    {'pencolor':'yellow', 'right':60, 'forward':50},\n",
    "    {'pencolor':'black'},\n",
    "    {'distance':100, 'thing':404}\n",
    "    ]\n",
    "\n",
    "t = Turtle()\n",
    "t.speed(10)\n",
    "\n",
    "# loop through the list of dictionaries\n",
    "for move in list_of_moves:\n",
    "    turtle_move(move)"
   ]
  },
  {
   "attachments": {},
   "cell_type": "markdown",
   "metadata": {},
   "source": [
    "Using what you now know about lists and dictionaries, and using the `turtle_move(move_dictionary)` function, make a list of moves to draw a star.\n",
    "\n",
    "As a hint, in each move your turtle should go forward a certain amount (e.g. `80`) then either turn right `120` or left `48`.\n",
    "\n",
    "The first two moves in the list are done for you."
   ]
  },
  {
   "cell_type": "code",
   "execution_count": null,
   "metadata": {},
   "outputs": [],
   "source": [
    "list_of_moves = [{'pencolor':'yellow', 'forward':80, 'right':120},\n",
    "                 {'forward':80, 'left':48},\n",
    "                 \n",
    "                ]\n",
    "\n",
    "t = Turtle()\n",
    "t.speed(10)\n",
    "\n",
    "for move in list_of_moves:\n",
    "    turtle_move(move)"
   ]
  },
  {
   "attachments": {},
   "cell_type": "markdown",
   "metadata": {},
   "source": [
    "### Congratulations\n",
    "\n",
    "You've successfully programmed your turtle with lists and dictionaries! Answer the reflection questions below."
   ]
  },
  {
   "attachments": {},
   "cell_type": "markdown",
   "metadata": {},
   "source": [
    "## Complete Part B Reflection Questions\n",
    "\n",
    "1. Are lists and dictionaires useful for programming Python turtles? Why or why not?\n",
    "\n",
    "\n",
    "2. What else do you think lists and dictionaries in Python could be used for?\n",
    "\n"
   ]
  },
  {
   "attachments": {},
   "cell_type": "markdown",
   "metadata": {},
   "source": [
    "If you are interested in learning more about Python and data with turtles go on to Turtles and Data.\n",
    "***\n",
    "\n",
    "# Part C: Turtles and Data (Advanced)\n",
    "\n",
    "This notebook will use what is probably the largest turtles command data set ever assembled. That said, we only spent about five minutes looking before just making one.\n",
    "\n",
    "Using this notebook and our previous knowledge of Python turtles, let's learn some basics about data manipulation.\n",
    "\n",
    "## pandas\n",
    "\n",
    "[pandas](https://pandas.pydata.org) is a free library for Python that makes loading and manipulating data more straightforward by using something called a **dataframe**. Think of a dataframe as like a spreadsheet, but better.\n",
    "\n",
    "### Loading Data \n",
    "\n",
    "Here we are reading a `csv` (comma separated values) file of the data set using the pandas command `read_csv`. The argument we pass to `read_csv` is the file name and location (either a file a local file or one on the internet)."
   ]
  },
  {
   "cell_type": "code",
   "execution_count": null,
   "metadata": {},
   "outputs": [],
   "source": [
    "import pandas as pd # the library for data analysis\n",
    "\n",
    "# declare a variable of where to find the file,  ./ means in the current directory\n",
    "csv_file = \"./turtles-drawings.csv\"\n",
    "\n",
    "# read the csv file into a dataframe called df\n",
    "df = pd.read_csv(csv_file)\n",
    "\n",
    "# display the dataframe we called df\n",
    "df"
   ]
  },
  {
   "attachments": {},
   "cell_type": "markdown",
   "metadata": {},
   "source": [
    "You'll notice that there are nearly 4000 rows of data, more than we'd want to deal with in a spreadsheet. You'll also note that the rows don't appear to be in any particular order, we're going to need to manipulate our data frame in order to draw shapes.\n",
    "\n",
    "But first, let's go over what each column means:\n",
    "\n",
    "1. `angle` : the angle at which a turn will be taken, if the `direction` is a turn (number or `NaN`, which means not a number).\n",
    "2. `direction` : The direction (forward or backward, or left or right turn) the turtle will move (number or `NaN`).\n",
    "3. `length` : The distance (in pixels) the turtle should move forward or backward, if `direction` is forward/backward (number or `NaN`).\n",
    "4. `order` : The order in which commands should be run to draw a given shape (number, counting starts at 0).\n",
    "5. `shape` : The shape the row is associated with (string).\n",
    "5. `color` : The pen color to draw with (string).\n",
    "\n",
    "### Filtering and Sorting Data\n",
    "\n",
    "To filter the dataframe by values in a column and sort the values, use the following code:"
   ]
  },
  {
   "cell_type": "code",
   "execution_count": null,
   "metadata": {},
   "outputs": [],
   "source": [
    "df[(df['shape']=='star') & (df['color'] == 'yellow')].sort_values(by='order')"
   ]
  },
  {
   "attachments": {},
   "cell_type": "markdown",
   "metadata": {},
   "source": [
    "Let's explore the commands in that line of code that gave us a filtered and sorted dataframe.\n",
    "\n",
    "```python\n",
    "df[(df['shape']=='star') & (df['color'] == 'yellow')].sort_values(by='order')\n",
    "```\n",
    "\n",
    "First we are using part of the `df` dataframe, where the column `df['shape']` is equal to `'star'` **and** the column `df['color']` is equal to `'yellow'`.\n",
    "\n",
    "Because we have more than one condition we use parentheses `()` around them, and the symbol `&` between them.\n",
    "\n",
    "The `.sort_values(by='order')` is a *method*, which is like a *function*, defined for dataframes that sorts the values in the dataframe. There are [more options](https://pandas.pydata.org/pandas-docs/stable/reference/api/pandas.DataFrame.sort_values.html) for the sorting process if you are interested.\n",
    "\n",
    "The next cell has more information about pandas commands, or you can skip down to using the drawing function.\n",
    "\n",
    "## Some pandas Commands\n",
    "\n",
    "The list below will use the name `df`, short for data frame, to represent the variable name that any data frame is assigned to.\n",
    "\n",
    "### Selecting Data\n",
    "\n",
    "To select a single column, use \n",
    "```python \n",
    "df[\"column_name\"]\n",
    "```\n",
    "To select multiple columns, use \n",
    "```python \n",
    "df[[\"list\",\"of\",\"column\",\"names\"]]\n",
    "```\n",
    "\n",
    "### Filtering Data\n",
    "\n",
    "To filter data to only rows where a column is a certain value, use\n",
    "```python\n",
    "df[df['column_name'] == value]\n",
    "``` \n",
    "\n",
    "To have multiple requirements, wrap things in parenthesis such as \n",
    "```python\n",
    "df[(df['column_name1'] == value1) & (df['column_name2'] == value2)]\n",
    "``` \n",
    "where `&` means \"and\". This command means we're looking for **rows** where `column_name1` is equal to `value1` **AND** where `column_name2` is equal to `value2`. \n",
    "\n",
    "Similarily, for `or`, represented by a vertical bar `|` \n",
    "```python\n",
    "df[(df['column_name1'] == value1) | (df['column_name2'] == value2)]\n",
    "``` \n",
    "This command means  we're looking for **rows** where `column_name1` is equal to `value1` **OR** where `column_name2` is equal to `value2`.\n",
    "\n",
    "### Sorting Values\n",
    "\n",
    "To sort alphanumerically by a single column use\n",
    "```python\n",
    "df.sort_values(by=\"column_name\")\n",
    "``` \n",
    "\n",
    "To sort alphanumerically by multiple columns, in the order that your list is given\n",
    "```python\n",
    "df.sort_values(by=[\"list\", \"of\", \"names\"])\n",
    "```\n",
    "\n",
    "## Using the `turtle_data` Function to Draw Shapes\n",
    "\n",
    "To allow you to focus on manipulating the data, let's declare a function to parse the dataframe and draw turtle graphics."
   ]
  },
  {
   "cell_type": "code",
   "execution_count": null,
   "metadata": {},
   "outputs": [],
   "source": [
    "from mobilechelonian import Turtle # for drawing with turtles\n",
    "\n",
    "def turtle_data(df):\n",
    "    t = Turtle()\n",
    "    t.speed(10)\n",
    "    for index, row in df.iterrows(): \n",
    "        t.pencolor(row.color)\n",
    "        if row.direction == \"left\":\n",
    "            t.left(row.angle)\n",
    "        if row.direction == 'right':\n",
    "            t.right(row.angle)\n",
    "        if row.direction == \"forward\":\n",
    "            t.forward(row.length)\n",
    "        if row.direction == \"backward\":\n",
    "            t.backward(row.length)\n",
    "print('You can now use the turtle_data function.')"
   ]
  },
  {
   "attachments": {},
   "cell_type": "markdown",
   "metadata": {},
   "source": [
    "The cell below demonstrates how to use the function. The `turtle_data` function simply takes the turtles DataFrame as input, and it handles the rest."
   ]
  },
  {
   "cell_type": "code",
   "execution_count": null,
   "metadata": {},
   "outputs": [],
   "source": [
    "# create a new dataframe where shape is star, color is yellow, and values are sorted\n",
    "demo_frame = df[(df['shape']=='star') & (df['color'] == 'yellow')].sort_values(by='order')\n",
    "\n",
    "# call the function using that new dataframe\n",
    "turtle_data(demo_frame)"
   ]
  },
  {
   "attachments": {},
   "cell_type": "markdown",
   "metadata": {},
   "source": [
    "To see the list of shapes in the original dataframe, we can use `df['shape'].unique()`."
   ]
  },
  {
   "cell_type": "code",
   "execution_count": null,
   "metadata": {},
   "outputs": [],
   "source": [
    "df['shape'].unique()"
   ]
  },
  {
   "attachments": {},
   "cell_type": "markdown",
   "metadata": {},
   "source": [
    "We can also list the unique colors."
   ]
  },
  {
   "cell_type": "code",
   "execution_count": null,
   "metadata": {},
   "outputs": [],
   "source": [
    "df['color'].unique()"
   ]
  },
  {
   "attachments": {},
   "cell_type": "markdown",
   "metadata": {},
   "source": [
    "## Challenge\n",
    "\n",
    "Filter the data appropriately to draw a box, then try other shapes and colors.\n",
    "\n",
    "You can use a single line of code to filter and sort the data, as we did above, or multiple steps like:\n",
    "\n",
    "```python\n",
    "df_box = df[df['shape'] == 'star']\n",
    "df_green_box = df_box[df_box['color']=='yellow']\n",
    "df_sorted = df_green_box.sort_values(by='order')\n",
    "turtle_data(df_sorted)\n",
    "```"
   ]
  },
  {
   "cell_type": "code",
   "execution_count": null,
   "metadata": {},
   "outputs": [],
   "source": [
    "# enter your code below\n",
    "\n",
    "\n",
    "\n",
    "\n",
    "\n",
    "\n"
   ]
  },
  {
   "attachments": {},
   "cell_type": "markdown",
   "metadata": {},
   "source": [
    "### Congratulations\n",
    "\n",
    "You've successfully programmed your turtle using an instruction set from a pandas dataframe.\n",
    "\n",
    "## Advanced: Alternating Colors\n",
    "\n",
    "As an even more advanced challenge, you can try drawing shapes with alternating colors from the dataframe."
   ]
  },
  {
   "cell_type": "code",
   "execution_count": null,
   "metadata": {},
   "outputs": [],
   "source": [
    "# enter your code below\n",
    "\n",
    "\n",
    "\n",
    "\n",
    "\n",
    "\n",
    "\n"
   ]
  },
  {
   "attachments": {},
   "cell_type": "markdown",
   "metadata": {},
   "source": [
    "## Complete Part C Reflection Questions\n",
    "\n",
    "1. What was your favorite part about Python turtles?\n",
    "\n",
    "\n",
    "2. Do you want to show this to other people? Why or why not?\n",
    "\n"
   ]
  },
  {
   "attachments": {},
   "cell_type": "markdown",
   "metadata": {},
   "source": [
    "[![Callysto.ca License](https://github.com/callysto/curriculum-notebooks/blob/master/callysto-notebook-banner-bottom.jpg?raw=true)](https://github.com/callysto/curriculum-notebooks/blob/master/LICENSE.md)"
   ]
  }
 ],
 "metadata": {
  "kernelspec": {
   "display_name": "Python 3.9.6 64-bit",
   "language": "python",
   "name": "python3"
  },
  "language_info": {
   "codemirror_mode": {
    "name": "ipython",
    "version": 3
   },
   "file_extension": ".py",
   "mimetype": "text/x-python",
   "name": "python",
   "nbconvert_exporter": "python",
   "pygments_lexer": "ipython3",
   "version": "3.10.4"
  },
  "vscode": {
   "interpreter": {
    "hash": "31f2aee4e71d21fbe5cf8b01ff0e069b9275f58929596ceb00d14d90e3e16cd6"
   }
  }
 },
 "nbformat": 4,
 "nbformat_minor": 2
}
