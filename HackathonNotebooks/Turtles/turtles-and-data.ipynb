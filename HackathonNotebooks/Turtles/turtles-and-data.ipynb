{
 "cells": [
  {
   "cell_type": "markdown",
   "metadata": {},
   "source": [
    "![Callysto.ca Banner](https://github.com/callysto/curriculum-notebooks/blob/master/callysto-notebook-banner-top.jpg?raw=true)\n",
    "\n",
    "<a href=\"https://hub.callysto.ca/jupyter/hub/user-redirect/git-pull?repo=https%3A%2F%2Fgithub.com%2Fcallysto%2Ftmteachingturtles&branch=master&subPath=TMDataTurtles/turtles-and-data-student.ipynb&depth=1\" target=\"_parent\"><img src=\"https://raw.githubusercontent.com/callysto/curriculum-notebooks/master/open-in-callysto-button.svg?sanitize=true\" width=\"123\" height=\"24\" alt=\"Open in Callysto\"/></a>"
   ]
  },
  {
   "cell_type": "markdown",
   "metadata": {},
   "source": [
    "# Turtles and Data\n",
    "\n",
    "This notebook will use what is probably the largest turtles command data set ever assembled. That said, we only spent about five minutes looking before just making one.\n",
    "\n",
    "Using this notebook and our previous knowledge of Python turtles, let's learn some basics about data manipulation.\n",
    "\n",
    "## pandas\n",
    "\n",
    "[pandas](https://pandas.pydata.org) is a free library for Python that makes loading and manipulating data more straightforward by using something called a **dataframe**. Think of a dataframe as like a spreadsheet, but better.\n",
    "\n",
    "### Loading Data \n",
    "\n",
    "Here we are reading a `csv` (comma separated values) file of the data set using the pandas command `read_csv`. The argument we pass to `read_csv` is the file name and location (either a file a local file or one on the internet)."
   ]
  },
  {
   "cell_type": "code",
   "execution_count": null,
   "metadata": {},
   "outputs": [],
   "source": [
    "import pandas as pd # the library for data analysis\n",
    "\n",
    "# declare a variable of where to find the file,  ./ means in the current directory\n",
    "csv_file = \"./turtles-drawings.csv\"\n",
    "\n",
    "# read the csv file into a dataframe called df\n",
    "df = pd.read_csv(csv_file)\n",
    "\n",
    "# display the dataframe we called df\n",
    "df"
   ]
  },
  {
   "cell_type": "markdown",
   "metadata": {},
   "source": [
    "You'll notice that there are nearly 4000 rows of data, more than we'd want to deal with in a spreadsheet. You'll also note that the rows don't appear to be in any particular order, we're going to need to manipulate our data frame in order to draw shapes.\n",
    "\n",
    "But first, let's go over what each column means:\n",
    "\n",
    "1. `angle` : the angle at which a turn will be taken, if the `direction` is a turn (number or `NaN`, which means not a number).\n",
    "2. `direction` : The direction (forward or backward, or left or right turn) the turtle will move (number or `NaN`).\n",
    "3. `length` : The distance (in pixels) the turtle should move forward or backward, if `direction` is forward/backward (number or `NaN`).\n",
    "4. `order` : The order in which commands should be run to draw a given shape (number, counting starts at 0).\n",
    "5. `shape` : The shape the row is associated with (string).\n",
    "5. `color` : The pen color to draw with (string).\n",
    "\n",
    "### Filtering and Sorting Data\n",
    "\n",
    "To filter the dataframe by values in a column and sort the values, use the following code:"
   ]
  },
  {
   "cell_type": "code",
   "execution_count": null,
   "metadata": {},
   "outputs": [],
   "source": [
    "df[(df['shape']=='star') & (df['color'] == 'yellow')].sort_values(by='order')"
   ]
  },
  {
   "cell_type": "markdown",
   "metadata": {},
   "source": [
    "Let's explore the commands in that line of code that gave us a filtered and sorted dataframe.\n",
    "\n",
    "```python\n",
    "df[(df['shape']=='star') & (df['color'] == 'yellow')].sort_values(by='order')\n",
    "```\n",
    "\n",
    "First we are using part of the `df` dataframe, where the column `df['shape']` is equal to `'star'` **and** the column `df['color']` is equal to `'yellow'`.\n",
    "\n",
    "Because we have more than one condition we use parentheses `()` around them, and the symbol `&` between them.\n",
    "\n",
    "The `.sort_values(by='order')` is a *method*, which is like a *function*, defined for dataframes that sorts the values in the dataframe. There are [more options](https://pandas.pydata.org/pandas-docs/stable/reference/api/pandas.DataFrame.sort_values.html) for the sorting process if you are interested.\n",
    "\n",
    "The next cell has more information about pandas commands, or you can skip down to using the drawing function.\n",
    "\n",
    "## Some pandas Commands\n",
    "\n",
    "The list below will use the name `df`, short for data frame, to represent the variable name that any data frame is assigned to.\n",
    "\n",
    "### Selecting Data\n",
    "\n",
    "To select a single column, use \n",
    "```python \n",
    "df[\"column_name\"]\n",
    "```\n",
    "To select multiple columns, use \n",
    "```python \n",
    "df[[\"list\",\"of\",\"column\",\"names\"]]\n",
    "```\n",
    "\n",
    "### Filtering Data\n",
    "\n",
    "To filter data to only rows where a column is a certain value, use\n",
    "```python\n",
    "df[df['column_name'] == value]\n",
    "``` \n",
    "\n",
    "To have multiple requirements, wrap things in parenthesis such as \n",
    "```python\n",
    "df[(df['column_name1'] == value1) & (df['column_name2'] == value2)]\n",
    "``` \n",
    "where `&` means \"and\". This command means we're looking for **rows** where `column_name1` is equal to `value1` **AND** where `column_name2` is equal to `value2`. \n",
    "\n",
    "Similarily, for `or`, represented by a vertical bar `|` \n",
    "```python\n",
    "df[(df['column_name1'] == value1) | (df['column_name2'] == value2)]\n",
    "``` \n",
    "This command means  we're looking for **rows** where `column_name1` is equal to `value1` **OR** where `column_name2` is equal to `value2`.\n",
    "\n",
    "### Sorting Values\n",
    "\n",
    "To sort alphanumerically by a single column use\n",
    "```python\n",
    "df.sort_values(by=\"column_name\")\n",
    "``` \n",
    "\n",
    "To sort alphanumerically by multiple columns, in the order that your list is given\n",
    "```python\n",
    "df.sort_values(by=[\"list\", \"of\", \"names\"])\n",
    "```\n",
    "\n",
    "## Using the `turtle_data` Function to Draw Shapes\n",
    "\n",
    "To allow you to focus on manipulating the data, let's declare a function to parse the dataframe and draw turtle graphics."
   ]
  },
  {
   "cell_type": "code",
   "execution_count": null,
   "metadata": {},
   "outputs": [],
   "source": [
    "from mobilechelonian import Turtle # for drawing with turtles\n",
    "\n",
    "def turtle_data(df):\n",
    "    t = Turtle()\n",
    "    t.speed(10)\n",
    "    for index, row in df.iterrows(): \n",
    "        t.pencolor(row.color)\n",
    "        if row.direction == \"left\":\n",
    "            t.left(row.angle)\n",
    "        if row.direction == 'right':\n",
    "            t.right(row.angle)\n",
    "        if row.direction == \"forward\":\n",
    "            t.forward(row.length)\n",
    "        if row.direction == \"backward\":\n",
    "            t.backward(row.length)\n",
    "print('You can now use the turtle_data function.')"
   ]
  },
  {
   "cell_type": "markdown",
   "metadata": {},
   "source": [
    "The cell below demonstrates how to use the function. The `turtle_data` function simply takes the turtles DataFrame as input, and it handles the rest."
   ]
  },
  {
   "cell_type": "code",
   "execution_count": null,
   "metadata": {},
   "outputs": [],
   "source": [
    "# create a new dataframe where shape is star, color is yellow, and values are sorted\n",
    "demo_frame = df[(df['shape']=='star') & (df['color'] == 'yellow')].sort_values(by='order')\n",
    "\n",
    "# call the function using that new dataframe\n",
    "turtle_data(demo_frame)"
   ]
  },
  {
   "cell_type": "markdown",
   "metadata": {},
   "source": [
    "To see the list of shapes in the original dataframe, we can use `df['shape'].unique()`."
   ]
  },
  {
   "cell_type": "code",
   "execution_count": null,
   "metadata": {},
   "outputs": [],
   "source": [
    "df['shape'].unique()"
   ]
  },
  {
   "cell_type": "markdown",
   "metadata": {},
   "source": [
    "We can also list the unique colors."
   ]
  },
  {
   "cell_type": "code",
   "execution_count": null,
   "metadata": {},
   "outputs": [],
   "source": [
    "df['color'].unique()"
   ]
  },
  {
   "cell_type": "markdown",
   "metadata": {},
   "source": [
    "## Task\n",
    "\n",
    "Filter the data appropriately to draw a box, then try other shapes and colors.\n",
    "\n",
    "You can use a single line of code to filter and sort the data, as we did above, or multiple steps like:\n",
    "\n",
    "```python\n",
    "df_box = df[df['shape'] == 'star']\n",
    "df_green_box = df_box[df_box['color']=='yellow']\n",
    "df_sorted = df_green_box.sort_values(by='order')\n",
    "turtle_data(df_sorted)\n",
    "```"
   ]
  },
  {
   "cell_type": "code",
   "execution_count": null,
   "metadata": {},
   "outputs": [],
   "source": [
    "# enter code below\n"
   ]
  },
  {
   "cell_type": "markdown",
   "metadata": {},
   "source": [
    "# Congratulations\n",
    "\n",
    "You've successfully programmed your turtle using an instruction set from a pandas dataframe!\n",
    "\n",
    "## Advanced: Alternating Colors\n",
    "\n",
    "As an advanced challenge, you can try drawing shapes with alternating colors from the dataframe."
   ]
  },
  {
   "cell_type": "markdown",
   "metadata": {},
   "source": [
    "[![Callysto.ca License](https://github.com/callysto/curriculum-notebooks/blob/master/callysto-notebook-banner-bottom.jpg?raw=true)](https://github.com/callysto/curriculum-notebooks/blob/master/LICENSE.md)"
   ]
  }
 ],
 "metadata": {
  "kernelspec": {
   "display_name": "Python 3.10.1 64-bit",
   "language": "python",
   "name": "python3"
  },
  "language_info": {
   "codemirror_mode": {
    "name": "ipython",
    "version": 3
   },
   "file_extension": ".py",
   "mimetype": "text/x-python",
   "name": "python",
   "nbconvert_exporter": "python",
   "pygments_lexer": "ipython3",
   "version": "3.10.1"
  },
  "nbTranslate": {
   "displayLangs": [
    "*"
   ],
   "hotkey": "alt-t",
   "langInMainMenu": true,
   "sourceLang": "en",
   "targetLang": "fr",
   "useGoogleTranslate": true
  },
  "vscode": {
   "interpreter": {
    "hash": "d1ca6d17674200220921376aaeb3d36cffe15ecab2470a9a5e7a456cdbf61425"
   }
  }
 },
 "nbformat": 4,
 "nbformat_minor": 2
}
