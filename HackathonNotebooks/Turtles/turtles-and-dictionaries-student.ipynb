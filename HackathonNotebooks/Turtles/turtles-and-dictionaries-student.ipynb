{
 "cells": [
  {
   "cell_type": "markdown",
   "metadata": {},
   "source": [
    "![Callysto.ca Banner](https://github.com/callysto/curriculum-notebooks/blob/master/callysto-notebook-banner-top.jpg?raw=true)\n",
    "\n",
    "<a href=\"https://hub.callysto.ca/jupyter/hub/user-redirect/git-pull?repo=https%3A%2F%2Fgithub.com%2Fcallysto%2Ftmteachingturtles&branch=master&subPath=TMDictionaryTurtles/turtles-and-dictionaries-student.ipynb&depth=1\" target=\"_parent\"><img src=\"https://raw.githubusercontent.com/callysto/curriculum-notebooks/master/open-in-callysto-button.svg?sanitize=true\" width=\"123\" height=\"24\" alt=\"Open in Callysto\"/></a>"
   ]
  },
  {
   "cell_type": "markdown",
   "metadata": {},
   "source": [
    "# Turtles: Lists and Dictionaries\n",
    "\n",
    "This notebook will use Turtles to explore some ways to structure data in Python.\n",
    "\n",
    "## Lists\n",
    "\n",
    "A [Python list](https://docs.python.org/3/tutorial/datastructures.html) contains values in a specific order. In the previous notebook we used a list of colors, `colors = ['purple', 'blue', 'red']` and referenced individual colors from that list, for example `colors[0]` was purple.\n",
    "\n",
    "Run the following code cell to have a turtle draw a 50 pixel line for each color in the list."
   ]
  },
  {
   "cell_type": "code",
   "execution_count": null,
   "metadata": {},
   "outputs": [],
   "source": [
    "from mobilechelonian import Turtle\n",
    "t = Turtle()\n",
    "t.speed(10)\n",
    "\n",
    "colors = ['purple', 'blue', 'red']\n",
    "# run this loop for each value in the list of colors\n",
    "for color in colors:\n",
    "    t.pencolor(color) # set the pen color\n",
    "    t.forward(50) # draw a line"
   ]
  },
  {
   "cell_type": "markdown",
   "metadata": {},
   "source": [
    "Each of those colors was a string, but a list can also contain other data types such as integers (whole numbers).\n",
    "\n",
    "In the next code cell, add some integers to the `turtle_moves` list with commas between them (notice that we don't use `''` around integers).\n",
    "\n",
    "Then run the cell to see what happens."
   ]
  },
  {
   "cell_type": "code",
   "execution_count": null,
   "metadata": {},
   "outputs": [],
   "source": [
    "# declare a list of integers\n",
    "turtle_moves = [30, 20, 50, 40, 100]\n",
    "\n",
    "t = Turtle()\n",
    "t.speed(10)\n",
    "\n",
    "# for each integer in the list, move forward and turn right\n",
    "for distance in turtle_moves:\n",
    "    t.forward(distance)\n",
    "    t.right(30)"
   ]
  },
  {
   "cell_type": "markdown",
   "metadata": {},
   "source": [
    "Instead of using \"`for` item `in` list\" to loop through a list we can also use index number (starting from zero). One advantage of this is that we can interate through multiple lists in the same loop.\n",
    "\n",
    "In the code cell below you will use `i` as the index, and loop through `range(3)` meaning `i=0`, `i=1`, `i=2` (up to but not including 3).\n",
    "\n",
    "Paste each the following list index calls between the appropriate brackets in the loop, e.g. \n",
    "\n",
    "`t.pencolor(colors[i])`.\n",
    "\n",
    "`angles[i]`\n",
    "\n",
    "`colors[i]`\n",
    "\n",
    "`distances[i]`"
   ]
  },
  {
   "cell_type": "code",
   "execution_count": null,
   "metadata": {},
   "outputs": [],
   "source": [
    "# declare the three lists, each with three values\n",
    "colors = ['purple', 'blue', 'red']\n",
    "distances = [60, 80, 100]\n",
    "angles = [90, 144, 127]\n",
    "\n",
    "t = Turtle()\n",
    "t.speed(10)\n",
    "\n",
    "for i in range(3):\n",
    "    t.pencolor()     # paste  colors[i]  between the brackets\n",
    "    t.forward()      # paste  distances[i]  between the brackets\n",
    "    t.right()        # paste  angles[i]  between the brackets"
   ]
  },
  {
   "cell_type": "markdown",
   "metadata": {},
   "source": [
    "Use the next cell to have a turtle draw a [parallelogram](https://en.wikipedia.org/wiki/Parallelogram) with the angles `120` and `60`, and four sides with a distance of `50` pixels each."
   ]
  },
  {
   "cell_type": "code",
   "execution_count": null,
   "metadata": {},
   "outputs": [],
   "source": [
    "# declare lists for the four angles and four lengths in a parallelogram\n",
    "# the angles should be 120, 60, 120, 60 and distances should be 50, 50, 50, 50\n",
    "angles = []\n",
    "distances = []\n",
    "\n",
    "# create a variable that is the number of values in the angles list\n",
    "number_of_angles = len(angles)\n",
    "\n",
    "t = Turtle()\n",
    "t.speed(10)\n",
    "\n",
    "# do the loop once for each value in the number of angles\n",
    "for i in range(number_of_angles):\n",
    "    t.right(angles[i])\n",
    "    t.forward(distances[i])"
   ]
  },
  {
   "cell_type": "markdown",
   "metadata": {},
   "source": [
    "We can even create a list of lists and then reference parts of it. In this example the `parallelogram` list contains a list of angles and a list of distances. Try to write a comment before each line in the following code to describe what it does."
   ]
  },
  {
   "cell_type": "code",
   "execution_count": null,
   "metadata": {},
   "outputs": [],
   "source": [
    "# \n",
    "parallelogram = [[120, 60, 120, 60], [80, 50, 80, 50]]\n",
    "# \n",
    "angles = parallelogram[0]\n",
    "# \n",
    "distances = parallelogram[1]\n",
    "# \n",
    "number_of_angles = len(angles)\n",
    "# \n",
    "t = Turtle()\n",
    "# \n",
    "t.speed(10)\n",
    "# \n",
    "for i in range(number_of_angles):\n",
    "    # \n",
    "    t.right(angles[i])\n",
    "    # \n",
    "    t.forward(distances[i])"
   ]
  },
  {
   "cell_type": "markdown",
   "metadata": {},
   "source": [
    "Here is another way of using nested lists, each list with the `parallelogram` list contains an angle and a distance.\n",
    "\n",
    "To access values in nested lists, the syntax is `list[which_list][which_item]`.\n",
    "\n",
    "So if `letters = [['a', 'b'], ['c','d']]` then `letters[1][0]` is 'c'.\n",
    "\n",
    "In our example, the angles are `parallelogram[i][0]` and the distances are `parallelogram[i][1]`. Add those in the brackets for `t.right()` and `t.forward()` then run the cell."
   ]
  },
  {
   "cell_type": "code",
   "execution_count": null,
   "metadata": {},
   "outputs": [],
   "source": [
    "# declare a nested list for drawing a parallelogram\n",
    "parallelogram = [[120,80], [60,50], [120,80], [60,50]]\n",
    "\n",
    "t = Turtle()\n",
    "t.speed(10)\n",
    "\n",
    "# loop through the list once for each list in the parallelogram list\n",
    "for i in range(len(parallelogram)):\n",
    "    t.right()  # paste  parallelogram[i][0]  between the brackets\n",
    "    t.forward()  # paste  parallelogram[i][1]  between the brackets"
   ]
  },
  {
   "cell_type": "markdown",
   "metadata": {},
   "source": [
    "## Dictionaries\n",
    "\n",
    "In a paper dictionary, each word has its own definition (or multiple definitions). When we want to know the definition of a word, we find that word in the dictionary.\n",
    "\n",
    "In a similar way, Python [dictionaries](https://docs.python.org/3/tutorial/datastructures.html#dictionaries) identify values by a word (which is called the [key](https://wiki.python.org/moin/DictionaryKeys)). We use curly brackets rather than square brackets to create a dictionary.\n",
    "\n",
    "Add a line of code to the next cell that declares a dictionary called \"move_one\" and has the keys \"right\" and \"forward\". For example:\n",
    "\n",
    "`move_one = {'right':120, 'forward':80}`"
   ]
  },
  {
   "cell_type": "code",
   "execution_count": null,
   "metadata": {},
   "outputs": [],
   "source": [
    "# paste in the line that declares a  move_one  dictionary\n",
    "\n",
    "\n",
    "t = Turtle()\n",
    "t.speed(10)\n",
    "\n",
    "# make the moves from the dictionary values\n",
    "t.right(move_one['right'])\n",
    "t.forward(move_one['forward'])"
   ]
  },
  {
   "cell_type": "markdown",
   "metadata": {},
   "source": [
    "Here is another way of reading from a dictionary, using `if` statements. We are also introducing the key `color`."
   ]
  },
  {
   "cell_type": "code",
   "execution_count": null,
   "metadata": {},
   "outputs": [],
   "source": [
    "# declare a dictionary with the keys color, right, and forward\n",
    "move_one = {'pencolor':'red', 'right':120, 'forward':80}\n",
    "\n",
    "t = Turtle()\n",
    "t.speed(10)\n",
    "\n",
    "# loop through the items (keys and values) in the dictionary\n",
    "for key, value in move_one.items():\n",
    "    if type(value) == int:\n",
    "        parameter = '('+str(value)+')'\n",
    "    else:\n",
    "        parameter = '(\"'+value+'\")'\n",
    "    command = 't.'+key+parameter\n",
    "    exec(command)"
   ]
  },
  {
   "cell_type": "markdown",
   "metadata": {},
   "source": [
    "To be able to use that code for dictionaries whenever we want, let's define it as a function."
   ]
  },
  {
   "cell_type": "code",
   "execution_count": null,
   "metadata": {},
   "outputs": [],
   "source": [
    "def turtle_move(move_dictionary):\n",
    "    # loop through the items in the dictionary\n",
    "    for key, value in move_dictionary.items():\n",
    "        if type(value) == int:\n",
    "            parameter = '('+str(value)+')'\n",
    "        else:\n",
    "            parameter = '(\"'+value+'\")'\n",
    "        command = 't.'+key+parameter\n",
    "        try:\n",
    "            exec(command)  # this will only work if the command is valid\n",
    "        except:\n",
    "            pass\n",
    "print('Function defined, now you can call it with  turtle_move(move_dictionary)')"
   ]
  },
  {
   "cell_type": "markdown",
   "metadata": {},
   "source": [
    "Now use that function by adding the line\n",
    "\n",
    "`turtle_move(move_dictionary)`\n",
    "\n",
    "at the end of the next cell."
   ]
  },
  {
   "cell_type": "code",
   "execution_count": null,
   "metadata": {},
   "outputs": [],
   "source": [
    "t = Turtle()\n",
    "t.speed(10)\n",
    "\n",
    "# declare a dictionary\n",
    "move_dictionary = {'pencolor':'red', 'right':120, 'forward':80}\n",
    "\n",
    "# paste the line  turtle_move(move_dictionary)  below to call the function\n"
   ]
  },
  {
   "cell_type": "markdown",
   "metadata": {},
   "source": [
    "Next let's create a list of dictionaries. Notice that it can extent to multiple lines if we have a new line after a bracket or comma. The list still starts and ends with a square bracket.\n",
    "\n",
    "Notice that each dictionary doesn't need to contain all of the keys, and any unknown keys are ignored by our function."
   ]
  },
  {
   "cell_type": "code",
   "execution_count": null,
   "metadata": {},
   "outputs": [],
   "source": [
    "# declare the list of dictionaries\n",
    "list_of_moves = [\n",
    "    {'pencolor':'red', 'right':120, 'forward':80},\n",
    "    {'pencolor':'green', 'right':60, 'forward':50},\n",
    "    {'pencolor':'blue', 'right':120, 'forward':80},\n",
    "    {'pencolor':'yellow', 'right':60, 'forward':50},\n",
    "    {'pencolor':'black'},\n",
    "    {'distance':100, 'thing':404}\n",
    "    ]\n",
    "\n",
    "t = Turtle()\n",
    "t.speed(10)\n",
    "\n",
    "# loop through the list of dictionaries\n",
    "for move in list_of_moves:\n",
    "    turtle_move(move)"
   ]
  },
  {
   "cell_type": "markdown",
   "metadata": {},
   "source": [
    "## Challenge\n",
    "\n",
    "Using what you now know about lists and dictionaries, and using the `turtle_move(move_dictionary)` function, make a list of moves to draw a star.\n",
    "\n",
    "As a hint, in each move your turtle should go forward a certain amount (e.g. `80`) then either turn right `120` or left `48`.\n",
    "\n",
    "The first two moves in the list are done for you."
   ]
  },
  {
   "cell_type": "code",
   "execution_count": null,
   "metadata": {},
   "outputs": [],
   "source": [
    "list_of_moves = [{'pencolor':'yellow', 'forward':80, 'right':120},\n",
    "                 {'forward':80, 'left':48},\n",
    "                 \n",
    "                ]\n",
    "\n",
    "t = Turtle()\n",
    "t.speed(10)\n",
    "\n",
    "for move in list_of_moves:\n",
    "    turtle_move(move)"
   ]
  },
  {
   "cell_type": "markdown",
   "metadata": {},
   "source": [
    "### Congratulations\n",
    "\n",
    "You've successfully programmed your turtle with lists and dictionaries!\n",
    "\n",
    "If you are interested in learning more about Python and data with turtles, try [Turtles and Data](turtles-and-data.ipynb)"
   ]
  },
  {
   "cell_type": "markdown",
   "metadata": {},
   "source": [
    "[![Callysto.ca License](https://github.com/callysto/curriculum-notebooks/blob/master/callysto-notebook-banner-bottom.jpg?raw=true)](https://github.com/callysto/curriculum-notebooks/blob/master/LICENSE.md)"
   ]
  }
 ],
 "metadata": {
  "kernelspec": {
   "display_name": "Python 3.10.1 64-bit",
   "language": "python",
   "name": "python3"
  },
  "language_info": {
   "codemirror_mode": {
    "name": "ipython",
    "version": 3
   },
   "file_extension": ".py",
   "mimetype": "text/x-python",
   "name": "python",
   "nbconvert_exporter": "python",
   "pygments_lexer": "ipython3",
   "version": "3.10.1"
  },
  "nbTranslate": {
   "displayLangs": [
    "*"
   ],
   "hotkey": "alt-t",
   "langInMainMenu": true,
   "sourceLang": "en",
   "targetLang": "fr",
   "useGoogleTranslate": true
  },
  "vscode": {
   "interpreter": {
    "hash": "d1ca6d17674200220921376aaeb3d36cffe15ecab2470a9a5e7a456cdbf61425"
   }
  }
 },
 "nbformat": 4,
 "nbformat_minor": 2
}
