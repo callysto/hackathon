{
 "cells": [
  {
   "cell_type": "markdown",
   "metadata": {},
   "source": [
    "![Callysto.ca Banner](https://github.com/callysto/curriculum-notebooks/blob/master/callysto-notebook-banner-top.jpg?raw=true)\n",
    "\n",
    "<a href=\"https://hub.callysto.ca/jupyter/hub/user-redirect/git-pull?repo=https%3A%2F%2Fgithub.com%2Fcallysto%2Ftmteachingturtles&branch=master&subPath=TMPythonTurtles/turtles-and-python-intro-student.ipynb&depth=1\" target=\"_parent\"><img src=\"https://raw.githubusercontent.com/callysto/curriculum-notebooks/master/open-in-callysto-button.svg?sanitize=true\" width=\"123\" height=\"24\" alt=\"Open in Callysto\"/></a>"
   ]
  },
  {
   "cell_type": "markdown",
   "metadata": {},
   "source": [
    "# Python Turtles\n",
    "\n",
    "We are going to introduce some Python programming using Turtles.\n",
    "\n",
    "[Turtle graphics](https://en.wikipedia.org/wiki/Turtle_graphics) have been used for learning about programming and computational thinking. We will use them as a fun way to learn about Python programming and Jupyter notebooks.\n",
    "\n",
    "This is a Jupyter notebook, it contains text cells (like this one), and code cells like the following. Click on the next cell, then click the `Run` button to run the code."
   ]
  },
  {
   "cell_type": "code",
   "execution_count": null,
   "metadata": {},
   "outputs": [],
   "source": [
    "from mobilechelonian import Turtle\n",
    "t = Turtle()\n",
    "t.forward(50)"
   ]
  },
  {
   "cell_type": "markdown",
   "metadata": {},
   "source": [
    "## Turtle Commands\n",
    "\n",
    "Assuming that your turtle is named `t`, here are the possible commands you can use.\n",
    "\n",
    "`t.speed(integer)`\n",
    "* Speed of your turtle, 1-10 (hint set your speed to 10) \n",
    "\n",
    "`t.right(degrees)` or `t.left(degrees)`\n",
    "* Turn turtle left or right by some degrees\n",
    "\n",
    "`t.forward(units)` or `t.backward(units)`\n",
    "* Move your turtle forward or backward (units are in pixels) \n",
    "\n",
    "`t.pendown()` or `t.penup()`\n",
    "* For drawing lines or not drawing lines\n",
    "\n",
    "`t.pencolor('color')`\n",
    "* [Color](https://www.w3schools.com/tags/ref_colornames.asp) of your turtle’s line, e.g. 'blue' or 'rgb(100, 0, 255)'\n",
    "\n",
    "`t.setposition(x, y)`\n",
    "* Move the turtle to a specific position. (0,0) is the top left and (400, 400) is the bottom right.\n",
    "\n",
    "`t.circle(r, degrees)`\n",
    "* Have turtle draw a piece of a circle of radius r, through some number of degrees \n",
    "\n",
    "For more information and some inspiration, check out [this resource](https://github.com/callysto/TMTeachingTurtles/blob/master/TMPythonTurtles/turtles-and-python-intro-instructor.ipynb) and [example](https://github.com/callysto/TMTeachingTurtles/blob/jupyter-turtles-art-contest/turtles-cool-art-demo.ipynb)."
   ]
  },
  {
   "cell_type": "markdown",
   "metadata": {},
   "source": [
    "## Can you get your Turtle to draw this house?"
   ]
  },
  {
   "cell_type": "markdown",
   "metadata": {},
   "source": [
    "![house](images/turtle-house.png)"
   ]
  },
  {
   "cell_type": "code",
   "execution_count": null,
   "metadata": {
    "collapsed": true
   },
   "outputs": [],
   "source": [
    "from mobilechelonian import Turtle #import the Turtle module from the mobilechelonian library\n",
    "import math #this library will come in handy when making the roof, hint math.sqrt()\n",
    "t = Turtle()\n",
    "t.speed(10)\n",
    "### enter your code below, use the turtle commands above such as t.forward(100) and t.right(90)\n",
    "t.forward(100) #hint\n",
    "\n",
    "\n",
    "\n",
    "\n",
    "\n"
   ]
  },
  {
   "cell_type": "markdown",
   "metadata": {},
   "source": [
    "## Now let's try and draw this flower with our Turtle"
   ]
  },
  {
   "cell_type": "markdown",
   "metadata": {},
   "source": [
    "![flower](images/turtle-flower.png)"
   ]
  },
  {
   "cell_type": "markdown",
   "metadata": {},
   "source": [
    "### Let's start by drawing a box efficiently with a `for` loop"
   ]
  },
  {
   "cell_type": "code",
   "execution_count": null,
   "metadata": {
    "collapsed": true
   },
   "outputs": [],
   "source": [
    "from mobilechelonian import Turtle\n",
    "t = Turtle()\n",
    "t.speed(10)\n",
    "\n",
    "for i in range(): #enter a value for range, how many times do we need to repeat to draw a box?\n",
    "    t.forward() #enter a unit value\n",
    "    t.right() #enter a degree value"
   ]
  },
  {
   "cell_type": "markdown",
   "metadata": {},
   "source": [
    "### Let's draw a box with a function"
   ]
  },
  {
   "cell_type": "code",
   "execution_count": null,
   "metadata": {
    "collapsed": true
   },
   "outputs": [],
   "source": [
    "from mobilechelonian import Turtle\n",
    "t = Turtle()\n",
    "t.speed(10)\n",
    "\n",
    "def box(units): #def means define function, in this case our function is called box\n",
    "    for i in range(): #enter a value for range. hint: how many times do we need to repeat to draw a box?  \n",
    "        t.forward(units)\n",
    "        t.right() #enter a degree value\n",
    "        \n",
    "box() #enter a unit value for our box function. hint: how many units did we use above?"
   ]
  },
  {
   "cell_type": "markdown",
   "metadata": {},
   "source": [
    "### Now let's draw a flower with `def` and `for` loops"
   ]
  },
  {
   "cell_type": "code",
   "execution_count": null,
   "metadata": {
    "collapsed": true
   },
   "outputs": [],
   "source": [
    "from mobilechelonian import Turtle\n",
    "t = Turtle()\n",
    "t.speed(10)\n",
    "\n",
    "def box(units):\n",
    "    for i in range(): #enter a value for range\n",
    "        t.forward(units)\n",
    "        t.right() #enter a degree value\n",
    "\n",
    "for i in range(18): #do you know why we repeat our loop 18 times and use 20 degrees for our right turn below?\n",
    "    box() #enter a unit value\n",
    "    t.right(20)"
   ]
  },
  {
   "cell_type": "markdown",
   "metadata": {},
   "source": [
    "### Now let's add colours to our flower using a `list`"
   ]
  },
  {
   "cell_type": "code",
   "execution_count": null,
   "metadata": {
    "collapsed": true
   },
   "outputs": [],
   "source": [
    "colours = [\"red\", \"blue\", \"purple\"] #this is a python list\n",
    "colours[2] #let's call a list item, try changing the number to return blue"
   ]
  },
  {
   "cell_type": "markdown",
   "metadata": {},
   "source": [
    "Let's print what that looks like."
   ]
  },
  {
   "cell_type": "code",
   "execution_count": null,
   "metadata": {
    "collapsed": true
   },
   "outputs": [],
   "source": [
    "for i in range(18): #remember our loop with 18 iterations?\n",
    "    print(colours[i % 3], i % 3) #we use 3 because we have 3 colours. the % sign is for the modulo math operator. "
   ]
  },
  {
   "cell_type": "markdown",
   "metadata": {},
   "source": [
    "Now let's put it all together."
   ]
  },
  {
   "cell_type": "code",
   "execution_count": null,
   "metadata": {
    "collapsed": true
   },
   "outputs": [],
   "source": [
    "from mobilechelonian import Turtle\n",
    "t = Turtle()\n",
    "t.speed(10)\n",
    "\n",
    "def box(units):\n",
    "    for i in range(): #enter a value for range\n",
    "        t.forward(units)\n",
    "        t.right() #enter a degree value\n",
    "\n",
    "colours = [\"red\", \"green\", \"purple\"]   \n",
    "for i in range(18):\n",
    "    t.pencolor(colours[i % 3]) #new turtle command\n",
    "    box() #enter a unit value\n",
    "    t.right(20)"
   ]
  },
  {
   "cell_type": "markdown",
   "metadata": {},
   "source": [
    "## Bonus Challenge: Try and draw this pointy flower"
   ]
  },
  {
   "cell_type": "markdown",
   "metadata": {},
   "source": [
    "![flower](images/turtle-pointy-flower.png)"
   ]
  },
  {
   "cell_type": "code",
   "execution_count": null,
   "metadata": {
    "collapsed": true
   },
   "outputs": [],
   "source": [
    "### enter your code below\n",
    "\n"
   ]
  },
  {
   "cell_type": "markdown",
   "metadata": {},
   "source": [
    "### Congratulations\n",
    "\n",
    "You've successfully programmed your turtle!\n",
    "\n",
    "If you are interested in learning more about Python with turtles, try [Turtles and Dictionaries](turtles-and-dictionaries.ipynb)"
   ]
  },
  {
   "cell_type": "markdown",
   "metadata": {},
   "source": [
    "[![Callysto.ca License](https://github.com/callysto/curriculum-notebooks/blob/master/callysto-notebook-banner-bottom.jpg?raw=true)](https://github.com/callysto/curriculum-notebooks/blob/master/LICENSE.md)"
   ]
  }
 ],
 "metadata": {
  "kernelspec": {
   "display_name": "Python 3.10.1 64-bit",
   "language": "python",
   "name": "python3"
  },
  "language_info": {
   "codemirror_mode": {
    "name": "ipython",
    "version": 3
   },
   "file_extension": ".py",
   "mimetype": "text/x-python",
   "name": "python",
   "nbconvert_exporter": "python",
   "pygments_lexer": "ipython3",
   "version": "3.10.1"
  },
  "vscode": {
   "interpreter": {
    "hash": "d1ca6d17674200220921376aaeb3d36cffe15ecab2470a9a5e7a456cdbf61425"
   }
  }
 },
 "nbformat": 4,
 "nbformat_minor": 2
}
