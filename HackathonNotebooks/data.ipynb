{
 "cells": [
  {
   "cell_type": "markdown",
   "metadata": {},
   "source": [
    "![Callysto.ca Banner](https://github.com/callysto/curriculum-notebooks/blob/master/callysto-notebook-banner-top.jpg?raw=true)"
   ]
  },
  {
   "cell_type": "markdown",
   "metadata": {},
   "source": [
    "# Data Science Hackathon\n",
    "\n",
    "As our world becomes increasingly data-driven, the ability to analyze, visualize, and draw insights from large and complex datasets is becoming an essential skill. Data science can provide you with the tools to make better decisions and solve complex problems.\n",
    "\n",
    "Click on the cell below, then click the Run button above to import and display a dataframe about *hypothetical* pets for adoption from our friends at [Bootstrap](https://www.bootstrapworld.org/materials/data-science)."
   ]
  },
  {
   "cell_type": "code",
   "execution_count": null,
   "metadata": {
    "scrolled": true
   },
   "outputs": [],
   "source": [
    "import pandas as pd\n",
    "pets = pd.read_csv('Pets/pets.csv')\n",
    "pets"
   ]
  },
  {
   "cell_type": "markdown",
   "metadata": {},
   "source": [
    "To create visualizations, we will use [Plotly Express](https://plotly.com/python/plotly-express). Click on the cell below then click Run to display a `bar` graph."
   ]
  },
  {
   "cell_type": "code",
   "execution_count": null,
   "metadata": {},
   "outputs": [],
   "source": [
    "import plotly.express as px\n",
    "px.bar(pets, x='Name', y='Age (years)', title='Pets Ages')"
   ]
  },
  {
   "cell_type": "markdown",
   "metadata": {},
   "source": [
    "## Beginner Challenges\n",
    "\n",
    "Each of these challenges is worth 2 points, and uses the `pets` dataframe.\n",
    "\n",
    "### Visualizations\n",
    "\n",
    "* make a bar graph with `Name` on the x-axis and `Legs` on the y-axis\n",
    "* make a bar graph using\n",
    "```\n",
    "x='Species', y='Age (years)', color='Gender'\n",
    "```\n",
    "* recreate the previous bar graph, but add\n",
    "```\n",
    ", barmode='group'\n",
    "```\n",
    "* make a line graph by changing `bar` to `line` from the example\n",
    "```\n",
    "px.bar(pets, x='Name', y='Age (years)', title='Pets Ages')\n",
    "```\n",
    "* make a scatter plot with\n",
    "```\n",
    "px.scatter(pets, x='Name', y='Age (years)')\n",
    "```\n",
    "* recreate the previous scatter plot, but add a title\n",
    "* recreate the previous scatter plot and color the points by `Gender`\n",
    "* make a scatter plot comparing `Age (years)` with `Weight (lbs)`\n",
    "* recreate the previous scatter plot, but add\n",
    "```\n",
    ", size='Time to Adoption (weeks)'\n",
    "```\n",
    "* \n",
    "\n",
    "\n",
    "## Data Manipulation\n",
    "\n",
    "* sort the `pets` dataframe by `Age (years)`\n",
    "```\n",
    "\n",
    "```\n",
    "* create a bar graph of the sorted dataframe\n",
    "* filter the `pets` dataframe to show just cats and dogs, using\n",
    "```\n",
    "pets[pets['Species'].isin(['cat', 'dog'])]\n",
    "```\n",
    "* group the pets by species using\n",
    "```\n",
    "pets.groupby('Species').size()\n",
    "```\n",
    "* create a pie chart of the grouped data using the following code:\n",
    "```\n",
    "species_counts = pets.groupby('Species').size()\n",
    "px.pie(values=species_counts, names=species_counts.index)\n",
    "```\n",
    "* recreate the previous pie chart, and add a title\n",
    "* \n",
    "\n"
   ]
  },
  {
   "cell_type": "code",
   "execution_count": null,
   "metadata": {},
   "outputs": [],
   "source": []
  },
  {
   "cell_type": "markdown",
   "metadata": {},
   "source": [
    "[![Callysto.ca License](https://github.com/callysto/curriculum-notebooks/blob/master/callysto-notebook-banner-bottom.jpg?raw=true)](https://github.com/callysto/curriculum-notebooks/blob/master/LICENSE.md)"
   ]
  }
 ],
 "metadata": {
  "kernelspec": {
   "display_name": "Python 3.8.10 64-bit",
   "language": "python",
   "name": "python3"
  },
  "language_info": {
   "codemirror_mode": {
    "name": "ipython",
    "version": 3
   },
   "file_extension": ".py",
   "mimetype": "text/x-python",
   "name": "python",
   "nbconvert_exporter": "python",
   "pygments_lexer": "ipython3",
   "version": "3.10.6"
  },
  "latex_envs": {
   "LaTeX_envs_menu_present": true,
   "autoclose": false,
   "autocomplete": true,
   "bibliofile": "biblio.bib",
   "cite_by": "apalike",
   "current_citInitial": 1,
   "eqLabelWithNumbers": true,
   "eqNumInitial": 1,
   "hotkeys": {
    "equation": "Ctrl-E",
    "itemize": "Ctrl-I"
   },
   "labels_anchors": false,
   "latex_user_defs": false,
   "report_style_numbering": false,
   "user_envs_cfg": false
  },
  "nbTranslate": {
   "displayLangs": [
    "*"
   ],
   "hotkey": "alt-t",
   "langInMainMenu": true,
   "sourceLang": "en",
   "targetLang": "fr",
   "useGoogleTranslate": true
  },
  "vscode": {
   "interpreter": {
    "hash": "916dbcbb3f70747c44a77c7bcd40155683ae19c65e1c03b4aa3499c5328201f1"
   }
  }
 },
 "nbformat": 4,
 "nbformat_minor": 2
}
