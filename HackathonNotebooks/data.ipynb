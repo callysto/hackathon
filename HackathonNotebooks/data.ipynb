{
 "cells": [
  {
   "cell_type": "markdown",
   "metadata": {},
   "source": [
    "![Callysto.ca Banner](https://github.com/callysto/curriculum-notebooks/blob/master/callysto-notebook-banner-top.jpg?raw=true)"
   ]
  },
  {
   "cell_type": "markdown",
   "metadata": {},
   "source": [
    "# Data Science Hackathon\n",
    "\n",
    "As our world becomes increasingly data-driven, the ability to analyze, visualize, and draw insights from large and complex datasets is becoming an essential skill. Data science can provide you with the tools to make better decisions and solve complex problems.\n",
    "\n",
    "Click on the cell below, then click the Run button above to import and display a dataframe about *hypothetical* pets for adoption from our friends at [Bootstrap](https://www.bootstrapworld.org/materials/data-science)."
   ]
  },
  {
   "cell_type": "code",
   "execution_count": null,
   "metadata": {
    "scrolled": true
   },
   "outputs": [],
   "source": [
    "import pandas as pd\n",
    "pets = pd.read_csv('https://raw.githubusercontent.com/callysto/data-files/main/data-science-and-artificial-intelligence/pets.csv')\n",
    "pets"
   ]
  },
  {
   "cell_type": "markdown",
   "metadata": {},
   "source": [
    "To create visualizations, we will use [Plotly Express](https://plotly.com/python/plotly-express). Click on the cell below then click Run to display a `bar` graph."
   ]
  },
  {
   "cell_type": "code",
   "execution_count": null,
   "metadata": {},
   "outputs": [],
   "source": [
    "import plotly.express as px\n",
    "px.bar(pets, x='Name', y='Age (years)', title='Pets Ages')"
   ]
  },
  {
   "cell_type": "markdown",
   "metadata": {},
   "source": [
    "## Beginner Challenges\n",
    "\n",
    "Each of these challenges is worth 2 points, and uses the `pets` dataframe.\n",
    "\n",
    "1. make a bar graph with `Name` on the x-axis and `Legs` on the y-axis\n",
    "2. make a bar graph using\n",
    "```\n",
    "x='Species', y='Age (years)', color='Gender'\n",
    "```\n",
    "3. recreate the previous bar graph, but add\n",
    "```\n",
    ", barmode='group'\n",
    "```\n",
    "4. make a line graph by changing `bar` to `line` from the example\n",
    "```\n",
    "px.bar(pets, x='Name', y='Age (years)', title='Pets Ages')\n",
    "```\n",
    "5. make a scatter plot with\n",
    "```\n",
    "px.scatter(pets, x='Name', y='Age (years)')\n",
    "```\n",
    "6. recreate the previous scatter plot, but add a title\n",
    "7. recreate the previous scatter plot and color the points by `Gender`\n",
    "8. make a scatter plot comparing `Age (years)` with `Weight (lbs)`\n",
    "9. recreate the previous scatter plot, but add\n",
    "```\n",
    ", size='Time to Adoption (weeks)'\n",
    "```\n",
    "10. make a [histogram](https://plotly.com/python/histograms) (like a bar graph showing calculated statistics) using\n",
    "```\n",
    "px.histogram(pets, x='Species', y='Weight (lbs)', title='Total Weight by Species')\n",
    "```\n",
    "11. recreate the histogram, adding the following parameter to calculate average instead of totals\n",
    "```\n",
    ", histfunc='avg'\n",
    "```\n",
    "12. sort the `pets` dataframe by `Age (years)`\n",
    "```\n",
    "pets.sort_values('Age (years)')\n",
    "```\n",
    "13. sort by age in descending order by adding\n",
    "```\n",
    ", ascending=False\n",
    "```\n",
    "14. make a bar graph of the sorted dataframe\n",
    "15. display just one column of the dataframe\n",
    "```\n",
    "pets['Species']\n",
    "```\n",
    "16. display a few columns of the dataframe\n",
    "```\n",
    "pets[['Name', 'Legs', 'Time to Adoption (weeks)']]\n",
    "```\n",
    "17. display just the dogs\n",
    "```\n",
    "pets[pets['Species']=='dog']\n",
    "```\n",
    "18. display all the animals that are not dogs\n",
    "```\n",
    "pets[pets['Species']!='dog']\n",
    "```\n",
    "19. filter the `pets` dataframe to show just cats and dogs, using\n",
    "```\n",
    "pets[pets['Species'].isin(['cat', 'dog'])]\n",
    "```\n",
    "20. create a pie chart of the grouped data using the following code:\n",
    "```\n",
    "species_counts = pets.groupby('Species').size()\n",
    "px.pie(values=species_counts, names=species_counts.index)\n",
    "```\n",
    "21. recreate the previous pie chart, and add a title\n",
    "22. find the average (mean) of a column with\n",
    "```\n",
    "pets['Age (years)'].mean()\n",
    "```\n",
    "23. find the median value of a different column\n",
    "24. create a new column in the dataframe that is kg instead of pounds using\n",
    "```\n",
    "pets['Mass (kg)'] = pets['Weight (lbs)'] / 2.205\n",
    "```\n",
    "25. create a new column that is `Time to Adoption (days)`\n",
    "26. group the data by `'Species'` and find the mean values using\n",
    "```\n",
    "pets.groupby('Species').mean(numeric_only=True)\n",
    "```\n",
    "27. group the data by `'Fixed'` and display the `.max`, `.min`, and `'.sum` values\n",
    "28. make an interactive [sunburst chart](https://plotly.com/python/sunburst-charts) using\n",
    "```\n",
    "px.sunburst(pets, path=['Species', 'Gender', 'Fixed'], values='Age (years)', title='Pets Ages by Species, Gender, and Fixed')\n",
    "```\n",
    "29. Display the row of the heaviest pet using \n",
    "```\n",
    "pets.sort_values('Mass (kg)', ascending=False).head(1)\n",
    "```\n",
    "30. Display the row of the pet that took the longest to get adopted.\n",
    "\n",
    "## Intermediate Challenges\n",
    "\n",
    "Each of these challenges is worth 5 points, and uses a large data set about [Pokémon](https://en.wikipedia.org/wiki/Pok%C3%A9mon) from [PokéAPI](https://pokeapi.co).\n",
    "\n",
    "1. import and display the Pokémon data using\n",
    "```\n",
    "pokemon = pd.read_csv('https://raw.githubusercontent.com/callysto/data-files/main/data-science-and-artificial-intelligence/pokemon.csv')\n",
    "display(pokemon)\n",
    "```\n",
    "2. display the column labels and descriptions using\n",
    "```\n",
    "pokemon_labels = pd.read_csv('https://raw.githubusercontent.com/callysto/data-files/main/data-science-and-artificial-intelligence/pokemon_columns.csv')\n",
    "pd.set_option('display.min_rows', 50)\n",
    "display(pokemon_labels)\n",
    "pd.reset_option('display.min_rows')\n",
    "```\n",
    "3. display the last five rows of the data set using `.tail()`\n",
    "4. make a scatter plot with height on the x-axis and weight on the y-axis\n",
    "5. \n"
   ]
  },
  {
   "cell_type": "code",
   "execution_count": null,
   "metadata": {},
   "outputs": [],
   "source": [
    "pokemon.columns"
   ]
  },
  {
   "cell_type": "markdown",
   "metadata": {},
   "source": [
    "[![Callysto.ca License](https://github.com/callysto/curriculum-notebooks/blob/master/callysto-notebook-banner-bottom.jpg?raw=true)](https://github.com/callysto/curriculum-notebooks/blob/master/LICENSE.md)"
   ]
  }
 ],
 "metadata": {
  "kernelspec": {
   "display_name": "Python 3.8.10 64-bit",
   "language": "python",
   "name": "python3"
  },
  "language_info": {
   "codemirror_mode": {
    "name": "ipython",
    "version": 3
   },
   "file_extension": ".py",
   "mimetype": "text/x-python",
   "name": "python",
   "nbconvert_exporter": "python",
   "pygments_lexer": "ipython3",
   "version": "3.10.4"
  },
  "latex_envs": {
   "LaTeX_envs_menu_present": true,
   "autoclose": false,
   "autocomplete": true,
   "bibliofile": "biblio.bib",
   "cite_by": "apalike",
   "current_citInitial": 1,
   "eqLabelWithNumbers": true,
   "eqNumInitial": 1,
   "hotkeys": {
    "equation": "Ctrl-E",
    "itemize": "Ctrl-I"
   },
   "labels_anchors": false,
   "latex_user_defs": false,
   "report_style_numbering": false,
   "user_envs_cfg": false
  },
  "nbTranslate": {
   "displayLangs": [
    "*"
   ],
   "hotkey": "alt-t",
   "langInMainMenu": true,
   "sourceLang": "en",
   "targetLang": "fr",
   "useGoogleTranslate": true
  },
  "vscode": {
   "interpreter": {
    "hash": "916dbcbb3f70747c44a77c7bcd40155683ae19c65e1c03b4aa3499c5328201f1"
   }
  }
 },
 "nbformat": 4,
 "nbformat_minor": 2
}
