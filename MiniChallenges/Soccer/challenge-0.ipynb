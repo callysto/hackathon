{
 "cells": [
  {
   "cell_type": "markdown",
   "metadata": {},
   "source": [
    "![Callysto.ca Banner](https://github.com/callysto/curriculum-notebooks/blob/master/callysto-notebook-banner-top.jpg?raw=true)\n",
    "\n",
    "<a href=\"https://hub.callysto.ca/jupyter/hub/user-redirect/git-pull?repo=https%3A%2F%2Fgithub.com%2Fcallysto%2Fhackathon&branch=master&subPath=SustainabilityOnMars/CuriosityTrack/challenge-0.ipynb&depth=1\" target=\"_parent\"><img src=\"https://raw.githubusercontent.com/callysto/curriculum-notebooks/master/open-in-callysto-button.svg?sanitize=true\" width=\"123\" height=\"24\" alt=\"Open in Callysto\"/></a>"
   ]
  },
  {
   "cell_type": "markdown",
   "metadata": {},
   "source": [
    "# <p style=\"text-align: center;\"> Soccer Dream Team: Can you build the best soccer team of all time? </p>\n",
    "\n",
    "<p style=\"text-align: center;\"> You've been identified by FIFA as the world's foremost expert on soccer. To celebrate an upcoming event, you've been asked to look at some of the greatest players to have ever played the game and put together a dream team that would be the best possible combination of players. To help with this process, you will learn data science skills and solve several challenges that will help you reach your goal. </p>\n",
    "\n",
    "<img src=https://upload.wikimedia.org/wikipedia/commons/a/ad/Football_in_Bloomington%2C_Indiana%2C_1996.jpg width=600>\n",
    "<p>\n",
    "<a href='https://en.wikipedia.org/wiki/Soccer'>https://en.wikipedia.org/wiki/Soccer </a>\n",
    "</p>\n",
    "\n",
    "**Remember, to \"run\" a notebook cell, we can either use the Run button above or press `shift + enter`.** <br>\n",
    "Make sure you do this in every cell that starts with `#❗️Run this cell`. If it doesn't work, try hitting the stop button (square button on the top bar) and try again.\n",
    "\n",
    "To begin, FIFA has assigned you a helper name **CallystoBot**. CallystoBot will provide hints along the way and help you when you get stuck. Remember that you can save this notebook by pressing `ctrl + s` (or `⌘ + s` on a Mac) or going to `File -> Save and Checkpoint` in the toolbar. \n",
    "\n",
    "**Don't forget to save your notebook regularly!**\n",
    "\n",
    "# <p style=\"text-align: center;\"> 🌟🌟🌟🌟🌟🌟🌟🌟🌟🌟🌟🌟🌟🌟🌟🌟🌟🌟🌟🌟🌟🌟🌟🌟🌟🌟🌟🌟🌟🌟 </p>\n"
   ]
  },
  {
   "cell_type": "code",
   "execution_count": null,
   "metadata": {},
   "outputs": [],
   "source": [
    "#❗️Run this cell\n",
    "import interactive as i\n",
    "i.userinfo()"
   ]
  },
  {
   "cell_type": "code",
   "execution_count": null,
   "metadata": {
    "scrolled": true
   },
   "outputs": [],
   "source": [
    "#❗️Run this cell\n",
    "i.challengeplotall()"
   ]
  },
  {
   "cell_type": "markdown",
   "metadata": {},
   "source": [
    "## 📚 Challenge Complete!\n",
    "\n",
    "Wow, great job! Now that you've gotten started, continue to [next challenge](./challenge-1.ipynb) in the next notebook!"
   ]
  },
  {
   "cell_type": "markdown",
   "metadata": {},
   "source": [
    "# <p style=\"text-align: center;\"> 🌟🌟🌟🌟🌟🌟🌟🌟🌟🌟🌟🌟🌟🌟🌟🌟🌟🌟🌟🌟🌟🌟🌟🌟🌟🌟🌟🌟🌟🌟 </p>\n"
   ]
  },
  {
   "cell_type": "markdown",
   "metadata": {},
   "source": [
    "[![Callysto.ca License](https://github.com/callysto/curriculum-notebooks/blob/master/callysto-notebook-banner-bottom.jpg?raw=true)](https://github.com/callysto/curriculum-notebooks/blob/master/LICENSE.md)"
   ]
  }
 ],
 "metadata": {
  "kernelspec": {
   "display_name": "Python 3 (ipykernel)",
   "language": "python",
   "name": "python3"
  },
  "language_info": {
   "codemirror_mode": {
    "name": "ipython",
    "version": 3
   },
   "file_extension": ".py",
   "mimetype": "text/x-python",
   "name": "python",
   "nbconvert_exporter": "python",
   "pygments_lexer": "ipython3",
   "version": "3.9.12"
  }
 },
 "nbformat": 4,
 "nbformat_minor": 4
}
