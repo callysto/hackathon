{
 "cells": [
  {
   "cell_type": "markdown",
   "metadata": {},
   "source": [
    "![Callysto.ca Banner](https://github.com/callysto/curriculum-notebooks/blob/master/callysto-notebook-banner-top.jpg?raw=true)\n",
    "\n",
    "<a href=\"https://hub.callysto.ca/jupyter/hub/user-redirect/git-pull?repo=https://github.com/callysto/hackathon&branch=master&urlpath=notebooks/hackathon/MiniChallenges/Soccer/challenge-1.ipynb\" target=\"_parent\"><img src=\"https://raw.githubusercontent.com/callysto/curriculum-notebooks/master/open-in-callysto-button.svg?sanitize=true\" width=\"123\" height=\"24\" alt=\"Open in Callysto\"/></a>"
   ]
  },
  {
   "cell_type": "markdown",
   "metadata": {},
   "source": [
    "# <p style=\"text-align: center;\"> 📌 Challenge 1: Accessing the Soccer Archives </p>\n",
    "\n",
    "In this challenge, you are tasked with using computer commands to access the Soccer Archives Data collected for this notebook. \n",
    "\n",
    "Here are some tips and tricks to help you out: \n",
    "- Python is very picky about spelling and is sensitive to upper case (capitalization) and lower case, even if you have everything else right!\n",
    "- Make sure every open bracket `(`, `[`, `[[`, has a closing one, `]]`, `]`, `)`\n",
    "- And make sure you have fun!\n",
    "\n",
    "**CallystoBot**: *beep!* The first thing we should do is tell our notebook that we want to access the group of computer commands that lets us work with data. I think it is called `pandas`..?\n",
    "\n",
    "![https://publicdomainvectors.org/en/free-clipart/Server-rack-cabinet/83360.html](Images/archives.jpg)\n",
    "\n",
    "# <p style=\"text-align: center;\"> 🌟🌟🌟🌟🌟🌟🌟🌟🌟🌟🌟🌟🌟🌟🌟🌟🌟🌟🌟🌟🌟🌟🌟🌟🌟🌟🌟🌟🌟🌟 </p>"
   ]
  },
  {
   "cell_type": "code",
   "execution_count": null,
   "metadata": {},
   "outputs": [],
   "source": [
    "#❗️Run this cell\n",
    "import interactive as i\n",
    "from IPython.display import YouTubeVideo\n",
    "YouTubeVideo('QomXBZ-mUEM')"
   ]
  },
  {
   "cell_type": "code",
   "execution_count": null,
   "metadata": {},
   "outputs": [],
   "source": [
    "#❗️Run this cell\n",
    "i.challenge1a()"
   ]
  },
  {
   "cell_type": "markdown",
   "metadata": {},
   "source": [
    "### 📕 Debrief: Functions, Libraries, and Filenames\n",
    "Now that we have the special commands to access the data, let's use them!<br>\n",
    "The data file is called `data.csv`.<br>\n",
    "There is a special function in the `pandas` library we can use to view this data file called `read_csv()`. \n",
    "\n",
    "We need to write the code to indicate which library the function we want to use comes from: `library.function(\"file.csv\")`\n",
    "\n",
    "**See how the library is first, then there is a `.`, followed by the function? We then use the function on the file by putting the filename in the brackets.** The file name is surrounded by `\"` `\"` so that it is read as characters. \n"
   ]
  },
  {
   "cell_type": "code",
   "execution_count": null,
   "metadata": {},
   "outputs": [],
   "source": [
    "#❗️Run this cell\n",
    "i.challenge1b()"
   ]
  },
  {
   "cell_type": "markdown",
   "metadata": {},
   "source": [
    "### 📕 Debrief: How to Avoid Writing Long Code Over and Over Again\n",
    "\n",
    "Now that we've learned how to access the data, we need to make a code word for it to make it easier for the computer to recognize it later. In this process, we end up making what's called a variable. \n",
    "\n",
    "Think about it this way, depending on what you put on the right side of the `=` sign, the code word's value may vary. The code word is called a variable name when you give it a value that you can use to mean that value in other parts of the notebook. Let's say I ran `a = 2` in a cell, now whenever I type `a` it will mean the same as 2."
   ]
  },
  {
   "cell_type": "code",
   "execution_count": null,
   "metadata": {
    "scrolled": true
   },
   "outputs": [],
   "source": [
    "#❗️Run this cell\n",
    "i.challenge1c()"
   ]
  },
  {
   "cell_type": "markdown",
   "metadata": {},
   "source": [
    "## 📚 Challenge Complete!\n",
    "Wow, great job! You've completed the very first challenge with flying colours. "
   ]
  },
  {
   "cell_type": "markdown",
   "metadata": {},
   "source": [
    "### <p style=\"text-align: right;\"> ...continue to [Challenge 2!](./challenge-2.ipynb)</p>"
   ]
  },
  {
   "cell_type": "markdown",
   "metadata": {},
   "source": [
    "# <p style=\"text-align: center;\"> 🌟🌟🌟🌟🌟🌟🌟🌟🌟🌟🌟🌟🌟🌟🌟🌟🌟🌟🌟🌟🌟🌟🌟🌟🌟🌟🌟🌟🌟🌟 </p>\n"
   ]
  },
  {
   "cell_type": "markdown",
   "metadata": {},
   "source": [
    "[![Callysto.ca License](https://github.com/callysto/curriculum-notebooks/blob/master/callysto-notebook-banner-bottom.jpg?raw=true)](https://github.com/callysto/curriculum-notebooks/blob/master/LICENSE.md)"
   ]
  }
 ],
 "metadata": {
  "kernelspec": {
   "display_name": "Python 3 (ipykernel)",
   "language": "python",
   "name": "python3"
  },
  "language_info": {
   "codemirror_mode": {
    "name": "ipython",
    "version": 3
   },
   "file_extension": ".py",
   "mimetype": "text/x-python",
   "name": "python",
   "nbconvert_exporter": "python",
   "pygments_lexer": "ipython3",
   "version": "3.9.12"
  }
 },
 "nbformat": 4,
 "nbformat_minor": 4
}
