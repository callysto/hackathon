{
 "cells": [
  {
   "cell_type": "markdown",
   "metadata": {},
   "source": [
    "![Callysto.ca Banner](https://github.com/callysto/curriculum-notebooks/blob/master/callysto-notebook-banner-top.jpg?raw=true)"
   ]
  },
  {
   "cell_type": "markdown",
   "metadata": {},
   "source": [
    "# <p style=\"text-align: center;\"> 📌 Challenge 3: Narrowing Down the Data </p>\n",
    "\n",
    "You've done great getting to this point. Now that we are getting more comfortable with data science, let's work on our skills at narrowing down the data. This will help us narrow down *which* pets we should consider based on different criteria. This part might get a little tough, so make sure you ask for help if you get stuck!\n",
    "\n",
    "![https://publicdomainvectors.org/en/free-clipart/Open-book-and-magnifying-glass/85092.html](Images/magnify.jpg)\n",
    "# <p style=\"text-align: center;\"> 🌟🌟🌟🌟🌟🌟🌟🌟🌟🌟🌟🌟🌟🌟🌟🌟🌟🌟🌟🌟🌟🌟🌟🌟🌟🌟🌟🌟🌟🌟 </p>\n"
   ]
  },
  {
   "cell_type": "markdown",
   "metadata": {},
   "source": [
    "### 📕 Debrief: Getting Unique Entries in a Column\n",
    "\n",
    "**Unique Values `.unique()`**: Sometimes instead of viewing all the values in a column, we just want to see the different types of values instead. For example, in this dataset it can be useful to know what types of animals there are without knowing all of them.<br>\n",
    "We can do this by writing `dataset.[\"column_name\"].unique()`. Note the `.unique()` is at the end. "
   ]
  },
  {
   "cell_type": "code",
   "execution_count": 1,
   "metadata": {},
   "outputs": [
    {
     "data": {
      "image/jpeg": "[encoded data removed]",
      "text/html": [
       "\n",
       "        <iframe\n",
       "            width=\"400\"\n",
       "            height=\"300\"\n",
       "            src=\"https://www.youtube.com/embed/4lBHVQIv0TQ\"\n",
       "            frameborder=\"0\"\n",
       "            allowfullscreen\n",
       "            \n",
       "        ></iframe>\n",
       "        "
      ],
      "text/plain": [
       "<IPython.lib.display.YouTubeVideo at 0x7fe8f2170d60>"
      ]
     },
     "execution_count": 1,
     "metadata": {},
     "output_type": "execute_result"
    }
   ],
   "source": [
    "#❗️Run this cell\n",
    "import interactive as i\n",
    "from IPython.display import YouTubeVideo\n",
    "YouTubeVideo('4lBHVQIv0TQ')"
   ]
  },
  {
   "cell_type": "code",
   "execution_count": 2,
   "metadata": {},
   "outputs": [
    {
     "name": "stdout",
     "output_type": "stream",
     "text": [
      "\u001b[1;37;40m 🤖 CallystoBot: \u001b[1;0m Now, because all the names are unique, we should try using another column of data.\n",
      "Hmm, how about Gender? Or better yet, Species!\u001b[1;0m\n"
     ]
    },
    {
     "name": "stdin",
     "output_type": "stream",
     "text": [
      "\u001b[1;36m✅ Fill in the command to get the unique values for Species.\n",
      "\u001b[1;0m\u001b[1;32munique = data[Species]\u001b[1;0m .unique()\n"
     ]
    },
    {
     "name": "stdout",
     "output_type": "stream",
     "text": [
      "\u001b[1;35m✨ Correct!\u001b[1;0m\n",
      "\u001b[1;37;40m 🤖 CallystoBot: \u001b[1;0m Notice that the array below organizes the values in a row. The column of Species has the unique values of \n",
      "['cat', 'dog', 'lizard', 'rabbit', 'tarantula']\u001b[1;0m\n"
     ]
    }
   ],
   "source": [
    "i.challenge3a()"
   ]
  },
  {
   "cell_type": "markdown",
   "metadata": {},
   "source": [
    "### 📕 Debrief: Narrowing Down Data Based on Criteria\n",
    "\n",
    "**Basic Operators**: In computer programming languages, we can do a lot of things using basic math alone. With data, we can use symbols like `>, <, ==` and others to do cool things. \n",
    "\n",
    "For instance, if we wanted to select all entries in a dataset's column with a value above 5, we could do `dataset[\"column_name\"] >= 5`. This will give us all of the matching data entries whose value in the column is greater or equal to 5. \n",
    "\n",
    "We can also use words as long as they are in quotes (case-sensitive), such as `dataset[\"column_name\"] == \"search_term\"`. The `==` means that it has to be exactly that.\n",
    "\n",
    "**Logical Operators**: To use more than one, we need to use logical operators. For example, `&` means and, `|` (vertical bar) means or, and `~` means not. Therefore, we can do something like: `dataset[\"column_name\"] >= 5 & dataset[\"column_name\"] < 10` or even: `dataset[\"column_name\"] >= 5 | dataset[\"column_name\"] < 2 `. \n",
    "\n",
    "*Learn more about operators [here](https://www.w3schools.com/python/python_operators.asp).*"
   ]
  },
  {
   "cell_type": "code",
   "execution_count": null,
   "metadata": {},
   "outputs": [
    {
     "name": "stdout",
     "output_type": "stream",
     "text": [
      "\u001b[1;37;40m 🤖 CallystoBot: \u001b[1;0m Based on the last challenge, it seems we have a 3 legged animal! Do you know any reason why that might be?\n",
      "Let's try and find out which animals are 3 legged.\u001b[1;0m\n",
      "\u001b[1;37;40m 🤖 CallystoBot: \u001b[1;0m First, we'll need to use a basic operator on the 'Legs' column to find the ones that equal to 3.\u001b[1;0m\n"
     ]
    }
   ],
   "source": [
    "#❗️Run this cell\n",
    "i.challenge3b()"
   ]
  },
  {
   "cell_type": "markdown",
   "metadata": {},
   "source": [
    "### 📕 Debrief: Locating a Data Entry\n",
    "\n",
    "**Locating Data Using Labels `.loc`**: You may notice that when doing the above, you only get `True/False` values. We can get the actual rows of data by using by using `dataset.loc[label]`. Basic operators can act as labels. For example, I can use something like: \n",
    "`dataset.loc[dataset[\"column_name\"] >= 5]` to get all the rows with a value of greater than 5 for a given column. You can also have multiple operators, such as `.loc[basic_operator1 & basic_operator2]`.\n",
    "\n",
    "We can get the actual rows of data by using by using `dataset.loc[label]` such as getting data from row 30 you would use `dataset.loc[30]`."
   ]
  },
  {
   "cell_type": "code",
   "execution_count": null,
   "metadata": {
    "scrolled": true
   },
   "outputs": [],
   "source": [
    "#❗️Run this cell\n",
    "i.challenge3c()"
   ]
  },
  {
   "cell_type": "code",
   "execution_count": null,
   "metadata": {
    "scrolled": true
   },
   "outputs": [],
   "source": [
    "#❗️Run this cell\n",
    "i.challenge3d()"
   ]
  },
  {
   "cell_type": "code",
   "execution_count": null,
   "metadata": {},
   "outputs": [],
   "source": [
    "#❗️Run this cell\n",
    "i.challenge3e()"
   ]
  },
  {
   "cell_type": "markdown",
   "metadata": {},
   "source": [
    "# 📚 Challenge Complete!"
   ]
  },
  {
   "cell_type": "markdown",
   "metadata": {},
   "source": [
    "### <p style=\"text-align: right;\"> ...continue to [Challenge 4!](./challenge-4.ipynb)</p>"
   ]
  },
  {
   "cell_type": "markdown",
   "metadata": {},
   "source": [
    "# <p style=\"text-align: center;\"> 🌟🌟🌟🌟🌟🌟🌟🌟🌟🌟🌟🌟🌟🌟🌟🌟🌟🌟🌟🌟🌟🌟🌟🌟🌟🌟🌟🌟🌟🌟 </p>\n"
   ]
  },
  {
   "cell_type": "markdown",
   "metadata": {},
   "source": [
    "[![Callysto.ca License](https://github.com/callysto/curriculum-notebooks/blob/master/callysto-notebook-banner-bottom.jpg?raw=true)](https://github.com/callysto/curriculum-notebooks/blob/master/LICENSE.md)"
   ]
  }
 ],
 "metadata": {
  "kernelspec": {
   "display_name": "Python 3 (ipykernel)",
   "language": "python",
   "name": "python3"
  },
  "language_info": {
   "codemirror_mode": {
    "name": "ipython",
    "version": 3
   },
   "file_extension": ".py",
   "mimetype": "text/x-python",
   "name": "python",
   "nbconvert_exporter": "python",
   "pygments_lexer": "ipython3",
   "version": "3.9.12"
  }
 },
 "nbformat": 4,
 "nbformat_minor": 4
}
