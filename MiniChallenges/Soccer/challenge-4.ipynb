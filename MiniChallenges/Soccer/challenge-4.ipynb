{
 "cells": [
  {
   "cell_type": "markdown",
   "metadata": {},
   "source": [
    "![Callysto.ca Banner](https://github.com/callysto/curriculum-notebooks/blob/master/callysto-notebook-banner-top.jpg?raw=true)"
   ]
  },
  {
   "cell_type": "markdown",
   "metadata": {},
   "source": [
    "# <p style=\"text-align: center;\"> 📌 Challenge 4: Choosing Our Players</p>\n",
    "\n",
    "Hopefully, now you know that you can do data science! In this notebook we will be trying to pick and choose the data that we want, and order it in the ways that we want. \n",
    "\n",
    "![http://www.clker.com/cliparts/6/b/e/8/15163273201588644316free-clipart-kids-playing-soccer.hi.png](Images/15163273201588644316free-clipart-kids-playing-soccer.hi.png)\n",
    "# <p style=\"text-align: center;\"> 🌟🌟🌟🌟🌟🌟🌟🌟🌟🌟🌟🌟🌟🌟🌟🌟🌟🌟🌟🌟🌟🌟🌟🌟🌟🌟🌟🌟🌟🌟 </p>\n"
   ]
  },
  {
   "cell_type": "markdown",
   "metadata": {},
   "source": [
    "### 📕 Debrief: Sorting and Subsetting\n",
    "\n",
    "**Sorting**: We can sort values based on alphabetical or numerical order. To do this we just use `dataset.sort_values(by='column_name')` or `dataset.sort_values(by='column_name', ascending = False)` if we want it to be listed in reverse order. Because there are lots of ways to sort, we need to choose a specific column in the `by='column_name'` part. \n",
    "\n",
    "**Subsetting**: We can also create new datasets by picking the columns and rows that we want. To create a new dataset that only has the columns we want, we can write:\n",
    "        `custom_dataset = dataset[[\"column_name\", \"column_name2\"]]`, just like before.<br>\n",
    "        \n",
    "We can create new datasets that only have the rows we want.<br>\n",
    "For example, we can create a dataset for rows 1 to 2 by writing:`custom_dataset = dataset.loc[1:2]`.<br>\n",
    "We can also do `[1:2, 4:5]` for rows 1 to 2 and rows 4 to 5, if we want rows that aren't close to each other.<br>\n",
    "If we want columns and rows we can do `dataset.loc[1:2,'column_name']`, with rows first and columns second.\n",
    "\n",
    "If you're confused about using `[[]]` and `.loc`, it's okay! For now, just know we either use one or the other depending on the situation."
   ]
  },
  {
   "cell_type": "code",
   "execution_count": null,
   "metadata": {
    "scrolled": true
   },
   "outputs": [],
   "source": [
    "#❗️Run this cell\n",
    "import interactive as i\n",
    "from IPython.display import YouTubeVideo\n",
    "YouTubeVideo('UAar9QW2V-w')"
   ]
  },
  {
   "cell_type": "code",
   "execution_count": null,
   "metadata": {},
   "outputs": [],
   "source": [
    "i.challenge4a()"
   ]
  },
  {
   "cell_type": "code",
   "execution_count": null,
   "metadata": {},
   "outputs": [],
   "source": [
    "#❗️Run this cell\n",
    "i.challenge4b()"
   ]
  },
  {
   "cell_type": "code",
   "execution_count": null,
   "metadata": {},
   "outputs": [],
   "source": [
    "#❗️Run this cell\n",
    "i.challenge4c()"
   ]
  },
  {
   "cell_type": "markdown",
   "metadata": {},
   "source": [
    "### 📕Debrief: Getting Basic Statistics\n",
    "\n",
    "There are lots of cool ways we can explore our data. Numbers help make the graphing parts what they are and can help us better understand the graphs we see! Here are some basic statistics we can use right away:\n",
    "\n",
    "📙 `dataset['column_name'].max()`: This will get us the maximum value of a column.\n",
    "\n",
    "📙 `dataset['column_name'].min()`: This will get us the minimum value of a column.\n",
    "\n",
    "📙 `dataset['column_name'].mean()`: This will get us the mean (also known as average) of the values in a column.\n",
    "\n",
    "📙 `dataset['column_name'].describe()`: This will get us some basic statistics of a column.\n",
    "\n",
    "📙 `dataset.describe()`: This will give us some basic statistics of the entire dataset. \n",
    "\n",
    "**Try some out below!**"
   ]
  },
  {
   "cell_type": "code",
   "execution_count": null,
   "metadata": {
    "scrolled": true
   },
   "outputs": [],
   "source": [
    "#❗️Run this cell\n",
    "i.challenge4d()"
   ]
  },
  {
   "cell_type": "code",
   "execution_count": null,
   "metadata": {},
   "outputs": [],
   "source": [
    "#❗️Run this cell\n",
    "i.challenge4e()"
   ]
  },
  {
   "cell_type": "markdown",
   "metadata": {},
   "source": [
    "# 📚 Challenge Complete!"
   ]
  },
  {
   "cell_type": "markdown",
   "metadata": {},
   "source": [
    "### <p style=\"text-align: right;\"> ...continue to [Challenge 5!](./challenge-5.ipynb)</p>"
   ]
  },
  {
   "cell_type": "markdown",
   "metadata": {},
   "source": [
    "# <p style=\"text-align: center;\"> 🌟🌟🌟🌟🌟🌟🌟🌟🌟🌟🌟🌟🌟🌟🌟🌟🌟🌟🌟🌟🌟🌟🌟🌟🌟🌟🌟🌟🌟🌟 </p>\n"
   ]
  },
  {
   "cell_type": "markdown",
   "metadata": {},
   "source": [
    "[![Callysto.ca License](https://github.com/callysto/curriculum-notebooks/blob/master/callysto-notebook-banner-bottom.jpg?raw=true)](https://github.com/callysto/curriculum-notebooks/blob/master/LICENSE.md)"
   ]
  }
 ],
 "metadata": {
  "kernelspec": {
   "display_name": "Python 3 (ipykernel)",
   "language": "python",
   "name": "python3"
  },
  "language_info": {
   "codemirror_mode": {
    "name": "ipython",
    "version": 3
   },
   "file_extension": ".py",
   "mimetype": "text/x-python",
   "name": "python",
   "nbconvert_exporter": "python",
   "pygments_lexer": "ipython3",
   "version": "3.9.12"
  }
 },
 "nbformat": 4,
 "nbformat_minor": 4
}
