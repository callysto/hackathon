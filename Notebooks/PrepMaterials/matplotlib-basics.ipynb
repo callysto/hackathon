{
 "cells": [
  {
   "cell_type": "markdown",
   "metadata": {},
   "source": [
    "![Callysto.ca Banner](https://github.com/callysto/curriculum-notebooks/blob/master/callysto-notebook-banner-top.jpg?raw=true)"
   ]
  },
  {
   "cell_type": "markdown",
   "metadata": {},
   "source": [
    "This notebook will provide introduction to graphics in python using **matplotlib** libraray.\n",
    "\n",
    "Please go through **Python and pandas basics** tutorial first."
   ]
  },
  {
   "cell_type": "code",
   "execution_count": null,
   "metadata": {},
   "outputs": [],
   "source": [
    "# load \"pandas\" library under short name \"pd\"\n",
    "import pandas as pd\n",
    "\n",
    "# we have csv file of data related to hypothetical pets for adoption\n",
    "# from https://www.bootstrapworld.org/materials/data-science/\n",
    "#url = \"https://swift-yeg.cloud.cybera.ca:8080/v1/AUTH_d22d1e3f28be45209ba8f660295c84cf/hackaton/titanic_short.csv\"\n",
    "url = './pets.csv'\n",
    "\n",
    "#read csv file from url and save it as dataframe\n",
    "pets = pd.read_csv(url)"
   ]
  },
  {
   "cell_type": "code",
   "execution_count": null,
   "metadata": {},
   "outputs": [],
   "source": [
    "#print data on the screen\n",
    "pets"
   ]
  },
  {
   "cell_type": "markdown",
   "metadata": {},
   "source": [
    "# Basics of matplotlib"
   ]
  },
  {
   "cell_type": "markdown",
   "metadata": {},
   "source": [
    "In Python there is a library of pre-defined functions to work with  graphics  - **matplotlib**. "
   ]
  },
  {
   "cell_type": "code",
   "execution_count": null,
   "metadata": {},
   "outputs": [],
   "source": [
    "#load \"matplotlib.pyplot\" library under short name \"plt\"\n",
    "import matplotlib.pyplot as plt\n",
    "\n",
    "#command to display graphics correctly in Jupyter notebook\n",
    "%matplotlib inline"
   ]
  },
  {
   "cell_type": "markdown",
   "metadata": {},
   "source": [
    "## Scatter plot"
   ]
  },
  {
   "cell_type": "code",
   "execution_count": null,
   "metadata": {},
   "outputs": [],
   "source": [
    "#use plot(kind=\"scatter\") to create scatterplot\n",
    "pets.plot(kind=\"scatter\", y=\"Time to Adoption (weeks)\", x=\"Age (years)\") #x and y are dataset columns"
   ]
  },
  {
   "cell_type": "markdown",
   "metadata": {},
   "source": [
    "## Line plot"
   ]
  },
  {
   "cell_type": "code",
   "execution_count": null,
   "metadata": {},
   "outputs": [],
   "source": [
    "#selecting one column of data: Weight (lbs)\n",
    "weight = pets[[\"Weight (lbs)\"]]\n",
    "weight"
   ]
  },
  {
   "cell_type": "code",
   "execution_count": null,
   "metadata": {},
   "outputs": [],
   "source": [
    "#to create a line plot use the plot() function\n",
    "#note x-axis values are row indices\n",
    "weight.plot()"
   ]
  },
  {
   "cell_type": "markdown",
   "metadata": {},
   "source": [
    "### Figure size"
   ]
  },
  {
   "cell_type": "code",
   "execution_count": null,
   "metadata": {},
   "outputs": [],
   "source": [
    "#to change plot size use figsize argument with (width, height)\n",
    "weight.plot(figsize=(20,7))"
   ]
  },
  {
   "cell_type": "markdown",
   "metadata": {},
   "source": [
    "### Axis labels"
   ]
  },
  {
   "cell_type": "code",
   "execution_count": null,
   "metadata": {},
   "outputs": [],
   "source": [
    "weight.plot(figsize=(20,7))\n",
    "\n",
    "#to set axis lables use plt.xlabel() and plt.ylabel() commands\n",
    "plt.xlabel('Pet Index Number',size=16) #x axis label, font size is 16\n",
    "plt.ylabel('Weight (lbs)',size=16) #y axis label, font size is 16"
   ]
  },
  {
   "cell_type": "markdown",
   "metadata": {},
   "source": [
    "---\n",
    "### Exercise 1\n",
    "\n",
    "1. Change the cell below to select only column \"Age (years)\" from the pets DataFrame and make a line plot with figure size 15,5  \n",
    "2. Set x-axis label to \"Pet\" and y-axis label to \"Age (years)\"\n",
    "\n",
    "---"
   ]
  },
  {
   "cell_type": "code",
   "execution_count": null,
   "metadata": {},
   "outputs": [],
   "source": [
    "age = pets[[\"column1\"]] #modify column1 to select age\n",
    "age.plot() #set figsize\n",
    "#set axis labels"
   ]
  },
  {
   "cell_type": "markdown",
   "metadata": {},
   "source": [
    "## Bar chart"
   ]
  },
  {
   "cell_type": "code",
   "execution_count": null,
   "metadata": {},
   "outputs": [],
   "source": [
    "#use kind=\"bar\" for bar charts, note x-axis values are row indices\n",
    "weight.plot(kind=\"bar\",figsize=(20,7))"
   ]
  },
  {
   "cell_type": "markdown",
   "metadata": {},
   "source": [
    "### Bar chart: multiple bars per group"
   ]
  },
  {
   "cell_type": "code",
   "execution_count": null,
   "metadata": {},
   "outputs": [],
   "source": [
    "#we will calculate some statistics grouped by column \"Species\" first\n",
    "#go back to the Python and pandas basics notebook for more details\n",
    "\n",
    "min_max = pets[[\"Species\", \"Weight (lbs)\"]].groupby(\"Species\").agg([\"min\", \"max\"])\n",
    "min_max"
   ]
  },
  {
   "cell_type": "code",
   "execution_count": null,
   "metadata": {},
   "outputs": [],
   "source": [
    "#change this to (kind=\"bar\", stacked=True) to stack bars on top of each other\n",
    "min_max.plot(kind=\"bar\")"
   ]
  },
  {
   "cell_type": "markdown",
   "metadata": {},
   "source": [
    "---\n",
    "### Exercise 2\n",
    "\n",
    "1. Change the cell below to calculate  min and max age grouped by \"Species\" column\n",
    "2. Cerate a bar chart of the results\n",
    "\n",
    "---"
   ]
  },
  {
   "cell_type": "code",
   "execution_count": null,
   "metadata": {},
   "outputs": [],
   "source": [
    "min_max_age = pets[[\"Species\",\"Age (years)\"]].groupby(\"column1\").agg([\"min\",\"max\"]) #change \"column1\" to column name\n",
    "#create bar chart here"
   ]
  },
  {
   "cell_type": "markdown",
   "metadata": {},
   "source": [
    "## Area plot"
   ]
  },
  {
   "cell_type": "code",
   "execution_count": null,
   "metadata": {},
   "outputs": [],
   "source": [
    "#to create an area plot use kind=\"area\"\n",
    "min_max.plot(kind=\"area\")"
   ]
  },
  {
   "cell_type": "markdown",
   "metadata": {},
   "source": [
    "## Pie chart"
   ]
  },
  {
   "cell_type": "code",
   "execution_count": null,
   "metadata": {},
   "outputs": [],
   "source": [
    "#number of rows grouped by \"Species\" column\n",
    "count_by_species = pets.groupby(\"Species\").size()\n",
    "\n",
    "count_by_species"
   ]
  },
  {
   "cell_type": "code",
   "execution_count": null,
   "metadata": {},
   "outputs": [],
   "source": [
    "#use kind=\"pie\" for pie charts\n",
    "count_by_species.plot(kind=\"pie\", figsize=(5,5))\n",
    "\n",
    "#setting axis labels to blanks\n",
    "plt.xlabel('') \n",
    "plt.ylabel('') "
   ]
  },
  {
   "cell_type": "markdown",
   "metadata": {},
   "source": [
    "---\n",
    "### Exercise 3\n",
    "\n",
    "1. Change the cell below to calculate row number grouped by \"Legs\" column\n",
    "2. Create a pie chart of the results\n",
    "\n",
    "---"
   ]
  },
  {
   "cell_type": "code",
   "execution_count": null,
   "metadata": {},
   "outputs": [],
   "source": [
    "count_by_legs = pets.groupby(\"column1\").size() #change \"column1\" to the column name \"Legs\"\n",
    "\n",
    "#create  a pie chart\n"
   ]
  },
  {
   "cell_type": "markdown",
   "metadata": {},
   "source": [
    "More resources for Matplotlib plots are [here](http://queirozf.com/entries/pandas-dataframe-plot-examples-with-matplotlib-pyplot)."
   ]
  },
  {
   "cell_type": "markdown",
   "metadata": {},
   "source": [
    "[![Callysto.ca License](https://github.com/callysto/curriculum-notebooks/blob/master/callysto-notebook-banner-bottom.jpg?raw=true)](https://github.com/callysto/curriculum-notebooks/blob/master/LICENSE.md)"
   ]
  }
 ],
 "metadata": {
  "kernelspec": {
   "display_name": "Python 3",
   "language": "python",
   "name": "python3"
  },
  "language_info": {
   "codemirror_mode": {
    "name": "ipython",
    "version": 3
   },
   "file_extension": ".py",
   "mimetype": "text/x-python",
   "name": "python",
   "nbconvert_exporter": "python",
   "pygments_lexer": "ipython3",
   "version": "3.7.3"
  },
  "nbTranslate": {
   "displayLangs": [
    "*"
   ],
   "hotkey": "alt-t",
   "langInMainMenu": true,
   "sourceLang": "en",
   "targetLang": "fr",
   "useGoogleTranslate": true
  }
 },
 "nbformat": 4,
 "nbformat_minor": 2
}
