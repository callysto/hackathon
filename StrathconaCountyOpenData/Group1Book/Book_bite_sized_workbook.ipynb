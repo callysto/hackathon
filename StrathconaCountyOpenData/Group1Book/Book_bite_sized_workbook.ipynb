{
 "cells": [
  {
   "cell_type": "markdown",
   "metadata": {},
   "source": [
    "![Callysto.ca Banner](https://github.com/callysto/curriculum-notebooks/blob/master/callysto-notebook-banner-top.jpg?raw=true)"
   ]
  },
  {
   "cell_type": "markdown",
   "metadata": {},
   "source": [
    "# Book - Alice's Adventures in Wonderland\n",
    "\n",
    "**Submitted by: A, B, C, D**\n",
    "\n",
    "<table><tr>\n",
    "<td> <img src=\"data/John_Tenniel-_Alice's_mad_tea_party,_colour.jpg\" alt=\"Alice's Tea Party\" style=\"width: 432px;\"/> </td>\n",
    "<td> <img src=\"data/Alice_White_Rabbit.jpeg\" alt=\"Alice Meeting White Rabbit\" style=\"width: 240px;\"/> </td>\n",
    "</tr></table>\n",
    "    \n",
    "[Alice's Adventures in Wonderland](https://en.wikipedia.org/wiki/Alice's_Adventures_in_Wonderland) is one of the most popular fiction novels among adults as well as children. It was written in 1865 by English author Charles Lutwidge Dodgson. \n",
    "\n",
    "On a regular day you might be reading the book and speculating about what will happen next. However in this hackathon you will encounter some interesting findings about the book while learning some new coding/hacking skills."
   ]
  },
  {
   "cell_type": "markdown",
   "metadata": {},
   "source": [
    "## Getting ready\n",
    "\n",
    "This section sets up many things behind the scenes which are required for the rest of this notebook. Most of the code blocks in this section are ready-to-run so you won't have to do any modifications. You don't need to know everything about various tasks being accomplished by the code cell in this section to complete the challenges. However feel free to ask mentors about anything that makes you curious."
   ]
  },
  {
   "cell_type": "markdown",
   "metadata": {},
   "source": [
    "### 1. Install/Import libraries"
   ]
  },
  {
   "cell_type": "markdown",
   "metadata": {},
   "source": [
    "Run the cell below to download and install required Python libraries. It may take couple of minutes to complete the execution of the cell."
   ]
  },
  {
   "cell_type": "code",
   "execution_count": null,
   "metadata": {
    "scrolled": true
   },
   "outputs": [],
   "source": [
    "!pip install --user spaCy\n",
    "#!python -m spacy download en"
   ]
  },
  {
   "cell_type": "markdown",
   "metadata": {},
   "source": [
    "Run the next few cells to load libaries and pre-defined functions which will help us later to complete various challenges."
   ]
  },
  {
   "cell_type": "code",
   "execution_count": null,
   "metadata": {},
   "outputs": [],
   "source": [
    "#!wget https://raw.githubusercontent.com/callysto/hackathon/master/Group1_Book/helper_code/book1.py -P helper_code -nc"
   ]
  },
  {
   "cell_type": "code",
   "execution_count": null,
   "metadata": {},
   "outputs": [],
   "source": [
    "import re\n",
    "import spacy\n",
    "import urllib\n",
    "import numpy as np\n",
    "import pandas as pd\n",
    "\n",
    "nlp = spacy.load('en_core_web_sm')\n",
    "\n",
    "def get_book_df(chapters):\n",
    "    book_df = pd.DataFrame(columns=[\"text\", \"part-of-speech\",\"lemma\",\"chapter\"])\n",
    "    for i in range(len(chapters)):\n",
    "        chapter_tokens = nlp(chapters[i])\n",
    "        for token in chapter_tokens:\n",
    "             if ((token.pos_==\"VERB\") | (token.pos_==\"NOUN\") | (token.pos_==\"ADJ\") | (token.pos_== \"PROPN\")):\n",
    "                    book_df = book_df.append({\"text\": token.text,\n",
    "                             \"part-of-speech\":  token.pos_,\n",
    "                             \"lemma\" : token.lemma_.strip().lower(),\n",
    "                             \"chapter\": i+1\n",
    "                              }, ignore_index=True)\n",
    "    return book_df\n",
    "\n",
    "def get_speechparts_by_chapter(book_df):\n",
    "    result = book_df.groupby([\"chapter\", \"part-of-speech\"]).size().reset_index(name=\"count\").\\\n",
    "                          pivot(index=\"chapter\", columns='part-of-speech',values=\"count\").reset_index().\\\n",
    "                          rename_axis(None,axis=\"columns\").set_index(\"chapter\")\n",
    "    return result \n",
    "\n",
    "def get_counts(book_df, value):\n",
    "    result = book_df.groupby(value).size().reset_index(name='count').set_index(value).sort_values(['count'], ascending=False)\n",
    "    \n",
    "    return result\n",
    "\n",
    "def get_counts_by_chapters(book_df):\n",
    "    result = book_df.groupby([\"chapter\", \"lemma\"]).size().reset_index(name=\"count\").\\\n",
    "                                     pivot(index=\"chapter\", columns='lemma',values=\"count\").reset_index().\\\n",
    "                                    rename_axis(None,axis=\"columns\").set_index(\"chapter\")\n",
    "    return result"
   ]
  },
  {
   "cell_type": "code",
   "execution_count": null,
   "metadata": {},
   "outputs": [],
   "source": [
    "# load libraries and helper code\n",
    "import pandas as pd\n",
    "\n",
    "import cufflinks as cf\n",
    "cf.go_offline()\n",
    "\n",
    "colors20 = ['#e6194b', '#3cb44b', '#ffe119', '#4363d8', '#f58231', '#911eb4', '#46f0f0', \n",
    "          '#f032e6', '#bcf60c', '#fabebe', '#008080', '#e6beff', '#9a6324', '#fffac8', \n",
    "          '#800000', '#aaffc3', '#808000', '#ffd8b1', '#000075', '#808080', '#ffffff', '#000000']\n",
    "\n",
    "# to enable plotting in colab\n",
    "def enable_plotly_in_cell():\n",
    "    import IPython\n",
    "    from plotly.offline import init_notebook_mode\n",
    "    display(IPython.core.display.HTML('''<script src=\"/static/components/requirejs/require.js\"></script>'''))\n",
    "    init_notebook_mode(connected=False)\n",
    "get_ipython().events.register('pre_run_cell', enable_plotly_in_cell) \n",
    "\n",
    "#from helper_code.book1 import *"
   ]
  },
  {
   "cell_type": "markdown",
   "metadata": {},
   "source": [
    "### 2. Download  book from project Guttenberg website\n",
    "\n",
    "**[Project Gutenberg](https://www.gutenberg.org/)** is a digital library with more than 60,000 free eBooks. You can see most popular books downloaded from Guttenberg website [here](http://www.gutenberg.org/ebooks/search/?sort_order=downloads). Can you see *Alice's Adventures in Wonderland* in that list?\n",
    "\n",
    "We've copied the book into cloud storage, and can import it into this notebook. Executing cells below will also make you aware of some interesting statistics about the book."
   ]
  },
  {
   "cell_type": "code",
   "execution_count": null,
   "metadata": {},
   "outputs": [],
   "source": [
    "# file name for the book\n",
    "alice_filename = \"alice.txt\"\n",
    "\n",
    "# copying book from cloud object storage\n",
    "alice_url=\"https://swift-yeg.cloud.cybera.ca:8080/v1/AUTH_d22d1e3f28be45209ba8f660295c84cf/hackaton/alice.txt\"\n",
    "# or directly from Project Gutenberg\n",
    "#alice_url=\"http://www.gutenberg.org/cache/epub/19033/pg19033.txt\"\n",
    "urllib.request.urlretrieve(alice_url, alice_filename)"
   ]
  },
  {
   "cell_type": "code",
   "execution_count": null,
   "metadata": {},
   "outputs": [],
   "source": [
    "# reading the book into variable 'book'\n",
    "with open(alice_filename, 'r') as text_file:\n",
    "    book = text_file.read()"
   ]
  },
  {
   "cell_type": "code",
   "execution_count": null,
   "metadata": {},
   "outputs": [],
   "source": [
    "# print the entire book on the screen\n",
    "print(book)"
   ]
  },
  {
   "cell_type": "code",
   "execution_count": null,
   "metadata": {},
   "outputs": [],
   "source": [
    "# how many characters (letters, numbers, spaces, etc.) are there in the book?\n",
    "len(book)"
   ]
  },
  {
   "cell_type": "code",
   "execution_count": null,
   "metadata": {},
   "outputs": [],
   "source": [
    "# split the book by chapter\n",
    "chapters = re.split(\"CHAPTER\\s+[IVXLCDM]+.\", book)\n",
    "\n",
    "# strip off any whitespace at the very beginning and very end of each chapter.\n",
    "chapters = [chapter.strip() for chapter in chapters]\n",
    "\n",
    "# remove tabs\n",
    "chapters = [re.sub(\"\\n\", \" \", c) for c in chapters]\n",
    "\n",
    "# select only chapters that have more than 1000 characters (to exclude table of contents, title, etc.)\n",
    "chapters = [c for c in chapters if len(c)>1000]\n",
    " \n",
    "# number of chapters\n",
    "print(len(chapters), \" chapters\")"
   ]
  },
  {
   "cell_type": "markdown",
   "metadata": {},
   "source": [
    "### 3. Create a dataframe by selecting only nouns, proper nouns, verbs, and adjectives per chapter\n",
    "\n",
    "We just printed the entire book on the screen, however it is in an unstructured format. It will be easier to analyze the content if it is in a tabulated format.\n",
    "\n",
    "Run the following cells to create a dataframe which tells about various characteristics of a word in the book. Description for each of the columns of the dataframe is provided below:\n",
    "\n",
    "- **text**: actual word\n",
    "- **part-of-speech**:  ADJ, PROPN, VERB, or NOUN\n",
    "- **lemma**: headword\n",
    "- **chapter**: chapter number"
   ]
  },
  {
   "cell_type": "code",
   "execution_count": null,
   "metadata": {},
   "outputs": [],
   "source": [
    "# running this cell will take 3-5 mins!!!\n",
    "\n",
    "#create a dataframe from the book\n",
    "book_df = get_book_df(chapters)"
   ]
  },
  {
   "cell_type": "code",
   "execution_count": null,
   "metadata": {},
   "outputs": [],
   "source": [
    "# show first 5 rows of the dataframe\n",
    "book_df.head()"
   ]
  },
  {
   "cell_type": "code",
   "execution_count": null,
   "metadata": {},
   "outputs": [],
   "source": [
    "# excluding lemma equal to '’s' and '’'\n",
    "book_df = book_df[(book_df[\"lemma\"]!='’s') & (book_df[\"lemma\"]!='’')]\n",
    "\n",
    "# how many rows (individual words) and columns do we have?\n",
    "book_df.shape"
   ]
  },
  {
   "cell_type": "markdown",
   "metadata": {},
   "source": [
    "Now everything is set up for text crunching. Your group can go through the *Alice's Adventures in Wonderland* analysis below and work on challenges. \n",
    "\n",
    "**While working on the challenges, feel free to add new code/markdown cells as needed.**"
   ]
  },
  {
   "cell_type": "markdown",
   "metadata": {},
   "source": [
    "## Part A: Total number of adjectives, nouns, proper nouns, and verbs in the book\n",
    "\n",
    "Let's count the number of adjectives, nouns, proper nouns, and verbs (also known as *part-of-speech tags*) in the book. Would it be possible to do this manually?"
   ]
  },
  {
   "cell_type": "code",
   "execution_count": null,
   "metadata": {},
   "outputs": [],
   "source": [
    "# group by \"part-of-speech\" column and count the number of rows\n",
    "counts_by_part_of_speech = book_df.groupby(\"part-of-speech\").size()\n",
    "\n",
    "# create additional column - count\n",
    "counts_by_part_of_speech = counts_by_part_of_speech.reset_index(name=\"count\")\n",
    "\n",
    "counts_by_part_of_speech "
   ]
  },
  {
   "cell_type": "code",
   "execution_count": null,
   "metadata": {},
   "outputs": [],
   "source": [
    "# create a pie chart\n",
    "counts_by_part_of_speech.iplot(kind=\"pie\",values=\"count\",labels=\"part-of-speech\")"
   ]
  },
  {
   "cell_type": "markdown",
   "metadata": {},
   "source": [
    "### Challenge: \n",
    " - If you change `groupby(\"part-of-speech\")` to `groupby(\"chapter\")`, what will it give you?\n",
    " - Can you create a pie chart showing percentage of all part-of-speech tags in each chapter?"
   ]
  },
  {
   "cell_type": "markdown",
   "metadata": {},
   "source": [
    "## Part B: Number of adjectives/nouns/proper nouns and verbs per chapter\n",
    "\n",
    "Let's count each of the part-of-speech tags individually in each of the chapters."
   ]
  },
  {
   "cell_type": "code",
   "execution_count": null,
   "metadata": {},
   "outputs": [],
   "source": [
    "# call function to get total number of all parts of speech per chapter -  its defined in the top part\n",
    "speech_parts_by_chapter = get_speechparts_by_chapter(book_df)\n",
    "speech_parts_by_chapter"
   ]
  },
  {
   "cell_type": "code",
   "execution_count": null,
   "metadata": {},
   "outputs": [],
   "source": [
    "# new kind of plot - area\n",
    "speech_parts_by_chapter.iplot(kind=\"area\", fill=True, xTitle=\"Chapter\", yTitle=\"Count\")"
   ]
  },
  {
   "cell_type": "markdown",
   "metadata": {},
   "source": [
    "### Challenges:\n",
    " - Experiment with plots: Modify `iplot(kind=\"area\",fill=True)` to `iplot()`, `iplot(kind=\"bar\")` or  `iplot(kind = \"bar\",barmode=\"stack\")`.\n",
    " - Which type of plot can better visualize the chapter with the largest number of verbs?"
   ]
  },
  {
   "cell_type": "markdown",
   "metadata": {},
   "source": [
    "An alternate way to find the chapter with the maximum number of words is **sorting**:"
   ]
  },
  {
   "cell_type": "code",
   "execution_count": null,
   "metadata": {},
   "outputs": [],
   "source": [
    "# sort_values() function - sorts by a column or set of columns\n",
    "speech_parts_by_chapter.sort_values(\"VERB\",ascending=False)"
   ]
  },
  {
   "cell_type": "markdown",
   "metadata": {},
   "source": [
    "### Challenges:\n",
    "\n",
    " - Find the  chapter that has the most **NOUN**s\n",
    " - Find the chapter that has the **fewest** adjectives\n",
    " - Plot the grouped bar chart to visualize nouns and adjectives for each chapter\n",
    " - Try two new kinds of plots - [boxplots](https://www.mathsisfun.com/definitions/box-and-whisker-plot.html) and [histograms](https://www.mathsisfun.com/data/histograms.html). Can you figure out how to interpret them?\n",
    "     - use `iplot(kind=\"box\")`\n",
    "     - use `iplot(kind=\"histogram\",subplots=True)`"
   ]
  },
  {
   "cell_type": "markdown",
   "metadata": {
    "heading_collapsed": true
   },
   "source": [
    "## Part C: Top ten most common words\n",
    "\n",
    "Let's find top ten most used words in the book. Is this possible without computers?"
   ]
  },
  {
   "cell_type": "code",
   "execution_count": null,
   "metadata": {
    "hidden": true
   },
   "outputs": [],
   "source": [
    "# call function to count the number of rows  for every \"lemma\" - its defined in the top portion of the notebook\n",
    "word_counts = get_counts(book_df, \"lemma\")\n",
    "\n",
    "# print top 10 most frequent words on the screen\n",
    "word_counts.head(10)"
   ]
  },
  {
   "cell_type": "markdown",
   "metadata": {
    "hidden": true
   },
   "source": [
    "### Challenges:\n",
    " - Use \"text\" column instead of \"lemma\". Do you get different results? Why?\n",
    " - Visualize the results using the plot style of your choice."
   ]
  },
  {
   "cell_type": "markdown",
   "metadata": {},
   "source": [
    "## Part D:  Top ten most common adjectives \n",
    "\n",
    "Let's extract top ten most used adjectives in the book."
   ]
  },
  {
   "cell_type": "code",
   "execution_count": null,
   "metadata": {},
   "outputs": [],
   "source": [
    "# subset only to adjectives\n",
    "adjectives = book_df[book_df[\"part-of-speech\"]==\"ADJ\"]\n",
    "\n",
    "adjectives.head()"
   ]
  },
  {
   "cell_type": "code",
   "execution_count": null,
   "metadata": {},
   "outputs": [],
   "source": [
    "# call function to count the number of adjectives\n",
    "adjective_counts = get_counts(adjectives, \"lemma\")\n",
    "\n",
    "adjective_counts.head()"
   ]
  },
  {
   "cell_type": "code",
   "execution_count": null,
   "metadata": {},
   "outputs": [],
   "source": [
    "# visualize the top 10 adjectives\n",
    "adjective_counts.head(10).iplot(kind=\"bar\",xTitle=\"Lemma\",yTitle=\"Count\")"
   ]
  },
  {
   "cell_type": "markdown",
   "metadata": {},
   "source": [
    "### Challenges\n",
    " - Similar to words and adjectives, can you find the top 10 most common nouns and verbs?\n",
    " - Plot the results using the chart type of your choice."
   ]
  },
  {
   "cell_type": "markdown",
   "metadata": {},
   "source": [
    "## Part E: Proper nouns varying from chapter to chapter\n",
    "\n",
    "Now that we know how to find top few words in the book, let's analyze how the top 15 proper nouns vary by chapters."
   ]
  },
  {
   "cell_type": "code",
   "execution_count": null,
   "metadata": {},
   "outputs": [],
   "source": [
    "# subset with only proper nouns\n",
    "propnouns = book_df[book_df[\"part-of-speech\"]==\"PROPN\"]\n",
    "propnouns.head()"
   ]
  },
  {
   "cell_type": "code",
   "execution_count": null,
   "metadata": {},
   "outputs": [],
   "source": [
    "# how many of the most frequent proper nouns do we want to analyse\n",
    "num_words = 15\n",
    "\n",
    "# call function to count the number of proper nouns \n",
    "top_propnouns = get_counts(propnouns, \"lemma\")\n",
    "\n",
    "# get the row names(index) for top proper nouns \n",
    "top_propnouns = top_propnouns.head(num_words).index\n",
    "\n",
    "# transform them into list\n",
    "top_propnouns = list(top_propnouns)\n",
    "\n",
    "# print on the screen\n",
    "top_propnouns"
   ]
  },
  {
   "cell_type": "code",
   "execution_count": null,
   "metadata": {},
   "outputs": [],
   "source": [
    "# subset with only the top proper nouns\n",
    "character_by_chapter = book_df[book_df[\"lemma\"].isin(top_propnouns)]\n",
    "character_by_chapter.head()"
   ]
  },
  {
   "cell_type": "code",
   "execution_count": null,
   "metadata": {
    "scrolled": false
   },
   "outputs": [],
   "source": [
    "# what is the distribution of top proper nouns per chapter?\n",
    "# call function to form resulting dataframe - it's defined in the top portion of the notebook\n",
    "counts_by_chapter = get_counts_by_chapters(character_by_chapter)\n",
    "\n",
    "# display on the screen\n",
    "counts_by_chapter.head()"
   ]
  },
  {
   "cell_type": "code",
   "execution_count": null,
   "metadata": {},
   "outputs": [],
   "source": [
    "# who are the main characters in each chapter?\n",
    "# using colors20 from the top of the notebook to extend the default number of colors\n",
    "counts_by_chapter.iplot(kind=\"bar\",barmode = \"stack\", xTitle=\"Chapter\",yTitle=\"Counts\",colors=colors20)"
   ]
  },
  {
   "cell_type": "markdown",
   "metadata": {},
   "source": [
    "### Challenges:\n",
    " - Change the number of proper nouns (change `num_words`) to any other positive number and visualize how the bar chart changes.\n",
    " - Repeat the exercise (i.e. Part E) for adjectives, nouns, and verbs. Can you guess the story line for one of the chapters based on these plots?"
   ]
  },
  {
   "cell_type": "markdown",
   "metadata": {},
   "source": [
    "## Part F: Explore the \"Adventures of Tom Sawyer\" book (optional)\n",
    "\n",
    "\n",
    "From Project Gutenberg, \"The Adventures of Tom Sawyer\" book is also available and stored in the cloud storage. You can repeat the hackathon challenges with this book and create visualizations.\n",
    "\n",
    "**Note that this section is not mandatory.**\n",
    "\n",
    "Run the following code cell to download the book from the cloud into this notebook."
   ]
  },
  {
   "cell_type": "code",
   "execution_count": null,
   "metadata": {},
   "outputs": [],
   "source": [
    "# file name for the book\n",
    "tom_filename = \"tom.txt\"\n",
    "\n",
    "# copying book from cloud object storage\n",
    "tom_url=\"https://swift-yeg.cloud.cybera.ca:8080/v1/AUTH_d22d1e3f28be45209ba8f660295c84cf/hackaton/tom.txt\"\n",
    "#tom_url=\"https://www.gutenberg.org/files/74/74-0.txt\"\n",
    "urllib.request.urlretrieve(tom_url, tom_filename)"
   ]
  },
  {
   "cell_type": "markdown",
   "metadata": {},
   "source": [
    "## Summary\n",
    "\n",
    "This workbook analyzes the **Alice's Adventures in Wonderland** book with the help of Python code blocks. The book is obtained from Project Gutenberg and part-of-speech tags are counted for the book as well as chapters. Also, commonly used words are identified and various relevant challenges are addressed. \n",
    "\n",
    "By taking part in this hackathon and completing these challenges, you learned how to analyze a big dataset which is impractical to do manually, created visualizations, and most importantly developed [*computational thinking*](https://en.wikipedia.org/wiki/Computational_thinking) abilities which can be used to solve various problems."
   ]
  },
  {
   "cell_type": "markdown",
   "metadata": {},
   "source": [
    "## Hackathon Reflections\n",
    "Write about some or all of the following questions, either individually in separate markdown cells or as a group.\n",
    "- What is something you learned through this process?\n",
    "- How well did your group work together? Why do you think that is?\n",
    "- What were some of the hardest parts?\n",
    "- What are you proud of? What would you like to show others?\n",
    "- Are you curious about anything else related to this? Did anything surprise you?\n",
    "- How can you apply your learning to future activities?"
   ]
  },
  {
   "cell_type": "markdown",
   "metadata": {},
   "source": [
    "[![Callysto.ca License](https://github.com/callysto/curriculum-notebooks/blob/master/callysto-notebook-banner-bottom.jpg?raw=true)](https://github.com/callysto/curriculum-notebooks/blob/master/LICENSE.md)"
   ]
  }
 ],
 "metadata": {
  "kernelspec": {
   "display_name": "Python 3",
   "language": "python",
   "name": "python3"
  },
  "language_info": {
   "codemirror_mode": {
    "name": "ipython",
    "version": 3
   },
   "file_extension": ".py",
   "mimetype": "text/x-python",
   "name": "python",
   "nbconvert_exporter": "python",
   "pygments_lexer": "ipython3",
   "version": "3.7.5"
  },
  "latex_envs": {
   "LaTeX_envs_menu_present": true,
   "autoclose": false,
   "autocomplete": true,
   "bibliofile": "biblio.bib",
   "cite_by": "apalike",
   "current_citInitial": 1,
   "eqLabelWithNumbers": true,
   "eqNumInitial": 1,
   "hotkeys": {
    "equation": "Ctrl-E",
    "itemize": "Ctrl-I"
   },
   "labels_anchors": false,
   "latex_user_defs": false,
   "report_style_numbering": false,
   "user_envs_cfg": false
  },
  "nbTranslate": {
   "displayLangs": [
    "*"
   ],
   "hotkey": "alt-t",
   "langInMainMenu": true,
   "sourceLang": "en",
   "targetLang": "fr",
   "useGoogleTranslate": true
  }
 },
 "nbformat": 4,
 "nbformat_minor": 2
}
