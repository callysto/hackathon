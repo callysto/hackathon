{
 "cells": [
  {
   "cell_type": "markdown",
   "metadata": {},
   "source": [
    "![Callysto.ca Banner](https://github.com/callysto/curriculum-notebooks/blob/master/callysto-notebook-banner-top.jpg?raw=true)"
   ]
  },
  {
   "cell_type": "markdown",
   "metadata": {},
   "source": [
    "In this notebook we are going to analyze \"Alice's Adventures in Wonderland\" book.  "
   ]
  },
  {
   "cell_type": "markdown",
   "metadata": {},
   "source": [
    "## Prep work"
   ]
  },
  {
   "cell_type": "code",
   "execution_count": null,
   "metadata": {},
   "outputs": [],
   "source": [
    "#library should be installed already\n",
    "!pip install cufflinks ipywidgets"
   ]
  },
  {
   "cell_type": "markdown",
   "metadata": {},
   "source": [
    "Run the next cell to load libaries:"
   ]
  },
  {
   "cell_type": "code",
   "execution_count": null,
   "metadata": {},
   "outputs": [],
   "source": [
    "import pandas as pd\n",
    "\n",
    "import cufflinks as cf\n",
    "cf.go_offline()\n",
    "\n",
    "\n",
    "#to enable plotting in colab\n",
    "def enable_plotly_in_cell():\n",
    "    import IPython\n",
    "    from plotly.offline import init_notebook_mode\n",
    "    display(IPython.core.display.HTML('''\n",
    "        <script src=\"/static/components/requirejs/require.js\"></script>\n",
    "  '''))\n",
    "    init_notebook_mode(connected=False)\n",
    "    \n",
    "get_ipython().events.register('pre_run_cell', enable_plotly_in_cell)\n",
    "\n",
    "#set of 20 colors that may be useful  for plotting \n",
    "colors20 = ['#e6194b', '#3cb44b', '#ffe119', '#4363d8', '#f58231', '#911eb4', '#46f0f0', \n",
    "          '#f032e6', '#bcf60c', '#fabebe', '#008080', '#e6beff', '#9a6324', '#fffac8', \n",
    "          '#800000', '#aaffc3', '#808000', '#ffd8b1', '#000075', '#808080', '#ffffff', '#000000']"
   ]
  },
  {
   "cell_type": "markdown",
   "metadata": {},
   "source": [
    "## Read and explore input DataFrames\n",
    "\n",
    "We have created three dataframes that you can use for the analysis.\n"
   ]
  },
  {
   "cell_type": "markdown",
   "metadata": {},
   "source": [
    "### DataFrame 1: book_df     \n",
    "\n",
    "This dataframe containes all nouns, proper nouns, adjectives and verbs from the book.  \n",
    "**Note**: there can be multiple rows for the same word (if this word is encountered multiple times in the text).\n",
    "   \n",
    "- **text**: actual word\n",
    "- **part-of-speech**:  ADJ, PROPN, VERB, or NOUN\n",
    "- **lemma**: headword\n",
    "- **chapter**: chapter number"
   ]
  },
  {
   "cell_type": "code",
   "execution_count": null,
   "metadata": {},
   "outputs": [],
   "source": [
    "#csv file is stored in the cloud\n",
    "url1 = \"https://swift-yeg.cloud.cybera.ca:8080/v1/AUTH_d22d1e3f28be45209ba8f660295c84cf/hackaton/book_df.csv\"\n",
    "\n",
    "#read csv file from url and save it as dataframe\n",
    "book_df = pd.read_csv(url1)\n",
    "\n",
    "#print first 5 rows\n",
    "book_df.head()"
   ]
  },
  {
   "cell_type": "markdown",
   "metadata": {},
   "source": [
    "### DataFrame 2: speech_parts_by_chapter\n",
    "This dataframe contains the total number of all nouns, proper nouns, adjectives and verbs  per chapter."
   ]
  },
  {
   "cell_type": "code",
   "execution_count": null,
   "metadata": {},
   "outputs": [],
   "source": [
    "#csv file stored in the cloud\n",
    "url2 = \"https://swift-yeg.cloud.cybera.ca:8080/v1/AUTH_d22d1e3f28be45209ba8f660295c84cf/hackaton/speech_parts_by_chapter.csv\"\n",
    "\n",
    "#read csv file from url and save it as dataframe\n",
    "speech_parts_by_chapter = pd.read_csv(url2)\n",
    "\n",
    "#print first 5 rows\n",
    "speech_parts_by_chapter.head()"
   ]
  },
  {
   "cell_type": "markdown",
   "metadata": {},
   "source": [
    "### DataFrame 3: prop_nouns_by_chapter\n",
    "This dataframe contains the number of top 15 most popular proper  nouns  per chapter.  \n",
    "   \n",
    "For example chapter 1 (row 1)  has 28 occurences of the word \"alice\", 5 - \"cat\", 2-\"mouse\",9-\"rabbit\" and 4 - \"white\"."
   ]
  },
  {
   "cell_type": "code",
   "execution_count": null,
   "metadata": {},
   "outputs": [],
   "source": [
    "#csv file stored in the cloud\n",
    "url3 = \"https://swift-yeg.cloud.cybera.ca:8080/v1/AUTH_d22d1e3f28be45209ba8f660295c84cf/hackaton/propnouns_by_chapter.csv\"\n",
    "\n",
    "#read csv file from url and save it as dataframe\n",
    "prop_nouns_by_chapter = pd.read_csv(url3)\n",
    "\n",
    "#print first 5 rows\n",
    "prop_nouns_by_chapter.head()"
   ]
  },
  {
   "cell_type": "markdown",
   "metadata": {},
   "source": [
    "# Suggested group goals\n",
    "   \n",
    "  \n",
    "1. Find the total number of all parts of speech in the entire book.\n",
    "     - Create a graph for the results        \n",
    "2. Find the chapter with the largest number of nouns.      \n",
    "3. Plot number of all parts of speech per chapter using area plot\n",
    "     - Hint: set index(row names) to chapter  `speech_parts_by_chapter = speech_parts_by_chapter.set_index(\"chapter\")`             \n",
    "4. Find the top 10 most frequent words(using \"lemma\" column).     \n",
    "5. Find  and create a graph for the top 10 most frequent adjectives.      \n",
    "6. Plot most common proper nouns per chapter(**prop_nouns_by_chapter** dataframe) using stacked bar chart.\n",
    "     - Hint: set index(row names) to chapter `prop_nouns_by_chapter = prop_nouns_by_chapter.set_index(\"chapter\")`\n",
    "     - Hint: add `colors=colors20` when you plot to use extended color palette\n",
    "     \n",
    "**Extra challenge**:\n",
    "\n",
    "Is there anything else interesting you can find and visualize for these data?\n"
   ]
  },
  {
   "cell_type": "markdown",
   "metadata": {},
   "source": [
    "[![Callysto.ca License](https://github.com/callysto/curriculum-notebooks/blob/master/callysto-notebook-banner-bottom.jpg?raw=true)](https://github.com/callysto/curriculum-notebooks/blob/master/LICENSE.md)"
   ]
  }
 ],
 "metadata": {
  "kernelspec": {
   "display_name": "Python 3.8.10 64-bit",
   "language": "python",
   "name": "python3"
  },
  "language_info": {
   "codemirror_mode": {
    "name": "ipython",
    "version": 3
   },
   "file_extension": ".py",
   "mimetype": "text/x-python",
   "name": "python",
   "nbconvert_exporter": "python",
   "pygments_lexer": "ipython3",
   "version": "3.8.10"
  },
  "nbTranslate": {
   "displayLangs": [
    "*"
   ],
   "hotkey": "alt-t",
   "langInMainMenu": true,
   "sourceLang": "en",
   "targetLang": "fr",
   "useGoogleTranslate": true
  },
  "vscode": {
   "interpreter": {
    "hash": "916dbcbb3f70747c44a77c7bcd40155683ae19c65e1c03b4aa3499c5328201f1"
   }
  }
 },
 "nbformat": 4,
 "nbformat_minor": 2
}
