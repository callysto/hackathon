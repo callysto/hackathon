{
 "cells": [
  {
   "cell_type": "markdown",
   "metadata": {},
   "source": [
    "![Callysto.ca Banner](https://github.com/callysto/curriculum-notebooks/blob/master/callysto-notebook-banner-top.jpg?raw=true)"
   ]
  },
  {
   "cell_type": "markdown",
   "metadata": {},
   "source": [
    "# Pokémon - Do you know them all?\n",
    "\n",
    "**Submitted by: A, B, C, D**\n",
    "\n",
    "<table><tr>\n",
    "<td> <img src=\"data/pokemon.png\" alt=\"Pokemon Logo\" style=\"width: 730px;\"/> </td>\n",
    "<td> <img src=\"data/cosmoem.jpeg\" alt=\"Cosmoem\" style=\"width: 270px;\"/> </td>\n",
    "</tr></table>\n",
    "    \n",
    "[Pokémon](https://en.wikipedia.org/wiki/Pok%C3%A9mon), an abbreviation of **Pocket Monsters**, is a media franchise managed by a Japanese consortium. While it referes to a franchise itself, it also collectively refers to various fictional species which made appearances in the franchise's digital and print publications as well as films and television series.\n",
    "\n",
    "On a regular day you might be collecting Pokémon in your video games, playing cards, or watching the animated series. However in this hackathon, we try to learn more about various Pokémon using data. Hopefully you will encounter some interesting findings while learning some new coding/hacking skills."
   ]
  },
  {
   "cell_type": "markdown",
   "metadata": {},
   "source": [
    "## Getting ready\n",
    "\n",
    "This section sets up many things behind the scenes which are required for the rest of this notebook. Most of the code blocks in this section are ready-to-run so you won't have to do any modifications. You don't need to know everything about various tasks being accomplished by the code cell in this section to complete the challenges. However feel free to ask mentors about anything that makes you curious."
   ]
  },
  {
   "cell_type": "markdown",
   "metadata": {},
   "source": [
    "### 1. Install/Import libraries\n",
    "\n",
    "Run the cell below to download and install required Python libraries. It may take few minutes to complete the execution of the cell."
   ]
  },
  {
   "cell_type": "code",
   "execution_count": null,
   "metadata": {
    "scrolled": true
   },
   "outputs": [],
   "source": [
    "!pip install cufflinks ipywidgets"
   ]
  },
  {
   "cell_type": "markdown",
   "metadata": {},
   "source": [
    "Run the next few cells to load libaries and functions which will help us later to complete various challenges."
   ]
  },
  {
   "cell_type": "code",
   "execution_count": null,
   "metadata": {},
   "outputs": [],
   "source": [
    "# load libraries and helper code\n",
    "import pandas as pd\n",
    "import chart_studio.plotly as py\n",
    "import cufflinks as cf\n",
    "import IPython\n",
    "from plotly.offline import init_notebook_mode\n",
    "cf.go_offline()\n",
    "\n",
    "# color pallete with more than 20 colors\n",
    "colors20 = ['#e6194b', '#3cb44b', '#ffe119', '#4363d8', '#f58231', '#911eb4', '#46f0f0', \n",
    "          '#f032e6', '#bcf60c', '#fabebe', '#008080', '#e6beff', '#9a6324', '#fffac8', \n",
    "          '#800000', '#aaffc3', '#808000', '#ffd8b1', '#000075', '#808080', '#ffffff', '#000000']\n",
    "\n",
    "# to enable plotting in colab\n",
    "def enable_plotly_in_cell():\n",
    "    display(IPython.core.display.HTML('''<script src=\"/static/components/requirejs/require.js\"></script>'''))\n",
    "    init_notebook_mode(connected=False)\n",
    "get_ipython().events.register('pre_run_cell', enable_plotly_in_cell)"
   ]
  },
  {
   "cell_type": "markdown",
   "metadata": {},
   "source": [
    "### 2. Import data and create a dataframe\n",
    "\n",
    "Pokémon dataset is available on [Kaggle](https://www.kaggle.com/rounakbanik/pokemon) which is an online community of data scientists and machine learners and a well-known competition platform for predictive modeling and analytics.\n",
    "\n",
    "For this hackathon the dataset is stored in cloud storage so we can import it into this notebook. Executing cells below will also create a dataframe and make you aware of some interesting facts about the dataset."
   ]
  },
  {
   "cell_type": "code",
   "execution_count": null,
   "metadata": {},
   "outputs": [],
   "source": [
    "# reading from cloud object storage\n",
    "target_url=\"https://swift-yeg.cloud.cybera.ca:8080/v1/AUTH_d22d1e3f28be45209ba8f660295c84cf/hackaton/pokemon.csv\""
   ]
  },
  {
   "cell_type": "code",
   "execution_count": null,
   "metadata": {},
   "outputs": [],
   "source": [
    "# reading the input file and creating dataframe\n",
    "pokemon = pd.read_csv(target_url) "
   ]
  },
  {
   "cell_type": "code",
   "execution_count": null,
   "metadata": {},
   "outputs": [],
   "source": [
    "# how many rows and colums does the dataframe have?\n",
    "pokemon.shape"
   ]
  },
  {
   "cell_type": "code",
   "execution_count": null,
   "metadata": {},
   "outputs": [],
   "source": [
    "# what are the column names?\n",
    "pokemon.columns"
   ]
  },
  {
   "cell_type": "markdown",
   "metadata": {},
   "source": [
    "Now you know which columns are there in the dataset, but what do those columns refer to? Here is the description for some of the columns from Kaggle:\n",
    "\n",
    "- **name**: The English name of the Pokemon\n",
    "- **japanese_name**: The Original Japanese name of the Pokemon\n",
    "- **pokedex_number**: The entry number of the Pokemon in the National Pokedex\n",
    "- **percentage_male**: The percentage of the species that are male. Blank if the Pokemon is genderless.\n",
    "- **type1**: The Primary Type of the Pokemon\n",
    "- **type2**: The Secondary Type of the Pokemon\n",
    "- **classfication**: The Classification of the Pokemon as described by the Sun and Moon Pokedex\n",
    "- **height_m**: Height of the Pokemon in metres\n",
    "- **weight_kg**: The Weight of the Pokemon in kilograms\n",
    "- **capture_rate**: Capture Rate of the Pokemon\n",
    "- **base_egg_steps**: The number of steps required to hatch an egg of the Pokemon\n",
    "- **abilities**: A stringified list of abilities that the Pokemon is capable of having\n",
    "- **experience_growth**: The Experience Growth of the Pokemon\n",
    "- **base_happiness**: Base Happiness of the Pokemon\n",
    "- **against_?**: Eighteen features that denote the amount of damage taken against an attack of a particular type\n",
    "- **hp**: The Base HP of the Pokemon\n",
    "- **attack**: The Base Attack of the Pokemon\n",
    "- **defense**: The Base Defense of the Pokemon\n",
    "- **sp_attack**: The Base Special Attack of the Pokemon\n",
    "- **sp_defense**: The Base Special Defense of the Pokemon\n",
    "- **speed**: The Base Speed of the Pokemon\n",
    "- **generation**: The numbered generation which the Pokemon was first introduced\n",
    "- **is_legendary**: Denotes if the Pokemon is legendary.\n",
    "\n",
    "Now everything is set up for crunching the Pokémon dataset. Your group can go through the rest of the notebook and work on challenges.\n",
    "\n",
    "**While working on the challenges, feel free to add new code/markdown cells as needed.**"
   ]
  },
  {
   "cell_type": "markdown",
   "metadata": {},
   "source": [
    "## Part A: Display the dataset\n",
    "\n",
    "Let's have a quick look at the first 20 columns and few top rows of the dataset. "
   ]
  },
  {
   "cell_type": "code",
   "execution_count": null,
   "metadata": {
    "scrolled": false
   },
   "outputs": [],
   "source": [
    "# display first 20 columns to explore what the data look like\n",
    "# 0:20 - means from column 0 up to column 19\n",
    "pokemon.iloc[:,0:20].head()"
   ]
  },
  {
   "cell_type": "markdown",
   "metadata": {},
   "source": [
    "### Challenge:\n",
    "\n",
    " - Out of the total 41 columns, we can see only first 20 of them here. Can you tweak the code cell to display only rest of the columns (i.e. from 21 to 41)?"
   ]
  },
  {
   "cell_type": "markdown",
   "metadata": {},
   "source": [
    "## Part B: Weight and height \n",
    "\n",
    "Let's get to know more about Pokémon by assessing their physical characteristics."
   ]
  },
  {
   "cell_type": "code",
   "execution_count": null,
   "metadata": {},
   "outputs": [],
   "source": [
    "# let's select only two columns \"weight_kg\" and \"name\"\n",
    "pokemon_by_weight = pokemon[[\"weight_kg\",\"name\"]]\n",
    "\n",
    "# we will order by \"weight_kg\" in descending order\n",
    "pokemon_by_weight = pokemon_by_weight.sort_values(by=['weight_kg'],ascending=False)\n",
    "\n",
    "# print out the top 10 heaviest pokemon\n",
    "pokemon_by_weight.head(10)"
   ]
  },
  {
   "cell_type": "code",
   "execution_count": null,
   "metadata": {},
   "outputs": [],
   "source": [
    "# create a bar chart\n",
    "\n",
    "# set_index(\"name\"): we need to set index of rows to \"name\" so that the graph has pokemon names as labels\n",
    "pokemon_by_weight.head(10).set_index(\"name\").iplot(kind=\"bar\",yTitle=\"Weight (kg)\")"
   ]
  },
  {
   "cell_type": "markdown",
   "metadata": {},
   "source": [
    "### Challenges:\n",
    "- Find the 20 shortest Pokémon (use **height_m** column).\n",
    "- Create a horizontal bar chart or line chart for the 20 shortest Pokémon by changing `iplot(kind=\"bar\")` to `iplot(kind=\"barh\")`  or `iplot(kind=\"line\")` respectively. Which graph helps you better understand the results?\n",
    "- Try two new kinds of plots: [boxplots](https://www.mathsisfun.com/definitions/box-and-whisker-plot.html) and [histograms](https://www.mathsisfun.com/data/histograms.html). Can you figure out how to interpret them?\n",
    "     - use `iplot(kind=\"box\")`\n",
    "     - use `iplot(kind=\"histogram\")`"
   ]
  },
  {
   "cell_type": "markdown",
   "metadata": {},
   "source": [
    "## Part C: For the top 10 heaviest Pokémon, what will be the height?\n",
    "\n",
    "We have identified the heaviest Pokémon in the dataset. Are those heaviest ones are the tallest ones as well? Let's find out."
   ]
  },
  {
   "cell_type": "code",
   "execution_count": null,
   "metadata": {},
   "outputs": [],
   "source": [
    "# this time we are interested in weight and height - we select three columns \"weight_kg\",\"height_m\" and \"name\"\n",
    "pokemon_by_weight_height = pokemon[[\"weight_kg\",\"height_m\",\"name\"]]\n",
    "\n",
    "# we will order by weight_kg in descending order\n",
    "pokemon_by_weight_height = pokemon_by_weight_height.sort_values(by=['weight_kg'],ascending=False)\n",
    "\n",
    "# print on the screen the top 10 heaviest pokemon\n",
    "pokemon_by_weight_height.head(10)"
   ]
  },
  {
   "cell_type": "markdown",
   "metadata": {},
   "source": [
    "Interestingly, [Cosmoem](https://www.pokemon.com/us/pokedex/cosmoem) has a super large weight and minimum height!\n",
    "\n",
    "Let's try to visualize the height and weight for the ten heaviest Pokémon using a bar chart."
   ]
  },
  {
   "cell_type": "code",
   "execution_count": null,
   "metadata": {},
   "outputs": [],
   "source": [
    "# create a bar chart\n",
    "pokemon_by_weight_height.head(10).set_index(\"name\").iplot(kind=\"bar\")"
   ]
  },
  {
   "cell_type": "markdown",
   "metadata": {},
   "source": [
    "Do you think a bar chart is a good option to visualize height and weight of all Pokémon? Perhaps not. Let's try [scatter plot](https://en.wikipedia.org/wiki/Scatter_plot) for that purpose."
   ]
  },
  {
   "cell_type": "code",
   "execution_count": null,
   "metadata": {},
   "outputs": [],
   "source": [
    "# Scatter plot\n",
    "pokemon_by_weight_height.iplot(kind=\"scatter\", # type of plot\n",
    "                               mode='markers', # show only markers(dots), not lines\n",
    "                               x='weight_kg', # which columns will be the used for x-values\n",
    "                               y='height_m', # which columns will be used for y-values\n",
    "                               text=\"name\", # name of the pokemon will be displayed when you hoover your mouse over it\n",
    "                               xTitle=\"Weight (kg)\", # x-axis title\n",
    "                               yTitle=\"Height (m)\", # y-axis title\n",
    "                               title=\"Physical attributes of Pokémon\") # title of the plot"
   ]
  },
  {
   "cell_type": "markdown",
   "metadata": {},
   "source": [
    "### Challenges:\n",
    " - Find the top ten strongest Pokémon (use **attack** column - higher base attack means stronger Pokémon).\n",
    "     - What is the base defense for these Pokémon? (use **attack** and **defense** columns)\n",
    " - Draw a scatter plot for defence (on y-axis) and attack (on x-axis) for the top ten strongest Pokémon."
   ]
  },
  {
   "cell_type": "markdown",
   "metadata": {},
   "source": [
    "## Part D: Pokémon by primary type\n",
    "\n",
    "Let's analyze Pokémon by their primary type."
   ]
  },
  {
   "cell_type": "code",
   "execution_count": null,
   "metadata": {},
   "outputs": [],
   "source": [
    "# unique primary types\n",
    "pokemon_types1 = pokemon[\"type1\"].unique()\n",
    "\n",
    "# how many primary types do exist\n",
    "print(len(pokemon_types1), \"types\")\n",
    "\n",
    "# print the actual type names\n",
    "print(pokemon_types1)"
   ]
  },
  {
   "cell_type": "markdown",
   "metadata": {},
   "source": [
    "Would it be possible to find and list these 18 primary types of Pokémon manually?\n",
    "\n",
    "Which type of Pokémon do you like the most?"
   ]
  },
  {
   "cell_type": "code",
   "execution_count": null,
   "metadata": {},
   "outputs": [],
   "source": [
    "# calculate how many of the Pokémon belong to every type\n",
    "pokemon_by_type = pokemon.groupby(\"type1\").size()\n",
    "\n",
    "# create additional column \"count\" to store the number of Pokémon \n",
    "pokemon_by_type = pokemon_by_type.reset_index(name='count')\n",
    "\n",
    "# sort by number of Pokémon - what type has the largest number\n",
    "pokemon_by_type = pokemon_by_type.sort_values(['count'], ascending=False)\n",
    "\n",
    "# print the results on the screen\n",
    "pokemon_by_type"
   ]
  },
  {
   "cell_type": "code",
   "execution_count": null,
   "metadata": {
    "scrolled": false
   },
   "outputs": [],
   "source": [
    "# this time we use pie chart for visualization\n",
    "pokemon_by_type.iplot(kind=\"pie\", # type of chart\n",
    "                      labels = \"type1\", # which column are we using for labels\n",
    "                      values = \"count\", # which column is used for plotting\n",
    "                      colors = colors20) # use extended color palette with 20 colors"
   ]
  },
  {
   "cell_type": "markdown",
   "metadata": {},
   "source": [
    "### Challenges:\n",
    "\n",
    "Analyze Pokémon by secondary type available in **type2** column.\n",
    "\n",
    " - How many secondary types exist?\n",
    " - Provide the number of Pokémon by secondary type.\n",
    " - How many secondary types are there for water-type Pokémon? (Use `water_type = pokemon[pokemon[\"type1\"]==\"water\"]` to subset only water-type Pokémon)"
   ]
  },
  {
   "cell_type": "markdown",
   "metadata": {},
   "source": [
    "## Part E: Attack and defense by primary type\n",
    "\n",
    "Let's find the attack and defense capabilities of Pokémon by their primary type."
   ]
  },
  {
   "cell_type": "code",
   "execution_count": null,
   "metadata": {},
   "outputs": [],
   "source": [
    "# we will use scatterplot again to plot attack on x-axis and defense on y-axis for all the Pokémon\n",
    "# we will color by primary type using categories =\"type1\"\n",
    "\n",
    "pokemon.iplot(kind=\"scatter\",mode='markers', x='attack', y='defense', categories =\"type1\",\n",
    "              text =\"name\", color=colors20, xTitle=\"Attack\", yTitle=\"Defence\")"
   ]
  },
  {
   "cell_type": "markdown",
   "metadata": {},
   "source": [
    "This looks a little messy. Let's specify a Pokémon type manually using `input()` function in the next code cell.\n",
    "\n",
    "\n",
    "**Note**: If you enter multiple types or a type that doesn't exist then the code will give an error. Execute the cell again to start over."
   ]
  },
  {
   "cell_type": "code",
   "execution_count": null,
   "metadata": {},
   "outputs": [],
   "source": [
    "print(\"Enter Pokémon primary type: \")\n",
    "\n",
    "# will read user input into \"input1\" varable\n",
    "input1 = input()\n",
    "\n",
    "# we do the same scatter plot but subset the data by input\n",
    "pokemon[(pokemon[\"type1\"]==input1)].iplot(kind=\"scatter\",mode='markers', x='attack', y='defense', \n",
    "              categories =\"type1\",text =\"name\",color=colors20,xTitle=\"Attack\",yTitle=\"Defence\")"
   ]
  },
  {
   "cell_type": "markdown",
   "metadata": {},
   "source": [
    "### Challenge:\n",
    "\n",
    "Use code from the cell above to add two user inputs and plot two Pokémon types simultaneously.\n",
    "  - Use `pokemon[(pokemon[\"type1\"]==input1) | (pokemon[\"type1\"]==input2)]` to select two types at the same time."
   ]
  },
  {
   "cell_type": "markdown",
   "metadata": {
    "heading_collapsed": true
   },
   "source": [
    "## Part F: Average attack and defense by primary type (optional)\n",
    "\n",
    "What would be the best way to compare Pokémon with different primary types? Let's take the mean of their attack and defense capabilities and visualize them. \n",
    "\n",
    "**Note that this section is not mandatory.**"
   ]
  },
  {
   "cell_type": "code",
   "execution_count": null,
   "metadata": {
    "hidden": true
   },
   "outputs": [],
   "source": [
    "# calculate average attack and defense by primary type\n",
    "avg_by_type = pokemon[['type1', 'attack', 'defense']].groupby('type1').mean()\n",
    "\n",
    "# how many Pokémon belong to each primary type\n",
    "counts = pokemon.groupby('type1').size()\n",
    "\n",
    "# combine Pokémon counts and average attack/defense\n",
    "avg_by_type[\"count\"] = counts\n",
    "\n",
    "# reset index to have \"type1\" as a column\n",
    "avg_by_type = avg_by_type.reset_index()\n",
    "\n",
    "avg_by_type"
   ]
  },
  {
   "cell_type": "code",
   "execution_count": null,
   "metadata": {
    "hidden": true
   },
   "outputs": [],
   "source": [
    "# create a bubble chart\n",
    "# the size of bubble is set to \"count\" - the bigger the bubble is the more Pokémon belong to this primary type\n",
    "avg_by_type.iplot(kind=\"bubble\",mode='markers', x='attack', y='defense', size=\"count\", \n",
    "              categories =\"type1\",color=colors20)"
   ]
  },
  {
   "cell_type": "markdown",
   "metadata": {
    "hidden": true
   },
   "source": [
    "### Challenge:\n",
    "- Compare the Pokémon with different secondary types. Create a bubble chart as above."
   ]
  },
  {
   "cell_type": "markdown",
   "metadata": {},
   "source": [
    "## Summary\n",
    "\n",
    "This workbook analyzes the **Pokémon** dataset from Kaggle with the help of Python code blocks. Various physical attributes of Pokémon are analyzed to identify heaviest and shortest Pokémon. Also, their attack and defense capabilities are visualized by their primary types and distinct relevant challenges are addressed.\n",
    "\n",
    "By taking part in this hackathon and completing these challenges, you learned how to analyze a big dataset which is impractical to do manually, created visualizations, and most importantly developed [*computational thinking*](https://en.wikipedia.org/wiki/Computational_thinking) abilities which can be used to solve various problems."
   ]
  },
  {
   "cell_type": "markdown",
   "metadata": {},
   "source": [
    "## Hackathon Reflections\n",
    "Write about some or all of the following questions, either individually in separate markdown cells or as a group.\n",
    "- What is something you learned through this process?\n",
    "- How well did your group work together? Why do you think that is?\n",
    "- What were some of the hardest parts?\n",
    "- What are you proud of? What would you like to show others?\n",
    "- Are you curious about anything else related to this? Did anything surprise you?\n",
    "- How can you apply your learning to future activities?"
   ]
  },
  {
   "cell_type": "markdown",
   "metadata": {},
   "source": [
    "![alt text](https://github.com/callysto/callysto-sample-notebooks/blob/master/notebooks/images/Callysto_Notebook-Banners_Bottom_06.06.18.jpg?raw=true)"
   ]
  }
 ],
 "metadata": {
  "celltoolbar": "Raw Cell Format",
  "kernelspec": {
   "display_name": "Python 3.8.10 64-bit",
   "language": "python",
   "name": "python3"
  },
  "language_info": {
   "codemirror_mode": {
    "name": "ipython",
    "version": 3
   },
   "file_extension": ".py",
   "mimetype": "text/x-python",
   "name": "python",
   "nbconvert_exporter": "python",
   "pygments_lexer": "ipython3",
   "version": "3.8.10"
  },
  "latex_envs": {
   "LaTeX_envs_menu_present": true,
   "autoclose": false,
   "autocomplete": true,
   "bibliofile": "biblio.bib",
   "cite_by": "apalike",
   "current_citInitial": 1,
   "eqLabelWithNumbers": true,
   "eqNumInitial": 1,
   "hotkeys": {
    "equation": "Ctrl-E",
    "itemize": "Ctrl-I"
   },
   "labels_anchors": false,
   "latex_user_defs": false,
   "report_style_numbering": false,
   "user_envs_cfg": false
  },
  "nbTranslate": {
   "displayLangs": [
    "*"
   ],
   "hotkey": "alt-t",
   "langInMainMenu": true,
   "sourceLang": "en",
   "targetLang": "fr",
   "useGoogleTranslate": true
  },
  "vscode": {
   "interpreter": {
    "hash": "916dbcbb3f70747c44a77c7bcd40155683ae19c65e1c03b4aa3499c5328201f1"
   }
  }
 },
 "nbformat": 4,
 "nbformat_minor": 2
}
