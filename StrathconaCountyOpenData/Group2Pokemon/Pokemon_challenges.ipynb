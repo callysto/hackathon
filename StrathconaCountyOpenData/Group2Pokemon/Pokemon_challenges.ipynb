{
 "cells": [
  {
   "cell_type": "markdown",
   "metadata": {},
   "source": [
    "![Callysto.ca Banner](https://github.com/callysto/curriculum-notebooks/blob/master/callysto-notebook-banner-top.jpg?raw=true)"
   ]
  },
  {
   "cell_type": "markdown",
   "metadata": {},
   "source": [
    "In this notebook we are going to analyze pokemons."
   ]
  },
  {
   "cell_type": "markdown",
   "metadata": {},
   "source": [
    "## Prep work"
   ]
  },
  {
   "cell_type": "code",
   "execution_count": null,
   "metadata": {},
   "outputs": [],
   "source": [
    "#library should be installed already\n",
    "#!pip install cufflinks ipywidgets"
   ]
  },
  {
   "cell_type": "markdown",
   "metadata": {},
   "source": [
    "Run the next cell to load libaries:"
   ]
  },
  {
   "cell_type": "code",
   "execution_count": null,
   "metadata": {},
   "outputs": [],
   "source": [
    "import pandas as pd\n",
    "\n",
    "import cufflinks as cf\n",
    "cf.go_offline()\n",
    "\n",
    "\n",
    "#to enable plotting in colab\n",
    "def enable_plotly_in_cell():\n",
    "    import IPython\n",
    "    from plotly.offline import init_notebook_mode\n",
    "    display(IPython.core.display.HTML('''\n",
    "        <script src=\"/static/components/requirejs/require.js\"></script>\n",
    "  '''))\n",
    "    init_notebook_mode(connected=False)\n",
    "    \n",
    "get_ipython().events.register('pre_run_cell', enable_plotly_in_cell)\n",
    "\n",
    "#set of 20 colors that may be useful  for plotting \n",
    "colors20 = ['#e6194b', '#3cb44b', '#ffe119', '#4363d8', '#f58231', '#911eb4', '#46f0f0', \n",
    "          '#f032e6', '#bcf60c', '#fabebe', '#008080', '#e6beff', '#9a6324', '#fffac8', \n",
    "          '#800000', '#aaffc3', '#808000', '#ffd8b1', '#000075', '#808080', '#ffffff', '#000000']"
   ]
  },
  {
   "cell_type": "markdown",
   "metadata": {},
   "source": [
    "## Read and explore input DataFrame\n",
    "\n",
    "### pokemon\n",
    "This dataframe was downloaded from [Kaggle](https://www.kaggle.com/rounakbanik/pokemon)\n",
    "\n",
    "**Kaggle** is the online community of data scientists and machine learners and the most well known competition platform for predictive modeling and analytics."
   ]
  },
  {
   "cell_type": "markdown",
   "metadata": {},
   "source": [
    "Column description:\n",
    "\n",
    "- **name**: The English name of the Pokemon\n",
    "- **japanese_name**: The Original Japanese name of the Pokemon\n",
    "- **pokedex_number**: The entry number of the Pokemon in the National Pokedex\n",
    "- **percentage_male**: The percentage of the species that are male. Blank if the Pokemon is genderless.\n",
    "- **type1**: The Primary Type of the Pokemon\n",
    "- **type2**: The Secondary Type of the Pokemon\n",
    "- **classfication**: The Classification of the Pokemon as described by the Sun and Moon Pokedex\n",
    "- **height_m**: Height of the Pokemon in metres\n",
    "- **weight_kg**: The Weight of the Pokemon in kilograms\n",
    "- **capture_rate**: Capture Rate of the Pokemon\n",
    "- **base_egg_steps**: The number of steps required to hatch an egg of the Pokemon\n",
    "- **abilities**: A stringified list of abilities that the Pokemon is capable of having\n",
    "- **experience_growth**: The Experience Growth of the Pokemon\n",
    "- **base_happiness**: Base Happiness of the Pokemon\n",
    "- **against_?**: Eighteen features that denote the amount of damage taken against an attack of a particular type\n",
    "- **hp**: The Base HP of the Pokemon\n",
    "- **attack**: The Base Attack of the Pokemon\n",
    "- **defense**: The Base Defense of the Pokemon\n",
    "- **sp_attack**: The Base Special Attack of the Pokemon\n",
    "- **sp_defense**: The Base Special Defense of the Pokemon\n",
    "- **speed**: The Base Speed of the Pokemon\n",
    "- **generation**: The numbered generation which the Pokemon was first introduced\n",
    "- **is_legendary**: Denotes if the Pokemon is legendary."
   ]
  },
  {
   "cell_type": "code",
   "execution_count": null,
   "metadata": {},
   "outputs": [],
   "source": [
    "#we have csv file stored in the cloud\n",
    "url = \"https://swift-yeg.cloud.cybera.ca:8080/v1/AUTH_d22d1e3f28be45209ba8f660295c84cf/hackaton/pokemon.csv\"\n",
    "\n",
    "#read csv file from url and save it as dataframe\n",
    "pokemon = pd.read_csv(url)\n",
    "\n",
    "#print first 5 rows\n",
    "pokemon.head()"
   ]
  },
  {
   "cell_type": "code",
   "execution_count": null,
   "metadata": {},
   "outputs": [],
   "source": [
    "#how many rows and colums does the dataframe have?\n",
    "pokemon.shape"
   ]
  },
  {
   "cell_type": "code",
   "execution_count": null,
   "metadata": {},
   "outputs": [],
   "source": [
    "#print column names\n",
    "pokemon.columns"
   ]
  },
  {
   "cell_type": "markdown",
   "metadata": {},
   "source": [
    "# Suggested group goals\n",
    "   \n",
    "  \n",
    "1. Find the top 10 heaviest pokemon.\n",
    "     - Create a graph for the results \n",
    "     - For the top 10 heaviest pokemon  - what will be the height?\n",
    "2. Find all pokemon that have ability to fight against dragon - how many of them are there?\n",
    "     - Which pokemon has the largest base attack (`attack`) (from the pokemon set with `against_dragon` ability  \n",
    "4. Find the total number of pokemon by primary type (`type1`). \n",
    "    - Create a graph to demonstrate the results\n",
    "5. Create a scatter plot for all the pokemon, having `attack` on x axis and `defense` on y axis\n",
    "     - Color the markers based on `type1`\n",
    "         - Hint: add `colors=colors20` when you plot to use exteneded color palette\n",
    "     - Add  text with the pokemon name to markers (when you hover your mouse over them)   \n",
    "6. Create the same plot as above but for just one primary type - the one that has the largest average attack. \n",
    "\n",
    "   \n",
    "**Extra challenge**:\n",
    "\n",
    "Is there anything else interesting you can find and visualize for these data?\n"
   ]
  },
  {
   "cell_type": "markdown",
   "metadata": {},
   "source": [
    "![alt text](https://github.com/callysto/callysto-sample-notebooks/blob/master/notebooks/images/Callysto_Notebook-Banners_Bottom_06.06.18.jpg?raw=true)"
   ]
  }
 ],
 "metadata": {
  "kernelspec": {
   "display_name": "Python 3.8.10 64-bit",
   "language": "python",
   "name": "python3"
  },
  "language_info": {
   "codemirror_mode": {
    "name": "ipython",
    "version": 3
   },
   "file_extension": ".py",
   "mimetype": "text/x-python",
   "name": "python",
   "nbconvert_exporter": "python",
   "pygments_lexer": "ipython3",
   "version": "3.8.10"
  },
  "nbTranslate": {
   "displayLangs": [
    "*"
   ],
   "hotkey": "alt-t",
   "langInMainMenu": true,
   "sourceLang": "en",
   "targetLang": "fr",
   "useGoogleTranslate": true
  },
  "vscode": {
   "interpreter": {
    "hash": "916dbcbb3f70747c44a77c7bcd40155683ae19c65e1c03b4aa3499c5328201f1"
   }
  }
 },
 "nbformat": 4,
 "nbformat_minor": 2
}
