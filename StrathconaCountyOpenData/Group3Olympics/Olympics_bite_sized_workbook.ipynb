{
 "cells": [
  {
   "cell_type": "markdown",
   "metadata": {},
   "source": [
    "![Callysto.ca Banner](https://github.com/callysto/curriculum-notebooks/blob/master/callysto-notebook-banner-top.jpg?raw=true)"
   ]
  },
  {
   "cell_type": "markdown",
   "metadata": {},
   "source": [
    "# Olympics - Let's play the game of numbers\n",
    "\n",
    "**Submitted by: A, B, C, D**\n",
    "\n",
    "<table><tr>\n",
    "<td> <img src=\"data/rings2.png\" alt=\"Olympic Rings\" style=\"width: 620px;\"/> </td>\n",
    "<td> <img src=\"data/sports.png\" alt=\"Sports Icons\" style=\"width: 300px;\"/> </td>\n",
    "</tr></table>\n",
    "    \n",
    "The [Olympics](https://en.wikipedia.org/wiki/Olympic_Games) is one of the most prestigious sports competition in the world with more than 200 countries participating in about 35 events. Thousands of athletes around the world take part in Summer Games and Winter Games to showcase their abilities and make their countries proud.\n",
    "\n",
    "In this hackathon we'll play with a dataset related to the Olympic Games. Hopefully you will encounter some interesting findings while learning some new coding/hacking skills."
   ]
  },
  {
   "cell_type": "markdown",
   "metadata": {},
   "source": [
    "## Getting ready\n",
    "\n",
    "This section sets up many things behind the scenes which are required for the rest of this notebook. Most of the code blocks in this section are ready-to-run so you won't have to do any modifications. You don't need to know everything about various tasks being accomplished by the code cell in this section to complete the challenges. However feel free to ask mentors about anything that makes you curious."
   ]
  },
  {
   "cell_type": "markdown",
   "metadata": {},
   "source": [
    "### 1. Install/Import libraries\n",
    "\n",
    "Run the cell below to download and install required Python libraries. It may take few minutes to complete the execution of the cell."
   ]
  },
  {
   "cell_type": "code",
   "execution_count": null,
   "metadata": {
    "scrolled": true
   },
   "outputs": [],
   "source": [
    "!pip install cufflinks ipywidgets"
   ]
  },
  {
   "cell_type": "markdown",
   "metadata": {},
   "source": [
    "Run the next few cells to load libaries and pre-defined functions which will help us later to complete various challenges."
   ]
  },
  {
   "cell_type": "code",
   "execution_count": null,
   "metadata": {},
   "outputs": [],
   "source": [
    "!wget https://raw.githubusercontent.com/callysto/hackathon/master/Group3_Olympics/helper_code/olympics.py -P helper_code -nc"
   ]
  },
  {
   "cell_type": "code",
   "execution_count": null,
   "metadata": {},
   "outputs": [],
   "source": [
    "# load libraries\n",
    "import pandas as pd\n",
    "import cufflinks as cf\n",
    "cf.go_offline()\n",
    "\n",
    "# color pallete with more than 20 colors\n",
    "colors20 = ['#e6194b', '#3cb44b', '#ffe119', '#4363d8', '#f58231', '#911eb4', '#46f0f0', \n",
    "          '#f032e6', '#bcf60c', '#fabebe', '#008080', '#e6beff', '#9a6324', '#fffac8', \n",
    "          '#800000', '#aaffc3', '#808000', '#ffd8b1', '#000075', '#808080', '#ffffff', '#000000']\n",
    "\n",
    "# to enable plotting in colab\n",
    "def enable_plotly_in_cell():\n",
    "    import IPython\n",
    "    from plotly.offline import init_notebook_mode\n",
    "    display(IPython.core.display.HTML('''<script src=\"/static/components/requirejs/require.js\"></script>'''))\n",
    "    init_notebook_mode(connected=False)\n",
    "get_ipython().events.register('pre_run_cell', enable_plotly_in_cell)\n",
    "\n",
    "# load helper code\n",
    "from helper_code.olympics import *"
   ]
  },
  {
   "cell_type": "markdown",
   "metadata": {},
   "source": [
    "### 2. Import data and create a dataframe\n",
    "An Olympics dataset is available on [Kaggle](https://www.kaggle.com/heesoo37/120-years-of-olympic-history-athletes-and-results/data#athlete_events.csv) which is an online community of data scientists and machine learners and a well-known competition platform for predictive modeling and analytics.\n",
    "\n",
    "For this hackathon the dataset is stored in cloud storage so we can import it into this notebook. Executing cells below will also create a dataframe and make you aware of some interesting facts about the dataset."
   ]
  },
  {
   "cell_type": "code",
   "execution_count": null,
   "metadata": {},
   "outputs": [],
   "source": [
    "# read from cloud object storage\n",
    "olympics_url = \"https://swift-yeg.cloud.cybera.ca:8080/v1/AUTH_d22d1e3f28be45209ba8f660295c84cf/hackaton/olympics.csv\""
   ]
  },
  {
   "cell_type": "code",
   "execution_count": null,
   "metadata": {},
   "outputs": [],
   "source": [
    "# read the input file and create a dataframe\n",
    "olympics = pd.read_csv(olympics_url) "
   ]
  },
  {
   "cell_type": "code",
   "execution_count": null,
   "metadata": {},
   "outputs": [],
   "source": [
    "# how many rows and colums does the dataframe have?\n",
    "olympics.shape"
   ]
  },
  {
   "cell_type": "markdown",
   "metadata": {},
   "source": [
    "Did you notice the number of rows in this dataset? \n",
    "- Would it be possible to go through all the rows manually?\n",
    "- Would you consider it as a **big dataset**?"
   ]
  },
  {
   "cell_type": "code",
   "execution_count": null,
   "metadata": {},
   "outputs": [],
   "source": [
    "# what are the column names?\n",
    "olympics.columns"
   ]
  },
  {
   "cell_type": "markdown",
   "metadata": {},
   "source": [
    "Now you know which columns are there in the dataset, but what do those columns refer to? Here are descriptions for some of the columns from Kaggle:\n",
    "\n",
    "- **ID** - Unique number for each athlete  \n",
    "- **Name** - Athlete's name  \n",
    "- **Sex** - M or F  \n",
    "- **Age** - Integer  \n",
    "- **Height** - In centimeters  \n",
    "- **Weight** - In kilograms  \n",
    "- **Team** - Team name  \n",
    "- **NOC** - National Olympic Committee 3-letter code  \n",
    "- **Games** - Year and season  \n",
    "- **Year** - Integer  \n",
    "- **Season** - Summer or Winter  \n",
    "- **City** - Host city  \n",
    "- **Sport** - Sport  \n",
    "- **Event** - Event  \n",
    "- **Medal** - Gold, Silver, Bronze, or NA  \n",
    "- **region** - Country "
   ]
  },
  {
   "cell_type": "code",
   "execution_count": null,
   "metadata": {},
   "outputs": [],
   "source": [
    "# display first 5 rows to explore what the data looks like\n",
    "olympics.head()"
   ]
  },
  {
   "cell_type": "markdown",
   "metadata": {},
   "source": [
    "Now everything is set up for crunching the Olympics dataset. Your group can go through the rest of the notebook and work on challenges.\n",
    "\n",
    "**While working on the challenges, feel free to add new code/markdown cells as needed.**"
   ]
  },
  {
   "cell_type": "markdown",
   "metadata": {
    "heading_collapsed": true
   },
   "source": [
    "## Part A: Number of participants by year\n",
    "\n",
    "Let's determine how many athletes participated in each of the Olympic Games."
   ]
  },
  {
   "cell_type": "code",
   "execution_count": null,
   "metadata": {
    "hidden": true
   },
   "outputs": [],
   "source": [
    "# group by year and calculate number of rows for every group\n",
    "athletes_by_year = olympics.groupby([\"Year\"]).size()\n",
    "\n",
    "# create additional column \"count\" to store the number of athlets\n",
    "athletes_by_year = athletes_by_year.reset_index(name='count')\n",
    "\n",
    "# print year and number of athletes for first 5 olympics\n",
    "athletes_by_year.head()"
   ]
  },
  {
   "cell_type": "code",
   "execution_count": null,
   "metadata": {
    "hidden": true
   },
   "outputs": [],
   "source": [
    "# find the maximum number of participants\n",
    "athletes_by_year.max()"
   ]
  },
  {
   "cell_type": "code",
   "execution_count": null,
   "metadata": {
    "hidden": true
   },
   "outputs": [],
   "source": [
    "# create a line graph\n",
    "athletes_by_year.set_index(\"Year\").iplot(xTitle=\"Year\",yTitle=\"Number of participants\")"
   ]
  },
  {
   "cell_type": "markdown",
   "metadata": {
    "hidden": true
   },
   "source": [
    "### Challenges:\n",
    "\n",
    "- Which Olympics had the minimum number of participants, and when was it held? (use `min()` function)\n",
    "- Create a bar chart or an area plot by changing `iplot()` to `iplot(kind=\"bar\")` or `iplot(kind=\"area\",fill=True)`. Which plot helps you better understand the data?\n",
    "\n",
    "You might have observed unusual behaviour in the plot after 1992. We won't worry about that for the moment as you will find it out while solving the next set of challenges."
   ]
  },
  {
   "cell_type": "markdown",
   "metadata": {
    "heading_collapsed": true
   },
   "source": [
    "## Part B: Number of participants by year and season\n",
    "\n",
    "Let's find out how many athletes participated in Summer/Winter Games in a given year."
   ]
  },
  {
   "cell_type": "code",
   "execution_count": null,
   "metadata": {
    "hidden": true
   },
   "outputs": [],
   "source": [
    "# call the pre-defined function \"get_counts_by_group()\" \n",
    "athletes_by_season = get_counts_by_group(olympics, \"Season\")\n",
    "\n",
    "athletes_by_season.head()"
   ]
  },
  {
   "cell_type": "code",
   "execution_count": null,
   "metadata": {
    "hidden": true
   },
   "outputs": [],
   "source": [
    "# create a stacked bar chart\n",
    "athletes_by_season.iplot(kind=\"bar\", barmode=\"stack\",xTitle=\"Year\",yTitle=\"Number of participants\")"
   ]
  },
  {
   "cell_type": "markdown",
   "metadata": {
    "hidden": true
   },
   "source": [
    "This chart has many good pieces of information.\n",
    "\n",
    "### Challenges:\n",
    "\n",
    "- When was the first Winter Olympics held?\n",
    "- Did you see any change in the hosting pattern of Winter Olympics after 1992?\n",
    "- The bar chart is missing some columns around 1920 and 1940. Why? (Hint: [Olympic Games](https://en.wikipedia.org/wiki/Olympic_Games))"
   ]
  },
  {
   "cell_type": "markdown",
   "metadata": {
    "hidden": true
   },
   "source": [
    "Let's find the year with the most participants in the Summer Games. We will use `sort_values()` function."
   ]
  },
  {
   "cell_type": "code",
   "execution_count": null,
   "metadata": {
    "hidden": true
   },
   "outputs": [],
   "source": [
    "# sort_values() function - sorts by a column or set of columns\n",
    "athletes_by_season.sort_values(\"Summer\", ascending = False).head(10)"
   ]
  },
  {
   "cell_type": "markdown",
   "metadata": {
    "hidden": true
   },
   "source": [
    "### Challenges:\n",
    "\n",
    "- Find the number of participants by year and sex (using **Sex** column) and create a stacked bar chart.\n",
    "- Which year had the most female participants?"
   ]
  },
  {
   "cell_type": "markdown",
   "metadata": {
    "heading_collapsed": true
   },
   "source": [
    "## Part C: Number of medals by country and season\n",
    "\n",
    "Let's count the number of medals won by countries in a given season."
   ]
  },
  {
   "cell_type": "code",
   "execution_count": null,
   "metadata": {
    "hidden": true
   },
   "outputs": [],
   "source": [
    "# we will keep only the rows for athletes who got medals\n",
    "medals = olympics.dropna(subset=[\"Medal\"])\n",
    "\n",
    "# select only the Winter season\n",
    "medals_winter = medals[medals[\"Season\"]==\"Winter\"]\n",
    "\n",
    "# use a predefined function to group by year and country and then calculate number of rows\n",
    "medals_by_region = get_counts_by_group(medals_winter, \"region\")\n",
    "\n",
    "# display top 5 rows\n",
    "medals_by_region.head()"
   ]
  },
  {
   "cell_type": "code",
   "execution_count": null,
   "metadata": {
    "hidden": true
   },
   "outputs": [],
   "source": [
    "# display data only for some countries. There are too many of them, it will get too messy if we plot them all\n",
    "countries_list = [\"Canada\",\"Russia\",\"USA\",\"Norway\",\"Japan\",\"China\"]\n",
    "\n",
    "# get the subset containing data for the countries in the above list\n",
    "medals_subset = medals_by_region[countries_list]\n",
    "\n",
    "# create an area chart\n",
    "medals_subset.iplot(kind=\"area\",fill=True,xTitle=\"Year\",yTitle=\"Number of medals\")"
   ]
  },
  {
   "cell_type": "markdown",
   "metadata": {
    "hidden": true
   },
   "source": [
    "### Challenges:\n",
    "\n",
    "- List the names of countries that won at least one medal in Summer Olympics. (Hint: print the column names of `medals_by_region` dataframe)\n",
    "- In which season is Canada more successful at winning medals?\n",
    "- In which year did Canada win the most medals in the Winter Games? \n",
    "- In which year did Canada win the most medals in the Summer Games?"
   ]
  },
  {
   "cell_type": "markdown",
   "metadata": {
    "heading_collapsed": true
   },
   "source": [
    "## Part D: Sport-wise medal table for a country in a selected year\n",
    "\n",
    "Let's find out how many gold/silver/bronze medals were won in different sports by a country (e.g. Canada) in a specific Olympics (e.g. 1984). Here you need to specify the country and year of Olympics for which you want to get the medal table.\n",
    "\n",
    "**Note:** If you enter the country or year that doesn't exist in the dataset then the code will give an error. Execute the cell again to start over."
   ]
  },
  {
   "cell_type": "code",
   "execution_count": null,
   "metadata": {
    "hidden": true
   },
   "outputs": [],
   "source": [
    "# read user input for country name\n",
    "print(\"Enter country: \")\n",
    "country = input()\n",
    "\n",
    "# read user input for year\n",
    "print(\"Enter year: \")\n",
    "year = input()\n",
    "\n",
    "# subset by specific year and country\n",
    "medals_by_country = medals[(medals[\"Year\"]==float(year)) \n",
    "                            &(medals[\"region\"]==country)]\n",
    "\n",
    "# count number of rows\n",
    "medals_by_kind = medals_by_country.groupby([\"Medal\"]).size()\n",
    "\n",
    "# create additional column \"count\" to store the number of athletes\n",
    "medals_by_kind = medals_by_kind.reset_index(name='count')\n",
    "\n",
    "# show the dataframe\n",
    "medals_by_kind"
   ]
  },
  {
   "cell_type": "code",
   "execution_count": null,
   "metadata": {
    "hidden": true
   },
   "outputs": [],
   "source": [
    "# create a Pie chart\n",
    "medals_by_kind.iplot(kind=\"pie\", labels=\"Medal\",values=\"count\")"
   ]
  },
  {
   "cell_type": "code",
   "execution_count": null,
   "metadata": {
    "hidden": true
   },
   "outputs": [],
   "source": [
    "# use pre-defined function to get medal counts by sport\n",
    "medal_by_sport = get_counts_by_medal(medals_by_country)\n",
    "\n",
    "medal_by_sport"
   ]
  },
  {
   "cell_type": "code",
   "execution_count": null,
   "metadata": {
    "hidden": true
   },
   "outputs": [],
   "source": [
    "# create a bar chart\n",
    "medal_by_sport.iplot(kind = \"bar\", barmode = \"stack\",xTitle=\"Sport\",yTitle=\"Count\")"
   ]
  },
  {
   "cell_type": "markdown",
   "metadata": {
    "hidden": true
   },
   "source": [
    "### Challenges:\n",
    "\n",
    "- Russia may not be participating in the Olympics again this year. Create a sport-wise medal table for Russia in the 1980 Olympics.\n",
    "  - In which sports did Russia win only gold, silver, or bronze medals?\n",
    "  - In which sports did Russia win the highest number of medals?\n",
    "  - List the top five sports in which Russia won the highest number of *gold* medals. (Hint: Sort `medal_by_sport` dataframe using `sort_values()` function) "
   ]
  },
  {
   "cell_type": "markdown",
   "metadata": {
    "heading_collapsed": true
   },
   "source": [
    "## Part E: Number of participants with/without medal\n",
    "\n",
    "Let's try to gauge the success ratio of athletes winning Olympic medals. The code cell below plots the stacked bar chart presenting number of Canadian athletes with and without medals in various sports in the 1984 Winter Olympics."
   ]
  },
  {
   "cell_type": "code",
   "execution_count": null,
   "metadata": {
    "hidden": true
   },
   "outputs": [],
   "source": [
    "# use pre-defined function to get participants counts by sport\n",
    "summary = get_participation_counts(olympics ,year=1984, season=\"Winter\", country=\"Canada\")\n",
    "\n",
    "# create a stacked bar chart\n",
    "summary.iplot(kind= \"bar\", barmode=\"stack\",xTitle=\"Year\",yTitle=\"Number of participants\")"
   ]
  },
  {
   "cell_type": "markdown",
   "metadata": {
    "hidden": true
   },
   "source": [
    "### Challenges:\n",
    "\n",
    "Plot the similar bar chart for Canadian athletes at the 2014 Winter Olympics.\n",
    "   - List the sports in which Canada won medals in 2014 but not in 1984.\n",
    "   - In which sport did all the Canadian atheletes win medals in 2014?\n",
    "\n",
    "Feel free to play with different countries and years to identify the sports in which athletes were more successful."
   ]
  },
  {
   "cell_type": "markdown",
   "metadata": {},
   "source": [
    "## Summary\n",
    "\n",
    "This workbook analyzes the **Olympics** dataset from Kaggle with the help of Python code blocks. The number of participants and medals won by them are analyzed for various countries and years. Also, a sport-wise medal table is prepared and visualized using interactive plots while addressing numerous associated challenges. \n",
    "\n",
    "By taking part in this hackathon and completing these challenges, you learned how to analyze a big dataset which is impractical to do manually, created visualizations, and most importantly developed [*computational thinking*](https://en.wikipedia.org/wiki/Computational_thinking) abilities which can be used to solve various problems."
   ]
  },
  {
   "cell_type": "markdown",
   "metadata": {},
   "source": [
    "## Hackathon Reflections\n",
    "Write about some or all of the following questions, either individually in separate markdown cells or as a group.\n",
    "- What is something you learned through this process?\n",
    "- How well did your group work together? Why do you think that is?\n",
    "- What were some of the hardest parts?\n",
    "- What are you proud of? What would you like to show others?\n",
    "- Are you curious about anything else related to this? Did anything surprise you?\n",
    "- How can you apply your learning to future activities?"
   ]
  },
  {
   "cell_type": "markdown",
   "metadata": {},
   "source": [
    "![alt text](https://github.com/callysto/callysto-sample-notebooks/blob/master/notebooks/images/Callysto_Notebook-Banners_Bottom_06.06.18.jpg?raw=true)"
   ]
  }
 ],
 "metadata": {
  "kernelspec": {
   "display_name": "Python 3.8.10 64-bit",
   "language": "python",
   "name": "python3"
  },
  "language_info": {
   "codemirror_mode": {
    "name": "ipython",
    "version": 3
   },
   "file_extension": ".py",
   "mimetype": "text/x-python",
   "name": "python",
   "nbconvert_exporter": "python",
   "pygments_lexer": "ipython3",
   "version": "3.8.10"
  },
  "latex_envs": {
   "LaTeX_envs_menu_present": true,
   "autoclose": false,
   "autocomplete": true,
   "bibliofile": "biblio.bib",
   "cite_by": "apalike",
   "current_citInitial": 1,
   "eqLabelWithNumbers": true,
   "eqNumInitial": 1,
   "hotkeys": {
    "equation": "Ctrl-E",
    "itemize": "Ctrl-I"
   },
   "labels_anchors": false,
   "latex_user_defs": false,
   "report_style_numbering": false,
   "user_envs_cfg": false
  },
  "nbTranslate": {
   "displayLangs": [
    "*"
   ],
   "hotkey": "alt-t",
   "langInMainMenu": true,
   "sourceLang": "en",
   "targetLang": "fr",
   "useGoogleTranslate": true
  },
  "vscode": {
   "interpreter": {
    "hash": "916dbcbb3f70747c44a77c7bcd40155683ae19c65e1c03b4aa3499c5328201f1"
   }
  }
 },
 "nbformat": 4,
 "nbformat_minor": 2
}
