{
 "cells": [
  {
   "cell_type": "markdown",
   "metadata": {},
   "source": [
    "![Callysto.ca Banner](https://github.com/callysto/curriculum-notebooks/blob/master/callysto-notebook-banner-top.jpg?raw=true)"
   ]
  },
  {
   "cell_type": "markdown",
   "metadata": {},
   "source": [
    "In this notebook we are going to analyze the historical data for the Olympic games ."
   ]
  },
  {
   "cell_type": "markdown",
   "metadata": {},
   "source": [
    "## Prep work"
   ]
  },
  {
   "cell_type": "code",
   "execution_count": null,
   "metadata": {},
   "outputs": [],
   "source": [
    "#library should be installed already\n",
    "#!pip install cufflinks ipywidgets"
   ]
  },
  {
   "cell_type": "markdown",
   "metadata": {},
   "source": [
    "Run the next cell to load libaries:"
   ]
  },
  {
   "cell_type": "code",
   "execution_count": null,
   "metadata": {},
   "outputs": [],
   "source": [
    "import pandas as pd\n",
    "\n",
    "import cufflinks as cf\n",
    "cf.go_offline()\n",
    "\n",
    "\n",
    "#to enable plotting in colab\n",
    "def enable_plotly_in_cell():\n",
    "    import IPython\n",
    "    from plotly.offline import init_notebook_mode\n",
    "    display(IPython.core.display.HTML('''\n",
    "        <script src=\"/static/components/requirejs/require.js\"></script>\n",
    "  '''))\n",
    "    init_notebook_mode(connected=False)\n",
    "    \n",
    "get_ipython().events.register('pre_run_cell', enable_plotly_in_cell)\n",
    "\n",
    "#set of 20 colors that may be useful  for plotting \n",
    "colors20 = ['#e6194b', '#3cb44b', '#ffe119', '#4363d8', '#f58231', '#911eb4', '#46f0f0', \n",
    "          '#f032e6', '#bcf60c', '#fabebe', '#008080', '#e6beff', '#9a6324', '#fffac8', \n",
    "          '#800000', '#aaffc3', '#808000', '#ffd8b1', '#000075', '#808080', '#ffffff', '#000000']"
   ]
  },
  {
   "cell_type": "markdown",
   "metadata": {},
   "source": [
    "## Read and explore input DataFrame\n",
    "\n",
    "### olympics\n",
    "Olympics dataset was downloaded from [Kaggle](https://www.kaggle.com/heesoo37/120-years-of-olympic-history-athletes-and-results/data#athlete_events.csv)\n",
    "\n",
    "**Kaggle** is the online community of data scientists and machine learners and the most well known competition platform for predictive modeling and analytics."
   ]
  },
  {
   "cell_type": "markdown",
   "metadata": {},
   "source": [
    "Column description:\n",
    "\n",
    "**ID** - Unique number for each athlete  \n",
    "**Name** - Athlete's name  \n",
    "**Sex** - M or F  \n",
    "**Age** - Integer  \n",
    "**Height** - In centimeters  \n",
    "**Weight** - In kilograms  \n",
    "**Team** - Team name  \n",
    "**NOC** - National Olympic Committee 3-letter code  \n",
    "**Games** - Year and season  \n",
    "**Year** - Integer  \n",
    "**Season** - Summer or Winter  \n",
    "**City** - Host city  \n",
    "**Sport** - Sport  \n",
    "**Event** - Event  \n",
    "**Medal** - Gold, Silver, Bronze, or NA  \n",
    "**region** - Country "
   ]
  },
  {
   "cell_type": "code",
   "execution_count": null,
   "metadata": {},
   "outputs": [],
   "source": [
    "#we have csv file stored in the cloud\n",
    "url = \"https://swift-yeg.cloud.cybera.ca:8080/v1/AUTH_d22d1e3f28be45209ba8f660295c84cf/hackaton/olympics.csv\"\n",
    "\n",
    "#read csv file from url and save it as dataframe\n",
    "#it will take several minutes!\n",
    "olympics = pd.read_csv(url)\n",
    "\n",
    "#print first 5 rows\n",
    "olympics.head()"
   ]
  },
  {
   "cell_type": "code",
   "execution_count": null,
   "metadata": {},
   "outputs": [],
   "source": [
    "#how many rows and colums does the dataframe have?\n",
    "olympics.shape"
   ]
  },
  {
   "cell_type": "code",
   "execution_count": null,
   "metadata": {},
   "outputs": [],
   "source": [
    "#print column names\n",
    "olympics.columns"
   ]
  },
  {
   "cell_type": "markdown",
   "metadata": {},
   "source": [
    "# Suggested group goals\n",
    "   \n",
    "1. Find the number of participants by year\n",
    "   - Plot the results\n",
    "       - Hint: set index to year `result.set_index(\"Year\")`\n",
    "   - What do you think happened between the years 1992 and 1994?\n",
    "2. Find the number of participants grouped by year and by the season.\n",
    "   - Create separate plots for Winter and Summer seasons by year\n",
    "       - Hint: set index to year `result.set_index(\"Year\")`\n",
    "3. Create new dataframe for medals  keeping only rows with existing values in \"Medal\" colum: `medals = olympics.dropna(subset=[\"Medal\"])`\n",
    "\n",
    "   - Using the `medals` dataframe find the number of medals per year for Canada for Summer seasons only. Which year was the most successfull for Canada?\n",
    "   - Using `medals` dataframe find out how many Bronze/Silver/Gold medals did Canada  get in Summer Olympics 1984?\n",
    "      - Plot the results\n",
    "   - Using `medals` dataframe find out how many medals by sport did Canada get in Summer Olympics 1984?\n",
    "      - Plot the results\n",
    "4. Find out the number of participants by sport for Canada in Summer Olympics 1984.\n",
    "   - Plot the results\n",
    "\n",
    "\n",
    "\n",
    "   \n",
    "**Extra challenge**:\n",
    "\n",
    "Is there anything else interesting you can find and visualize for these data?\n"
   ]
  },
  {
   "cell_type": "markdown",
   "metadata": {},
   "source": [
    "![alt text](https://github.com/callysto/callysto-sample-notebooks/blob/master/notebooks/images/Callysto_Notebook-Banners_Bottom_06.06.18.jpg?raw=true)"
   ]
  }
 ],
 "metadata": {
  "kernelspec": {
   "display_name": "Python 3.8.10 64-bit",
   "language": "python",
   "name": "python3"
  },
  "language_info": {
   "codemirror_mode": {
    "name": "ipython",
    "version": 3
   },
   "file_extension": ".py",
   "mimetype": "text/x-python",
   "name": "python",
   "nbconvert_exporter": "python",
   "pygments_lexer": "ipython3",
   "version": "3.8.10"
  },
  "nbTranslate": {
   "displayLangs": [
    "*"
   ],
   "hotkey": "alt-t",
   "langInMainMenu": true,
   "sourceLang": "en",
   "targetLang": "fr",
   "useGoogleTranslate": true
  },
  "vscode": {
   "interpreter": {
    "hash": "916dbcbb3f70747c44a77c7bcd40155683ae19c65e1c03b4aa3499c5328201f1"
   }
  }
 },
 "nbformat": 4,
 "nbformat_minor": 2
}
