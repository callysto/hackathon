{
 "cells": [
  {
   "cell_type": "markdown",
   "metadata": {},
   "source": [
    "![Callysto.ca Banner](https://github.com/callysto/curriculum-notebooks/blob/master/callysto-notebook-banner-top.jpg?raw=true)"
   ]
  },
  {
   "cell_type": "code",
   "execution_count": null,
   "metadata": {},
   "outputs": [],
   "source": [
    "#from IPython.display import HTML, display\n",
    "#display(HTML(\"<table><tr><td><img src='data/rings2.png' width='620'></td><td><img src='data/sports.png' width='300'></td></tr></table>\"))"
   ]
  },
  {
   "cell_type": "markdown",
   "metadata": {},
   "source": [
    "### Prep work"
   ]
  },
  {
   "cell_type": "code",
   "execution_count": null,
   "metadata": {},
   "outputs": [],
   "source": [
    "#library should be installed already\n",
    "#!pip install cufflinks ipywidgets"
   ]
  },
  {
   "cell_type": "markdown",
   "metadata": {},
   "source": [
    "Run the next cells to load libaries and pre-defined functions:"
   ]
  },
  {
   "cell_type": "code",
   "execution_count": null,
   "metadata": {},
   "outputs": [],
   "source": [
    "!wget https://raw.githubusercontent.com/callysto/hackathon/master/Group3_Olympics/helper_code/olympics.py -P helper_code -nc"
   ]
  },
  {
   "cell_type": "code",
   "execution_count": null,
   "metadata": {},
   "outputs": [],
   "source": [
    "import pandas as pd\n",
    "\n",
    "import cufflinks as cf\n",
    "cf.go_offline()\n",
    "\n",
    "colors20 = ['#e6194b', '#3cb44b', '#ffe119', '#4363d8', '#f58231', '#911eb4', '#46f0f0', \n",
    "          '#f032e6', '#bcf60c', '#fabebe', '#008080', '#e6beff', '#9a6324', '#fffac8', \n",
    "          '#800000', '#aaffc3', '#808000', '#ffd8b1', '#000075', '#808080', '#ffffff', '#000000']\n",
    "\n",
    "\n",
    "#to enable plotting in colab\n",
    "def enable_plotly_in_cell():\n",
    "    import IPython\n",
    "    from plotly.offline import init_notebook_mode\n",
    "    display(IPython.core.display.HTML('''\n",
    "        <script src=\"/static/components/requirejs/require.js\"></script>\n",
    "  '''))\n",
    "    init_notebook_mode(connected=False)\n",
    "    \n",
    "get_ipython().events.register('pre_run_cell', enable_plotly_in_cell)\n",
    "\n",
    "#helper code\n",
    "from helper_code.olympics import *"
   ]
  },
  {
   "cell_type": "markdown",
   "metadata": {},
   "source": [
    "# Group goal\n",
    "\n",
    " \n",
    "Go through the  analysis below, work on challenges.\n",
    "\n",
    "\n",
    "**Extra challenge**:\n",
    "\n",
    "Is there anything else interesting you can find and visualize for these data? "
   ]
  },
  {
   "cell_type": "markdown",
   "metadata": {},
   "source": [
    "### Getting data\n",
    "Olympics dataset was downloaded from [Kaggle](https://www.kaggle.com/heesoo37/120-years-of-olympic-history-athletes-and-results/data#athlete_events.csv)\n",
    "\n",
    "**Kaggle** is the online community of data scientists and machine learners and the most well known competition platform for predictive modeling and analytics."
   ]
  },
  {
   "cell_type": "code",
   "execution_count": null,
   "metadata": {},
   "outputs": [],
   "source": [
    "#reading from cloud object storage\n",
    "olympics_url =\"https://swift-yeg.cloud.cybera.ca:8080/v1/AUTH_d22d1e3f28be45209ba8f660295c84cf/hackaton/olympics.csv\"\n"
   ]
  },
  {
   "cell_type": "code",
   "execution_count": null,
   "metadata": {},
   "outputs": [],
   "source": [
    "olympics =pd.read_csv(olympics_url) "
   ]
  },
  {
   "cell_type": "code",
   "execution_count": null,
   "metadata": {},
   "outputs": [],
   "source": [
    "#how many rows and colums does the dataframe have?\n",
    "olympics.shape"
   ]
  },
  {
   "cell_type": "code",
   "execution_count": null,
   "metadata": {},
   "outputs": [],
   "source": [
    "#what are the column names?\n",
    "olympics.columns"
   ]
  },
  {
   "cell_type": "markdown",
   "metadata": {},
   "source": [
    "Here is the column description from Kaggle:\n",
    "\n",
    "**ID** - Unique number for each athlete  \n",
    "**Name** - Athlete's name  \n",
    "**Sex** - M or F  \n",
    "**Age** - Integer  \n",
    "**Height** - In centimeters  \n",
    "**Weight** - In kilograms  \n",
    "**Team** - Team name  \n",
    "**NOC** - National Olympic Committee 3-letter code  \n",
    "**Games** - Year and season  \n",
    "**Year** - Integer  \n",
    "**Season** - Summer or Winter  \n",
    "**City** - Host city  \n",
    "**Sport** - Sport  \n",
    "**Event** - Event  \n",
    "**Medal** - Gold, Silver, Bronze, or NA  \n",
    "**region** - Country "
   ]
  },
  {
   "cell_type": "code",
   "execution_count": null,
   "metadata": {},
   "outputs": [],
   "source": [
    "#display first 5 rows to explore what the data looks like\n",
    "olympics.head()"
   ]
  },
  {
   "cell_type": "markdown",
   "metadata": {},
   "source": [
    "### Number of participants by year"
   ]
  },
  {
   "cell_type": "code",
   "execution_count": null,
   "metadata": {},
   "outputs": [],
   "source": [
    "#lets group by year and calculate number of rows for every group\n",
    "athletes_by_year = olympics.groupby([\"Year\"]).size()\n",
    "\n",
    "#create additional column \"count\" to store the number of athlets\n",
    "athletes_by_year = athletes_by_year.reset_index(name='count')\n",
    "\n",
    "#print first 5 years and number of athletes\n",
    "athletes_by_year.head()"
   ]
  },
  {
   "cell_type": "code",
   "execution_count": null,
   "metadata": {},
   "outputs": [],
   "source": [
    "#what is the maximum number of participants:\n",
    "athletes_by_year.max()"
   ]
  },
  {
   "cell_type": "code",
   "execution_count": null,
   "metadata": {},
   "outputs": [],
   "source": [
    "#creating a line graph\n",
    "\n",
    "athletes_by_year.set_index(\"Year\").iplot(xTitle=\"Year\",yTitle=\"Number of participants\")"
   ]
  },
  {
   "cell_type": "markdown",
   "metadata": {},
   "source": [
    "### Challenge\n",
    "\n",
    "Find the minimum number of Olympics participants using `min()` function\n",
    "\n",
    "Experiment with different kinds of plots:\n",
    "\n",
    " - Try creating new cell by copying the call above and change `iplot()` to `iplot(kind=\"bar\")` or `iplot(kind=\"barh\")` or `.iplot(kind=\"area\",fill=True)`. Which plot helps you better understand the data?\n",
    " \n",
    " - What interesting can you notice on this plot? What do you think happened between the years 1992 and 1994?"
   ]
  },
  {
   "cell_type": "markdown",
   "metadata": {},
   "source": [
    "### Number of participants by year and by season"
   ]
  },
  {
   "cell_type": "code",
   "execution_count": null,
   "metadata": {},
   "outputs": [],
   "source": [
    "#in this case we call function \"get_counts_by_group()\" \n",
    "athletes_by_season = get_counts_by_group(olympics, \"Season\")\n",
    "\n",
    "athletes_by_season.head()"
   ]
  },
  {
   "cell_type": "code",
   "execution_count": null,
   "metadata": {},
   "outputs": [],
   "source": [
    "athletes_by_season.iplot(kind=\"bar\", barmode=\"stack\",xTitle=\"Year\",yTitle=\"Number of participants\")"
   ]
  },
  {
   "cell_type": "markdown",
   "metadata": {},
   "source": [
    "Looks like Summer and Winter Olympics were  run in the same year before 1994!\n",
    "\n",
    "Let's find the year with the most participants in Summer season:\n",
    " - we will do this using `sort_values()` function:"
   ]
  },
  {
   "cell_type": "code",
   "execution_count": null,
   "metadata": {},
   "outputs": [],
   "source": [
    "athletes_by_season.sort_values(\"Summer\", ascending = False).head(10)"
   ]
  },
  {
   "cell_type": "markdown",
   "metadata": {},
   "source": [
    "### Challenge\n",
    "\n",
    " - Using the example above, create new cell(s) and try to find number of participants by year and by sex (using \"Sex\" column)\n",
    " - Which year had the most female participants?"
   ]
  },
  {
   "cell_type": "markdown",
   "metadata": {},
   "source": [
    "### Number of medals by country by sport"
   ]
  },
  {
   "cell_type": "code",
   "execution_count": null,
   "metadata": {},
   "outputs": [],
   "source": [
    "#we will keep only the rows for athletes who got medals\n",
    "medals = olympics.dropna(subset=[\"Medal\"])\n",
    "\n",
    "#lets select only Winter season\n",
    "medals_winter = medals[medals[\"Season\"]==\"Winter\"]\n",
    "\n",
    "#grouping by year and country and calculating the number  of rows\n",
    "medals_by_region = get_counts_by_group(medals_winter, \"region\")\n",
    "\n",
    "#displaying top 5 rows\n",
    "medals_by_region.head()"
   ]
  },
  {
   "cell_type": "code",
   "execution_count": null,
   "metadata": {},
   "outputs": [],
   "source": [
    "#we will display data only for some countries. There are too many of them, it will get too messy if we plot all\n",
    "medals_subset = medals_by_region[[\"Canada\",\"Russia\",\"USA\",\"Norway\",\"Japan\",\"China\"]]\n",
    "\n",
    "medals_subset.iplot(kind=\"area\",fill=True,xTitle=\"Year\",yTitle=\"Number of medals\")"
   ]
  },
  {
   "cell_type": "markdown",
   "metadata": {},
   "source": [
    "### Challenge\n",
    " - Using the example above, create new code cell(s) and display number of medals for the Summer Olympics\n",
    " - Is Canada more successful at winning medals in Winter or in Summer Olympics?\n",
    " - What was the year when Canada got the most medals in the Winter Olympics? in the Summer Olympics?\n",
    "     "
   ]
  },
  {
   "cell_type": "markdown",
   "metadata": {},
   "source": [
    "### Extra:   \n",
    "\n",
    "We can choose country using interactive input   \n",
    "\n",
    "**Note**: if you enter a country that doesn't exist in the data set, the code will give an error. Restart the cell to start over."
   ]
  },
  {
   "cell_type": "code",
   "execution_count": null,
   "metadata": {},
   "outputs": [],
   "source": [
    "print(\"Enter country: \")\n",
    "\n",
    "country = input()\n",
    "\n",
    "medals_subset1 = medals_by_region[country]\n",
    "\n",
    "medals_subset1.iplot(kind=\"area\",fill=True,xTitle=\"Year\",yTitle=\"Number of medals\")"
   ]
  },
  {
   "cell_type": "markdown",
   "metadata": {},
   "source": [
    "### For Summer Olympics in 1984, how many gold/silver/bronze medals in total and by sport"
   ]
  },
  {
   "cell_type": "code",
   "execution_count": null,
   "metadata": {},
   "outputs": [],
   "source": [
    "# subset by specific year, county and season\n",
    "medals_by_country = medals[(medals[\"Season\"]==\"Summer\") \n",
    "                            &(medals[\"Year\"]==1984) \n",
    "                            &(medals[\"region\"]==\"Canada\")]"
   ]
  },
  {
   "cell_type": "code",
   "execution_count": null,
   "metadata": {},
   "outputs": [],
   "source": [
    "#count number of rows\n",
    "medals_by_kind = medals_by_country.groupby([\"Medal\"]).size()\n",
    "\n",
    "#create additional column \"count\" to store the number of athlets\n",
    "medals_by_kind = medals_by_kind.reset_index(name='count')\n",
    "\n",
    "medals_by_kind"
   ]
  },
  {
   "cell_type": "code",
   "execution_count": null,
   "metadata": {},
   "outputs": [],
   "source": [
    "#using new kind of plot - Pie chart, note it needs labels and values set so specific columns\n",
    "medals_by_kind.iplot(kind=\"pie\", labels=\"Medal\",values=\"count\")"
   ]
  },
  {
   "cell_type": "code",
   "execution_count": null,
   "metadata": {},
   "outputs": [],
   "source": [
    "# calling function to get medal counts by sport\n",
    "medal_by_sport = get_counts_by_medal(medals_by_country)\n",
    "\n",
    "medal_by_sport"
   ]
  },
  {
   "cell_type": "code",
   "execution_count": null,
   "metadata": {},
   "outputs": [],
   "source": [
    "#note: barmode ='stack'  means bars stack on top of each other\n",
    "medal_by_sport.iplot(kind = \"bar\", barmode = \"stack\",xTitle=\"Sport\",yTitle=\"Count\")"
   ]
  },
  {
   "cell_type": "markdown",
   "metadata": {},
   "source": [
    "### Challenge\n",
    "\n",
    "- Using the example above, create new cell(s) and analyze the number of medals for Russia in Summer 1980\n",
    "  - What was the location of these Olympic games?"
   ]
  },
  {
   "cell_type": "markdown",
   "metadata": {},
   "source": [
    "## Extra\n",
    "\n",
    "On the plot below we can compare the number of participants versus number of medals, feel free to play with the \n",
    "different years, countries, and seasons."
   ]
  },
  {
   "cell_type": "code",
   "execution_count": null,
   "metadata": {},
   "outputs": [],
   "source": [
    "summary = get_participation_counts(olympics ,year=1984, season=\"Summer\", country=\"Canada\")\n",
    "\n",
    "summary.iplot(kind= \"bar\", barmode=\"stack\",xTitle=\"Year\",yTitle=\"Number of participants\")"
   ]
  },
  {
   "cell_type": "markdown",
   "metadata": {},
   "source": [
    "[![Callysto.ca License](https://github.com/callysto/curriculum-notebooks/blob/master/callysto-notebook-banner-bottom.jpg?raw=true)](https://github.com/callysto/curriculum-notebooks/blob/master/LICENSE.md)"
   ]
  }
 ],
 "metadata": {
  "kernelspec": {
   "display_name": "Python 3.8.10 64-bit",
   "language": "python",
   "name": "python3"
  },
  "language_info": {
   "codemirror_mode": {
    "name": "ipython",
    "version": 3
   },
   "file_extension": ".py",
   "mimetype": "text/x-python",
   "name": "python",
   "nbconvert_exporter": "python",
   "pygments_lexer": "ipython3",
   "version": "3.8.10"
  },
  "latex_envs": {
   "LaTeX_envs_menu_present": true,
   "autoclose": false,
   "autocomplete": true,
   "bibliofile": "biblio.bib",
   "cite_by": "apalike",
   "current_citInitial": 1,
   "eqLabelWithNumbers": true,
   "eqNumInitial": 1,
   "hotkeys": {
    "equation": "Ctrl-E",
    "itemize": "Ctrl-I"
   },
   "labels_anchors": false,
   "latex_user_defs": false,
   "report_style_numbering": false,
   "user_envs_cfg": false
  },
  "nbTranslate": {
   "displayLangs": [
    "*"
   ],
   "hotkey": "alt-t",
   "langInMainMenu": true,
   "sourceLang": "en",
   "targetLang": "fr",
   "useGoogleTranslate": true
  },
  "vscode": {
   "interpreter": {
    "hash": "916dbcbb3f70747c44a77c7bcd40155683ae19c65e1c03b4aa3499c5328201f1"
   }
  }
 },
 "nbformat": 4,
 "nbformat_minor": 2
}
