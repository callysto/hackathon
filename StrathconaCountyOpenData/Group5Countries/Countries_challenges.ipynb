{
 "cells": [
  {
   "cell_type": "markdown",
   "metadata": {},
   "source": [
    "![Callysto.ca Banner](https://github.com/callysto/curriculum-notebooks/blob/master/callysto-notebook-banner-top.jpg?raw=true)"
   ]
  },
  {
   "cell_type": "markdown",
   "metadata": {},
   "source": [
    "In this notebook we are going to analyze some statistics by country ."
   ]
  },
  {
   "cell_type": "markdown",
   "metadata": {},
   "source": [
    "## Prep work"
   ]
  },
  {
   "cell_type": "markdown",
   "metadata": {},
   "source": [
    "Run the  cell below to load libaries:"
   ]
  },
  {
   "cell_type": "code",
   "execution_count": null,
   "metadata": {},
   "outputs": [],
   "source": [
    "import pandas as pd\n",
    "\n",
    "#to enable plotting in colab\n",
    "def enable_plotly_in_cell():\n",
    "    import IPython\n",
    "    from plotly.offline import init_notebook_mode\n",
    "    display(IPython.core.display.HTML('''\n",
    "        <script src=\"/static/components/requirejs/require.js\"></script>\n",
    "  '''))\n",
    "    init_notebook_mode(connected=False)\n",
    "    \n",
    "get_ipython().events.register('pre_run_cell', enable_plotly_in_cell)\n",
    "\n",
    "#set of 20 colors that may be useful  for plotting \n",
    "colors20 = ['#e6194b', '#3cb44b', '#ffe119', '#4363d8', '#f58231', '#911eb4', '#46f0f0', \n",
    "          '#f032e6', '#bcf60c', '#fabebe', '#008080', '#e6beff', '#9a6324', '#fffac8', \n",
    "          '#800000', '#aaffc3', '#808000', '#ffd8b1', '#000075', '#808080', '#ffffff', '#000000']"
   ]
  },
  {
   "cell_type": "markdown",
   "metadata": {},
   "source": [
    "## Read and explore input DataFrame\n",
    "\n",
    "### countries\n",
    "This dataframe was created by [Bootstrap](https://www.bootstrapworld.org/index.shtml) company and can be downloaded from  [here](https://docs.google.com/spreadsheets/d/19VoYxPw0tmuSViN1qFIkyUoepjNSRsuQCe0TZZDmrZs/edit#gid=213565368).\n",
    "\n",
    "\n",
    "Data were aggregated from the following souces:\n",
    " - The World Factbook:\n",
    "  - [GDP (PPP)](https://www.cia.gov/library/publications/the-world-factbook/rankorder/2001rank.html)\n",
    "  - [Life expectancy at birth](https://www.cia.gov/library/publications/the-world-factbook/fields/355rank.html)\n",
    "  - [Population](https://www.cia.gov/library/publications/the-world-factbook/fields/335rank.html)\n",
    "\n",
    "- Wikipedia:\n",
    " - [Universal Health Care](https://en.wikipedia.org/wiki/List_of_countries_with_universal_health_care)\n",
    " \n",
    "Some countries/territories/regions were omitted from the dataset due to incomplete data."
   ]
  },
  {
   "cell_type": "markdown",
   "metadata": {},
   "source": [
    "Column description:\n",
    "\n",
    "**gdp(\\$US)**  - the sum value of all goods and services produced in the country valued at prices prevailing in the United States.\n",
    "\n",
    "**life-expectancy (yrs)** -  the average number of years to be lived by a group of people born in the same year, if mortality at each age remains constant in the future. Life expectancy at birth is also a measure of overall quality of life in a country and summarizes the mortality at all ages.\n",
    "\n",
    "**population** - population of the country.\n",
    "\n",
    "**has-univ-healthcare** - Universal health coverage is a broad concept that has been implemented in several ways. The common denominator for all such programs is some form of government action aimed at extending access to health care as widely as possible and setting minimum standards.\n",
    "\n",
    "**code** - Country code"
   ]
  },
  {
   "cell_type": "code",
   "execution_count": null,
   "metadata": {},
   "outputs": [],
   "source": [
    "#we have csv file stored in the cloud\n",
    "url = \"https://swift-yeg.cloud.cybera.ca:8080/v1/AUTH_d22d1e3f28be45209ba8f660295c84cf/hackaton/countries2.csv\"\n",
    "\n",
    "#read csv file from url and save it as dataframe\n",
    "countries = pd.read_csv(url)\n",
    "\n",
    "#print first 5 rows\n",
    "countries.head()"
   ]
  },
  {
   "cell_type": "code",
   "execution_count": null,
   "metadata": {},
   "outputs": [],
   "source": [
    "#how many rows and colums does the dataframe have?\n",
    "countries.shape"
   ]
  },
  {
   "cell_type": "code",
   "execution_count": null,
   "metadata": {},
   "outputs": [],
   "source": [
    "#print column names\n",
    "countries.columns"
   ]
  },
  {
   "cell_type": "markdown",
   "metadata": {},
   "source": [
    "# Suggested group goals part 1\n",
    "   \n",
    "1. Run the cells below to load `plotly.express` package and draw a map colored by life expectancy.\n",
    "     - Looking at the map - wich country has the highest life expectancy?\n",
    "     - Print it on the screen (dataframe row corresponding to this country)\n",
    "2. Using the cells below as an example - create new cells and draw a map colored by `population` and `gdp ($US)`\n",
    "     - If you look at both maps you created - do they look similar? Why do you think it happens?\n",
    "     - Print on the screen the exact number for China population.\n"
   ]
  },
  {
   "cell_type": "code",
   "execution_count": null,
   "metadata": {},
   "outputs": [],
   "source": [
    "#library should be installed already\n",
    "#!pip install plotly_express"
   ]
  },
  {
   "cell_type": "code",
   "execution_count": null,
   "metadata": {},
   "outputs": [],
   "source": [
    "import plotly.express as px"
   ]
  },
  {
   "cell_type": "code",
   "execution_count": null,
   "metadata": {},
   "outputs": [],
   "source": [
    "fig = px.choropleth(countries, locations=\"code\",\n",
    "                    color=\"life-expectancy (yrs)\", #coloring by life-expectancy\n",
    "                    hover_name=\"country\") #country name will appear when you hover your mouse over it\n",
    "fig.show()"
   ]
  },
  {
   "cell_type": "markdown",
   "metadata": {},
   "source": [
    "# Suggested group goals part 2\n",
    "\n",
    "1. Uncomment and run the cells below to load  `cufflinks` libraray.\n",
    "2. Create a new column `gdp ($US) person`  by dividing `'gdp ($US)'` by `population` column.\n",
    "    -  Find the top 20 countries having the highest `gdp ($US) person` value.\n",
    "        - Plot the results (hint: set index to country: `set_index(\"country\")` )\n",
    "        - What is the population for these countries?\n",
    "3. Find the top 20 countries with least life expectancy.\n",
    "     - Do these countries have Universal Health Care?\n",
    "4. What is the number of countries by continent?\n",
    "     - Plot the results.\n",
    "5. What is the population by continent?\n",
    "     - Plot the results.\n",
    "6. Calculate the number of countries by continent having Universal Health Care\n",
    "    - Plot the results.\n",
    "  \n",
    "**Extra challenge**:\n",
    "\n",
    "Is there anything else interesting you can find and visualize for these data?"
   ]
  },
  {
   "cell_type": "code",
   "execution_count": null,
   "metadata": {},
   "outputs": [],
   "source": [
    "#library should be installed already\n",
    "#!pip install cufflinks ipywidgets"
   ]
  },
  {
   "cell_type": "code",
   "execution_count": null,
   "metadata": {},
   "outputs": [],
   "source": [
    "#load \"cufflinks\" library under short name \"cf\"\n",
    "import cufflinks as cf\n",
    "\n",
    "#command to display graphics correctly in Jupyter notebook\n",
    "cf.go_offline()"
   ]
  },
  {
   "cell_type": "markdown",
   "metadata": {},
   "source": [
    "![alt text](https://github.com/callysto/callysto-sample-notebooks/blob/master/notebooks/images/Callysto_Notebook-Banners_Bottom_06.06.18.jpg?raw=true)"
   ]
  }
 ],
 "metadata": {
  "kernelspec": {
   "display_name": "Python 3.8.10 64-bit",
   "language": "python",
   "name": "python3"
  },
  "language_info": {
   "codemirror_mode": {
    "name": "ipython",
    "version": 3
   },
   "file_extension": ".py",
   "mimetype": "text/x-python",
   "name": "python",
   "nbconvert_exporter": "python",
   "pygments_lexer": "ipython3",
   "version": "3.8.10"
  },
  "nbTranslate": {
   "displayLangs": [
    "*"
   ],
   "hotkey": "alt-t",
   "langInMainMenu": true,
   "sourceLang": "en",
   "targetLang": "fr",
   "useGoogleTranslate": true
  },
  "vscode": {
   "interpreter": {
    "hash": "916dbcbb3f70747c44a77c7bcd40155683ae19c65e1c03b4aa3499c5328201f1"
   }
  }
 },
 "nbformat": 4,
 "nbformat_minor": 2
}
