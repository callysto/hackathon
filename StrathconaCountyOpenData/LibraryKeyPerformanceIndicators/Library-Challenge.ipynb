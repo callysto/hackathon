{
 "cells": [
  {
   "cell_type": "markdown",
   "metadata": {},
   "source": [
    "![Callysto.ca Banner](https://github.com/callysto/curriculum-notebooks/blob/master/callysto-notebook-banner-top.jpg?raw=true)"
   ]
  },
  {
   "cell_type": "markdown",
   "metadata": {},
   "source": [
    "# Annual Key Performance Indicators for Strathcona County Library\n",
    "\n",
    "## What you need to do \n",
    "\n",
    "The [Strathcona County Library](https://sclibrary.ca/) has many services, books, and programs. Now that they share a catalogue with [Fort Saskatchewan Public Library](https://fspl.ca/) and participate in [The Alberta Library](http://thealbertalibrary.ca/), they are considering expanding to a library location on Mars.\n",
    "\n",
    "So they need to know what they are doing well and should continue doing. The Strathcona County Library collects and provides open access to datasets, which can help answer this question. Performance indicators can provide valuable feedback and information for moving forward with this project.\n",
    "\n",
    "That’s where you as a data scientist come in. They’ve provided the data and you need to find out the library’s top-performing services, programs, and books, so they know what to bring to the red planet.\n",
    "\n",
    "## Data Content\n",
    "This data set is provided by the Strathcona County Library, Strathcona County, Alberta, Canada. Source: https://data.strathcona.ca/Recreation-Culture/Library-Key-Performance-Indicators/ep8g-4kxs \n",
    "\n",
    "### Key Performance Indicators (per year)\n",
    "\n",
    "| Indicator  | Description  |\n",
    "|---|---|\n",
    "|  Answers |   types of answers the library provides to staff and reference questions|\n",
    "|  Awareness | number of awareness sessions and the number of County residents attending  |\n",
    "|  Borrowing |  measure and classification of loans and borrowed items |\n",
    "|  Collections |  kinds and numbers of items the library manages |\n",
    "|  Internet | number of patrons using WiFi or public computers  |\n",
    "|  Library use | number of cards purchased; number of people reporting use of the library  |\n",
    "|  Open days |  total number of days the library was open |\n",
    "| Population  |  total number of served population |\n",
    "|  Programs |  number of offered program sessions and the number of participants |\n",
    "| Services  | use of fax, printing, scanning, copying resumes (since 2011)  |\n",
    "|  Training | number of sessions and trainees on formal and informal technological sessions |\n",
    "| Visits  | number of kinds of site visits |\n",
    "|  Volunteers | number of volunteers  |"
   ]
  },
  {
   "cell_type": "markdown",
   "metadata": {},
   "source": [
    "## Downloading and parsing the data\n",
    "\n",
    "We'll begin by downloading the data from [the website](https://data.strathcona.ca/Recreation-Culture/Library-Key-Performance-Indicators/ep8g-4kxs) into a \"dataframe\" in this notebook. \n",
    "\n",
    "We selected the 'API' tag and chose CSV format on the top right side. Pressing the 'Copy' button gave us the URL to download the full dataset."
   ]
  },
  {
   "cell_type": "code",
   "execution_count": null,
   "metadata": {},
   "outputs": [],
   "source": [
    "# import the Pandas module that we will be using to manipulate the data\n",
    "import pandas as pd\n",
    "print(\"Importing Python library was sucessful!\")\n",
    "\n",
    "# this is the link we will get the data from\n",
    "link = \"https://data.strathcona.ca/resource/ep8g-4kxs.csv\"\n",
    "# Read and parse data as a Pandas CSV\n",
    "rawData = pd.read_csv(link)\n",
    "# Rename columns\n",
    "rawData = rawData.rename(columns={\"kpicategory\": \"category\", \"kpimeasure\": \"measure\",\"kpiyear\":\"year\",\"kpivalue\":\"value\"})\n",
    "# Look at the first five columns\n",
    "rawData.head()"
   ]
  },
  {
   "cell_type": "markdown",
   "metadata": {},
   "source": [
    "## Selecting and Sorting Columns\n",
    "\n",
    "Now that we have downloaded the full dataset, it's time to select and sort columns using Pandas dataframes.\n",
    "\n",
    "We stored our data in a dataframe called `rawData`. \n",
    "\n",
    "Let's explore the `'category'` column and then look at the unique values. "
   ]
  },
  {
   "cell_type": "code",
   "execution_count": null,
   "metadata": {},
   "outputs": [],
   "source": [
    "# Access the values under 'category' by using square brackets, followed by the column name in quotation marks\n",
    "rawData[\"category\"]\n",
    "\n",
    "# Get unique values under 'category' column\n",
    "rawData[\"category\"].unique()\n",
    "\n",
    "# possible category values are:\n",
    "# 'Answers', 'Awareness', 'Borrowing', 'Collections', 'Internet',\n",
    "#       'Library use', 'Open days', 'Population', 'Programs', 'Services',\n",
    "#       'Training', 'Visits', 'Volunteers'"
   ]
  },
  {
   "cell_type": "markdown",
   "metadata": {},
   "source": [
    "Let's look at the population size each year using the \"Population\" category. \n",
    "\n",
    "We can select the subset of data we are interested in by using a condition:\n",
    "\n",
    "`dataframe['column_name']=='Category_name'`\n",
    "\n",
    "and then passing that condition into the dataframe within square brackets: \n",
    "\n",
    "`dataframe[dataframe['column_name']=='Category_name']`\n",
    "\n",
    "Using our dataframe `rawData`, we can access the subset of the data whose `category` is `'Population'` as follows:"
   ]
  },
  {
   "cell_type": "code",
   "execution_count": null,
   "metadata": {},
   "outputs": [],
   "source": [
    "# Set up condition to get only those rows under 'category' whose value matches 'Population'\n",
    "condition_1 = rawData[\"category\"]=='Population'\n",
    "# Pass the condition in square brackets to get subset of the data \n",
    "rawData[condition_1]"
   ]
  },
  {
   "cell_type": "code",
   "execution_count": null,
   "metadata": {},
   "outputs": [],
   "source": [
    "# You could also do this directly without declaring a condition_1 variable\n",
    "# rawData[rawData[\"category\"]=='Population']"
   ]
  },
  {
   "cell_type": "markdown",
   "metadata": {},
   "source": [
    "We can also pass multiple conditions by encapsulating each condition in parenthesis, and separating each condition by the logical operator **and** `&` as well as the logical operator **or** `|`. \n",
    "\n",
    "In this dataset, any two values under `category` are [mutually exclusive](https://www.mathsisfun.com/data/probability-events-mutually-exclusive.html), so we would need to use the `|` operator. \n",
    "\n",
    "`category` and `year` are not mutually exclusive, so we can obtain specific data points by using the `&` symbol.\n",
    "\n",
    "Let's suppose we want to know how many people have used the library per year since 2012. \n",
    "\n",
    "###### Condition 1: \n",
    "\n",
    "We want all those entries whose `'category'` is equal to `'Population'`\n",
    "\n",
    "`rawData[\"category\"]=='Population'`\n",
    "\n",
    "###### Condition 2: \n",
    "\n",
    "We want all those entries whose `'year'` is greater than or equal to `2012`\n",
    "\n",
    "`rawData[\"year\"]>=2012`"
   ]
  },
  {
   "cell_type": "code",
   "execution_count": null,
   "metadata": {},
   "outputs": [],
   "source": [
    "# set up the conditions\n",
    "condition_1 = rawData[\"category\"]=='Population'\n",
    "condition_2 = rawData[\"year\"]>=2012\n",
    "\n",
    "# pass conditions - each in parenthesis and separated by |\n",
    "rawData[(condition_1) & (condition_2)]"
   ]
  },
  {
   "cell_type": "markdown",
   "metadata": {},
   "source": [
    "---\n",
    "### Challenge 1a\n",
    "\n",
    "Now that you know how to filter data using conditions, use code cells below to find how many \"Volunteers\" were there in 2015. (Hint: use the `year` and `category` as two conditions) \n",
    "\n",
    "---"
   ]
  },
  {
   "cell_type": "code",
   "execution_count": null,
   "metadata": {},
   "outputs": [],
   "source": []
  },
  {
   "cell_type": "markdown",
   "metadata": {},
   "source": [
    "### Challenge 1b\n",
    "\n",
    "Like any good data scientist, explore the data by manipulating the dataframe to learn something about the data. You are free to choose any `category`, `measure`, `year` or `value` in the dataframe."
   ]
  },
  {
   "cell_type": "code",
   "execution_count": null,
   "metadata": {},
   "outputs": [],
   "source": []
  },
  {
   "cell_type": "markdown",
   "metadata": {},
   "source": [
    "## Simple Summary Statistics\n",
    "\n",
    "We can use built-in functions in Python to find the average, maximum, and minimum values in the data set. Run the cell below to learn more about these values for the population. "
   ]
  },
  {
   "cell_type": "code",
   "execution_count": null,
   "metadata": {},
   "outputs": [],
   "source": [
    "# We will then access the 'value' column within the subset containing the 'Population' category\n",
    "# and compute the average size of popultion between 2001 and 2016 using the mean() method\n",
    "print(\"The average served population size between 2001 and 2016 is: \")\n",
    "print(rawData[condition_1][\"value\"].mean())\n",
    "\n",
    "# Same thing, except print the maximum \n",
    "print(\"The maximum served population size between 2001 and 2016 is: \")\n",
    "print(rawData[condition_1][\"value\"].max())\n",
    "\n",
    "# ... and minimum\n",
    "print(\"The minimum served population size between 2001 and 2016 is: \")\n",
    "print(rawData[condition_1][\"value\"].min())"
   ]
  },
  {
   "cell_type": "markdown",
   "metadata": {},
   "source": [
    "---\n",
    "### Challenge 2\n",
    "\n",
    "Find the maximum, minimum, and average number of 'Open days' per year. The average is done for you to get you started :) \n",
    "\n",
    "---"
   ]
  },
  {
   "cell_type": "code",
   "execution_count": null,
   "metadata": {},
   "outputs": [],
   "source": [
    "# We will then access the 'value' column within the subset containing the 'Open days' category\n",
    "# and compute the average size of popultion between 2001 and 2016 using the mean() method\n",
    "condition_2 = rawData[\"category\"]=='Open days'\n",
    "print(\"The average number of days the library was open between 2001 and 2016 is: \")\n",
    "print(rawData[condition_2][\"value\"].mean())\n",
    "\n"
   ]
  },
  {
   "cell_type": "markdown",
   "metadata": {},
   "source": [
    "## Simple Visualization"
   ]
  },
  {
   "cell_type": "markdown",
   "metadata": {},
   "source": [
    "It's not easy to see patterns and trends in data by looking at tables, so let's create visualizations (graphs) of our data. We'll use the `cufflinks` Python library. "
   ]
  },
  {
   "cell_type": "code",
   "execution_count": null,
   "metadata": {},
   "outputs": [],
   "source": [
    "# If you get the error 'no module named cufflinks' then uncomment the follow line:\n",
    "#!pip install cufflinks ipywidgets\n",
    "\n",
    "# load the Cufflinks library and call it by the short name \"cf\"\n",
    "import cufflinks as cf\n",
    "\n",
    "# command to display graphics correctly in Jupyter notebook\n",
    "cf.go_offline()\n",
    "\n",
    "def enable_plotly_in_cell():\n",
    "    import IPython\n",
    "    from plotly.offline import init_notebook_mode\n",
    "    display(IPython.core.display.HTML('''<script src=\"/static/components/requirejs/require.js\"></script>'''))\n",
    "    init_notebook_mode(connected=False)\n",
    "    \n",
    "get_ipython().events.register('pre_run_cell', enable_plotly_in_cell)\n",
    "\n",
    "print(\"Successfully imported Cufflinks and enabled Plotly!\")"
   ]
  },
  {
   "cell_type": "markdown",
   "metadata": {},
   "source": [
    "### Statistics About Library Program Usage\n",
    "\n",
    "We want to know how many people have used library program services, and compare that to both the number of program services and the total population size.\n",
    "\n",
    "We can specify conditions to access that subset of the data: \n",
    "\n",
    "`condition_1 = rawData[\"category\"]=='Population'`\n",
    "\n",
    "will let us access all data points containing the size of served population, and:\n",
    "\n",
    "`condition_3 = rawData[\"category\"]=='Programs'`\n",
    "\n",
    "will let us access all data points containing the number of programs offered as well as the number of people who accessed the programs. \n",
    "\n",
    "Remember that these categories are mutually exclusive."
   ]
  },
  {
   "cell_type": "markdown",
   "metadata": {},
   "source": [
    "We can then plot our subset that contains `condition_1` and `condition_3` to learn things from the data. \n",
    "\n",
    "In the plot below, we'll use a `scatter` plot, where the data are categorized by the `measure` column. On the x-axis is the `year` and the y-axis contains the `value`.\n",
    "\n",
    "We'll also add a `title` so we know what the graph represents. "
   ]
  },
  {
   "cell_type": "code",
   "execution_count": null,
   "metadata": {},
   "outputs": [],
   "source": [
    "# set up conditions (type or paste from above)\n",
    "condition_1 = \n",
    "condition_3 = \n",
    "\n",
    "rawData[ (condition_1)| (condition_3)].iplot(\n",
    "        kind=\"scatter\",mode='markers',\n",
    "        y=\"value\",x=\"year\",text='measure',categories='measure',\n",
    "        title=\"Population served, compared against Program Participants and Number of Program Sessions\")"
   ]
  },
  {
   "cell_type": "markdown",
   "metadata": {},
   "source": [
    "#### Observations\n",
    "\n",
    "We picked this category to find out how the population size, number of program participants, and number of program sessions have changed over time. \n",
    "\n",
    "We observe an upward trend in the total population served per year.\n",
    "\n",
    "We also observe an upward trend in the number of program participants. This is interesting, given that the number of program sessions mostly didn't change. \n",
    "\n",
    "This suggests that the increase in number of participants is related to the served population size, not to the number of program sessions. "
   ]
  },
  {
   "cell_type": "markdown",
   "metadata": {},
   "source": [
    "---\n",
    "### Challenge 3\n",
    "\n",
    "Let's visualize multiple categories.\n",
    "\n",
    "1. Run the cell below and look at the unique category values. Pick one that you are interested in.  \n",
    "2. In the next cell, look at the plot using the `'Collections'` category. Now substitute `'Collections'` for the value you chose, and change the `given_title` variable to give an appropriate name to your plot. Run that cell. \n",
    "3. Hover over the plot. What do you observe?\n",
    "\n",
    "---"
   ]
  },
  {
   "cell_type": "code",
   "execution_count": null,
   "metadata": {},
   "outputs": [],
   "source": [
    "rawData[\"category\"].unique()"
   ]
  },
  {
   "cell_type": "code",
   "execution_count": null,
   "metadata": {},
   "outputs": [],
   "source": [
    "# Change the input below\n",
    "# Substitute the value to be selected under 'category'\n",
    "condition_4 = rawData[\"category\"]==\"Collections\"\n",
    "# Give the plot an appropriate title\n",
    "given_title = \"Library Collections\"\n",
    "\n",
    "# Run this cell when you have an appropriate value under category and title for the plot\n",
    "rawData[ (condition_4)].iplot(kind='scatter',mode='markers',y=\"value\",\n",
    "        x=\"year\",text='measure',categories='measure',\n",
    "        title=given_title)"
   ]
  },
  {
   "cell_type": "markdown",
   "metadata": {},
   "source": [
    "#### Observations\n",
    "\n",
    "Double click this cell and state:\n",
    "\n",
    "1. The category you picked\n",
    "2. Why you were interested\n",
    "3. What you learned from the graph"
   ]
  },
  {
   "cell_type": "markdown",
   "metadata": {},
   "source": [
    "---\n",
    "### Challenge 4\n",
    "\n",
    "Create visualizations of more categories.\n",
    "\n",
    "Think about how you would grade the library's performance based on the key indicators.\n",
    "\n",
    "---"
   ]
  },
  {
   "cell_type": "markdown",
   "metadata": {},
   "source": [
    "# Conclusions\n",
    "\n",
    "Edit this cell to describe **what you would recommend for Strathcona County to bring and provide on Mars**, based on the dataset containing \"Library Key Performance Indicators\". Include any data filtering and sorting steps that you recommend, and why you would recommend them.\n",
    "\n"
   ]
  },
  {
   "cell_type": "markdown",
   "metadata": {},
   "source": [
    "## Reflections\n",
    "\n",
    "Write about some or all of the following questions, either individually in separate markdown cells or as a group.\n",
    "- What is something you learned through this process?\n",
    "- How well did your group work together? Why do you think that is?\n",
    "- What were some of the hardest parts?\n",
    "- What are you proud of? What would you like to show others?\n",
    "- Are you curious about anything else related to this? Did anything surprise you?\n",
    "- How can you apply your learning to future activities?"
   ]
  },
  {
   "cell_type": "markdown",
   "metadata": {},
   "source": [
    "![alt text](https://github.com/callysto/callysto-sample-notebooks/blob/master/notebooks/images/Callysto_Notebook-Banners_Bottom_06.06.18.jpg?raw=true)"
   ]
  }
 ],
 "metadata": {
  "kernelspec": {
   "display_name": "Python 3",
   "language": "python",
   "name": "python3"
  },
  "language_info": {
   "codemirror_mode": {
    "name": "ipython",
    "version": 3
   },
   "file_extension": ".py",
   "mimetype": "text/x-python",
   "name": "python",
   "nbconvert_exporter": "python",
   "pygments_lexer": "ipython3",
   "version": "3.7.3"
  }
 },
 "nbformat": 4,
 "nbformat_minor": 2
}
