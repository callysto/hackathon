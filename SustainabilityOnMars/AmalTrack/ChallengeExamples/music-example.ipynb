{
 "cells": [
  {
   "cell_type": "markdown",
   "metadata": {},
   "source": [
    "![Callysto.ca Banner](https://github.com/callysto/curriculum-notebooks/blob/master/callysto-notebook-banner-top.jpg?raw=true)\n",
    "\n",
    "<a href=\"https://hub.callysto.ca/jupyter/hub/user-redirect/git-pull?repo=https%3A%2F%2Fgithub.com%2Fcallysto%2Fhackathon&branch=master&subPath=SustainabilityOnMars/AmalTrack/ChallengeExamples/music-example.ipynb&depth=1\" target=\"_parent\"><img src=\"https://raw.githubusercontent.com/callysto/curriculum-notebooks/master/open-in-callysto-button.svg?sanitize=true\" width=\"123\" height=\"24\" alt=\"Open in Callysto\"/></a>"
   ]
  },
  {
   "cell_type": "markdown",
   "metadata": {},
   "source": [
    "# Sustaining Life on Mars: Data Science Challenge\n",
    "\n",
    "\n",
    "You’re a data scientist on a team of newly-arrived humans. While you were on Earth, you figured out how you could make the planet habitable. From growing food to clothing needs, you need to start building the framework for sustaining life on the red planet. \n",
    "\n",
    "In this notebook, we have decided to focus on **music**.  We need some entertainment when we are bored on Mars! "
   ]
  },
  {
   "cell_type": "markdown",
   "metadata": {},
   "source": [
    "![music image](./ImagesAndData/music-example-image.jpg?raw=true)"
   ]
  },
  {
   "cell_type": "markdown",
   "metadata": {},
   "source": [
    "### Section I: Problem background\n",
    "\n",
    "We believe that arts shape the structures, behaviour and values of society. Music in particular, is one of the most powerful media to communicate messages to billions of people. \n",
    "\n",
    "The questions we picked: Will it be boring on Mars? Can music be used for entertainment on Mars?  Do we have enough music to listen to when we are bored? "
   ]
  },
  {
   "cell_type": "markdown",
   "metadata": {},
   "source": [
    "### Section II: The data you used\n",
    "\n",
    "This Spotify Dataset has 160k+ songs - released in between 2000 and 2020. Each row represents a single track and each column represents a field of the track.\n",
    "\n",
    "Spotify is a Swedish audio streaming platform that provides DRM-protected music and podcasts from record labels and media companies. At the end of each year, Spotify compiles a playlist of the songs streamed most often over the course of that year.\n",
    "\n",
    "Below are some of the fields available for each track which we will use to answer the questions we are interested in:\n",
    "\n",
    "**Beats Per Minute (BPM)** — The tempo of the song.<br>\n",
    "**Energy** — The energy of a song, the higher the value, the more energetic.<br>\n",
    "**Danceability** — The higher the value, the easier it is to dance to this song.<br>\n",
    "**Loudness** — The higher the value, the louder the song (in dB).<br>\n",
    "**Valence** — The higher the value, the more positive mood for the song.<br>\n",
    "**Length** — The duration of the song.<br>\n",
    "**Acousticness** — The higher the value the more acoustic the song is.<br>\n",
    "**Release Year** — The year each song was released.<br>\n",
    "**Popularity** — The higher the value the more popular the song is.<br>"
   ]
  },
  {
   "cell_type": "markdown",
   "metadata": {},
   "source": [
    "#### Would you like to get in the mood and listen to 'The Martian' soundtrack playing while you work on analysing data for Sustainability on Mars? \n",
    "\n",
    "Run the following cell."
   ]
  },
  {
   "cell_type": "code",
   "execution_count": null,
   "metadata": {},
   "outputs": [],
   "source": [
    "from IPython.display import YouTubeVideo\n",
    "YouTubeVideo('JT7oaYFEgJw')"
   ]
  },
  {
   "cell_type": "markdown",
   "metadata": {},
   "source": [
    "#### 👨🏽‍💻 Now let's do some data science "
   ]
  },
  {
   "cell_type": "code",
   "execution_count": null,
   "metadata": {},
   "outputs": [],
   "source": [
    "# importing libraries\n",
    "import pandas as pd\n",
    "import matplotlib.pyplot as plt\n",
    "import cufflinks as cf"
   ]
  },
  {
   "cell_type": "code",
   "execution_count": null,
   "metadata": {},
   "outputs": [],
   "source": [
    "# reading the data \n",
    "url = \"./ImagesAndData/spotify-data-2000-2020.csv\"\n",
    "\n",
    "# read csv file as a dataframe\n",
    "music = pd.read_csv(url, low_memory=False)\n",
    "\n",
    "# print first 5 rows\n",
    "music.head()"
   ]
  },
  {
   "cell_type": "code",
   "execution_count": null,
   "metadata": {},
   "outputs": [],
   "source": [
    "# how many rows and colums does the data have?\n",
    "music.shape"
   ]
  },
  {
   "cell_type": "markdown",
   "metadata": {},
   "source": [
    "### Section III: Data Analysis and Visualization\n",
    "\n",
    "We want to investigate how much time of songs are available on Spotify? What is the average duration of a song? What is the longest and shortest song? "
   ]
  },
  {
   "cell_type": "markdown",
   "metadata": {},
   "source": [
    "We can answer these questions by checking the column names of the table that hint to which kind of data is available for each track. "
   ]
  },
  {
   "cell_type": "code",
   "execution_count": null,
   "metadata": {},
   "outputs": [],
   "source": [
    "# print column names\n",
    "music.columns"
   ]
  },
  {
   "cell_type": "markdown",
   "metadata": {},
   "source": [
    "We notice we have a column with the duration of each song 'duration_ms'. Let's sort the tracks descendingly according to their duration. "
   ]
  },
  {
   "cell_type": "code",
   "execution_count": null,
   "metadata": {},
   "outputs": [],
   "source": [
    "# arrange all songs we have by duration\n",
    "music.sort_values(by='duration_ms',ascending=False)"
   ]
  },
  {
   "cell_type": "markdown",
   "metadata": {},
   "source": [
    "What is the longest track? What is the shortest track? What is the average duration of a track or song? "
   ]
  },
  {
   "cell_type": "code",
   "execution_count": null,
   "metadata": {},
   "outputs": [],
   "source": [
    "# notice that the duration is provided in milliseconds so it will be more intuitive to convert it to minutes\n",
    "# longest song\n",
    "print(\"Longest song:\" , music['duration_ms'].max()/(1000*60), \"minutes\")\n",
    "\n",
    "# shortest song\n",
    "print(\"Shortest song:\" , music['duration_ms'].min()/(1000*60) , \"minutes\")\n",
    "\n",
    "# can we estimate what is the average duration in minutes of a song \n",
    "print(\"Average song duration:\", music['duration_ms'].mean()/(1000*60) , \"minutes\")"
   ]
  },
  {
   "cell_type": "markdown",
   "metadata": {},
   "source": [
    "We want to make sure we have enough music to listen to when we get bored on Mars.  So let's calculate the total amount of time of all the tracks we have in this dataset. "
   ]
  },
  {
   "cell_type": "code",
   "execution_count": null,
   "metadata": {},
   "outputs": [],
   "source": [
    "### caclulate the total duration of songs in days \n",
    "print(\"Total duration of songs on Spotify since the year 2000:\" , music['duration_ms'].sum()/(1000*60*60*24), \"days\")"
   ]
  },
  {
   "cell_type": "markdown",
   "metadata": {},
   "source": [
    "#### Observations\n",
    "We have around 111 days of songs to listen to on Mars.\n",
    "\n",
    "Do you think this is enough? "
   ]
  },
  {
   "cell_type": "markdown",
   "metadata": {},
   "source": [
    "We already know that the average duration of a song over the past 20 years is around 3.8 minutes. We would like now to know if more recent songs tend to be shorter or longer. "
   ]
  },
  {
   "cell_type": "markdown",
   "metadata": {},
   "source": [
    "We can do this by checking the duration of older tracks relative to more recent ones. We will use a scatter plot to visualise the relationship between the duration of a song and its year of release. We do this by creating a scatter plot between the 'duration_ms' column and the 'year' column. "
   ]
  },
  {
   "cell_type": "code",
   "execution_count": null,
   "metadata": {},
   "outputs": [],
   "source": [
    "# group duration fo the different tracks by year, i.e. take the average of the duration of all songs per year\n",
    "columns = [\"duration_ms\"]\n",
    "for col in columns:\n",
    "    x = music.groupby(\"year\")[col].mean()\n",
    "    x = x/(1000*60)"
   ]
  },
  {
   "cell_type": "code",
   "execution_count": null,
   "metadata": {},
   "outputs": [],
   "source": [
    "# draw scatter plot between the average duration of songs in each year versus the respecitve year\n",
    "cf.go_offline()\n",
    "x.iplot(kind='scatter', title='Are older songs shorter or longer than more recent ones?', yTitle='duration (minutes)', xTitle='year')"
   ]
  },
  {
   "cell_type": "markdown",
   "metadata": {},
   "source": [
    "#### Observations\n",
    "We observe that the duration of songs decrease over years. It thus looks like more recent songs tend to be shorter than older ones. "
   ]
  },
  {
   "cell_type": "markdown",
   "metadata": {},
   "source": [
    "### Section IV: Conclusion\n",
    "\n",
    "We have used data to know that we can have songs worth 111 days to keep people entertained with music on Mars with the more recent songs being shorter in time compared to older ones. "
   ]
  },
  {
   "cell_type": "markdown",
   "metadata": {},
   "source": [
    "### What's next?\n",
    "\n",
    "Several other questions can be answered with this dataset like are longer songs more popular than shorter ones? Can we group songs by their vibes (using valence, danceability)? Can music be used for purposes other than entertainment on Mars? \n",
    "\n",
    "📌 In this example you have seen how data can give us insights into questions and solutions that are both data-driven. Now go to the hackathon template and start solving your own challenge for sustaining life on Mars!"
   ]
  },
  {
   "cell_type": "markdown",
   "metadata": {},
   "source": [
    "[![Callysto.ca License](https://github.com/callysto/curriculum-notebooks/blob/master/callysto-notebook-banner-bottom.jpg?raw=true)](https://github.com/callysto/curriculum-notebooks/blob/master/LICENSE.md)"
   ]
  }
 ],
 "metadata": {
  "kernelspec": {
   "display_name": "Python 3",
   "language": "python",
   "name": "python3"
  },
  "language_info": {
   "codemirror_mode": {
    "name": "ipython",
    "version": 3
   },
   "file_extension": ".py",
   "mimetype": "text/x-python",
   "name": "python",
   "nbconvert_exporter": "python",
   "pygments_lexer": "ipython3",
   "version": "3.7.6"
  }
 },
 "nbformat": 4,
 "nbformat_minor": 4
}
