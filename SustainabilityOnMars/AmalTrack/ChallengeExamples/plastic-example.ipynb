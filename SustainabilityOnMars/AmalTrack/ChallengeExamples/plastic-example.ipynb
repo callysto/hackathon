{
 "cells": [
  {
   "cell_type": "markdown",
   "metadata": {},
   "source": [
    "![Callysto.ca Banner](https://github.com/callysto/curriculum-notebooks/blob/master/callysto-notebook-banner-top.jpg?raw=true)\n",
    "\n",
    "<a href=\"https://hub.callysto.ca/jupyter/hub/user-redirect/git-pull?repo=https%3A%2F%2Fgithub.com%2Fcallysto%2Fhackathon&branch=master&subPath=SustainabilityOnMars/AmalTrack/ChallengeExamples/plastic-example.ipynb&depth=1\" target=\"_parent\"><img src=\"https://raw.githubusercontent.com/callysto/curriculum-notebooks/master/open-in-callysto-button.svg?sanitize=true\" width=\"123\" height=\"24\" alt=\"Open in Callysto\"/></a>"
   ]
  },
  {
   "cell_type": "markdown",
   "metadata": {},
   "source": [
    "# Sustaining Life on Mars: Data Science Challenge\n",
    "\n",
    "\n",
    "You’re a data scientist on a team of newly-arrived humans. While you were on Earth, you figured out how you could make the planet habitable. From growing food to clothing needs, you need to start building the framework for sustaining life on the red planet. \n",
    "\n",
    "In this notebook, we have decided to focus on **plastics** as key resource that needs to be produced and properly managed.   "
   ]
  },
  {
   "cell_type": "markdown",
   "metadata": {},
   "source": [
    "![candy image](./ImagesAndData/plastic-example-image.jpg?raw=true)"
   ]
  },
  {
   "cell_type": "markdown",
   "metadata": {},
   "source": [
    "### Section I: Problem background\n",
    "\n",
    "Plastics are useful for generating fibers (textiles, rope), sheets (bags, wraps, windows), and 3D structures. On Earth, one million plastic drinking bottles are purchased every minute, and up to 5 trillion single-use plastic bags are used worldwide every year. In total, half of all plastic produced is designed to be used only once — and then thrown away (source: UN Environment). \n",
    "\n",
    "As a data scientist, we can help researchers understand where the plastic is found and look for innovative ways to recycle plastics and reduce plastic pollution. There is no such thing as a sustainable product in unsustainable packaging.\n",
    "\n",
    "In this notebook, we want to help scientists reduce  what is not needed so we want to answer the question of **where does tha mjority of plastic waste come from**? we can answer this in many ways, e.g. by sector, or by country.  We will also explore the extent of plastic waste coming from lollipops 🍭🍭🍭. "
   ]
  },
  {
   "cell_type": "markdown",
   "metadata": {},
   "source": [
    "### Section II: The data you used\n",
    "\n",
    "The data in this notebook was downloaded from Citizen Science Cloud: https://hub.cscloud.host/app/ec-2020-plastics. \n",
    "\n",
    "It comes from **three** different projects. \n",
    "\n",
    "1. **Marine Debris Monitoring and Assessment Project**: a National Oceanic and Atmospheric Administration-coordinated citizen science initiative that engages volunteers to survey and record the amount and types of marine debris on shorelines. \n",
    "\n",
    "2. **Ocean Conservancy TIDES Database**: a public, global ocean trash data set, all collected by volunteers. \n",
    "\n",
    "3. **European Environment Agency's Marine LitterWatch**: Data collected by the Marine Litter Watch is collected as both clean-ups and as monitoring events. \n",
    "\n",
    "Below are some of the fields available for each track which we will use to answer the questions we are interested in:\n",
    "\n",
    "**CountryName_FromSource** — country name.<br>\n",
    "**TotalClassifiedItems_EC2020** - equals the sum of columns from [SUM_Hard_PlasticBeverageBottle : SUM_OtherPlasticDebris].<br>\n",
    "**PCT_PlasticAndFoam** - percentage of plastic and foam from total classified items.<br>\n",
    "**PCT_Glass_Rubber_Lumber_Metal** - percentage of rubber, lumber and metal from total classified items.<br>\n",
    "**CONTINENT** - continent.<br>\n",
    "**SUM_HardPlasticBeverageBottle** - sum of collected plastic beverage bottles.<br>\n"
   ]
  },
  {
   "cell_type": "code",
   "execution_count": null,
   "metadata": {},
   "outputs": [],
   "source": [
    "# importing libraries\n",
    "import pandas as pd\n",
    "import matplotlib.pyplot as plt\n",
    "import cufflinks as cf"
   ]
  },
  {
   "cell_type": "code",
   "execution_count": null,
   "metadata": {},
   "outputs": [],
   "source": [
    "# reading the data \n",
    "url = \"./ImagesAndData/plastics-data-2015-2018.csv\"\n",
    "\n",
    "# read csv file and save it as a dataframe\n",
    "plastics = pd.read_csv(url, low_memory=False)\n",
    "\n",
    "# print first 5 rows\n",
    "plastics.head()"
   ]
  },
  {
   "cell_type": "code",
   "execution_count": null,
   "metadata": {},
   "outputs": [],
   "source": [
    "# how many rows and colums does the dataframe have?\n",
    "plastics.shape"
   ]
  },
  {
   "cell_type": "markdown",
   "metadata": {},
   "source": [
    "### Section III: Data Analysis and Visualization\n",
    "\n",
    "We want to explore major sources of plastic waste."
   ]
  },
  {
   "cell_type": "markdown",
   "metadata": {},
   "source": [
    "Let's look at what plastic items were collected and counted. We do this by checking the column names of the 'plastics' table. "
   ]
  },
  {
   "cell_type": "code",
   "execution_count": null,
   "metadata": {},
   "outputs": [],
   "source": [
    "# print column names\n",
    "plastics.columns"
   ]
  },
  {
   "cell_type": "markdown",
   "metadata": {},
   "source": [
    "Columns starting with the prefix '**SUM_**' indicates the type of plastic item that was collected and then counted. These are: e.g. beverage bottles, bottle caps, food containers, buckets, crates, lighters, bowls, cups, personal care products, wappers, labels, straws, cigarette butts, string ring ribbons, fishing nets, fishing line lure ropes, fishing buoys and floats. "
   ]
  },
  {
   "cell_type": "markdown",
   "metadata": {},
   "source": [
    "The column '**TotalClassifiedItems_EC2020**' contains the total number of plastic waste sources that have been collected and then classified. "
   ]
  },
  {
   "cell_type": "markdown",
   "metadata": {},
   "source": [
    "Let's first get the highest number of plastic items that were collected. We do this by finding the largest number in the column 'TotalClassifiedItems_EC2020' using the max() function. "
   ]
  },
  {
   "cell_type": "code",
   "execution_count": null,
   "metadata": {},
   "outputs": [],
   "source": [
    "# find largest number of plastic items collected and classified\n",
    "plastics['TotalClassifiedItems_EC2020'].max()"
   ]
  },
  {
   "cell_type": "markdown",
   "metadata": {},
   "source": [
    "The highest number of plastic items collected was 26420613. That's a lot!"
   ]
  },
  {
   "cell_type": "markdown",
   "metadata": {},
   "source": [
    "Next, let's find out more about where this plastic was collected from."
   ]
  },
  {
   "cell_type": "code",
   "execution_count": null,
   "metadata": {},
   "outputs": [],
   "source": [
    "# First let's sort the data by the 'TotalClassifiedItems_EC2020' column by descending order i.e. highest is first\n",
    "plastics.sort_values(by=\"TotalClassifiedItems_EC2020\", ascending = False)"
   ]
  },
  {
   "cell_type": "markdown",
   "metadata": {},
   "source": [
    "Note the row number associated with the highest items which is 50185"
   ]
  },
  {
   "cell_type": "code",
   "execution_count": null,
   "metadata": {},
   "outputs": [],
   "source": [
    "# Now let's have a closer look at the data associated with the highest plastic items, row number 50185\n",
    "plastics.loc[50185]"
   ]
  },
  {
   "cell_type": "markdown",
   "metadata": {},
   "source": [
    "#### Which country had the maximum number of plastic waste items collected and classified?"
   ]
  },
  {
   "cell_type": "markdown",
   "metadata": {},
   "source": [
    "#### Observations\n",
    "We can see here that the highest number of plastic waste items collected comes from Ghana in Africa. \n",
    "\n",
    "Does this mean that Ghana has the highest plastic pollution? Think about it then check the conclusion section for some insights. "
   ]
  },
  {
   "cell_type": "markdown",
   "metadata": {},
   "source": [
    "Let's breakdown this number and look at the contribution of each collected plastic item that led to Ghana having the highest number of collected plastic items. We will draw a barplot to visualise the collected plastic items and their counts."
   ]
  },
  {
   "cell_type": "code",
   "execution_count": null,
   "metadata": {},
   "outputs": [],
   "source": [
    "# let's first select the columns and rows we are interested in\n",
    "# select the columns containing the required data\n",
    "maximum_plastics_waste = pd.DataFrame(plastics.loc[50185, 'SUM_Hard_PlasticBeverageBottle':'SUM_OtherPlasticDebris'])\n",
    "\n",
    "# rename column name to reflect the data within\n",
    "maximum_plastics_waste.columns = ['plastic_waste_sources']"
   ]
  },
  {
   "cell_type": "markdown",
   "metadata": {},
   "source": [
    "We will create barplot to visualise the number of each collected plastic item in Ghana. "
   ]
  },
  {
   "cell_type": "code",
   "execution_count": null,
   "metadata": {},
   "outputs": [],
   "source": [
    "# maximum_plastics_waste.plot(kind = 'bar')\n",
    "cf.go_offline()\n",
    "maximum_plastics_waste.iplot(kind='bar', title='What are the major sources of plastic waste in Ghana?', yTitle='type of plastic item', xTitle='number of plastic items collected')"
   ]
  },
  {
   "cell_type": "markdown",
   "metadata": {},
   "source": [
    "#### Observations\n",
    "We can see here that the biggest sources of plastic pollution in Ghana, comes from foam plastic debris and foam.  Cigarette butts, and soft straw also contribute plastic waste sources in Ghana. "
   ]
  },
  {
   "cell_type": "markdown",
   "metadata": {},
   "source": [
    "We also observe that the columns 'SUM_OtherPlasticDebris' and 'SUM_Foam_OtherPlasticDebris' are significanlty larger than the rest of the values and are very general that we can not tell which type of plastic items is this. \n",
    "\n",
    "What happens when we recreate the bar plot without these two columns.  "
   ]
  },
  {
   "cell_type": "markdown",
   "metadata": {},
   "source": [
    "Let's redraw the barplot witout the 'Sum_OtherPlasticDebris' and 'SUM_Foam_OtherPlasticDebris' columns. "
   ]
  },
  {
   "cell_type": "code",
   "execution_count": null,
   "metadata": {},
   "outputs": [],
   "source": [
    "# first we drop the columns we are not interested in\n",
    "maximum_plastics_waste = maximum_plastics_waste.drop(['SUM_OtherPlasticDebris', 'SUM_Foam_OtherPlasticDebris'], axis = 0)"
   ]
  },
  {
   "cell_type": "code",
   "execution_count": null,
   "metadata": {},
   "outputs": [],
   "source": [
    "# then we redraw the bar plot\n",
    "maximum_plastics_waste.iplot(kind='bar', title='What are the major sources of plastic waste in Ghana?', yTitle='type of plastic item', xTitle='number of plastic items collected')"
   ]
  },
  {
   "cell_type": "markdown",
   "metadata": {},
   "source": [
    "#### Observations\n",
    "We observe that soft cigarette butts, soft straws, plates, bowls and cups are the major contributors to plastic waste in Ghana, Africa."
   ]
  },
  {
   "cell_type": "markdown",
   "metadata": {},
   "source": [
    "### What about lollipop sticks? Do we have to give up lollipops on Mars?"
   ]
  },
  {
   "cell_type": "markdown",
   "metadata": {},
   "source": [
    "Notice that lollipop sticks and ear buds are counted and classified among the plastic items that contribute to plastic waste. \n",
    "\n",
    "We would like to answer the question of how much do lollipop sticks actually contribute to plastic waste. "
   ]
  },
  {
   "cell_type": "markdown",
   "metadata": {},
   "source": [
    "To answer this question, let's look at the distribution of lollipop stick waste across continents. "
   ]
  },
  {
   "cell_type": "markdown",
   "metadata": {},
   "source": [
    "We will draw a scatter plot for the count of lollipo sticks in every continent using the columns 'SUM_HardSoftLollipopStick_EarBu' and 'CONTINENT'"
   ]
  },
  {
   "cell_type": "code",
   "execution_count": null,
   "metadata": {},
   "outputs": [],
   "source": [
    "# draw the scatter plot\n",
    "columns = [\"SUM_HardSoftLollipopStick_EarBu\"]\n",
    "for col in columns:\n",
    "    x = plastics.groupby(\"CONTINENT\")[col].mean()\n",
    "    \n",
    "x.iplot(kind='line', title='How much do lollipop sticks contribute to plastic waste?', yTitle='continent', xTitle='number of lollipop sticks and ear buds')"
   ]
  },
  {
   "cell_type": "markdown",
   "metadata": {},
   "source": [
    "#### Observations\n",
    "We observe that Europeans have lollipop sticks (and ear buds) as contributing to plastic waste much more than other continents\n",
    "\n",
    "Does this make sense? Does this mean people in all continents but Europe, don't eat lollipops?"
   ]
  },
  {
   "cell_type": "markdown",
   "metadata": {},
   "source": [
    "Of course NOT! People all over the globe eat lollipops.\n",
    "\n",
    "Rememeber that this was an aggregated dataset from three different sources, so let's look at counts of lollipops from each of the three datasets. "
   ]
  },
  {
   "cell_type": "code",
   "execution_count": null,
   "metadata": {},
   "outputs": [],
   "source": [
    "# plot counts of lollipops by data source\n",
    "columns = [\"SUM_HardSoftLollipopStick_EarBu\"]\n",
    "for col in columns:\n",
    "    x = plastics.groupby(\"Dataset\")[col].mean()\n",
    "\n",
    "x.iplot(kind='bar', title='How many lollipop sticks and ear buds were collected in each dataset? ', yTitle='lollipop sticks and ear buds counts', xTitle='dataset')"
   ]
  },
  {
   "cell_type": "markdown",
   "metadata": {},
   "source": [
    "### Section IV: Conclusion \n",
    "\n",
    "We have used data to know that Ghana has the highest number of collected plastic waste items. While this can imply that Ghana has the highest plastic waste across al countries, it could be a limitation of this particular dataset where the number of volunteers could be higher or there could be more plastic waste on particular dates (e.g. holidays). \n",
    "\n",
    "We have also seen that lollipos sticks and ear buds were only collected and counted by the 'European Environment Agency's Marine LitterWatch' project which falsely implied that lollipop sticks are source of plastic waste only in Euorpe. "
   ]
  },
  {
   "cell_type": "markdown",
   "metadata": {},
   "source": [
    "### What's next ?\n",
    "\n",
    "Several other questions can be answered with this dataset like how does the trend in sources of plastic waste vary across the years or months or regions? \n",
    "\n",
    "📌 In this **example notebook** you have seen how data can give us insights into questions and solutions that are both data-driven. Now go to the **hackathon template** and start solving your own challenge for sustaining life on Mars!"
   ]
  },
  {
   "cell_type": "markdown",
   "metadata": {},
   "source": [
    "[![Callysto.ca License](https://github.com/callysto/curriculum-notebooks/blob/master/callysto-notebook-banner-bottom.jpg?raw=true)](https://github.com/callysto/curriculum-notebooks/blob/master/LICENSE.md)"
   ]
  }
 ],
 "metadata": {
  "kernelspec": {
   "display_name": "Python 3",
   "language": "python",
   "name": "python3"
  },
  "language_info": {
   "codemirror_mode": {
    "name": "ipython",
    "version": 3
   },
   "file_extension": ".py",
   "mimetype": "text/x-python",
   "name": "python",
   "nbconvert_exporter": "python",
   "pygments_lexer": "ipython3",
   "version": "3.7.6"
  }
 },
 "nbformat": 4,
 "nbformat_minor": 4
}
