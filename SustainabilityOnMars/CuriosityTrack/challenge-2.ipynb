{
 "cells": [
  {
   "cell_type": "markdown",
   "metadata": {},
   "source": [
    "![Callysto.ca Banner](https://github.com/callysto/curriculum-notebooks/blob/master/callysto-notebook-banner-top.jpg?raw=true)\n",
    "\n",
    "<a href=\"https://hub.callysto.ca/jupyter/hub/user-redirect/git-pull?repo=https%3A%2F%2Fgithub.com%2Fcallysto%2Fhackathon&branch=master&subPath=SustainabilityOnMars/CuriosityTrack/challenge-2.ipynb&depth=1\" target=\"_parent\"><img src=\"https://raw.githubusercontent.com/callysto/curriculum-notebooks/master/open-in-callysto-button.svg?sanitize=true\" width=\"123\" height=\"24\" alt=\"Open in Callysto\"/></a>"
   ]
  },
  {
   "cell_type": "markdown",
   "metadata": {},
   "source": [
    "# <p style=\"text-align: center;\">  📌 Challenge 2: Making Data Easy </p>\n",
    "\n",
    "Now that we have successfully accessed the data archives from our friends back on Earth, it's now time to explore what pets there are. This will help us get an idea of not only what our options are, but which pets can be most suitable for life on Mars. \n",
    "\n",
    "**Rover**: *I hope it's dogs!*\n",
    "\n",
    "![https://publicdomainvectors.org/en/free-clipart/Astronaut-in-space/85289.html](Images/astronaut-in-space.jpg)\n",
    "\n",
    "# <p style=\"text-align: center;\"> 🌟🌟🌟🌟🌟🌟🌟🌟🌟🌟🌟🌟🌟🌟🌟🌟🌟🌟🌟🌟🌟🌟🌟🌟🌟🌟🌟🌟🌟🌟 </p>\n"
   ]
  },
  {
   "cell_type": "code",
   "execution_count": null,
   "metadata": {},
   "outputs": [],
   "source": [
    "#❗️Run this cell\n",
    "import interactive as i\n",
    "from IPython.display import YouTubeVideo\n",
    "YouTubeVideo('gCcyJdQyvjo')"
   ]
  },
  {
   "cell_type": "markdown",
   "metadata": {},
   "source": [
    "\n",
    "### 📕 Debrief: Heads and Tails\n",
    "You might notice when you view the dataset, it's the *whole* dataset. Say we wanted to only see the first few or the last few rows of the data. To do this we can use `dataset.head()` to see the first 5 rows or `dataset.tail()` to see the last 5 rows. Try it out below! :) "
   ]
  },
  {
   "cell_type": "code",
   "execution_count": null,
   "metadata": {},
   "outputs": [],
   "source": [
    "#❗️Run this cell\n",
    "i.challenge2a()"
   ]
  },
  {
   "cell_type": "markdown",
   "metadata": {},
   "source": [
    "### 📕 Debrief: Selecting Data Columns\n",
    "\n",
    "With the data now easily accessible, let's try using some cool functions from the `pandas` library to get to know our data more. You can also check out the Tutorial's [pandas cheatsheet](../Tutorials/pandas-dataframes.ipynb) for a whole list of things we can do.\n",
    "\n",
    "For example, to access the values in a column, we can use `dataset[\"column_name\"]`. In Python `\"\"` and `''` are the same. You can also select multiple columns like this: `dataset[[\"column_name1\", \"column_name2\"]]`. Note the double `[[ ]]` will give you a dataframe, which is most of the time what we want, versus `[]` which will give you only the single column. Later on we will focus more on getting multiple columns, so right now let's just focus on seeing one.\n",
    "\n",
    "To list all the columns in a dataset, use `dataset.columns` or `list(dataset.columns)` for a list instead of an index."
   ]
  },
  {
   "cell_type": "code",
   "execution_count": null,
   "metadata": {},
   "outputs": [],
   "source": [
    "#❗️Run this cell\n",
    "i.challenge2b()"
   ]
  },
  {
   "cell_type": "code",
   "execution_count": null,
   "metadata": {},
   "outputs": [],
   "source": [
    "#❗️Run this cell\n",
    "i.challenge2c()"
   ]
  },
  {
   "cell_type": "markdown",
   "metadata": {},
   "source": [
    "# 📚 Challenge Complete!\n",
    "\n",
    "### What are the row numbers of the dogs that are over 100lbs? Write them down in order from smallest to largest!\n"
   ]
  },
  {
   "cell_type": "markdown",
   "metadata": {},
   "source": [
    "✏️    DOUBLE CLICK HERE AND PROVIDE YOUR ANSWER    ✏️"
   ]
  },
  {
   "cell_type": "markdown",
   "metadata": {},
   "source": [
    "### <p style=\"text-align: right;\"> ...continue to [Challenge 3!](./challenge-3.ipynb)</p>"
   ]
  },
  {
   "cell_type": "markdown",
   "metadata": {},
   "source": [
    "# <p style=\"text-align: center;\"> 🌟🌟🌟🌟🌟🌟🌟🌟🌟🌟🌟🌟🌟🌟🌟🌟🌟🌟🌟🌟🌟🌟🌟🌟🌟🌟🌟🌟🌟🌟 </p>\n"
   ]
  },
  {
   "cell_type": "markdown",
   "metadata": {},
   "source": [
    "[![Callysto.ca License](https://github.com/callysto/curriculum-notebooks/blob/master/callysto-notebook-banner-bottom.jpg?raw=true)](https://github.com/callysto/curriculum-notebooks/blob/master/LICENSE.md)"
   ]
  }
 ],
 "metadata": {
  "kernelspec": {
   "display_name": "Python 3",
   "language": "python",
   "name": "python3"
  },
  "language_info": {
   "codemirror_mode": {
    "name": "ipython",
    "version": 3
   },
   "file_extension": ".py",
   "mimetype": "text/x-python",
   "name": "python",
   "nbconvert_exporter": "python",
   "pygments_lexer": "ipython3",
   "version": "3.8.5"
  }
 },
 "nbformat": 4,
 "nbformat_minor": 4
}
