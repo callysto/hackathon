{
 "cells": [
  {
   "cell_type": "markdown",
   "metadata": {},
   "source": [
    "![Callysto.ca Banner](https://github.com/callysto/curriculum-notebooks/blob/master/callysto-notebook-banner-top.jpg?raw=true)\n",
    "\n",
    "<a href=\"https://hub.callysto.ca/jupyter/hub/user-redirect/git-pull?repo=https%3A%2F%2Fgithub.com%2Fcallysto%2Fhackathon&branch=master&subPath=SustainabilityOnMars/CuriosityTrack/challenge-5.ipynb&depth=1\" target=\"_parent\"><img src=\"https://raw.githubusercontent.com/callysto/curriculum-notebooks/master/open-in-callysto-button.svg?sanitize=true\" width=\"123\" height=\"24\" alt=\"Open in Callysto\"/></a>"
   ]
  },
  {
   "cell_type": "markdown",
   "metadata": {},
   "source": [
    "# <p style=\"text-align: center;\"> 📌 Challenge 5: Visualizing the Data </p>\n",
    "\n",
    "Up to this point, we have been using only the `pandas` library to work with data. Now, we will be using a library called `matplotlib` to make some cool charts and plots. We won't need all of `matplotlib` though, only the part of it called `pyplot`. Good Luck!\n",
    "\n",
    "![https://publicdomainvectors.org/en/free-clipart/Abacus-calculating-tool/85145.html](Images/abacus.jpg)\n",
    "\n",
    "# <p style=\"text-align: center;\"> 🌟🌟🌟🌟🌟🌟🌟🌟🌟🌟🌟🌟🌟🌟🌟🌟🌟🌟🌟🌟🌟🌟🌟🌟🌟🌟🌟🌟🌟🌟 </p>\n"
   ]
  },
  {
   "cell_type": "code",
   "execution_count": null,
   "metadata": {},
   "outputs": [],
   "source": [
    "#❗️Run this cell\n",
    "import interactive as i\n",
    "i.challenge5a()"
   ]
  },
  {
   "cell_type": "markdown",
   "metadata": {},
   "source": [
    "### 📕 Debrief: Visualizing Data\n",
    "\n",
    "Before you do any plot, you will always need to think about what's called the `x` and `y` axis. The data that you use for the `x` piece is usually the one that causes things to change, and the `y` piece is the data that changes because of `x`. If you don't totally understand right now, that's okay! We will go over some examples. \n",
    "\n",
    "**For now, just know that there are many different ways that we can visualize data, and that we usually choose one depending on the data we are working with.**\n",
    "\n",
    "📙 `plt.bar(dataset['column_x'], dataset['column_y'])`: Creates a bar graph, which needs the x column to be a category and the y column to be numerical. \n",
    "\n",
    "📙 `plt.hist(dataset['column_x'])`: Creates a histogram, which needs an x column that is numerical\n",
    "\n",
    "📙 `plt.scatter(dataset['column_x'], dataset['column_y'])`: Creates a scatterplot, where both x and y columns need to be numerical\n",
    "<br><br>"
   ]
  },
  {
   "cell_type": "code",
   "execution_count": null,
   "metadata": {},
   "outputs": [],
   "source": [
    "#❗️Run this cell\n",
    "i.challenge5b()"
   ]
  },
  {
   "cell_type": "code",
   "execution_count": null,
   "metadata": {},
   "outputs": [],
   "source": [
    "#❗️Run this cell\n",
    "i.challenge5c() "
   ]
  },
  {
   "cell_type": "code",
   "execution_count": null,
   "metadata": {},
   "outputs": [],
   "source": [
    "#❗️Run this cell\n",
    "i.challenge5d() "
   ]
  },
  {
   "cell_type": "markdown",
   "metadata": {},
   "source": [
    "### 📕 Debrief: Grouping and Counting Columns\n",
    "\n",
    "Let's pick a few columns we're interested in:\n",
    "- Gender\n",
    "- Species\n",
    "- Age (years)\n",
    "\n",
    "There are two groups in the Gender column: female and male.\n",
    "\n",
    "There are 5 groups in the Species column: cat, dog, lizard rabbit, and tarantula.\n",
    "\n",
    "There are 11 age groups in the Age (years) column.\n",
    "\n",
    "We can count how many pets are in each group, or category. The frequency counts can be represented in a pie chart, scatter plot, or bar chart.\n",
    "\n",
    "Try matching the groups with different visualizations to see what the chart or graph would look like.\n",
    "\n",
    "Run the cell below by pressing `shift + enter`."
   ]
  },
  {
   "cell_type": "code",
   "execution_count": null,
   "metadata": {
    "scrolled": true
   },
   "outputs": [],
   "source": [
    "%%html\n",
    "\n",
    "<!--❗️Run this cell-->\n",
    "\n",
    "<iframe width=\"100%\" height=\"900\" src=\"https://callysto.github.io/online-courses/CallystoAndDataScience/modules/interactives/datographer/plot-styles\" frameborder=\"0\" ></iframe>"
   ]
  },
  {
   "cell_type": "markdown",
   "metadata": {},
   "source": [
    "## ✏️ Reflective Questions\n",
    "1. Do you have a preferred data visualization for each data subset? If so, why?\n",
    "\n",
    "2. Do any of the data visualizations seem like they might misrepresent the data, or cause confusion?"
   ]
  },
  {
   "cell_type": "markdown",
   "metadata": {},
   "source": [
    "# 📚 Challenge Complete!"
   ]
  },
  {
   "cell_type": "markdown",
   "metadata": {},
   "source": [
    "### <p style=\"text-align: right;\"> ...continue to [Challenge 6!](./challenge-6.ipynb)</p>"
   ]
  },
  {
   "cell_type": "markdown",
   "metadata": {},
   "source": [
    "# <p style=\"text-align: center;\"> 🌟🌟🌟🌟🌟🌟🌟🌟🌟🌟🌟🌟🌟🌟🌟🌟🌟🌟🌟🌟🌟🌟🌟🌟🌟🌟🌟🌟🌟🌟 </p>\n"
   ]
  },
  {
   "cell_type": "markdown",
   "metadata": {},
   "source": [
    "[![Callysto.ca License](https://github.com/callysto/curriculum-notebooks/blob/master/callysto-notebook-banner-bottom.jpg?raw=true)](https://github.com/callysto/curriculum-notebooks/blob/master/LICENSE.md)"
   ]
  }
 ],
 "metadata": {
  "kernelspec": {
   "display_name": "Python 3",
   "language": "python",
   "name": "python3"
  },
  "language_info": {
   "codemirror_mode": {
    "name": "ipython",
    "version": 3
   },
   "file_extension": ".py",
   "mimetype": "text/x-python",
   "name": "python",
   "nbconvert_exporter": "python",
   "pygments_lexer": "ipython3",
   "version": "3.8.6"
  }
 },
 "nbformat": 4,
 "nbformat_minor": 4
}
