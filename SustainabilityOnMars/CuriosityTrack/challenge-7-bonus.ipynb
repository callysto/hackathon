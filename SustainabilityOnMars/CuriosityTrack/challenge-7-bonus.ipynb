{
 "cells": [
  {
   "cell_type": "markdown",
   "metadata": {},
   "source": [
    "![Callysto.ca Banner](https://github.com/callysto/curriculum-notebooks/blob/master/callysto-notebook-banner-top.jpg?raw=true)\n",
    "\n",
    "<a href=\"https://hub.callysto.ca/jupyter/hub/user-redirect/git-pull?repo=https%3A%2F%2Fgithub.com%2Fcallysto%2Fhackathon&branch=master&subPath=SustainabilityOnMars/CuriosityTrack/challenge-7-bonus.ipynb&depth=1\" target=\"_parent\"><img src=\"https://raw.githubusercontent.com/callysto/curriculum-notebooks/master/open-in-callysto-button.svg?sanitize=true\" width=\"123\" height=\"24\" alt=\"Open in Callysto\"/></a>"
   ]
  },
  {
   "cell_type": "markdown",
   "metadata": {},
   "source": [
    "# <p style=\"text-align: center;\"> Bonus Challenge </p>\n",
    "# <p style=\"text-align: center;\"> 📌 Pets on Mars: Visualizing the Data </p>"
   ]
  },
  {
   "cell_type": "markdown",
   "metadata": {},
   "source": [
    "A visualization is only useful if it helps us to understand the data set better or communicate information about it more accurately and powerfully.\n",
    "\n",
    "When choosing to visually represent data, remember what question you want to answer and ask yourself if what the visualization is presenting is relevant to your question."
   ]
  },
  {
   "cell_type": "markdown",
   "metadata": {},
   "source": [
    "Run the following code (press `shift + enter`) in your Jupyter notebook to import the pandas library and recreate the pets DataFrame."
   ]
  },
  {
   "cell_type": "code",
   "execution_count": null,
   "metadata": {},
   "outputs": [],
   "source": [
    "#❗️Run this cell\n",
    "\n",
    "#load \"pandas\" library under the alias \"pd\"\n",
    "import pandas as pd\n",
    "\n",
    "#identify the location of our online data\n",
    "url = \"https://tinyurl.com/y917axtz-pets\"\n",
    "\n",
    "#read csv file from url and create a dataframe\n",
    "pets = pd.read_csv(url)\n",
    "\n",
    "#display the head of the data\n",
    "pets.head()"
   ]
  },
  {
   "cell_type": "markdown",
   "metadata": {},
   "source": [
    "The head of the DataFrame shows us that for each animal eight different variables have been recorded."
   ]
  },
  {
   "cell_type": "markdown",
   "metadata": {},
   "source": [
    "## 📕 Debrief: Grouping Variables\n",
    "\n",
    "Let's start by picking a few columns we are interested in and get counts of the different values within those columns.\n",
    "\n",
    "- Gender\n",
    "- Species\n",
    "- Age (in years)\n",
    "\n",
    "To do this, we'll use the pandas method `groupby`, which lets us split data into groups and give those groups names so they can be easily referenced.\n",
    "\n",
    "Run the code below to group data in the gender, species, and age columns of the pets DataFrame by count."
   ]
  },
  {
   "cell_type": "code",
   "execution_count": null,
   "metadata": {},
   "outputs": [],
   "source": [
    "#❗️Run this cell\n",
    "\n",
    "# Group by different Categories: Gender, Species, Age (years)\n",
    "\n",
    "gender = pets.groupby(\"Gender\").size().reset_index(name=\"Count\")\n",
    "species = pets.groupby(\"Species\").size().reset_index(name=\"Count\")\n",
    "age = pets.groupby(\"Age (years)\").size().reset_index(name=\"Count\")"
   ]
  },
  {
   "cell_type": "markdown",
   "metadata": {},
   "source": [
    "The variable pets refers to our DataFrame of information. Writing the code `pets.groupby(\"Gender\")` creates a new dataframe that groups the information by the two genders Male and Female. Extending the line of code to `pets.groupby(\"Gender\").size()` creates a column indicating the size of each group (Male, Female), and appending `reset_index(name=\"Count\")` gives an informative name for this size data.\n",
    "\n",
    "Now that we've created our groups, let's call each group name and see what it looks like as a table."
   ]
  },
  {
   "cell_type": "code",
   "execution_count": null,
   "metadata": {},
   "outputs": [],
   "source": [
    "#❗️Run this cell\n",
    "\n",
    "gender"
   ]
  },
  {
   "cell_type": "markdown",
   "metadata": {},
   "source": [
    "### 🌟 What do you notice?\n",
    "\n",
    "This is a dataframe that indicates that 15 pets are female, while 16 pets are male. \n",
    "\n",
    "The 0 indicates the first row - in Python we start counting from zero.<br>\n",
    "This is the index of the row, and corresponds to the row female, with count value 15.<br>\n",
    "The 1 indicates the second row, and corresponds to the row male, with count value 16."
   ]
  },
  {
   "cell_type": "code",
   "execution_count": null,
   "metadata": {},
   "outputs": [],
   "source": [
    "#❗️Run this cell\n",
    "\n",
    "species"
   ]
  },
  {
   "cell_type": "markdown",
   "metadata": {},
   "source": [
    "This is a dataframe that indicates there are five different species in the dataset, and tells us how many of each pet is within the dataset."
   ]
  },
  {
   "cell_type": "code",
   "execution_count": null,
   "metadata": {},
   "outputs": [],
   "source": [
    "#❗️Run this cell\n",
    "\n",
    "age"
   ]
  },
  {
   "cell_type": "code",
   "execution_count": null,
   "metadata": {},
   "outputs": [],
   "source": [
    "#❗️Run this cell\n",
    "i.challenge7a()"
   ]
  },
  {
   "cell_type": "markdown",
   "metadata": {},
   "source": [
    "### 📕 Activity\n",
    "We now have three different subsets of data we could make visualizations from. But what type of visualization should we choose for each one?\n",
    "\n",
    "Each one of these data subsets could easily be represented by a pie chart, scatter plot, or bar chart.<br>\n",
    "Try matching the data sets with different visualizations to see what the resulting chart or graph would look like.<br>\n",
    "Run the cell below."
   ]
  },
  {
   "cell_type": "code",
   "execution_count": null,
   "metadata": {},
   "outputs": [],
   "source": [
    "%%html\n",
    "\n",
    "<!--❗️Run this cell-->\n",
    "\n",
    "<iframe width=\"100%\" height=\"900\" src=\"https://callysto.github.io/online-courses/CallystoAndDataScience/modules/interactives/datographer/plot-styles\" frameborder=\"0\" ></iframe>"
   ]
  },
  {
   "cell_type": "markdown",
   "metadata": {},
   "source": [
    "## ✏️ Reflective Questions\n",
    "1. Do you have a preferred data visualization for each data subset? If so, why?\n",
    "\n",
    "2. Do any of the data visualizations seem like they might misrepresent the data, or cause confusion?"
   ]
  },
  {
   "cell_type": "markdown",
   "metadata": {},
   "source": [
    "## 📕 Debrief: Creating Clear and Useful Visualizations"
   ]
  },
  {
   "cell_type": "markdown",
   "metadata": {},
   "source": [
    "Sometimes a particular visualization represents data better than others.\n",
    "\n",
    "Let's look at some examples created with <a href = \"https://medium.com/plotly/introducing-plotly-express-808df010143d#:~:text=Plotly%20Express%20is%20a%20new,simple%20syntax%20for%20complex%20charts\">Plotly Express</a>, a library with lots of great tools for creating nice-looking data visualizations.\n",
    "\n",
    "Suppose we wanted to see the relationship between age and time to adoption for the pets in our data set. The code below allows us to generate a bar graph to compare these variables.\n",
    "\n",
    "The code line that starts `bar_pet = px.bar(pets,...` calls up the function bar in the Plotly library to create a bar chart from the data in the pets DataFrame.<br>\n",
    "The line `x=\"Time to Adoption (weeks)\"` says the horizontal axis in the bar chart will take data from the \"Time to Adoption\" column in the DataFrame.<br>\n",
    "A similar line `y=\"Age (years)\"` tells us what column provides data for the vertical axis.<br>\n",
    "The title line adds a nice title to our bar chart.<br>\n",
    "And finally, the command `bar_pet.show()` tells the computer to show us the chart by displaying it on the screen.\n",
    "\n",
    "Look and interact with the visualization. When you mouse-over the the bar graph, you’ll notice more information appears."
   ]
  },
  {
   "cell_type": "code",
   "execution_count": null,
   "metadata": {},
   "outputs": [],
   "source": [
    "#❗️Run this cell\n",
    "\n",
    "#load \"plotly express\" library under the alias \"px\"\n",
    "import plotly.express as px\n",
    "\n",
    "# Create bar graph\n",
    "bar_pet = px.bar(pets,\n",
    "           x=\"Time to Adoption (weeks)\", \n",
    "           y=\"Age (years)\",\n",
    "           title=\"Age (in years) and Time to Adoption (weeks) for each Pet\")\n",
    "\n",
    "# Display within our Jupyter notebook \n",
    "bar_pet.show()"
   ]
  },
  {
   "cell_type": "markdown",
   "metadata": {},
   "source": [
    "### 🌟 What do you notice?\n",
    "Looking at this bar graph, there seems to be a relationship between age and time to adoption, but some aspects of the visualization are not clear. For example, most of the bars are segmented, but there is no explanation of what the segments represent.\n",
    "\n",
    "Let’s update our data visualization to include more information. We'll use colour to represent pet species and add labels with the names of each pet."
   ]
  },
  {
   "cell_type": "code",
   "execution_count": null,
   "metadata": {},
   "outputs": [],
   "source": [
    "#❗️Run this cell\n",
    "\n",
    "# Create coloured bar chart\n",
    "bar_pet = px.bar(pets,\n",
    "           x=\"Time to Adoption (weeks)\", \n",
    "           y=\"Age (years)\",\n",
    "           title=\"Age (in years) and Time to Adoption (weeks) for each Pet\",\n",
    "           color=\"Species\",text=\"Name\")\n",
    "\n",
    "bar_pet.show()"
   ]
  },
  {
   "cell_type": "markdown",
   "metadata": {},
   "source": [
    "### 🌟 What do you notice?\n",
    "These updates have made the bar chart easier to interpret. However, there's a lot of information represented here and the chart doesn't clearly display the relationship between age and time to adoption.\n",
    "\n",
    "Some elements are also confusing. "
   ]
  },
  {
   "cell_type": "code",
   "execution_count": null,
   "metadata": {},
   "outputs": [],
   "source": [
    "#❗️Run this cell\n",
    "i.challenge7b()"
   ]
  },
  {
   "cell_type": "markdown",
   "metadata": {},
   "source": [
    "Let’s try a different type of visualization.\n",
    "\n",
    "Run the code below to create a scatter plot. In this visualization, each dot will represent a single pet and the dot's colour will represent the species."
   ]
  },
  {
   "cell_type": "code",
   "execution_count": null,
   "metadata": {
    "scrolled": false
   },
   "outputs": [],
   "source": [
    "#❗️Run this cell\n",
    "\n",
    "# Create scatter plot\n",
    "scatter_pet = px.scatter(pets,\n",
    "           x=\"Time to Adoption (weeks)\", \n",
    "           y=\"Age (years)\",\n",
    "           title=\"Age (in years) and Time to Adoption (weeks) for each Pet\",\n",
    "           color=\"Species\",hover_name=\"Name\")\n",
    "\n",
    "scatter_pet.show()"
   ]
  },
  {
   "cell_type": "markdown",
   "metadata": {},
   "source": [
    "### 🌟 What do you notice?\n",
    "This scatter plot communicates our information more clearly than our bar graph. It allows each pet to be represented equally, shows the strength of the relationship between our two variables, and allows us to easily identify outliers and see the different species of pets in our data set."
   ]
  },
  {
   "cell_type": "markdown",
   "metadata": {},
   "source": [
    "# 📚 Challenge Complete!\n",
    "Great job! You completed the bonus challenge. "
   ]
  },
  {
   "cell_type": "markdown",
   "metadata": {},
   "source": [
    "# <p style=\"text-align: center;\"> 🌟🌟🌟🌟🌟🌟🌟🌟🌟🌟🌟🌟🌟🌟🌟🌟🌟🌟🌟🌟🌟🌟🌟🌟🌟🌟🌟🌟🌟🌟 </p>"
   ]
  },
  {
   "cell_type": "markdown",
   "metadata": {},
   "source": [
    "[![Callysto.ca License](https://github.com/callysto/curriculum-notebooks/blob/master/callysto-notebook-banner-bottom.jpg?raw=true)](https://github.com/callysto/curriculum-notebooks/blob/master/LICENSE.md)"
   ]
  }
 ],
 "metadata": {
  "kernelspec": {
   "display_name": "Python 3",
   "language": "python",
   "name": "python3"
  },
  "language_info": {
   "codemirror_mode": {
    "name": "ipython",
    "version": 3
   },
   "file_extension": ".py",
   "mimetype": "text/x-python",
   "name": "python",
   "nbconvert_exporter": "python",
   "pygments_lexer": "ipython3",
   "version": "3.8.6"
  }
 },
 "nbformat": 4,
 "nbformat_minor": 4
}
