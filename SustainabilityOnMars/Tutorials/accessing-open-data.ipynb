{
 "cells": [
  {
   "cell_type": "markdown",
   "metadata": {},
   "source": [
    "![Callysto.ca Banner](https://github.com/callysto/curriculum-notebooks/blob/master/callysto-notebook-banner-top.jpg?raw=true)\n",
    "\n",
    "<a href=\"https://hub.callysto.ca/jupyter/hub/user-redirect/git-pull?repo=https%3A%2F%2Fgithub.com%2Fcallysto%2Fhackathon&branch=master&subPath=SustainabilityOnMars/Tutorials/accessing-open-data.ipynb&depth=1\" target=\"_parent\"><img src=\"https://raw.githubusercontent.com/callysto/curriculum-notebooks/master/open-in-callysto-button.svg?sanitize=true\" width=\"123\" height=\"24\" alt=\"Open in Callysto\"/></a>"
   ]
  },
  {
   "cell_type": "markdown",
   "metadata": {},
   "source": [
    "# Accessing Open Data\n",
    "\n",
    "Many agencies and governments publish open data, these can be found via a web search or from the Wikipedia article [Open data in Canada](https://en.wikipedia.org/wiki/Open_data_in_Canada).\n",
    "\n",
    "There are different ways to access those data from a Jupyter notebook. We'll show you examples using CSV (comma separated values), XLSX (Excel), JSON (JavaScript Object Notation), and API (Application Programming Interface). "
   ]
  },
  {
   "cell_type": "markdown",
   "metadata": {},
   "source": [
    "## CSV Data\n",
    "\n",
    "One of the more common ways to access data is via a CSV link, as in the following example using [COVID-19 statistics from Johns Hopkins CSSE](https://github.com/CSSEGISandData/COVID-19).\n",
    "\n",
    "If you get an **invalid start byte** error, try `df = pd.read_csv(csv_link, encoding='windows-1251')` "
   ]
  },
  {
   "cell_type": "code",
   "execution_count": null,
   "metadata": {},
   "outputs": [],
   "source": [
    "import pandas as pd \n",
    "csv_link = 'https://raw.githubusercontent.com/CSSEGISandData/COVID-19/master/csse_covid_19_data/csse_covid_19_daily_reports/05-05-2020.csv'\n",
    "df = pd.read_csv(csv_link)\n",
    "df"
   ]
  },
  {
   "cell_type": "markdown",
   "metadata": {},
   "source": [
    "## Excel Data\n",
    "\n",
    "If you have an XLS or XLSX link, try this example from [Ontario Open Data](https://data.ontario.ca)."
   ]
  },
  {
   "cell_type": "code",
   "execution_count": null,
   "metadata": {},
   "outputs": [],
   "source": [
    "!pip install openpyxl --user \n",
    "import pandas as pd\n",
    "xlsx_link = 'https://data.ontario.ca/dataset/fb3a7c18-90af-453e-bc0a-a76ecc471862/resource/523b98e0-c677-4ac4-b453-08e9727cb712/download/publicly_funded_schools_xlsx_april_2020_en.xlsx'\n",
    "df = pd.read_excel(xlsx_link)\n",
    "df"
   ]
  },
  {
   "cell_type": "markdown",
   "metadata": {},
   "source": [
    "## JSON Data\n",
    "\n",
    "If the data are in JSON format, you can use this example that uses [Vancouver Open Data](https://opendata.vancouver.ca/pages/home/)."
   ]
  },
  {
   "cell_type": "code",
   "execution_count": null,
   "metadata": {},
   "outputs": [],
   "source": [
    "import requests\n",
    "import pandas as pd\n",
    "from pandas.io.json import json_normalize # Need to remove this if we upgrade to pandas 1.0.1\n",
    "\n",
    "json_link = \"https://opendata.vancouver.ca/api/records/1.0/search/?dataset=public-art&rows=500&facet=type&facet=status&facet=sitename&facet=siteaddress&facet=primarymaterial&facet=ownership&facet=neighbourhood&facet=artists&facet=photocredits\"\n",
    "data = requests.get(json_link).json()\n",
    "df = json_normalize(data=data['records']) # or if pandas > 1.0 then  df = pd.json_normalize(data=data['records'])\n",
    "df"
   ]
  },
  {
   "cell_type": "markdown",
   "metadata": {},
   "source": [
    "## Socrata API\n",
    "\n",
    "If the data are published using Socrata, you can also use the SODA API ([Socrata Open Data Application Programming Interface](https://dev.socrata.com/)). Have a look at the [Getting Started](https://dev.socrata.com/consumers/getting-started.html) and [API Docs](https://dev.socrata.com/docs/endpoints.html) pages, as well as the following example with [Edmonton Open Data]()."
   ]
  },
  {
   "cell_type": "code",
   "execution_count": null,
   "metadata": {},
   "outputs": [],
   "source": [
    "import requests\n",
    "import io\n",
    "import pandas as pd\n",
    "\n",
    "domain = 'https://data.edmonton.ca/resource/'\n",
    "uuid = 'ceg3-ihxx'  # https://data.edmonton.ca/Surveys/Cat-Strategy-Edmonton-Insight-Community/ceg3-ihxx\n",
    "query = 'SELECT *'\n",
    "\n",
    "session = requests.Session()\n",
    "results = session.get(domain + uuid +'.csv?$query=' + query)\n",
    "df =  pd.read_csv(io.StringIO(results.content.decode('utf-8')))\n",
    "df"
   ]
  },
  {
   "cell_type": "markdown",
   "metadata": {},
   "source": [
    "# Conclusion\n",
    "\n",
    "Those are a few examples of ways to download online data into a pandas dataframe, depending on the available format."
   ]
  },
  {
   "cell_type": "markdown",
   "metadata": {},
   "source": [
    "[![Callysto.ca License](https://github.com/callysto/curriculum-notebooks/blob/master/callysto-notebook-banner-bottom.jpg?raw=true)](https://github.com/callysto/curriculum-notebooks/blob/master/LICENSE.md)"
   ]
  }
 ],
 "metadata": {
  "kernelspec": {
   "display_name": "Python 3 (ipykernel)",
   "language": "python",
   "name": "python3"
  },
  "language_info": {
   "codemirror_mode": {
    "name": "ipython",
    "version": 3
   },
   "file_extension": ".py",
   "mimetype": "text/x-python",
   "name": "python",
   "nbconvert_exporter": "python",
   "pygments_lexer": "ipython3",
   "version": "3.9.12"
  }
 },
 "nbformat": 4,
 "nbformat_minor": 4
}
