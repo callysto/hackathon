{
 "cells": [
  {
   "cell_type": "markdown",
   "metadata": {},
   "source": [
    "![Callysto.ca Banner](https://github.com/callysto/curriculum-notebooks/blob/master/callysto-notebook-banner-top.jpg?raw=true)\n",
    "\n",
    "<a href=\"https://hub.callysto.ca/jupyter/hub/user-redirect/git-pull?repo=https%3A%2F%2Fgithub.com%2Fcallysto%2Fhackathon&branch=master&subPath=SustainabilityOnMars/Tutorials/graphing-with-cufflinks.ipynb&depth=1\" target=\"_parent\"><img src=\"https://raw.githubusercontent.com/callysto/curriculum-notebooks/master/open-in-callysto-button.svg?sanitize=true\" width=\"123\" height=\"24\" alt=\"Open in Callysto\"/></a>"
   ]
  },
  {
   "cell_type": "markdown",
   "metadata": {},
   "source": [
    "# Graphing with Cufflinks\n",
    "\n",
    "[Cufflinks](https://plotly.com/python/cufflinks/) is a library that binds pandas DataFrames to plotly graphing tools.\n",
    "\n",
    "Options for `kind=` are `'bar'`, `'scatter'`, `'box'`, `'histogram'`, `'spread'`, `'heatmap'`, `'bubble'`, `'pie'`.\n",
    "\n",
    "We'll use the \"Pet Adoption\" data file from [Bootstrap](https://www.bootstrapworld.org/materials/spring2020/courses/data-science/en-us/) (with [permission](https://creativecommons.org/licenses/by-nc-nd/4.0/))."
   ]
  },
  {
   "cell_type": "code",
   "execution_count": null,
   "metadata": {},
   "outputs": [],
   "source": [
    "# get some data to graph\n",
    "import pandas as pd\n",
    "df = pd.read_csv('./pets_from_bootstrap_world.csv')\n",
    "\n",
    "# generate graph\n",
    "import cufflinks as cf\n",
    "cf.go_offline()\n",
    "df.iplot(kind='bar', x='Name', y='Age (years)', title='Pet Ages', yTitle='Age (Years)', xTitle='Pet Name')"
   ]
  },
  {
   "cell_type": "markdown",
   "metadata": {},
   "source": [
    "[![Callysto.ca License](https://github.com/callysto/curriculum-notebooks/blob/master/callysto-notebook-banner-bottom.jpg?raw=true)](https://github.com/callysto/curriculum-notebooks/blob/master/LICENSE.md)"
   ]
  }
 ],
 "metadata": {
  "kernelspec": {
   "display_name": "Python 3",
   "language": "python",
   "name": "python3"
  },
  "language_info": {
   "codemirror_mode": {
    "name": "ipython",
    "version": 3
   },
   "file_extension": ".py",
   "mimetype": "text/x-python",
   "name": "python",
   "nbconvert_exporter": "python",
   "pygments_lexer": "ipython3",
   "version": "3.7.6"
  }
 },
 "nbformat": 4,
 "nbformat_minor": 4
}
