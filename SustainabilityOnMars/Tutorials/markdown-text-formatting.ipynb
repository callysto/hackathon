{
 "cells": [
  {
   "cell_type": "markdown",
   "metadata": {},
   "source": [
    "![Callysto.ca Banner](https://github.com/callysto/curriculum-notebooks/blob/master/callysto-notebook-banner-top.jpg?raw=true)\n",
    "\n",
    "<a href=\"https://hub.callysto.ca/jupyter/hub/user-redirect/git-pull?repo=https%3A%2F%2Fgithub.com%2Fcallysto%2Fhackathon&branch=master&subPath=SustainabilityOnMars/Tutorials/markdown-text-formatting.ipynb&depth=1\" target=\"_parent\"><img src=\"https://raw.githubusercontent.com/callysto/curriculum-notebooks/master/open-in-callysto-button.svg?sanitize=true\" width=\"123\" height=\"24\" alt=\"Open in Callysto\"/></a>"
   ]
  },
  {
   "cell_type": "markdown",
   "metadata": {},
   "source": [
    "# Markdown Text Formatting\n",
    "\n",
    "Double-click this cell to see how you can format text.\n",
    "\n",
    "## Images and Links\n",
    "\n",
    "![image description](https://callysto.ca/wp-content/uploads/2018/03/header-logo1.png)\n",
    "\n",
    "[hyperlink](https://callysto.ca)\n",
    "\n",
    "## Text\n",
    "\n",
    "**bold** or *italics*\n",
    "\n",
    "## Lists\n",
    "\n",
    "- list\n",
    "- items\n",
    "\n",
    "\n",
    "1. Ordered\n",
    "2. List items\n",
    "\n",
    "### level 3 heading"
   ]
  },
  {
   "cell_type": "code",
   "execution_count": null,
   "metadata": {},
   "outputs": [],
   "source": [
    "# Display a YouTube video in a code cell\n",
    "# e.g. from https://www.youtube.com/watch?v=lRHsDJQobtM\n",
    "\n",
    "from IPython.display import YouTubeVideo\n",
    "YouTubeVideo('lRHsDJQobtM')"
   ]
  },
  {
   "cell_type": "markdown",
   "metadata": {},
   "source": [
    "[![Callysto.ca License](https://github.com/callysto/curriculum-notebooks/blob/master/callysto-notebook-banner-bottom.jpg?raw=true)](https://github.com/callysto/curriculum-notebooks/blob/master/LICENSE.md)"
   ]
  }
 ],
 "metadata": {
  "kernelspec": {
   "display_name": "Python 3",
   "language": "python",
   "name": "python3"
  },
  "language_info": {
   "codemirror_mode": {
    "name": "ipython",
    "version": 3
   },
   "file_extension": ".py",
   "mimetype": "text/x-python",
   "name": "python",
   "nbconvert_exporter": "python",
   "pygments_lexer": "ipython3",
   "version": "3.7.6"
  }
 },
 "nbformat": 4,
 "nbformat_minor": 4
}
