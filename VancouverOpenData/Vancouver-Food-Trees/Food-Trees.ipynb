{
 "cells": [
  {
   "cell_type": "markdown",
   "metadata": {
    "colab_type": "text",
    "id": "UIpzey-qyj-l"
   },
   "source": [
    "![Callysto.ca Banner](https://github.com/callysto/curriculum-notebooks/blob/master/callysto-notebook-banner-top.jpg?raw=true)"
   ]
  },
  {
   "cell_type": "markdown",
   "metadata": {
    "colab_type": "text",
    "id": "Mb6pNmQayj-m"
   },
   "source": [
    "# Post-zombie apocalypse: Rebuild Vancouver’s parks\n",
    "\n",
    "The zombie apocalypse hit Vancouver a year ago. These zombies had a mutation and ate trees. To stay safe, locals and tourists avoided parks and outdoor activities. As a result, recreation/outdoor businesses closed. The apocalypse is over; you’ve been hired by the City of Vancouver to get these businesses (and the local economy) back on its feet. \n",
    "\n",
    "\n",
    "### Your mission:\n",
    "\n",
    "* Determine which tree species need to be replanted. \n",
    "* Find areas with highly-populated trees, where the City can direct locals and tourists to, while trees are being regrown. Choose one area you recommend the city promote to tourists and locals, and explain why. \n"
   ]
  },
  {
   "cell_type": "markdown",
   "metadata": {
    "colab_type": "text",
    "id": "4RMF6p54yj-n"
   },
   "source": [
    "## Downloading the data into a 'dataframe'\n",
    "\n",
    "We begin by downloading the data directly from the website. \n",
    "\n",
    "From the [Vancouver Open Data Website, Food Trees Dataset](https://opendata.vancouver.ca/explore/dataset/community-gardens-and-food-trees/information/), we select the \"API\" tab, change the number of datapoints and the tree metadata, scroll down and then copy and paste the URL. \n",
    "\n",
    "We will work with 500 datapoints in this notebook. \n",
    "\n",
    "Let's start by importing and installing all necessary requirements. \n",
    "\n",
    "Press the >|Run button to run the next few cells. "
   ]
  },
  {
   "cell_type": "code",
   "execution_count": null,
   "metadata": {
    "colab": {},
    "colab_type": "code",
    "id": "Otsw6AgdyrHO"
   },
   "outputs": [],
   "source": [
    "!pip install folium --upgrade"
   ]
  },
  {
   "cell_type": "code",
   "execution_count": null,
   "metadata": {
    "colab": {},
    "colab_type": "code",
    "id": "1Ymtq63Zyj-n"
   },
   "outputs": [],
   "source": [
    "# Import libraries or modules that we will need\n",
    "\n",
    "# We will need to get the data from the API \n",
    "import requests as r\n",
    "# We will store the data into a 'dataframe' using pandas\n",
    "import pandas as pd\n",
    "# Need to remove this if we upgrade to pandas 1.0.1 \n",
    "from pandas.io.json import json_normalize\n",
    "# We want to be as precise as possible in keeping tree coordinates\n",
    "from decimal import *\n",
    "# We will visualize the coordinates in a map using the folium\n",
    "#!pip install folium\n",
    "import folium\n",
    "# We want to cluster them using the MarkerCluster submodule from folium plugins\n",
    "from folium.plugins import MarkerCluster\n",
    "\n",
    "print(\"Importing Python libraries was successful!\")"
   ]
  },
  {
   "cell_type": "code",
   "execution_count": null,
   "metadata": {},
   "outputs": [],
   "source": [
    "pd.set_option('display.max_rows', 500)\n",
    "pd.set_option('display.max_columns', 500)"
   ]
  },
  {
   "cell_type": "code",
   "execution_count": null,
   "metadata": {
    "colab": {},
    "colab_type": "code",
    "id": "ZyIz6JcMyj-q"
   },
   "outputs": [],
   "source": [
    "# Download data from API \n",
    "link = \"https://opendata.vancouver.ca/explore/dataset/community-gardens-and-food-trees/download/?format=json&timezone=America/Los_Angeles&lang=en\"\n",
    "\n",
    "API_response_trees = r.get(link)\n",
    "data = API_response_trees.json() # Check the JSON Response Content documentation below\n",
    "print(\"Download successful!\")"
   ]
  },
  {
   "cell_type": "code",
   "execution_count": null,
   "metadata": {},
   "outputs": [],
   "source": [
    "records = json_normalize(data=data)"
   ]
  },
  {
   "cell_type": "markdown",
   "metadata": {
    "colab_type": "text",
    "id": "RjJBQVyyyj-t"
   },
   "source": [
    "---\n",
    "### 📗Challenge 1\n",
    "\n",
    "Let's look at the records DataFrame. Use the .head() method to look at the first few rows.\n",
    "\n",
    "---"
   ]
  },
  {
   "cell_type": "code",
   "execution_count": null,
   "metadata": {},
   "outputs": [],
   "source": [
    "# ✏️ your code here\n",
    "records"
   ]
  },
  {
   "cell_type": "markdown",
   "metadata": {
    "colab_type": "text",
    "id": "4uliQcf1yj-t"
   },
   "source": [
    "### What are the field names you see? What do they tell you about the data?\n",
    "Double click this cell to enter your observations. "
   ]
  },
  {
   "cell_type": "markdown",
   "metadata": {},
   "source": [
    "## Data Cleaning\n",
    "\n",
    "The table contains an ID uniquely identifying each food tree, along with details on its location, type and address.\n",
    "\n",
    "There are many columns which have data which we may not necessarily use. \n",
    "\n",
    "One column we will use is `fields.geom.coordinates` - which contains latitude and longitue coordinates locating the art. "
   ]
  },
  {
   "cell_type": "markdown",
   "metadata": {
    "colab_type": "text",
    "id": "UU1slod3yj-w"
   },
   "source": [
    "---\n",
    "### 📗Challenge 2\n",
    "\n",
    "1. Run the code below to see what is under the `fields.geom.coordinates`.\n"
   ]
  },
  {
   "cell_type": "code",
   "execution_count": null,
   "metadata": {},
   "outputs": [],
   "source": [
    "records[\"fields.geom.coordinates\"]"
   ]
  },
  {
   "cell_type": "markdown",
   "metadata": {},
   "source": [
    "2. Run the cell below to split the coordinates into a latitude and a longitude. \n",
    "\n",
    "---"
   ]
  },
  {
   "cell_type": "code",
   "execution_count": null,
   "metadata": {},
   "outputs": [],
   "source": [
    "# Create longitude empty array\n",
    "lon = []\n",
    "# Create latitude empty array\n",
    "lat = []\n",
    "# Iterate over each item in records['fields.geom.coordinates']\n",
    "for item in records['fields.geom.coordinates'].to_list():\n",
    "    if type(item) !=float:\n",
    "        lon.append(item[0])\n",
    "        lat.append(item[1])\n",
    "    else:\n",
    "        lon.append(0)\n",
    "        lat.append(0)"
   ]
  },
  {
   "cell_type": "markdown",
   "metadata": {},
   "source": [
    "3. Run the cell below to create the new columns.\n",
    "\n",
    "---"
   ]
  },
  {
   "cell_type": "code",
   "execution_count": null,
   "metadata": {},
   "outputs": [],
   "source": [
    "records['longitude'] = lon\n",
    "records['latitude'] = lat"
   ]
  },
  {
   "cell_type": "markdown",
   "metadata": {},
   "source": [
    "4. Run the cell to see the new data.\n",
    "\n",
    "---"
   ]
  },
  {
   "cell_type": "code",
   "execution_count": null,
   "metadata": {
    "scrolled": true
   },
   "outputs": [],
   "source": [
    "records.head()"
   ]
  },
  {
   "cell_type": "markdown",
   "metadata": {
    "colab_type": "text",
    "id": "tn8j4rqKyj-z"
   },
   "source": [
    "## Data Visualization\n",
    "\n",
    "Now that we have cleaned up the dataframe and separated the string `location` values into separate numerical values containing the `latitude` and `longitude` coordinates, we will use the Python library called `folium` to visualize our data geographically."
   ]
  },
  {
   "cell_type": "markdown",
   "metadata": {
    "colab_type": "text",
    "id": "VTluvX8Ryj-0"
   },
   "source": [
    "---\n",
    "### 📗 Challenge 3 \n",
    "\n",
    "1. Look up the coordinates for the BC Lower Mainland\n",
    "2. In the cell below, enter the North coordinate (latitude) and the West coordinate (longitude) into separate variables (we have created the variable names for you). Make sure you enter numbers only, no letters!\n",
    "3. These will be the initial coordinates that will help us locate our map. \n",
    "4. Run the cell to display the map. Ensure you are in the right location (hint: Vancouver should appear in the map)\n",
    "---"
   ]
  },
  {
   "cell_type": "code",
   "execution_count": null,
   "metadata": {
    "colab": {},
    "colab_type": "code",
    "id": "4-6SmRxFyj-0"
   },
   "outputs": [],
   "source": [
    "# ✏️ Your code here \n",
    "latitude = \n",
    "longitude =  \n",
    "\n",
    "# Initial coordinates \n",
    "SC_COORDINATES = [latitude, longitude]\n",
    "\n",
    "# Create a map using our initial coordinates\n",
    "map_osm=folium.Map(location=SC_COORDINATES, zoom_start=10, tiles='Stamen Terrain')\n",
    "\n",
    "# Display the map \n",
    "display(map_osm)"
   ]
  },
  {
   "cell_type": "markdown",
   "metadata": {
    "colab_type": "text",
    "id": "i3Nz3tB0yj-2"
   },
   "source": [
    "## Displaying the tree locations\n",
    "\n",
    "We can now add the tree locations into our map. \n",
    "\n",
    "In the cell below we will [iterate](https://www.merriam-webster.com/dictionary/iteration) over each record in our dataframe `records`. \n",
    "\n",
    "We will then add markers (one marker for each pair of coordinates) using the `folium.Marker` function. \n",
    "\n",
    "We will pass the `latitude` and `longitude` coordinates using the `location` parameter, and mark each tree with its `fields.name` using the `popup` parameter. \n",
    "\n",
    "We will add this to our `marker_cluster` on our map called `map_osm`. \n",
    "\n",
    "Run the cell below to see the locations of the trees."
   ]
  },
  {
   "cell_type": "code",
   "execution_count": null,
   "metadata": {
    "colab": {},
    "colab_type": "code",
    "id": "3-3oJnA_yj-3"
   },
   "outputs": [],
   "source": [
    "# Create marker cluster and add to our map\n",
    "marker_cluster = MarkerCluster().add_to(map_osm)\n",
    "\n",
    "# Iterate over each record, and add tree x and y coordinates, as well as tree name\n",
    "MAX_RECORDS = len(records)\n",
    "# For each record in rawData\n",
    "for each in records[0:MAX_RECORDS].iterrows():\n",
    "    # Use folium.Marker function, use X and Y coordinates to specify location\n",
    "    folium.Marker(location = [each[1]['latitude'],each[1]['longitude']], \n",
    "                  # Add tree name\n",
    "                  popup=folium.Popup(each[1]['fields.name'],sticky=True),\n",
    "                  #Make color/style changes here\n",
    "                  icon=folium.Icon(color='green', icon='tree', prefix='fa'),\n",
    "                  # Make sure our trees cluster nicely!\n",
    "                  clustered_marker = True).add_to(marker_cluster)\n",
    "\n",
    "# Show the map\n",
    "display(map_osm)\n",
    "\n",
    "# Optional - you can save this map as an HTML file\n",
    "#map_osm.save('TreeMap.html')"
   ]
  },
  {
   "cell_type": "markdown",
   "metadata": {
    "colab_type": "text",
    "id": "E30uPrGWyj-5"
   },
   "source": [
    "---\n",
    "### 📗 Challenge 4\n",
    "\n",
    "Use the interactive map above for this exercise. You will see 'clusters' of trees. \n",
    "\n",
    "Clusters with over 100 trees will be coloured in red, clusters with fewer than 100 trees will be coloured in yellow, while clusters with fewer than 10 trees will be coloured in green. A single tree has a green colour and a tree shape in it. \n",
    "\n",
    "1. Click on the largest cluster. It will break into smaller clusters. \n",
    "2. How many red clusters do you see? How many yellow clusters? and green ones? \n",
    "3. Pick a yellow cluster and click on it. Are the clusters evenly distributed? If no, where are the clusters concentrated? \n",
    "4. Identify three areas that would benefit from populating with trees. What are the names of the streets/neighbourhoods where they are located?\n",
    "\n",
    "#### Your answers and observations here:\n",
    "\n",
    "---"
   ]
  },
  {
   "cell_type": "markdown",
   "metadata": {},
   "source": [
    "### 📗 Challenge 5\n",
    "\n",
    "Each tree icon represents a park. \n",
    "\n",
    "![](FPark.png)\n",
    "\n",
    "You can get the name of the park by clicking on the tree icon. Copy and paste the park name in the cell below, next to the \n",
    "\n",
    "`your_pic` \n",
    "\n",
    "variable. \n",
    "\n",
    "For example, \n",
    "\n",
    "`your_pic = \"your_park\"`\n",
    "\n",
    "can be substituted by\n",
    "\n",
    "`your_pic = \"Arbutus Village Park\"`\n",
    "\n",
    "\n",
    "What kinds of food trees in each park? and how many?\n",
    "\n",
    "Run the cell below to see what kinds of food trees are there in each park, and how many. Use the map to pick a park you are interested in. "
   ]
  },
  {
   "cell_type": "code",
   "execution_count": null,
   "metadata": {},
   "outputs": [],
   "source": [
    "# ✏️your answer here\n",
    "your_pic = \"Arbutus Village Park\"\n",
    "records[records['fields.name']==your_pic]"
   ]
  },
  {
   "cell_type": "markdown",
   "metadata": {},
   "source": [
    "Run the cell below to get the total number of trees in that park."
   ]
  },
  {
   "cell_type": "code",
   "execution_count": null,
   "metadata": {},
   "outputs": [],
   "source": [
    "records[records['fields.name']==your_pic]['fields.number_of_food_trees']"
   ]
  },
  {
   "cell_type": "markdown",
   "metadata": {},
   "source": [
    "Run the cell below to get the tree variety in that park."
   ]
  },
  {
   "cell_type": "code",
   "execution_count": null,
   "metadata": {},
   "outputs": [],
   "source": [
    "records[records['fields.name']==your_pic]['fields.food_tree_varieties']"
   ]
  },
  {
   "cell_type": "markdown",
   "metadata": {},
   "source": [
    "### Your observations here\n",
    "\n",
    "Double click this cell to enter\n",
    "\n",
    "1. The park you picked\n",
    "2. How many food trees it had\n",
    "3. The tree variety"
   ]
  },
  {
   "cell_type": "markdown",
   "metadata": {
    "colab_type": "text",
    "id": "1D0GNjdsyj-6"
   },
   "source": [
    "## Further Visualization and Statistics\n",
    "\n",
    "A natural question to ask is what is the most common kind of tree. To find out, we'll group and plot the data."
   ]
  },
  {
   "cell_type": "markdown",
   "metadata": {
    "colab_type": "text",
    "id": "FyKwkLz-yj-6"
   },
   "source": [
    "We start by setting up our visualizing environment. "
   ]
  },
  {
   "cell_type": "code",
   "execution_count": null,
   "metadata": {
    "colab": {},
    "colab_type": "code",
    "id": "Sei32TAkyj-7"
   },
   "outputs": [],
   "source": [
    "#load \"cufflinks\" library under short name \"cf\"\n",
    "import cufflinks as cf\n",
    "\n",
    "#command to display graphics correctly in Jupyter notebook\n",
    "cf.go_offline()\n",
    "\n",
    "def enable_plotly_in_cell():\n",
    "    import IPython\n",
    "    from plotly.offline import init_notebook_mode\n",
    "    display(IPython.core.display.HTML('''<script src=\"/static/components/requirejs/require.js\"></script>'''))\n",
    "    init_notebook_mode(connected=False)\n",
    "    \n",
    "get_ipython().events.register('pre_run_cell', enable_plotly_in_cell)"
   ]
  },
  {
   "cell_type": "markdown",
   "metadata": {
    "colab_type": "text",
    "id": "TN1gp30Oyj-9"
   },
   "source": [
    "First we'll group data by `fields.food_tree_varieties` using the `groupby()` method. \n",
    "\n",
    "Then we'll use the `size()` method to count how many trees of each kind there are. \n",
    "\n",
    "Next we'll sort the data. \n",
    "\n",
    "Run the cell below to perform these steps and show the five most common trees in Strathcona County. "
   ]
  },
  {
   "cell_type": "code",
   "execution_count": null,
   "metadata": {
    "colab": {},
    "colab_type": "code",
    "id": "kBb2sqWWyj--"
   },
   "outputs": [],
   "source": [
    "# This cell groups trees by name, and counts them\n",
    "count_by_tree_name = records.groupby(\"fields.food_tree_varieties\").size().reset_index(name=\"count\")\n",
    "# once it does that, it sorts the counts in descending order\n",
    "ordered_count = count_by_tree_name.sort_values(by='count', ascending=False)\n",
    "# And displays the first 5 results. \n",
    "ordered_count.head()"
   ]
  },
  {
   "cell_type": "markdown",
   "metadata": {
    "colab_type": "text",
    "id": "vkYHfX_5yj_A"
   },
   "source": [
    "You can see the most common tree in Strathcona County. Let's visualize these data in a pie chart."
   ]
  },
  {
   "cell_type": "code",
   "execution_count": null,
   "metadata": {
    "colab": {},
    "colab_type": "code",
    "id": "QYpHZiOoyj_A"
   },
   "outputs": [],
   "source": [
    "ordered_count.iloc[0:5].iplot(kind=\"pie\",values=\"count\",\\\n",
    "                              labels=\"fields.food_tree_varieties\",\\\n",
    "                              title=\"Five Most Common Trees\") "
   ]
  },
  {
   "cell_type": "markdown",
   "metadata": {},
   "source": [
    "---\n",
    "### 📗Challenge 6\n",
    "\n",
    "Use your knowledge of pandas and data visualization to create a bar plot with the kinds of trees. \n",
    "\n",
    "You may modify the code in the previous cell, or write new code. \n",
    "\n",
    "If you do not know how to do this, skip this question and continue with the rest of the exercises."
   ]
  },
  {
   "cell_type": "code",
   "execution_count": null,
   "metadata": {},
   "outputs": [],
   "source": [
    "## ✏️ Your code here"
   ]
  },
  {
   "cell_type": "markdown",
   "metadata": {},
   "source": [
    "Running the next cell will give you the list of all food trees. "
   ]
  },
  {
   "cell_type": "code",
   "execution_count": null,
   "metadata": {
    "colab": {},
    "colab_type": "code",
    "id": "RIkYKL8kyj_C"
   },
   "outputs": [],
   "source": [
    "ordered_count"
   ]
  },
  {
   "cell_type": "markdown",
   "metadata": {
    "colab_type": "text",
    "id": "wir0RRL6yj_E"
   },
   "source": [
    "---\n",
    "### 📗 Challenge 7\n",
    "\n",
    "1. Hover over the plots.\n",
    "2. What is the percentage associated to each of the five most common trees? \n",
    "3. What is the most common, or 'dominant' type of tree? \n",
    "4. What tree species would you recommend restoring and why? \n",
    "\n",
    "#### Your answers and observations here\n",
    "\n",
    "---"
   ]
  },
  {
   "cell_type": "markdown",
   "metadata": {},
   "source": [
    "### Treat \n",
    "\n",
    "You can get a satellite picture by entering the coordinates in [https://www.google.ca/maps](https://www.google.ca/maps)\n",
    "\n",
    "Take a pair of coordinates from the dataframe and enter them into the search box. NOTE, you will need to ensure that the order you enter the coordinates is latitude, longitude. \n",
    "\n",
    "For example, entering `49.250717,-123.154995` and choosing the satellite option yields\n",
    "\n",
    "![](map.png)"
   ]
  },
  {
   "cell_type": "markdown",
   "metadata": {
    "colab_type": "text",
    "id": "2wSU_B04yj_F"
   },
   "source": [
    "# Conclusions\n",
    "\n",
    "Edit this cell to describe **where you would recommend planting trees** and the **types of trees recommended**. Include any data filtering and sorting steps that you recommend, and why you would recommend them.\n",
    "\n"
   ]
  },
  {
   "cell_type": "markdown",
   "metadata": {
    "colab_type": "text",
    "id": "NqfkDwOEyj_F"
   },
   "source": [
    "## Reflections\n",
    "\n",
    "Write about some or all of the following questions, either individually in separate markdown cells or as a group.\n",
    "- What is something you learned through this process?\n",
    "- How well did your group work together? Why do you think that is?\n",
    "- What were some of the hardest parts?\n",
    "- What are you proud of? What would you like to show others?\n",
    "- Are you curious about anything else related to this? Did anything surprise you?\n",
    "- How can you apply your learning to future activities?"
   ]
  },
  {
   "cell_type": "markdown",
   "metadata": {
    "colab_type": "text",
    "id": "ad2ZyO5Vyj_M"
   },
   "source": [
    "[![Callysto.ca License](https://github.com/callysto/curriculum-notebooks/blob/master/callysto-notebook-banner-bottom.jpg?raw=true)](https://github.com/callysto/curriculum-notebooks/blob/master/LICENSE.md)"
   ]
  }
 ],
 "metadata": {
  "colab": {
   "name": "Trees-Challenge.ipynb",
   "provenance": []
  },
  "kernelspec": {
   "display_name": "Python 3.8.10 64-bit",
   "language": "python",
   "name": "python3"
  },
  "language_info": {
   "codemirror_mode": {
    "name": "ipython",
    "version": 3
   },
   "file_extension": ".py",
   "mimetype": "text/x-python",
   "name": "python",
   "nbconvert_exporter": "python",
   "pygments_lexer": "ipython3",
   "version": "3.8.10"
  },
  "vscode": {
   "interpreter": {
    "hash": "916dbcbb3f70747c44a77c7bcd40155683ae19c65e1c03b4aa3499c5328201f1"
   }
  }
 },
 "nbformat": 4,
 "nbformat_minor": 1
}
